{
 "metadata": {
  "name": "",
  "signature": "sha256:465a07ee003b421ff00022c32375af347c9a3ca7c8a67eca143e6070afb37c1d"
 },
 "nbformat": 3,
 "nbformat_minor": 0,
 "worksheets": [
  {
   "cells": [
    {
     "cell_type": "heading",
     "level": 2,
     "metadata": {},
     "source": [
      "Environment preparation"
     ]
    },
    {
     "cell_type": "code",
     "collapsed": false,
     "input": [
      "from os.path import join, exists, split, expandvars\n",
      "from os import makedirs\n",
      "from tempfile import mkstemp\n",
      "from glob import glob\n",
      "from itertools import product"
     ],
     "language": "python",
     "metadata": {},
     "outputs": [],
     "prompt_number": 1
    },
    {
     "cell_type": "code",
     "collapsed": false,
     "input": [
      "project_dir = expandvars(\"$HOME/data/short-read-tax-assignment\")\n",
      "data_dir = join(project_dir, \"data\")\n",
      "\n",
      "reference_database_dir = expandvars(\"$HOME/data/\")\n",
      "results_dir = expandvars(\"$HOME/data/2015.02.25-tax-parameter-sweep-simulated\")"
     ],
     "language": "python",
     "metadata": {},
     "outputs": [],
     "prompt_number": 2
    },
    {
     "cell_type": "heading",
     "level": 2,
     "metadata": {},
     "source": [
      "Preparing data set sweep"
     ]
    },
    {
     "cell_type": "markdown",
     "metadata": {},
     "source": [
      "First, we're going to define the data sets that we'll sweep over."
     ]
    },
    {
     "cell_type": "code",
     "collapsed": false,
     "input": [
      "num_iterations = 10\n",
      "dataset_reference_combinations = []\n",
      "for iteration in range(num_iterations):\n",
      "    dataset_reference_combinations.append(('B1-iter%d' % iteration, 'gg_13_8_otus'))\n",
      "    dataset_reference_combinations.append(('B2-iter%d' % iteration, 'gg_13_8_otus'))\n",
      "    dataset_reference_combinations.append(('F1-iter%d' % iteration, 'unite-97-rep-set'))\n",
      "    dataset_reference_combinations.append(('F2-iter%d' % iteration, 'unite-97-rep-set'))\n",
      "\n",
      "reference_dbs = {'gg_13_8_otus' : (join(reference_database_dir, 'gg_13_8_otus/rep_set/97_otus.fasta'), \n",
      "                                   join(reference_database_dir, 'gg_13_8_otus/taxonomy/97_otu_taxonomy.txt')),\n",
      "                 'unite-97-rep-set' : (join(reference_database_dir, 'unite-14.11/97_otus.fasta'), \n",
      "                                       join(reference_database_dir, 'unite-14.11/97_otu_taxonomy.txt'))}"
     ],
     "language": "python",
     "metadata": {},
     "outputs": [],
     "prompt_number": 3
    },
    {
     "cell_type": "markdown",
     "metadata": {},
     "source": [
      "**PICK UP HERE** \n",
      " 1. ~~Perform unzip of all reference files before the loop below (don't do it in place)~~\n",
      " 2. As separate \"datasets\"(?), assign against full reference and simulated reference"
     ]
    },
    {
     "cell_type": "code",
     "collapsed": false,
     "input": [
      "for e in dataset_reference_combinations:\n",
      "    zipped_refseqs_fp = join(data_dir, 'simulated-community', e[0], 'ref.fna.gz')\n",
      "    unzipped_refseqs_fp = join(data_dir, 'simulated-community', e[0], 'ref.fna')\n",
      "    cmd = \"gunzip %s > %s\" % (zipped_refseqs_fp, unzipped_refseqs_fp)\n",
      "    print cmd"
     ],
     "language": "python",
     "metadata": {},
     "outputs": [
      {
       "output_type": "stream",
       "stream": "stdout",
       "text": [
        "gunzip /home/ubuntu/data/short-read-tax-assignment/data/simulated-community/B1-iter0/ref.fna.gz > /home/ubuntu/data/short-read-tax-assignment/data/simulated-community/B1-iter0/ref.fna\n",
        "gunzip /home/ubuntu/data/short-read-tax-assignment/data/simulated-community/B2-iter0/ref.fna.gz > /home/ubuntu/data/short-read-tax-assignment/data/simulated-community/B2-iter0/ref.fna\n",
        "gunzip /home/ubuntu/data/short-read-tax-assignment/data/simulated-community/F1-iter0/ref.fna.gz > /home/ubuntu/data/short-read-tax-assignment/data/simulated-community/F1-iter0/ref.fna\n",
        "gunzip /home/ubuntu/data/short-read-tax-assignment/data/simulated-community/F2-iter0/ref.fna.gz > /home/ubuntu/data/short-read-tax-assignment/data/simulated-community/F2-iter0/ref.fna\n",
        "gunzip /home/ubuntu/data/short-read-tax-assignment/data/simulated-community/B1-iter1/ref.fna.gz > /home/ubuntu/data/short-read-tax-assignment/data/simulated-community/B1-iter1/ref.fna\n",
        "gunzip /home/ubuntu/data/short-read-tax-assignment/data/simulated-community/B2-iter1/ref.fna.gz > /home/ubuntu/data/short-read-tax-assignment/data/simulated-community/B2-iter1/ref.fna\n",
        "gunzip /home/ubuntu/data/short-read-tax-assignment/data/simulated-community/F1-iter1/ref.fna.gz > /home/ubuntu/data/short-read-tax-assignment/data/simulated-community/F1-iter1/ref.fna\n",
        "gunzip /home/ubuntu/data/short-read-tax-assignment/data/simulated-community/F2-iter1/ref.fna.gz > /home/ubuntu/data/short-read-tax-assignment/data/simulated-community/F2-iter1/ref.fna\n",
        "gunzip /home/ubuntu/data/short-read-tax-assignment/data/simulated-community/B1-iter2/ref.fna.gz > /home/ubuntu/data/short-read-tax-assignment/data/simulated-community/B1-iter2/ref.fna\n",
        "gunzip /home/ubuntu/data/short-read-tax-assignment/data/simulated-community/B2-iter2/ref.fna.gz > /home/ubuntu/data/short-read-tax-assignment/data/simulated-community/B2-iter2/ref.fna\n",
        "gunzip /home/ubuntu/data/short-read-tax-assignment/data/simulated-community/F1-iter2/ref.fna.gz > /home/ubuntu/data/short-read-tax-assignment/data/simulated-community/F1-iter2/ref.fna\n",
        "gunzip /home/ubuntu/data/short-read-tax-assignment/data/simulated-community/F2-iter2/ref.fna.gz > /home/ubuntu/data/short-read-tax-assignment/data/simulated-community/F2-iter2/ref.fna\n",
        "gunzip /home/ubuntu/data/short-read-tax-assignment/data/simulated-community/B1-iter3/ref.fna.gz > /home/ubuntu/data/short-read-tax-assignment/data/simulated-community/B1-iter3/ref.fna\n",
        "gunzip /home/ubuntu/data/short-read-tax-assignment/data/simulated-community/B2-iter3/ref.fna.gz > /home/ubuntu/data/short-read-tax-assignment/data/simulated-community/B2-iter3/ref.fna\n",
        "gunzip /home/ubuntu/data/short-read-tax-assignment/data/simulated-community/F1-iter3/ref.fna.gz > /home/ubuntu/data/short-read-tax-assignment/data/simulated-community/F1-iter3/ref.fna\n",
        "gunzip /home/ubuntu/data/short-read-tax-assignment/data/simulated-community/F2-iter3/ref.fna.gz > /home/ubuntu/data/short-read-tax-assignment/data/simulated-community/F2-iter3/ref.fna\n",
        "gunzip /home/ubuntu/data/short-read-tax-assignment/data/simulated-community/B1-iter4/ref.fna.gz > /home/ubuntu/data/short-read-tax-assignment/data/simulated-community/B1-iter4/ref.fna\n",
        "gunzip /home/ubuntu/data/short-read-tax-assignment/data/simulated-community/B2-iter4/ref.fna.gz > /home/ubuntu/data/short-read-tax-assignment/data/simulated-community/B2-iter4/ref.fna\n",
        "gunzip /home/ubuntu/data/short-read-tax-assignment/data/simulated-community/F1-iter4/ref.fna.gz > /home/ubuntu/data/short-read-tax-assignment/data/simulated-community/F1-iter4/ref.fna\n",
        "gunzip /home/ubuntu/data/short-read-tax-assignment/data/simulated-community/F2-iter4/ref.fna.gz > /home/ubuntu/data/short-read-tax-assignment/data/simulated-community/F2-iter4/ref.fna\n",
        "gunzip /home/ubuntu/data/short-read-tax-assignment/data/simulated-community/B1-iter5/ref.fna.gz > /home/ubuntu/data/short-read-tax-assignment/data/simulated-community/B1-iter5/ref.fna\n",
        "gunzip /home/ubuntu/data/short-read-tax-assignment/data/simulated-community/B2-iter5/ref.fna.gz > /home/ubuntu/data/short-read-tax-assignment/data/simulated-community/B2-iter5/ref.fna\n",
        "gunzip /home/ubuntu/data/short-read-tax-assignment/data/simulated-community/F1-iter5/ref.fna.gz > /home/ubuntu/data/short-read-tax-assignment/data/simulated-community/F1-iter5/ref.fna\n",
        "gunzip /home/ubuntu/data/short-read-tax-assignment/data/simulated-community/F2-iter5/ref.fna.gz > /home/ubuntu/data/short-read-tax-assignment/data/simulated-community/F2-iter5/ref.fna\n",
        "gunzip /home/ubuntu/data/short-read-tax-assignment/data/simulated-community/B1-iter6/ref.fna.gz > /home/ubuntu/data/short-read-tax-assignment/data/simulated-community/B1-iter6/ref.fna\n",
        "gunzip /home/ubuntu/data/short-read-tax-assignment/data/simulated-community/B2-iter6/ref.fna.gz > /home/ubuntu/data/short-read-tax-assignment/data/simulated-community/B2-iter6/ref.fna\n",
        "gunzip /home/ubuntu/data/short-read-tax-assignment/data/simulated-community/F1-iter6/ref.fna.gz > /home/ubuntu/data/short-read-tax-assignment/data/simulated-community/F1-iter6/ref.fna\n",
        "gunzip /home/ubuntu/data/short-read-tax-assignment/data/simulated-community/F2-iter6/ref.fna.gz > /home/ubuntu/data/short-read-tax-assignment/data/simulated-community/F2-iter6/ref.fna\n",
        "gunzip /home/ubuntu/data/short-read-tax-assignment/data/simulated-community/B1-iter7/ref.fna.gz > /home/ubuntu/data/short-read-tax-assignment/data/simulated-community/B1-iter7/ref.fna\n",
        "gunzip /home/ubuntu/data/short-read-tax-assignment/data/simulated-community/B2-iter7/ref.fna.gz > /home/ubuntu/data/short-read-tax-assignment/data/simulated-community/B2-iter7/ref.fna\n",
        "gunzip /home/ubuntu/data/short-read-tax-assignment/data/simulated-community/F1-iter7/ref.fna.gz > /home/ubuntu/data/short-read-tax-assignment/data/simulated-community/F1-iter7/ref.fna\n",
        "gunzip /home/ubuntu/data/short-read-tax-assignment/data/simulated-community/F2-iter7/ref.fna.gz > /home/ubuntu/data/short-read-tax-assignment/data/simulated-community/F2-iter7/ref.fna\n",
        "gunzip /home/ubuntu/data/short-read-tax-assignment/data/simulated-community/B1-iter8/ref.fna.gz > /home/ubuntu/data/short-read-tax-assignment/data/simulated-community/B1-iter8/ref.fna\n",
        "gunzip /home/ubuntu/data/short-read-tax-assignment/data/simulated-community/B2-iter8/ref.fna.gz > /home/ubuntu/data/short-read-tax-assignment/data/simulated-community/B2-iter8/ref.fna\n",
        "gunzip /home/ubuntu/data/short-read-tax-assignment/data/simulated-community/F1-iter8/ref.fna.gz > /home/ubuntu/data/short-read-tax-assignment/data/simulated-community/F1-iter8/ref.fna\n",
        "gunzip /home/ubuntu/data/short-read-tax-assignment/data/simulated-community/F2-iter8/ref.fna.gz > /home/ubuntu/data/short-read-tax-assignment/data/simulated-community/F2-iter8/ref.fna\n",
        "gunzip /home/ubuntu/data/short-read-tax-assignment/data/simulated-community/B1-iter9/ref.fna.gz > /home/ubuntu/data/short-read-tax-assignment/data/simulated-community/B1-iter9/ref.fna\n",
        "gunzip /home/ubuntu/data/short-read-tax-assignment/data/simulated-community/B2-iter9/ref.fna.gz > /home/ubuntu/data/short-read-tax-assignment/data/simulated-community/B2-iter9/ref.fna\n",
        "gunzip /home/ubuntu/data/short-read-tax-assignment/data/simulated-community/F1-iter9/ref.fna.gz > /home/ubuntu/data/short-read-tax-assignment/data/simulated-community/F1-iter9/ref.fna\n",
        "gunzip /home/ubuntu/data/short-read-tax-assignment/data/simulated-community/F2-iter9/ref.fna.gz > /home/ubuntu/data/short-read-tax-assignment/data/simulated-community/F2-iter9/ref.fna\n"
       ]
      }
     ],
     "prompt_number": 13
    },
    {
     "cell_type": "heading",
     "level": 2,
     "metadata": {},
     "source": [
      "Preparing the method/parameter combinations"
     ]
    },
    {
     "cell_type": "code",
     "collapsed": false,
     "input": [
      "method_parameters_combinations = { # probabalistic classifiers\n",
      "              'rdp': {'confidence': [0.0, 0.1, 0.2, 0.3, 0.4, 0.5, 0.6, 0.7, 0.8, 0.9, 1.0]},\n",
      "              \n",
      "              # global alignment classifiers\n",
      "              'uclust': {'min_consensus_fraction': [0.51, 0.76, 1.0], \n",
      "                         'similarity': [0.8, 0.9],\n",
      "                         'uclust_max_accepts': [1, 3, 5]},\n",
      "             \n",
      "              # local alignment classifiers\n",
      "              'sortmerna': {'sortmerna_e_value': [1.0],\n",
      "                            'min_consensus_fraction': [0.51, 0.76, 1.0], \n",
      "                            'similarity': [0.8, 0.9],\n",
      "                            'sortmerna_best_N_alignments ': [1, 3, 5],\n",
      "                            'sortmerna_coverage' : [0.8, 0.9]},\n",
      "              'blast': {'blast_e_value': [10000.0, 0.001, 0.000000001]}\n",
      "             }"
     ],
     "language": "python",
     "metadata": {},
     "outputs": [],
     "prompt_number": 5
    },
    {
     "cell_type": "code",
     "collapsed": false,
     "input": [
      "analyses = ['simulated-community']"
     ],
     "language": "python",
     "metadata": {},
     "outputs": [],
     "prompt_number": 6
    },
    {
     "cell_type": "code",
     "collapsed": false,
     "input": [
      "commands = []\n",
      "command_template = \"mkdir -p %s ; assign_taxonomy.py -i %s -o %s -r %s -t %s -m %s %s --rdp_max_memory 16000\"\n",
      "for analysis in analyses:\n",
      "    analysis_input_dir = join(data_dir, analysis)\n",
      "    analysis_output_dir = join(results_dir, analysis)\n",
      "    for dataset, reference in dataset_reference_combinations:\n",
      "        dataset_input_dir = join(analysis_input_dir, dataset)\n",
      "        dataset_input_seqs = join(dataset_input_dir, 'rep_set.fna')\n",
      "        dataset_input_table = join(dataset_input_dir, 'table.biom')\n",
      "        unzipped_reference_seqs = join(dataset_input_dir, 'ref.fna')\n",
      "        reference_tax = reference_dbs[reference][1]\n",
      "        dataset_output_dir = join(analysis_output_dir, dataset, reference)\n",
      "        for method, parameters in method_parameters_combinations.items():\n",
      "            method_output_dir = join(dataset_output_dir, method)\n",
      "            parameter_ids = parameters.keys()\n",
      "            parameter_ids.sort()\n",
      "            for parameter_combination in product(*[parameters[id_] for id_ in parameter_ids]):\n",
      "                parameter_comb_id = ':'.join(map(str,parameter_combination))\n",
      "                parameter_output_dir = join(method_output_dir, parameter_comb_id)\n",
      "                parameter_str = ' '.join(['--%s %s' % e for e in zip(parameter_ids, parameter_combination)])\n",
      "                command = command_template % (parameter_output_dir,\n",
      "                                              dataset_input_seqs, parameter_output_dir, unzipped_reference_seqs, \n",
      "                                              reference_tax, method, parameter_str)\n",
      "                commands.append(command)"
     ],
     "language": "python",
     "metadata": {},
     "outputs": [],
     "prompt_number": 9
    },
    {
     "cell_type": "code",
     "collapsed": false,
     "input": [
      "print len(commands)\n",
      "print commands[0]"
     ],
     "language": "python",
     "metadata": {},
     "outputs": [
      {
       "output_type": "stream",
       "stream": "stdout",
       "text": [
        "2720\n",
        "mkdir -p /home/ubuntu/data/2015.02.25-tax-parameter-sweep-simulated/simulated-community/B1-iter0/gg_13_8_otus/sortmerna/0.51:0.8:1:0.8:1.0 ; assign_taxonomy.py -i /home/ubuntu/data/short-read-tax-assignment/data/simulated-community/B1-iter0/rep_set.fna -o /home/ubuntu/data/2015.02.25-tax-parameter-sweep-simulated/simulated-community/B1-iter0/gg_13_8_otus/sortmerna/0.51:0.8:1:0.8:1.0 -r /home/ubuntu/data/short-read-tax-assignment/data/simulated-community/B1-iter0/ref.fna -t /home/ubuntu/data/gg_13_8_otus/taxonomy/97_otu_taxonomy.txt -m sortmerna --min_consensus_fraction 0.51 --similarity 0.8 --sortmerna_best_N_alignments  1 --sortmerna_coverage 0.8 --sortmerna_e_value 1.0 --rdp_max_memory 16000\n"
       ]
      }
     ],
     "prompt_number": 10
    },
    {
     "cell_type": "code",
     "collapsed": false,
     "input": [
      "for e in dataset_reference_combinations:\n",
      "    unzipped_refseqs_fp = join(data_dir, 'simulated-community', e[0], 'ref.fna')\n",
      "    cmd = \"rm %s\" % unzipped_refseqs_fp\n",
      "    print cmd"
     ],
     "language": "python",
     "metadata": {},
     "outputs": [
      {
       "output_type": "stream",
       "stream": "stdout",
       "text": [
        "rm /home/ubuntu/data/short-read-tax-assignment/data/simulated-community/B1-iter0/ref.fna\n",
        "rm /home/ubuntu/data/short-read-tax-assignment/data/simulated-community/B2-iter0/ref.fna\n",
        "rm /home/ubuntu/data/short-read-tax-assignment/data/simulated-community/F1-iter0/ref.fna\n",
        "rm /home/ubuntu/data/short-read-tax-assignment/data/simulated-community/F2-iter0/ref.fna\n",
        "rm /home/ubuntu/data/short-read-tax-assignment/data/simulated-community/B1-iter1/ref.fna\n",
        "rm /home/ubuntu/data/short-read-tax-assignment/data/simulated-community/B2-iter1/ref.fna\n",
        "rm /home/ubuntu/data/short-read-tax-assignment/data/simulated-community/F1-iter1/ref.fna\n",
        "rm /home/ubuntu/data/short-read-tax-assignment/data/simulated-community/F2-iter1/ref.fna\n",
        "rm /home/ubuntu/data/short-read-tax-assignment/data/simulated-community/B1-iter2/ref.fna\n",
        "rm /home/ubuntu/data/short-read-tax-assignment/data/simulated-community/B2-iter2/ref.fna\n",
        "rm /home/ubuntu/data/short-read-tax-assignment/data/simulated-community/F1-iter2/ref.fna\n",
        "rm /home/ubuntu/data/short-read-tax-assignment/data/simulated-community/F2-iter2/ref.fna\n",
        "rm /home/ubuntu/data/short-read-tax-assignment/data/simulated-community/B1-iter3/ref.fna\n",
        "rm /home/ubuntu/data/short-read-tax-assignment/data/simulated-community/B2-iter3/ref.fna\n",
        "rm /home/ubuntu/data/short-read-tax-assignment/data/simulated-community/F1-iter3/ref.fna\n",
        "rm /home/ubuntu/data/short-read-tax-assignment/data/simulated-community/F2-iter3/ref.fna\n",
        "rm /home/ubuntu/data/short-read-tax-assignment/data/simulated-community/B1-iter4/ref.fna\n",
        "rm /home/ubuntu/data/short-read-tax-assignment/data/simulated-community/B2-iter4/ref.fna\n",
        "rm /home/ubuntu/data/short-read-tax-assignment/data/simulated-community/F1-iter4/ref.fna\n",
        "rm /home/ubuntu/data/short-read-tax-assignment/data/simulated-community/F2-iter4/ref.fna\n",
        "rm /home/ubuntu/data/short-read-tax-assignment/data/simulated-community/B1-iter5/ref.fna\n",
        "rm /home/ubuntu/data/short-read-tax-assignment/data/simulated-community/B2-iter5/ref.fna\n",
        "rm /home/ubuntu/data/short-read-tax-assignment/data/simulated-community/F1-iter5/ref.fna\n",
        "rm /home/ubuntu/data/short-read-tax-assignment/data/simulated-community/F2-iter5/ref.fna\n",
        "rm /home/ubuntu/data/short-read-tax-assignment/data/simulated-community/B1-iter6/ref.fna\n",
        "rm /home/ubuntu/data/short-read-tax-assignment/data/simulated-community/B2-iter6/ref.fna\n",
        "rm /home/ubuntu/data/short-read-tax-assignment/data/simulated-community/F1-iter6/ref.fna\n",
        "rm /home/ubuntu/data/short-read-tax-assignment/data/simulated-community/F2-iter6/ref.fna\n",
        "rm /home/ubuntu/data/short-read-tax-assignment/data/simulated-community/B1-iter7/ref.fna\n",
        "rm /home/ubuntu/data/short-read-tax-assignment/data/simulated-community/B2-iter7/ref.fna\n",
        "rm /home/ubuntu/data/short-read-tax-assignment/data/simulated-community/F1-iter7/ref.fna\n",
        "rm /home/ubuntu/data/short-read-tax-assignment/data/simulated-community/F2-iter7/ref.fna\n",
        "rm /home/ubuntu/data/short-read-tax-assignment/data/simulated-community/B1-iter8/ref.fna\n",
        "rm /home/ubuntu/data/short-read-tax-assignment/data/simulated-community/B2-iter8/ref.fna\n",
        "rm /home/ubuntu/data/short-read-tax-assignment/data/simulated-community/F1-iter8/ref.fna\n",
        "rm /home/ubuntu/data/short-read-tax-assignment/data/simulated-community/F2-iter8/ref.fna\n",
        "rm /home/ubuntu/data/short-read-tax-assignment/data/simulated-community/B1-iter9/ref.fna\n",
        "rm /home/ubuntu/data/short-read-tax-assignment/data/simulated-community/B2-iter9/ref.fna\n",
        "rm /home/ubuntu/data/short-read-tax-assignment/data/simulated-community/F1-iter9/ref.fna\n",
        "rm /home/ubuntu/data/short-read-tax-assignment/data/simulated-community/F2-iter9/ref.fna\n"
       ]
      }
     ],
     "prompt_number": 14
    },
    {
     "cell_type": "code",
     "collapsed": false,
     "input": [],
     "language": "python",
     "metadata": {},
     "outputs": []
    }
   ],
   "metadata": {}
  }
 ]
}