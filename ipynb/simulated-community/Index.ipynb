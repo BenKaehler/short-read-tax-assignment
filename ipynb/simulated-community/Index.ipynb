{
 "metadata": {
  "name": "",
  "signature": "sha256:92bcf9403288e2eb63a8151424bf436d998394306e9ce17d8e4ade73290145c7"
 },
 "nbformat": 3,
 "nbformat_minor": 0,
 "worksheets": [
  {
   "cells": [
    {
     "cell_type": "heading",
     "level": 2,
     "metadata": {},
     "source": [
      "Contents"
     ]
    },
    {
     "cell_type": "markdown",
     "metadata": {},
     "source": [
      "* [Simulated community generation](./simulate-communities.ipynb): Generates the simulated community datasets that are included in this repository. It should not be necessary to re-run this notebook, but it can be used or adapted to simulate other communities.\n",
      "* [Data generation](./generate-tax-assignments.ipynb): Creates and executes commands for generating taxonomic assignments for the simulated communities contained in this package. The results of running this notebook are included in the repository, so it's not necessary to re-run this.\n",
      "* [Analysis base (general)](./base.ipynb): Template for general simulated community analysis at different taxonomic levels.\n",
      " * [Pre-computed phylum report](./phylum.ipynb)\n",
      " * [Pre-computed class report](./class.ipynb)\n",
      " * [Pre-computed order report](./order.ipynb)\n",
      " * [Pre-computed family report](./family.ipynb)\n",
      " * [Pre-computed genus report](./genus.ipynb)\n",
      " * [Pre-computed species report](./species.ipynb) \n",
      "* [Analysis base (taxa specific)](./base-detail.ipynb): Template for taxa-specific simulated community analyses."
     ]
    }
   ],
   "metadata": {}
  }
 ]
}