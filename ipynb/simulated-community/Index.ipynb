{
 "cells": [
  {
   "cell_type": "markdown",
   "metadata": {},
   "source": [
    "## Contents"
   ]
  },
  {
   "cell_type": "markdown",
   "metadata": {},
   "source": [
    "* [Simulated community generation](./simulate-communities.ipynb): Generates the simulated community datasets that are included in this repository. It should not be necessary to re-run this notebook, but it can be used or adapted to simulate other communities.\n",
    "* [Data generation](./generate-tax-assignments.ipynb): Creates and executes commands for generating taxonomic assignments for the simulated communities contained in this package. The results of running this notebook are included in the repository, so it's not necessary to re-run this.\n",
    "* [Analysis base (general)](./base.ipynb): Template for general simulated community analysis at different taxonomic levels (the notebooks linked below are auto-generated from this notebook in the following cell).\n",
    " * Partial reference database results\n",
    "   * [Pre-computed phylum report](./phylum-partial.ipynb)\n",
    "   * [Pre-computed class report](./class-partial.ipynb)\n",
    "   * [Pre-computed order report](./order-partial.ipynb)\n",
    "   * [Pre-computed family report](./family-partial.ipynb)\n",
    "   * [Pre-computed genus report](./genus-partial.ipynb)\n",
    "   * [Pre-computed species report](./species-partial.ipynb) \n",
    " * Full reference database results\n",
    "   * [Pre-computed phylum report](./phylum-full.ipynb)\n",
    "   * [Pre-computed class report](./class-full.ipynb)\n",
    "   * [Pre-computed order report](./order-full.ipynb)\n",
    "   * [Pre-computed family report](./family-full.ipynb)\n",
    "   * [Pre-computed genus report](./genus-full.ipynb)\n",
    "   * [Pre-computed species report](./species-full.ipynb) "
   ]
  },
  {
   "cell_type": "markdown",
   "metadata": {},
   "source": [
    "If you'd like to generate all of the notebooks from the *Analysis Base* notebook, you should execute the following cell. This can take a long time if the results haven't been pre-computed."
   ]
  },
  {
   "cell_type": "code",
   "execution_count": 34,
   "metadata": {
    "collapsed": false
   },
   "outputs": [],
   "source": [
    "import os\n",
    "import os.path\n",
    "\n",
    "commands = []\n",
    "\n",
    "taxonomic_levels = [('2', 'phylum'), ('3', 'class'), ('4', 'order'), ('5', 'family'), ('6', 'genus'), ('7', 'species')]\n",
    "reference_choices = [('partial-ref', 'partial'), ('full-ref', 'full')]\n",
    "\n",
    "for taxonomic_level in taxonomic_levels:\n",
    "    for reference_choice in reference_choices:\n",
    "        input_fp = os.path.join(os.getcwd(), 'base.ipynb')\n",
    "        output_fp = os.path.join(os.getcwd(), '%s-%s.ipynb' % (taxonomic_level[1], reference_choice[1]))\n",
    "        cmd = \"export taxonomic_level=%s; export reference_choice=%s; cd %s; runipy -q %s %s; ipython nbconvert --to notebook --nbformat 4 --inplace %s\" % (taxonomic_level[0], reference_choice[0], os.getcwd(), input_fp, output_fp, output_fp)\n",
    "        commands.append(cmd)"
   ]
  },
  {
   "cell_type": "code",
   "execution_count": 36,
   "metadata": {
    "collapsed": true
   },
   "outputs": [],
   "source": [
    "from IPython.parallel import Client\n",
    "rc = Client()\n",
    "lview = rc.load_balanced_view()\n",
    "\n",
    "@lview.parallel()\n",
    "def call_cmd(cmd):\n",
    "    from qcli import qcli_system_call\n",
    "    stdout, stderr, retval = qcli_system_call(cmd)\n",
    "    # return stdout, stderr, the return value, and the command\n",
    "    # the command is useful in case it needs to be re-run\n",
    "    return stdout, stderr, retval, cmd"
   ]
  },
  {
   "cell_type": "code",
   "execution_count": 37,
   "metadata": {
    "collapsed": true
   },
   "outputs": [],
   "source": [
    "r = call_cmd.map(commands)"
   ]
  },
  {
   "cell_type": "code",
   "execution_count": 39,
   "metadata": {
    "collapsed": false
   },
   "outputs": [
    {
     "ename": "TimeoutError",
     "evalue": "Result not ready.",
     "output_type": "error",
     "traceback": [
      "\u001b[1;31m---------------------------------------------------------------------------\u001b[0m",
      "\u001b[1;31mTimeoutError\u001b[0m                              Traceback (most recent call last)",
      "\u001b[1;32m<ipython-input-39-bb7b1ae9d65a>\u001b[0m in \u001b[0;36m<module>\u001b[1;34m()\u001b[0m\n\u001b[1;32m----> 1\u001b[1;33m \u001b[0mr\u001b[0m\u001b[1;33m[\u001b[0m\u001b[1;36m0\u001b[0m\u001b[1;33m]\u001b[0m\u001b[1;33m\u001b[0m\u001b[0m\n\u001b[0m",
      "\u001b[1;32m/usr/local/lib/python2.7/dist-packages/IPython/parallel/client/asyncresult.pyc\u001b[0m in \u001b[0;36m__getitem__\u001b[1;34m(self, key)\u001b[0m\n\u001b[0;32m    243\u001b[0m         \"\"\"\n\u001b[0;32m    244\u001b[0m         \u001b[1;32mif\u001b[0m \u001b[0misinstance\u001b[0m\u001b[1;33m(\u001b[0m\u001b[0mkey\u001b[0m\u001b[1;33m,\u001b[0m \u001b[0mint\u001b[0m\u001b[1;33m)\u001b[0m\u001b[1;33m:\u001b[0m\u001b[1;33m\u001b[0m\u001b[0m\n\u001b[1;32m--> 245\u001b[1;33m             \u001b[0mself\u001b[0m\u001b[1;33m.\u001b[0m\u001b[0m_check_ready\u001b[0m\u001b[1;33m(\u001b[0m\u001b[1;33m)\u001b[0m\u001b[1;33m\u001b[0m\u001b[0m\n\u001b[0m\u001b[0;32m    246\u001b[0m             \u001b[1;32mreturn\u001b[0m \u001b[0merror\u001b[0m\u001b[1;33m.\u001b[0m\u001b[0mcollect_exceptions\u001b[0m\u001b[1;33m(\u001b[0m\u001b[1;33m[\u001b[0m\u001b[0mself\u001b[0m\u001b[1;33m.\u001b[0m\u001b[0m_result\u001b[0m\u001b[1;33m[\u001b[0m\u001b[0mkey\u001b[0m\u001b[1;33m]\u001b[0m\u001b[1;33m]\u001b[0m\u001b[1;33m,\u001b[0m \u001b[0mself\u001b[0m\u001b[1;33m.\u001b[0m\u001b[0m_fname\u001b[0m\u001b[1;33m)\u001b[0m\u001b[1;33m[\u001b[0m\u001b[1;36m0\u001b[0m\u001b[1;33m]\u001b[0m\u001b[1;33m\u001b[0m\u001b[0m\n\u001b[0;32m    247\u001b[0m         \u001b[1;32melif\u001b[0m \u001b[0misinstance\u001b[0m\u001b[1;33m(\u001b[0m\u001b[0mkey\u001b[0m\u001b[1;33m,\u001b[0m \u001b[0mslice\u001b[0m\u001b[1;33m)\u001b[0m\u001b[1;33m:\u001b[0m\u001b[1;33m\u001b[0m\u001b[0m\n",
      "\u001b[1;32m/usr/local/lib/python2.7/dist-packages/IPython/parallel/client/asyncresult.pyc\u001b[0m in \u001b[0;36m_check_ready\u001b[1;34m(self)\u001b[0m\n\u001b[0;32m    108\u001b[0m     \u001b[1;32mdef\u001b[0m \u001b[0m_check_ready\u001b[0m\u001b[1;33m(\u001b[0m\u001b[0mself\u001b[0m\u001b[1;33m)\u001b[0m\u001b[1;33m:\u001b[0m\u001b[1;33m\u001b[0m\u001b[0m\n\u001b[0;32m    109\u001b[0m         \u001b[1;32mif\u001b[0m \u001b[1;32mnot\u001b[0m \u001b[0mself\u001b[0m\u001b[1;33m.\u001b[0m\u001b[0mready\u001b[0m\u001b[1;33m(\u001b[0m\u001b[1;33m)\u001b[0m\u001b[1;33m:\u001b[0m\u001b[1;33m\u001b[0m\u001b[0m\n\u001b[1;32m--> 110\u001b[1;33m             \u001b[1;32mraise\u001b[0m \u001b[0merror\u001b[0m\u001b[1;33m.\u001b[0m\u001b[0mTimeoutError\u001b[0m\u001b[1;33m(\u001b[0m\u001b[1;34m\"Result not ready.\"\u001b[0m\u001b[1;33m)\u001b[0m\u001b[1;33m\u001b[0m\u001b[0m\n\u001b[0m\u001b[0;32m    111\u001b[0m \u001b[1;33m\u001b[0m\u001b[0m\n\u001b[0;32m    112\u001b[0m     \u001b[1;32mdef\u001b[0m \u001b[0mready\u001b[0m\u001b[1;33m(\u001b[0m\u001b[0mself\u001b[0m\u001b[1;33m)\u001b[0m\u001b[1;33m:\u001b[0m\u001b[1;33m\u001b[0m\u001b[0m\n",
      "\u001b[1;31mTimeoutError\u001b[0m: Result not ready."
     ]
    }
   ],
   "source": [
    "r[0]"
   ]
  },
  {
   "cell_type": "code",
   "execution_count": 35,
   "metadata": {
    "collapsed": false
   },
   "outputs": [
    {
     "data": {
      "text/plain": [
       "'export taxonomic_level=2; export reference_choice=partial-ref; cd /home/ubuntu/data/short-read-tax-assignment/ipynb/simulated-community; runipy -q /home/ubuntu/data/short-read-tax-assignment/ipynb/simulated-community/base.ipynb /home/ubuntu/data/short-read-tax-assignment/ipynb/simulated-community/phylum-partial.ipynb; ipython nbconvert --to notebook --nbformat 4 --inplace /home/ubuntu/data/short-read-tax-assignment/ipynb/simulated-community/phylum-partial.ipynb'"
      ]
     },
     "execution_count": 35,
     "metadata": {},
     "output_type": "execute_result"
    }
   ],
   "source": [
    "commands[0]"
   ]
  },
  {
   "cell_type": "code",
   "execution_count": null,
   "metadata": {
    "collapsed": true
   },
   "outputs": [],
   "source": []
  }
 ],
 "metadata": {
  "kernelspec": {
   "display_name": "Python 2",
   "language": "python",
   "name": "python2"
  },
  "language_info": {
   "codemirror_mode": {
    "name": "ipython",
    "version": 2
   },
   "file_extension": ".py",
   "mimetype": "text/x-python",
   "name": "python",
   "nbconvert_exporter": "python",
   "pygments_lexer": "ipython2",
   "version": "2.7.3"
  }
 },
 "nbformat": 4,
 "nbformat_minor": 0
}
