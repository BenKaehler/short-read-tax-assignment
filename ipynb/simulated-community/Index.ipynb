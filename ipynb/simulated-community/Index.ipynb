{
 "cells": [
  {
   "cell_type": "markdown",
   "metadata": {},
   "source": [
    "## Contents"
   ]
  },
  {
   "cell_type": "markdown",
   "metadata": {},
   "source": [
    "* [Simulated community generation](./simulate-communities.ipynb): Generates the simulated community datasets that are included in this repository. It should not be necessary to re-run this notebook, but it can be used or adapted to simulate other communities.\n",
    "* [Data generation](./generate-tax-assignments.ipynb): Creates and executes commands for generating taxonomic assignments for the simulated communities contained in this package. The results of running this notebook are included in the repository, so it's not necessary to re-run this.\n",
    "* [Analysis base (general)](./base.ipynb): Template for general simulated community analysis at different taxonomic levels (the notebooks linked below are auto-generated from this notebook in the following cell).\n",
    " * Partial reference database results\n",
    "   * [Pre-computed phylum report](./phylum-partial.ipynb)\n",
    "   * [Pre-computed class report](./class-partial.ipynb)\n",
    "   * [Pre-computed order report](./order-partial.ipynb)\n",
    "   * [Pre-computed family report](./family-partial.ipynb)\n",
    "   * [Pre-computed genus report](./genus-partial.ipynb)\n",
    "   * [Pre-computed species report](./species-partial.ipynb) \n",
    " * Full reference database results\n",
    "   * [Pre-computed phylum report](./phylum-full.ipynb)\n",
    "   * [Pre-computed class report](./class-full.ipynb)\n",
    "   * [Pre-computed order report](./order-full.ipynb)\n",
    "   * [Pre-computed family report](./family-full.ipynb)\n",
    "   * [Pre-computed genus report](./genus-full.ipynb)\n",
    "   * [Pre-computed species report](./species-full.ipynb) "
   ]
  },
  {
   "cell_type": "markdown",
   "metadata": {},
   "source": [
    "If you'd like to generate all of the notebooks from the *Analysis Base* notebook, you should execute the following cell. This can take a long time if the results haven't been pre-computed."
   ]
  },
  {
   "cell_type": "code",
   "execution_count": 4,
   "metadata": {
    "collapsed": false
   },
   "outputs": [
    {
     "name": "stdout",
     "output_type": "stream",
     "text": [
      "runipy -q base.ipynb phylum-partial.ipynb; ipython nbconvert --to notebook --inplace --nbformat 4 phylum-partial.ipynb\n",
      "/usr/local/lib/python2.7/dist-packages/IPython/nbformat/current.py:19: UserWarning: IPython.nbformat.current is deprecated.\n",
      "\n",
      "- use IPython.nbformat for read/write/validate public API\n",
      "- use IPython.nbformat.vX directly to composing notebooks of a particular version\n",
      "\n",
      "  \"\"\")\n",
      "[NbConvertApp] Converting notebook phylum-partial.ipynb to notebook\n",
      "[NbConvertApp] Writing 777022 bytes to phylum-partial.ipynb\n",
      "runipy -q base.ipynb phylum-full.ipynb; ipython nbconvert --to notebook --inplace --nbformat 4 phylum-full.ipynb\n",
      "/usr/local/lib/python2.7/dist-packages/IPython/nbformat/current.py:19: UserWarning: IPython.nbformat.current is deprecated.\n",
      "\n",
      "- use IPython.nbformat for read/write/validate public API\n",
      "- use IPython.nbformat.vX directly to composing notebooks of a particular version\n",
      "\n",
      "  \"\"\")\n",
      "[NbConvertApp] Converting notebook phylum-full.ipynb to notebook\n",
      "[NbConvertApp] Writing 678742 bytes to phylum-full.ipynb\n",
      "runipy -q base.ipynb class-partial.ipynb; ipython nbconvert --to notebook --inplace --nbformat 4 class-partial.ipynb\n",
      "/usr/local/lib/python2.7/dist-packages/IPython/nbformat/current.py:19: UserWarning: IPython.nbformat.current is deprecated.\n",
      "\n",
      "- use IPython.nbformat for read/write/validate public API\n",
      "- use IPython.nbformat.vX directly to composing notebooks of a particular version\n",
      "\n",
      "  \"\"\")\n",
      "[NbConvertApp] Converting notebook class-partial.ipynb to notebook\n",
      "[NbConvertApp] Writing 833400 bytes to class-partial.ipynb\n",
      "runipy -q base.ipynb class-full.ipynb; ipython nbconvert --to notebook --inplace --nbformat 4 class-full.ipynb\n",
      "/usr/local/lib/python2.7/dist-packages/IPython/nbformat/current.py:19: UserWarning: IPython.nbformat.current is deprecated.\n",
      "\n",
      "- use IPython.nbformat for read/write/validate public API\n",
      "- use IPython.nbformat.vX directly to composing notebooks of a particular version\n",
      "\n",
      "  \"\"\")\n",
      "[NbConvertApp] Converting notebook class-full.ipynb to notebook\n",
      "[NbConvertApp] Writing 725796 bytes to class-full.ipynb\n",
      "runipy -q base.ipynb order-partial.ipynb; ipython nbconvert --to notebook --inplace --nbformat 4 order-partial.ipynb\n",
      "/usr/local/lib/python2.7/dist-packages/IPython/nbformat/current.py:19: UserWarning: IPython.nbformat.current is deprecated.\n",
      "\n",
      "- use IPython.nbformat for read/write/validate public API\n",
      "- use IPython.nbformat.vX directly to composing notebooks of a particular version\n",
      "\n",
      "  \"\"\")\n",
      "[NbConvertApp] Converting notebook order-partial.ipynb to notebook\n",
      "[NbConvertApp] Writing 848804 bytes to order-partial.ipynb\n",
      "runipy -q base.ipynb order-full.ipynb; ipython nbconvert --to notebook --inplace --nbformat 4 order-full.ipynb\n",
      "/usr/local/lib/python2.7/dist-packages/IPython/nbformat/current.py:19: UserWarning: IPython.nbformat.current is deprecated.\n",
      "\n",
      "- use IPython.nbformat for read/write/validate public API\n",
      "- use IPython.nbformat.vX directly to composing notebooks of a particular version\n",
      "\n",
      "  \"\"\")\n",
      "[NbConvertApp] Converting notebook order-full.ipynb to notebook\n",
      "[NbConvertApp] Writing 743678 bytes to order-full.ipynb\n",
      "runipy -q base.ipynb family-partial.ipynb; ipython nbconvert --to notebook --inplace --nbformat 4 family-partial.ipynb\n",
      "/usr/local/lib/python2.7/dist-packages/IPython/nbformat/current.py:19: UserWarning: IPython.nbformat.current is deprecated.\n",
      "\n",
      "- use IPython.nbformat for read/write/validate public API\n",
      "- use IPython.nbformat.vX directly to composing notebooks of a particular version\n",
      "\n",
      "  \"\"\")\n",
      "[NbConvertApp] Converting notebook family-partial.ipynb to notebook\n",
      "[NbConvertApp] Writing 868532 bytes to family-partial.ipynb\n",
      "runipy -q base.ipynb family-full.ipynb; ipython nbconvert --to notebook --inplace --nbformat 4 family-full.ipynb\n",
      "/usr/local/lib/python2.7/dist-packages/IPython/nbformat/current.py:19: UserWarning: IPython.nbformat.current is deprecated.\n",
      "\n",
      "- use IPython.nbformat for read/write/validate public API\n",
      "- use IPython.nbformat.vX directly to composing notebooks of a particular version\n",
      "\n",
      "  \"\"\")\n",
      "[NbConvertApp] Converting notebook family-full.ipynb to notebook\n",
      "[NbConvertApp] Writing 756918 bytes to family-full.ipynb\n",
      "runipy -q base.ipynb genus-partial.ipynb; ipython nbconvert --to notebook --inplace --nbformat 4 genus-partial.ipynb\n",
      "/usr/local/lib/python2.7/dist-packages/IPython/nbformat/current.py:19: UserWarning: IPython.nbformat.current is deprecated.\n",
      "\n",
      "- use IPython.nbformat for read/write/validate public API\n",
      "- use IPython.nbformat.vX directly to composing notebooks of a particular version\n",
      "\n",
      "  \"\"\")\n",
      "[NbConvertApp] Converting notebook genus-partial.ipynb to notebook\n",
      "[NbConvertApp] Writing 938364 bytes to genus-partial.ipynb\n",
      "runipy -q base.ipynb genus-full.ipynb; ipython nbconvert --to notebook --inplace --nbformat 4 genus-full.ipynb\n",
      "/usr/local/lib/python2.7/dist-packages/IPython/nbformat/current.py:19: UserWarning: IPython.nbformat.current is deprecated.\n",
      "\n",
      "- use IPython.nbformat for read/write/validate public API\n",
      "- use IPython.nbformat.vX directly to composing notebooks of a particular version\n",
      "\n",
      "  \"\"\")\n",
      "[NbConvertApp] Converting notebook genus-full.ipynb to notebook\n",
      "[NbConvertApp] Writing 819789 bytes to genus-full.ipynb\n",
      "runipy -q base.ipynb species-partial.ipynb; ipython nbconvert --to notebook --inplace --nbformat 4 species-partial.ipynb\n",
      "/usr/local/lib/python2.7/dist-packages/IPython/nbformat/current.py:19: UserWarning: IPython.nbformat.current is deprecated.\n",
      "\n",
      "- use IPython.nbformat for read/write/validate public API\n",
      "- use IPython.nbformat.vX directly to composing notebooks of a particular version\n",
      "\n",
      "  \"\"\")\n",
      "[NbConvertApp] Converting notebook species-partial.ipynb to notebook\n",
      "[NbConvertApp] Writing 991617 bytes to species-partial.ipynb\n",
      "runipy -q base.ipynb species-full.ipynb; ipython nbconvert --to notebook --inplace --nbformat 4 species-full.ipynb\n",
      "/usr/local/lib/python2.7/dist-packages/IPython/nbformat/current.py:19: UserWarning: IPython.nbformat.current is deprecated.\n",
      "\n",
      "- use IPython.nbformat for read/write/validate public API\n",
      "- use IPython.nbformat.vX directly to composing notebooks of a particular version\n",
      "\n",
      "  \"\"\")\n",
      "[NbConvertApp] Converting notebook species-full.ipynb to notebook\n",
      "[NbConvertApp] Writing 880830 bytes to species-full.ipynb\n"
     ]
    }
   ],
   "source": [
    "from os import environ\n",
    "\n",
    "taxonomic_levels = [('2', 'phylum'), ('3', 'class'), ('4', 'order'), ('5', 'family'), ('6', 'genus'), ('7', 'species')]\n",
    "reference_choices = [('partial-ref', 'partial'), ('full-ref', 'full')]\n",
    "\n",
    "for taxonomic_level in taxonomic_levels:\n",
    "    for reference_choice in reference_choices:\n",
    "        environ['taxonomic_level'] = taxonomic_level[0]\n",
    "        environ['reference_choice'] = reference_choice[0]\n",
    "        output_fp = '%s-%s.ipynb' % (taxonomic_level[1], reference_choice[1])\n",
    "        cmd = \"runipy -q base.ipynb %s; ipython nbconvert --to notebook --inplace --nbformat 4 %s\" % (output_fp, output_fp)\n",
    "        print cmd\n",
    "        !$cmd"
   ]
  },
  {
   "cell_type": "code",
   "execution_count": null,
   "metadata": {
    "collapsed": true
   },
   "outputs": [],
   "source": []
  }
 ],
 "metadata": {
  "kernelspec": {
   "display_name": "Python 2",
   "language": "python",
   "name": "python2"
  },
  "language_info": {
   "codemirror_mode": {
    "name": "ipython",
    "version": 2
   },
   "file_extension": ".py",
   "mimetype": "text/x-python",
   "name": "python",
   "nbconvert_exporter": "python",
   "pygments_lexer": "ipython2",
   "version": "2.7.3"
  }
 },
 "nbformat": 4,
 "nbformat_minor": 0
}
