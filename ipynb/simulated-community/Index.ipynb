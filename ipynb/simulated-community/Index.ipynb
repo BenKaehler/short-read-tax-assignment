{
 "metadata": {
  "name": "",
  "signature": "sha256:c1a3ba9888e6460462c6871a12dbb236452d6588383164eea7fa6cb0b6f63913"
 },
 "nbformat": 3,
 "nbformat_minor": 0,
 "worksheets": [
  {
   "cells": [
    {
     "cell_type": "heading",
     "level": 2,
     "metadata": {},
     "source": [
      "Contents"
     ]
    },
    {
     "cell_type": "markdown",
     "metadata": {},
     "source": [
      "* [Simulated community generation](./simulate-communities.ipynb): Generates the simulated community datasets that are included in this repository. It should not be necessary to re-run this notebook, but it can be used or adapted to simulate other communities.\n",
      "* [Data generation](./generate-tax-assignments.ipynb): Creates and executes commands for generating taxonomic assignments for the simulated communities contained in this package. The results of running this notebook are included in the repository, so it's not necessary to re-run this.\n",
      "* [Analysis base (general)](./base.ipynb): Template for general simulated community analysis at different taxonomic levels.\n",
      " * Partial reference database results\n",
      "   * [Pre-computed phylum report](./phylum-partial.ipynb)\n",
      "   * [Pre-computed class report](./class-partial.ipynb)\n",
      "   * [Pre-computed order report](./order-partial.ipynb)\n",
      "   * [Pre-computed family report](./family-partial.ipynb)\n",
      "   * [Pre-computed genus report](./genus-partial.ipynb)\n",
      "   * [Pre-computed species report](./species-partial.ipynb) \n",
      " * Full reference database results\n",
      "   * [Pre-computed phylum report](./phylum-full.ipynb)\n",
      "   * [Pre-computed class report](./class-full.ipynb)\n",
      "   * [Pre-computed order report](./order-full.ipynb)\n",
      "   * [Pre-computed family report](./family-full.ipynb)\n",
      "   * [Pre-computed genus report](./genus-full.ipynb)\n",
      "   * [Pre-computed species report](./species-full.ipynb) \n",
      "* [Analysis base (taxa specific)](./base-detail.ipynb): Template for taxa-specific simulated community analyses."
     ]
    }
   ],
   "metadata": {}
  }
 ]
}