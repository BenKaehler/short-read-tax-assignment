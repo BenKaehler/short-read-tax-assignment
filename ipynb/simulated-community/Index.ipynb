{
 "cells": [
  {
   "cell_type": "markdown",
   "metadata": {},
   "source": [
    "# Prior Probabilities\n",
    "\n",
    "This notebook describes how to generate and use prior probability compositions to train ``q2-feature-classifier`` for taxonomic classification of marker-gene sequence data.\n",
    "\n",
    "Prior probabilities are used by some classification methods to predict the likelihood that a given class label will be observed in a population. Training prior probabilities may improve classification accuracy, particularly in situations when specific taxa are unique to an environment. This is opposed to the use of a uniform prior, which assumes that any class is equally likely to be observed in a given environment. While this is a prudent approach when handling unknown samples, it is a naive approach when handling samples from previously characterized sample types.\n",
    "\n",
    "This notebook serves two functions:\n",
    "\n",
    "    1) generating prior probability trainers to train ``q2-feature-classifier``.\n",
    "    2) comparing classification accuracy of training classifiers with:\n",
    "        a) a uniform prior.\n",
    "        b) prior probabilities appropriate for sample type X.\n",
    "        c) prior probabilities inappropriate for sample type X.\n",
    "        \n",
    "This notebook examines the effect of prior probabilities in classifying two different types of data sets:\n",
    "\n",
    "    1) simulated communities generated from observed compositions of natural communities.\n",
    "    2) natural communities in which the true composition is unknown, but well studied.\n",
    "    \n",
    "The general approach is to:\n",
    "\n",
    "    1) Select an appropriate natural community (NC).\n",
    "    2) Generate prior probability training set as a function of NC taxonomic composition at levels 1-6.\n",
    "    3) Select an appropriate reference dataset (RD).\n",
    "    4) extract RD sequences x,y,z (match NC taxonomies x,y,z)\n",
    "    5) mix x,y,z at defined distributions D to make simulated community S\n",
    "    6) provide prior distributions to classifier C\n",
    "    7) assign taxonomy to S using C\n"
   ]
  },
  {
   "cell_type": "code",
   "execution_count": null,
   "metadata": {
    "collapsed": true
   },
   "outputs": [],
   "source": []
  }
 ],
 "metadata": {
  "anaconda-cloud": {},
  "kernelspec": {
   "display_name": "Python [default]",
   "language": "python",
   "name": "python3"
  },
  "language_info": {
   "codemirror_mode": {
    "name": "ipython",
    "version": 3
   },
   "file_extension": ".py",
   "mimetype": "text/x-python",
   "name": "python",
   "nbconvert_exporter": "python",
   "pygments_lexer": "ipython3",
   "version": "3.5.2"
  }
 },
 "nbformat": 4,
 "nbformat_minor": 1
}
