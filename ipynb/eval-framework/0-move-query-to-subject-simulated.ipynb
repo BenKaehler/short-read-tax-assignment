{
 "metadata": {
  "name": "",
  "signature": "sha256:3c3d213a0075cd84365c8f72b53b91533eb1b8a45ac068f95641f153605471c7"
 },
 "nbformat": 3,
 "nbformat_minor": 0,
 "worksheets": [
  {
   "cells": [
    {
     "cell_type": "markdown",
     "metadata": {},
     "source": [
      "This notebook illustrates how to port data from a *query* data set to a *subject* data set, so it can be easily included as baseline data in future analysis pipelines."
     ]
    },
    {
     "cell_type": "code",
     "collapsed": false,
     "input": [
      "from os.path import join, sep, split\n",
      "from glob import glob"
     ],
     "language": "python",
     "metadata": {},
     "outputs": [],
     "prompt_number": 1
    },
    {
     "cell_type": "code",
     "collapsed": false,
     "input": [
      "## short_read_tax_dir should be the directory where you've downloaded (or cloned) the \n",
      "## short-read-tax-assignment repository. \n",
      "short_read_tax_dir = \"/Users/caporaso/Dropbox/code/short-read-tax-assignment/\"\n",
      "\n",
      "subject_results_dir = join(short_read_tax_dir, \"data\", \"subject-results\", \"simulated-community\")\n",
      "\n",
      "## query_results_dirs should contain the directory or directories where the results \n",
      "## of the method(s) to be compared to the pre-computed results can be found. \n",
      "query_results_dirs = \\\n",
      " [\"/Users/caporaso/analysis/2014.11.21-tax-assignment-simulated\"]"
     ],
     "language": "python",
     "metadata": {},
     "outputs": [],
     "prompt_number": 2
    },
    {
     "cell_type": "code",
     "collapsed": false,
     "input": [
      "for query_results_dir in query_results_dirs:\n",
      "    method_dirs = glob(join(query_results_dir, '*', '*', '*', '*', '*'))\n",
      "    for method_dir in method_dirs:\n",
      "        fields = method_dir.split(sep)\n",
      "        dataset_id, database_id, method_id  = fields[-3], fields[-2], fields[-1] \n",
      "\n",
      "        if method_id in ('blast', 'rdp'):\n",
      "            new_location = join(subject_results_dir, dataset_id, database_id)\n",
      "            cmd = \"mv %s %s\" % (method_dir, new_location)\n",
      "            !$cmd\n",
      "            "
     ],
     "language": "python",
     "metadata": {},
     "outputs": [
      {
       "output_type": "stream",
       "stream": "stdout",
       "text": [
        "mv: rename /Users/caporaso/analysis/2014.11.21-tax-assignment-simulated/simulated-results/simulated-community/B1/gg_13_8_otus/blast to /Users/caporaso/Dropbox/code/short-read-tax-assignment/data/subject-results/simulated-community/B1/gg_13_8_otus/blast: Directory not empty\r\n"
       ]
      },
      {
       "output_type": "stream",
       "stream": "stdout",
       "text": [
        "mv: rename /Users/caporaso/analysis/2014.11.21-tax-assignment-simulated/simulated-results/simulated-community/B1/gg_13_8_otus/rdp to /Users/caporaso/Dropbox/code/short-read-tax-assignment/data/subject-results/simulated-community/B1/gg_13_8_otus/rdp: Directory not empty\r\n"
       ]
      },
      {
       "output_type": "stream",
       "stream": "stdout",
       "text": [
        "mv: rename /Users/caporaso/analysis/2014.11.21-tax-assignment-simulated/simulated-results/simulated-community/B2/gg_13_8_otus/blast to /Users/caporaso/Dropbox/code/short-read-tax-assignment/data/subject-results/simulated-community/B2/gg_13_8_otus/blast: Directory not empty\r\n"
       ]
      },
      {
       "output_type": "stream",
       "stream": "stdout",
       "text": [
        "mv: rename /Users/caporaso/analysis/2014.11.21-tax-assignment-simulated/simulated-results/simulated-community/B2/gg_13_8_otus/rdp to /Users/caporaso/Dropbox/code/short-read-tax-assignment/data/subject-results/simulated-community/B2/gg_13_8_otus/rdp: Directory not empty\r\n"
       ]
      }
     ],
     "prompt_number": 3
    },
    {
     "cell_type": "code",
     "collapsed": false,
     "input": [],
     "language": "python",
     "metadata": {},
     "outputs": []
    }
   ],
   "metadata": {}
  }
 ]
}