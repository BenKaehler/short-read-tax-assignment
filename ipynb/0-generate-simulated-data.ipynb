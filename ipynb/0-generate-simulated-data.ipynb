{
 "metadata": {
  "name": "",
  "signature": "sha256:45bbfdb92d248ffa878db4b46a189b0c9d546862514ca82e66bfe0ec8392e047"
 },
 "nbformat": 3,
 "nbformat_minor": 0,
 "worksheets": [
  {
   "cells": [
    {
     "cell_type": "markdown",
     "metadata": {},
     "source": [
      "This notebook allows for generation of a \"simulated community\" by slicing the Greengenes reference set based on specific primers and to a resulting amplicon length. The code is derived from an example in the [scikit-bio-cookbook](https://github.com/biocore/scikit-bio-cookbook)."
     ]
    },
    {
     "cell_type": "code",
     "collapsed": false,
     "input": [
      "from os.path import join\n",
      "\n",
      "import pandas as pd\n",
      "import numpy as np\n",
      "from biom.table import Table\n",
      "from biom.util import biom_open\n",
      "from skbio.util import create_dir\n",
      "from skbio.alignment import SequenceCollection, global_pairwise_align_nucleotide, make_identity_substitution_matrix \n",
      "from skbio.sequence import DNA\n",
      "\n",
      "short_read_tax_assignment_dir = \"/Users/caporaso/code/short-read-tax-assignment/\"\n",
      "simulated_community_definitions = {\n",
      " 'B1': (\"/Users/caporaso/data/gg_13_8_otus/rep_set/61_otus.fasta\",\n",
      "        \"/Users/caporaso/data/gg_13_8_otus/taxonomy/61_otu_taxonomy.txt\",\n",
      "        \"gg_13_8_otus\",\n",
      "        \"GTGCCAGCMGCCGCGGTAA\", \"ATTAGAWACCCBDGTAGTCC\", \"515F\", \"806R\", np.nan),\n",
      " 'B2': (\"/Users/caporaso/data/gg_13_8_otus/rep_set_aligned/61_otus.fasta\",\n",
      "        \"/Users/caporaso/data/gg_13_8_otus/taxonomy/61_otu_taxonomy.txt\", \n",
      "        \"gg_13_8_otus\",\n",
      "         \"GTGCCAGCMGCCGCGGTAA\", \"ATTAGAWACCCBDGTAGTCC\", \"515F\", \"806R\", 100),\n",
      " }\n",
      "simulated_community_definitions = pd.DataFrame.from_dict(simulated_community_definitions, orient=\"index\")\n",
      "simulated_community_definitions.columns = [\"Reference file path\", \"Reference tax path\", \"Reference id\", \"Fwd primer\", \"Rev primer\", \n",
      "                                           \"Fwd primer id\", \"Rev primer id\", \"Max length\"]\n",
      "simulated_community_definitions"
     ],
     "language": "python",
     "metadata": {},
     "outputs": [
      {
       "output_type": "stream",
       "stream": "stderr",
       "text": [
        "/Users/caporaso/.virtualenvs/short-read-tax-assignment/lib/python2.7/site-packages/matplotlib/__init__.py:1155: UserWarning:  This call to matplotlib.use() has no effect\n",
        "because the backend has already been chosen;\n",
        "matplotlib.use() must be called *before* pylab, matplotlib.pyplot,\n",
        "or matplotlib.backends is imported for the first time.\n",
        "\n",
        "  warnings.warn(_use_error_msg)\n"
       ]
      },
      {
       "html": [
        "<div style=\"max-height:1000px;max-width:1500px;overflow:auto;\">\n",
        "<table border=\"1\" class=\"dataframe\">\n",
        "  <thead>\n",
        "    <tr style=\"text-align: right;\">\n",
        "      <th></th>\n",
        "      <th>Reference file path</th>\n",
        "      <th>Reference tax path</th>\n",
        "      <th>Reference id</th>\n",
        "      <th>Fwd primer</th>\n",
        "      <th>Rev primer</th>\n",
        "      <th>Fwd primer id</th>\n",
        "      <th>Rev primer id</th>\n",
        "      <th>Max length</th>\n",
        "    </tr>\n",
        "  </thead>\n",
        "  <tbody>\n",
        "    <tr>\n",
        "      <th>B1</th>\n",
        "      <td> /Users/caporaso/data/gg_13_8_otus/rep_set/61_o...</td>\n",
        "      <td> /Users/caporaso/data/gg_13_8_otus/taxonomy/61_...</td>\n",
        "      <td> gg_13_8_otus</td>\n",
        "      <td> GTGCCAGCMGCCGCGGTAA</td>\n",
        "      <td> ATTAGAWACCCBDGTAGTCC</td>\n",
        "      <td> 515F</td>\n",
        "      <td> 806R</td>\n",
        "      <td> NaN</td>\n",
        "    </tr>\n",
        "    <tr>\n",
        "      <th>B2</th>\n",
        "      <td> /Users/caporaso/data/gg_13_8_otus/rep_set_alig...</td>\n",
        "      <td> /Users/caporaso/data/gg_13_8_otus/taxonomy/61_...</td>\n",
        "      <td> gg_13_8_otus</td>\n",
        "      <td> GTGCCAGCMGCCGCGGTAA</td>\n",
        "      <td> ATTAGAWACCCBDGTAGTCC</td>\n",
        "      <td> 515F</td>\n",
        "      <td> 806R</td>\n",
        "      <td> 100</td>\n",
        "    </tr>\n",
        "  </tbody>\n",
        "</table>\n",
        "</div>"
       ],
       "metadata": {},
       "output_type": "pyout",
       "prompt_number": 1,
       "text": [
        "                                  Reference file path  \\\n",
        "B1  /Users/caporaso/data/gg_13_8_otus/rep_set/61_o...   \n",
        "B2  /Users/caporaso/data/gg_13_8_otus/rep_set_alig...   \n",
        "\n",
        "                                   Reference tax path  Reference id  \\\n",
        "B1  /Users/caporaso/data/gg_13_8_otus/taxonomy/61_...  gg_13_8_otus   \n",
        "B2  /Users/caporaso/data/gg_13_8_otus/taxonomy/61_...  gg_13_8_otus   \n",
        "\n",
        "             Fwd primer            Rev primer Fwd primer id Rev primer id  \\\n",
        "B1  GTGCCAGCMGCCGCGGTAA  ATTAGAWACCCBDGTAGTCC          515F          806R   \n",
        "B2  GTGCCAGCMGCCGCGGTAA  ATTAGAWACCCBDGTAGTCC          515F          806R   \n",
        "\n",
        "    Max length  \n",
        "B1         NaN  \n",
        "B2         100  "
       ]
      }
     ],
     "prompt_number": 1
    },
    {
     "cell_type": "code",
     "collapsed": false,
     "input": [
      "\n",
      "for index, data in simulated_community_definitions.iterrows():\n",
      "    input_fasta_fp = data['Reference file path']\n",
      "\n",
      "    output_dir = join(short_read_tax_assignment_dir, \"data\", \"simulated-community\", index)\n",
      "    create_dir(output_dir)\n",
      "    output_fasta_fp = join(output_dir, \"rep_set.fna\")\n",
      "    output_biom_fp = join(output_dir, \"otu_table.biom\")\n",
      "    fwd_primer = DNA(data['Fwd primer'], \"fwd-primer\")\n",
      "    rev_primer = DNA(data['Rev primer'], \"rev-primer\")\n",
      "\n",
      "    reference_sequences = SequenceCollection.read(input_fasta_fp, constructor=DNA)\n",
      "    substitution_matrix = make_identity_substitution_matrix(1, -2, DNA.alphabet())\n",
      "\n",
      "    fwd_primer = list(fwd_primer.nondegenerates())[0]\n",
      "    rev_primer = list(rev_primer.nondegenerates())[0]\n",
      "\n",
      "    output_fasta_f = open(output_fasta_fp, 'w')\n",
      "    otu_ids = []\n",
      "    for sequence in reference_sequences:\n",
      "        alignment = global_pairwise_align_nucleotide(fwd_primer, sequence, substitution_matrix=substitution_matrix)\n",
      "        alignment = global_pairwise_align_nucleotide(rev_primer, alignment, substitution_matrix=substitution_matrix)\n",
      "        fwd_primer_start = alignment[\"fwd-primer\"].gap_vector().index(False)\n",
      "        rev_primer_end = alignment.sequence_length() - alignment[\"rev-primer\"].gap_vector()[-1::-1].index(False) - 1\n",
      "        trimmed_sequence = sequence[fwd_primer_start:rev_primer_end]\n",
      "        if len(trimmed_sequence) == 0: \n",
      "            continue\n",
      "        else:\n",
      "            otu_ids.append(trimmed_sequence.id)\n",
      "        if not np.isnan(data['Max length']):\n",
      "            trimmed_sequence = trimmed_sequence[:int(data['Max length'])]\n",
      "        output_fasta_f.write(trimmed_sequence.to_fasta())\n",
      "    \n",
      "    \n",
      "    data = np.ones((len(otu_ids), 1))\n",
      "    sample_ids = ['S1']\n",
      "    table = Table(data, otu_ids, sample_ids)\n",
      "    with biom_open(output_biom_fp, 'w') as f:\n",
      "        table.to_hdf5(f, \"example\")\n",
      "    output_fasta_f.close()\n"
     ],
     "language": "python",
     "metadata": {},
     "outputs": [
      {
       "output_type": "stream",
       "stream": "stderr",
       "text": [
        "/Users/caporaso/.virtualenvs/short-read-tax-assignment/lib/python2.7/site-packages/skbio/alignment/_pairwise.py:594: UserWarning: make_identity_substitution_matrix is deprecated and will soon be replaced, though at the time of this writing the new name has not been finalized. Updates will be posted to issue #161: https://github.com/biocore/scikit-bio/issues/161\n",
        "  warn(\"make_identity_substitution_matrix is deprecated and will soon be \"\n",
        "/Users/caporaso/.virtualenvs/short-read-tax-assignment/lib/python2.7/site-packages/skbio/alignment/_pairwise.py:540: EfficiencyWarning: You're using skbio's python implementation of Needleman-Wunsch alignment. This is known to be very slow (e.g., thousands of times slower than a native C implementation). We'll be adding a faster version soon (see https://github.com/biocore/scikit-bio/issues/254 to track progress on this).\n",
        "  \"to track progress on this).\", EfficiencyWarning)\n",
        "/Users/caporaso/.virtualenvs/short-read-tax-assignment/lib/python2.7/site-packages/skbio/sequence/_sequence.py:1427: UserWarning: BiologicalSequence.to_fasta is deprecated and will be removed in scikit-bio 0.3.0. Please update your code to use BiologicalSequence.write.\n",
        "  \"BiologicalSequence.write.\", UserWarning)\n"
       ]
      }
     ]
    },
    {
     "cell_type": "code",
     "collapsed": false,
     "input": [
      "for index, data in simulated_community_definitions.iterrows():\n",
      "    input_biom_fp = join(short_read_tax_assignment_dir, \"data\", \"simulated-community\", index, \"otu_table.biom\")\n",
      "    output_dir = join(short_read_tax_assignment_dir, \"data\", \"subject-results\", \"simulated-community\", \n",
      "                      index, data[\"Reference id\"], \"expected\")\n",
      "    output_biom_fp = join(output_dir, \"otu_table_w_tax.biom\")\n",
      "    create_dir(output_dir)\n",
      "    !rm -r $output_biom_fp\n",
      "    \n",
      "    add_metadata_cmd = \"biom add-metadata -i %s -o %s --observation-metadata-fp %s --observation-header OTUID,taxonomy --sc-separated taxonomy\" \\\n",
      "        % (input_biom_fp, output_biom_fp, data[\"Reference tax path\"])\n",
      "    !$add_metadata_cmd\n",
      "    !summarize_taxa.py -i $output_biom_fp -o $output_dir -L 2,3,4,5,6,7 --suppress_classic_table_output\n",
      "    for i in range(2,8):\n",
      "        start_path = join(output_dir, \"otu_table_w_tax_L%d.biom\" % i)\n",
      "        end_path = join(output_dir, \"table.L%d-taxa.biom\" % i)\n",
      "        !mv $start_path $end_path"
     ],
     "language": "python",
     "metadata": {},
     "outputs": []
    }
   ],
   "metadata": {}
  }
 ]
}