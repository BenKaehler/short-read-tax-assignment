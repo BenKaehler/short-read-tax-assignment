{
 "metadata": {
  "name": "",
  "signature": "sha256:49bb8ecb6eea5927a2cea81cbf6c48677f3204d57bc1e643ec6779fb3c28c33a"
 },
 "nbformat": 3,
 "nbformat_minor": 0,
 "worksheets": [
  {
   "cells": [
    {
     "cell_type": "code",
     "collapsed": false,
     "input": [
      "from os.path import join, sep, split\n",
      "from glob import glob"
     ],
     "language": "python",
     "metadata": {},
     "outputs": [],
     "prompt_number": 1
    },
    {
     "cell_type": "code",
     "collapsed": false,
     "input": [
      "## short_read_tax_dir should be the directory where you've downloaded (or cloned) the \n",
      "## short-read-tax-assignment repository. \n",
      "short_read_tax_dir = \"/Users/caporaso/Dropbox/code/short-read-tax-assignment/\"\n",
      "\n",
      "## query_results_dirs should contain the directory or directories where the results \n",
      "## of the method(s) to be compared to the pre-computed results can be found. \n",
      "query_results_dirs = \\\n",
      " [\"/Users/caporaso/analysis/2014.11.21-tax-assignment-simulated\"]"
     ],
     "language": "python",
     "metadata": {},
     "outputs": [],
     "prompt_number": 2
    },
    {
     "cell_type": "code",
     "collapsed": false,
     "input": [
      "simulated_community_data_dir = join(short_read_tax_dir, 'data', 'simulated-community')"
     ],
     "language": "python",
     "metadata": {},
     "outputs": [],
     "prompt_number": 3
    },
    {
     "cell_type": "code",
     "collapsed": false,
     "input": [
      "query_results_dirs"
     ],
     "language": "python",
     "metadata": {},
     "outputs": [
      {
       "metadata": {},
       "output_type": "pyout",
       "prompt_number": 4,
       "text": [
        "['/Users/caporaso/analysis/2014.11.21-tax-assignment-simulated']"
       ]
      }
     ],
     "prompt_number": 4
    },
    {
     "cell_type": "code",
     "collapsed": false,
     "input": [
      "for query_results_dir in query_results_dirs:\n",
      "    taxonomy_map_fps = glob(join(query_results_dir, '*', '*', '*', '*', '*', '*', 'rep_set_tax_assignments.txt'))\n",
      "    for taxonomy_map_fp in taxonomy_map_fps:\n",
      "        dataset_id = taxonomy_map_fp.split(sep)[-5]\n",
      "        biom_input_fp = join(simulated_community_data_dir, dataset_id, 'otu_table.biom')\n",
      "        output_dir = split(taxonomy_map_fp)[0]\n",
      "        biom_output_fp = join(output_dir,'table.biom')\n",
      "        !rm $biom_output_fp\n",
      "        cmd = \"biom add-metadata -i %s -o %s --observation-metadata-fp %s --observation-header otuid,taxonomy --sc-separated taxonomy\" % (biom_input_fp, biom_output_fp, taxonomy_map_fp)\n",
      "        !$cmd"
     ],
     "language": "python",
     "metadata": {},
     "outputs": [
      {
       "output_type": "stream",
       "stream": "stdout",
       "text": [
        "rm: /Users/caporaso/analysis/2014.11.21-tax-assignment-simulated/simulated-results/simulated-community/B1/gg_13_8_otus/blast/0.001/table.biom: No such file or directory\r\n"
       ]
      },
      {
       "output_type": "stream",
       "stream": "stdout",
       "text": [
        "rm: /Users/caporaso/analysis/2014.11.21-tax-assignment-simulated/simulated-results/simulated-community/B1/gg_13_8_otus/blast/1.0/table.biom: No such file or directory\r\n"
       ]
      },
      {
       "output_type": "stream",
       "stream": "stdout",
       "text": [
        "rm: /Users/caporaso/analysis/2014.11.21-tax-assignment-simulated/simulated-results/simulated-community/B1/gg_13_8_otus/blast/100.0/table.biom: No such file or directory\r\n"
       ]
      },
      {
       "output_type": "stream",
       "stream": "stdout",
       "text": [
        "rm: /Users/caporaso/analysis/2014.11.21-tax-assignment-simulated/simulated-results/simulated-community/B1/gg_13_8_otus/blast/1e-06/table.biom: No such file or directory\r\n"
       ]
      },
      {
       "output_type": "stream",
       "stream": "stdout",
       "text": [
        "rm: /Users/caporaso/analysis/2014.11.21-tax-assignment-simulated/simulated-results/simulated-community/B1/gg_13_8_otus/rdp/0.0/table.biom: No such file or directory\r\n"
       ]
      },
      {
       "output_type": "stream",
       "stream": "stdout",
       "text": [
        "rm: /Users/caporaso/analysis/2014.11.21-tax-assignment-simulated/simulated-results/simulated-community/B1/gg_13_8_otus/rdp/0.1/table.biom: No such file or directory\r\n"
       ]
      },
      {
       "output_type": "stream",
       "stream": "stdout",
       "text": [
        "rm: /Users/caporaso/analysis/2014.11.21-tax-assignment-simulated/simulated-results/simulated-community/B1/gg_13_8_otus/rdp/0.2/table.biom: No such file or directory\r\n"
       ]
      },
      {
       "output_type": "stream",
       "stream": "stdout",
       "text": [
        "rm: /Users/caporaso/analysis/2014.11.21-tax-assignment-simulated/simulated-results/simulated-community/B1/gg_13_8_otus/rdp/0.3/table.biom: No such file or directory\r\n"
       ]
      },
      {
       "output_type": "stream",
       "stream": "stdout",
       "text": [
        "rm: /Users/caporaso/analysis/2014.11.21-tax-assignment-simulated/simulated-results/simulated-community/B1/gg_13_8_otus/rdp/0.4/table.biom: No such file or directory\r\n"
       ]
      },
      {
       "output_type": "stream",
       "stream": "stdout",
       "text": [
        "rm: /Users/caporaso/analysis/2014.11.21-tax-assignment-simulated/simulated-results/simulated-community/B1/gg_13_8_otus/rdp/0.5/table.biom: No such file or directory\r\n"
       ]
      },
      {
       "output_type": "stream",
       "stream": "stdout",
       "text": [
        "rm: /Users/caporaso/analysis/2014.11.21-tax-assignment-simulated/simulated-results/simulated-community/B1/gg_13_8_otus/rdp/0.6/table.biom: No such file or directory\r\n"
       ]
      },
      {
       "output_type": "stream",
       "stream": "stdout",
       "text": [
        "rm: /Users/caporaso/analysis/2014.11.21-tax-assignment-simulated/simulated-results/simulated-community/B1/gg_13_8_otus/rdp/0.7/table.biom: No such file or directory\r\n"
       ]
      },
      {
       "output_type": "stream",
       "stream": "stdout",
       "text": [
        "rm: /Users/caporaso/analysis/2014.11.21-tax-assignment-simulated/simulated-results/simulated-community/B1/gg_13_8_otus/rdp/0.8/table.biom: No such file or directory\r\n"
       ]
      },
      {
       "output_type": "stream",
       "stream": "stdout",
       "text": [
        "rm: /Users/caporaso/analysis/2014.11.21-tax-assignment-simulated/simulated-results/simulated-community/B1/gg_13_8_otus/rdp/0.9/table.biom: No such file or directory\r\n"
       ]
      },
      {
       "output_type": "stream",
       "stream": "stdout",
       "text": [
        "rm: /Users/caporaso/analysis/2014.11.21-tax-assignment-simulated/simulated-results/simulated-community/B1/gg_13_8_otus/rdp/1.0/table.biom: No such file or directory\r\n"
       ]
      },
      {
       "output_type": "stream",
       "stream": "stdout",
       "text": [
        "rm: /Users/caporaso/analysis/2014.11.21-tax-assignment-simulated/simulated-results/simulated-community/B2/gg_13_8_otus/blast/0.001/table.biom: No such file or directory\r\n"
       ]
      },
      {
       "output_type": "stream",
       "stream": "stdout",
       "text": [
        "rm: /Users/caporaso/analysis/2014.11.21-tax-assignment-simulated/simulated-results/simulated-community/B2/gg_13_8_otus/blast/1.0/table.biom: No such file or directory\r\n"
       ]
      },
      {
       "output_type": "stream",
       "stream": "stdout",
       "text": [
        "rm: /Users/caporaso/analysis/2014.11.21-tax-assignment-simulated/simulated-results/simulated-community/B2/gg_13_8_otus/blast/100.0/table.biom: No such file or directory\r\n"
       ]
      },
      {
       "output_type": "stream",
       "stream": "stdout",
       "text": [
        "rm: /Users/caporaso/analysis/2014.11.21-tax-assignment-simulated/simulated-results/simulated-community/B2/gg_13_8_otus/blast/1e-06/table.biom: No such file or directory\r\n"
       ]
      },
      {
       "output_type": "stream",
       "stream": "stdout",
       "text": [
        "rm: /Users/caporaso/analysis/2014.11.21-tax-assignment-simulated/simulated-results/simulated-community/B2/gg_13_8_otus/rdp/0.0/table.biom: No such file or directory\r\n"
       ]
      },
      {
       "output_type": "stream",
       "stream": "stdout",
       "text": [
        "rm: /Users/caporaso/analysis/2014.11.21-tax-assignment-simulated/simulated-results/simulated-community/B2/gg_13_8_otus/rdp/0.1/table.biom: No such file or directory\r\n"
       ]
      },
      {
       "output_type": "stream",
       "stream": "stdout",
       "text": [
        "rm: /Users/caporaso/analysis/2014.11.21-tax-assignment-simulated/simulated-results/simulated-community/B2/gg_13_8_otus/rdp/0.2/table.biom: No such file or directory\r\n"
       ]
      },
      {
       "output_type": "stream",
       "stream": "stdout",
       "text": [
        "rm: /Users/caporaso/analysis/2014.11.21-tax-assignment-simulated/simulated-results/simulated-community/B2/gg_13_8_otus/rdp/0.3/table.biom: No such file or directory\r\n"
       ]
      },
      {
       "output_type": "stream",
       "stream": "stdout",
       "text": [
        "rm: /Users/caporaso/analysis/2014.11.21-tax-assignment-simulated/simulated-results/simulated-community/B2/gg_13_8_otus/rdp/0.4/table.biom: No such file or directory\r\n"
       ]
      },
      {
       "output_type": "stream",
       "stream": "stdout",
       "text": [
        "rm: /Users/caporaso/analysis/2014.11.21-tax-assignment-simulated/simulated-results/simulated-community/B2/gg_13_8_otus/rdp/0.5/table.biom: No such file or directory\r\n"
       ]
      },
      {
       "output_type": "stream",
       "stream": "stdout",
       "text": [
        "rm: /Users/caporaso/analysis/2014.11.21-tax-assignment-simulated/simulated-results/simulated-community/B2/gg_13_8_otus/rdp/0.6/table.biom: No such file or directory\r\n"
       ]
      },
      {
       "output_type": "stream",
       "stream": "stdout",
       "text": [
        "rm: /Users/caporaso/analysis/2014.11.21-tax-assignment-simulated/simulated-results/simulated-community/B2/gg_13_8_otus/rdp/0.7/table.biom: No such file or directory\r\n"
       ]
      },
      {
       "output_type": "stream",
       "stream": "stdout",
       "text": [
        "rm: /Users/caporaso/analysis/2014.11.21-tax-assignment-simulated/simulated-results/simulated-community/B2/gg_13_8_otus/rdp/0.8/table.biom: No such file or directory\r\n"
       ]
      },
      {
       "output_type": "stream",
       "stream": "stdout",
       "text": [
        "rm: /Users/caporaso/analysis/2014.11.21-tax-assignment-simulated/simulated-results/simulated-community/B2/gg_13_8_otus/rdp/0.9/table.biom: No such file or directory\r\n"
       ]
      },
      {
       "output_type": "stream",
       "stream": "stdout",
       "text": [
        "rm: /Users/caporaso/analysis/2014.11.21-tax-assignment-simulated/simulated-results/simulated-community/B2/gg_13_8_otus/rdp/1.0/table.biom: No such file or directory\r\n"
       ]
      },
      {
       "output_type": "stream",
       "stream": "stdout",
       "text": [
        "rm: /Users/caporaso/analysis/2014.11.21-tax-assignment-simulated/simulated-results/simulated-community/F1/unite-97-rep-set/blast/0.001/table.biom: No such file or directory\r\n"
       ]
      },
      {
       "output_type": "stream",
       "stream": "stdout",
       "text": [
        "rm: /Users/caporaso/analysis/2014.11.21-tax-assignment-simulated/simulated-results/simulated-community/F1/unite-97-rep-set/blast/1.0/table.biom: No such file or directory\r\n"
       ]
      },
      {
       "output_type": "stream",
       "stream": "stdout",
       "text": [
        "rm: /Users/caporaso/analysis/2014.11.21-tax-assignment-simulated/simulated-results/simulated-community/F1/unite-97-rep-set/blast/100.0/table.biom: No such file or directory\r\n"
       ]
      },
      {
       "output_type": "stream",
       "stream": "stdout",
       "text": [
        "rm: /Users/caporaso/analysis/2014.11.21-tax-assignment-simulated/simulated-results/simulated-community/F1/unite-97-rep-set/blast/1e-06/table.biom: No such file or directory\r\n"
       ]
      },
      {
       "output_type": "stream",
       "stream": "stdout",
       "text": [
        "rm: /Users/caporaso/analysis/2014.11.21-tax-assignment-simulated/simulated-results/simulated-community/F1/unite-97-rep-set/rdp/0.0/table.biom: No such file or directory\r\n"
       ]
      },
      {
       "output_type": "stream",
       "stream": "stdout",
       "text": [
        "rm: /Users/caporaso/analysis/2014.11.21-tax-assignment-simulated/simulated-results/simulated-community/F1/unite-97-rep-set/rdp/0.1/table.biom: No such file or directory\r\n"
       ]
      },
      {
       "output_type": "stream",
       "stream": "stdout",
       "text": [
        "rm: /Users/caporaso/analysis/2014.11.21-tax-assignment-simulated/simulated-results/simulated-community/F1/unite-97-rep-set/rdp/0.2/table.biom: No such file or directory\r\n"
       ]
      },
      {
       "output_type": "stream",
       "stream": "stdout",
       "text": [
        "rm: /Users/caporaso/analysis/2014.11.21-tax-assignment-simulated/simulated-results/simulated-community/F1/unite-97-rep-set/rdp/0.3/table.biom: No such file or directory\r\n"
       ]
      },
      {
       "output_type": "stream",
       "stream": "stdout",
       "text": [
        "rm: /Users/caporaso/analysis/2014.11.21-tax-assignment-simulated/simulated-results/simulated-community/F1/unite-97-rep-set/rdp/0.4/table.biom: No such file or directory\r\n"
       ]
      },
      {
       "output_type": "stream",
       "stream": "stdout",
       "text": [
        "rm: /Users/caporaso/analysis/2014.11.21-tax-assignment-simulated/simulated-results/simulated-community/F1/unite-97-rep-set/rdp/0.5/table.biom: No such file or directory\r\n"
       ]
      },
      {
       "output_type": "stream",
       "stream": "stdout",
       "text": [
        "rm: /Users/caporaso/analysis/2014.11.21-tax-assignment-simulated/simulated-results/simulated-community/F1/unite-97-rep-set/rdp/0.6/table.biom: No such file or directory\r\n"
       ]
      },
      {
       "output_type": "stream",
       "stream": "stdout",
       "text": [
        "rm: /Users/caporaso/analysis/2014.11.21-tax-assignment-simulated/simulated-results/simulated-community/F1/unite-97-rep-set/rdp/0.7/table.biom: No such file or directory\r\n"
       ]
      },
      {
       "output_type": "stream",
       "stream": "stdout",
       "text": [
        "rm: /Users/caporaso/analysis/2014.11.21-tax-assignment-simulated/simulated-results/simulated-community/F1/unite-97-rep-set/rdp/0.8/table.biom: No such file or directory\r\n"
       ]
      },
      {
       "output_type": "stream",
       "stream": "stdout",
       "text": [
        "rm: /Users/caporaso/analysis/2014.11.21-tax-assignment-simulated/simulated-results/simulated-community/F1/unite-97-rep-set/rdp/0.9/table.biom: No such file or directory\r\n"
       ]
      },
      {
       "output_type": "stream",
       "stream": "stdout",
       "text": [
        "rm: /Users/caporaso/analysis/2014.11.21-tax-assignment-simulated/simulated-results/simulated-community/F1/unite-97-rep-set/rdp/1.0/table.biom: No such file or directory\r\n"
       ]
      },
      {
       "output_type": "stream",
       "stream": "stdout",
       "text": [
        "rm: /Users/caporaso/analysis/2014.11.21-tax-assignment-simulated/simulated-results/simulated-community/F1/unite-97-rep-set/sortmerna/0.51:0.8:1:0.8:0.001/table.biom: No such file or directory\r\n"
       ]
      },
      {
       "output_type": "stream",
       "stream": "stdout",
       "text": [
        "rm: /Users/caporaso/analysis/2014.11.21-tax-assignment-simulated/simulated-results/simulated-community/F1/unite-97-rep-set/sortmerna/0.51:0.8:1:0.8:1.0/table.biom: No such file or directory\r\n"
       ]
      },
      {
       "output_type": "stream",
       "stream": "stdout",
       "text": [
        "rm: /Users/caporaso/analysis/2014.11.21-tax-assignment-simulated/simulated-results/simulated-community/F1/unite-97-rep-set/sortmerna/0.51:0.8:1:0.9:0.001/table.biom: No such file or directory\r\n"
       ]
      },
      {
       "output_type": "stream",
       "stream": "stdout",
       "text": [
        "rm: /Users/caporaso/analysis/2014.11.21-tax-assignment-simulated/simulated-results/simulated-community/F1/unite-97-rep-set/sortmerna/0.51:0.8:1:0.9:1.0/table.biom: No such file or directory\r\n"
       ]
      },
      {
       "output_type": "stream",
       "stream": "stdout",
       "text": [
        "rm: /Users/caporaso/analysis/2014.11.21-tax-assignment-simulated/simulated-results/simulated-community/F1/unite-97-rep-set/sortmerna/0.51:0.8:3:0.8:0.001/table.biom: No such file or directory\r\n"
       ]
      },
      {
       "output_type": "stream",
       "stream": "stdout",
       "text": [
        "rm: /Users/caporaso/analysis/2014.11.21-tax-assignment-simulated/simulated-results/simulated-community/F1/unite-97-rep-set/sortmerna/0.51:0.8:3:0.8:1.0/table.biom: No such file or directory\r\n"
       ]
      },
      {
       "output_type": "stream",
       "stream": "stdout",
       "text": [
        "rm: /Users/caporaso/analysis/2014.11.21-tax-assignment-simulated/simulated-results/simulated-community/F1/unite-97-rep-set/sortmerna/0.51:0.8:3:0.9:0.001/table.biom: No such file or directory\r\n"
       ]
      },
      {
       "output_type": "stream",
       "stream": "stdout",
       "text": [
        "rm: /Users/caporaso/analysis/2014.11.21-tax-assignment-simulated/simulated-results/simulated-community/F1/unite-97-rep-set/sortmerna/0.51:0.8:3:0.9:1.0/table.biom: No such file or directory\r\n"
       ]
      },
      {
       "output_type": "stream",
       "stream": "stdout",
       "text": [
        "rm: /Users/caporaso/analysis/2014.11.21-tax-assignment-simulated/simulated-results/simulated-community/F1/unite-97-rep-set/sortmerna/0.51:0.8:5:0.8:0.001/table.biom: No such file or directory\r\n"
       ]
      },
      {
       "output_type": "stream",
       "stream": "stdout",
       "text": [
        "rm: /Users/caporaso/analysis/2014.11.21-tax-assignment-simulated/simulated-results/simulated-community/F1/unite-97-rep-set/sortmerna/0.51:0.8:5:0.8:1.0/table.biom: No such file or directory\r\n"
       ]
      },
      {
       "output_type": "stream",
       "stream": "stdout",
       "text": [
        "rm: /Users/caporaso/analysis/2014.11.21-tax-assignment-simulated/simulated-results/simulated-community/F1/unite-97-rep-set/sortmerna/0.51:0.8:5:0.9:0.001/table.biom: No such file or directory\r\n"
       ]
      },
      {
       "output_type": "stream",
       "stream": "stdout",
       "text": [
        "rm: /Users/caporaso/analysis/2014.11.21-tax-assignment-simulated/simulated-results/simulated-community/F1/unite-97-rep-set/sortmerna/0.51:0.8:5:0.9:1.0/table.biom: No such file or directory\r\n"
       ]
      },
      {
       "output_type": "stream",
       "stream": "stdout",
       "text": [
        "rm: /Users/caporaso/analysis/2014.11.21-tax-assignment-simulated/simulated-results/simulated-community/F1/unite-97-rep-set/sortmerna/0.51:0.9:1:0.8:0.001/table.biom: No such file or directory\r\n"
       ]
      },
      {
       "output_type": "stream",
       "stream": "stdout",
       "text": [
        "rm: /Users/caporaso/analysis/2014.11.21-tax-assignment-simulated/simulated-results/simulated-community/F1/unite-97-rep-set/sortmerna/0.51:0.9:1:0.8:1.0/table.biom: No such file or directory\r\n"
       ]
      },
      {
       "output_type": "stream",
       "stream": "stdout",
       "text": [
        "rm: /Users/caporaso/analysis/2014.11.21-tax-assignment-simulated/simulated-results/simulated-community/F1/unite-97-rep-set/sortmerna/0.51:0.9:1:0.9:0.001/table.biom: No such file or directory\r\n"
       ]
      },
      {
       "output_type": "stream",
       "stream": "stdout",
       "text": [
        "rm: /Users/caporaso/analysis/2014.11.21-tax-assignment-simulated/simulated-results/simulated-community/F1/unite-97-rep-set/sortmerna/0.51:0.9:1:0.9:1.0/table.biom: No such file or directory\r\n"
       ]
      },
      {
       "output_type": "stream",
       "stream": "stdout",
       "text": [
        "rm: /Users/caporaso/analysis/2014.11.21-tax-assignment-simulated/simulated-results/simulated-community/F1/unite-97-rep-set/sortmerna/0.51:0.9:3:0.8:0.001/table.biom: No such file or directory\r\n"
       ]
      },
      {
       "output_type": "stream",
       "stream": "stdout",
       "text": [
        "rm: /Users/caporaso/analysis/2014.11.21-tax-assignment-simulated/simulated-results/simulated-community/F1/unite-97-rep-set/sortmerna/0.51:0.9:3:0.8:1.0/table.biom: No such file or directory\r\n"
       ]
      },
      {
       "output_type": "stream",
       "stream": "stdout",
       "text": [
        "rm: /Users/caporaso/analysis/2014.11.21-tax-assignment-simulated/simulated-results/simulated-community/F1/unite-97-rep-set/sortmerna/0.51:0.9:3:0.9:0.001/table.biom: No such file or directory\r\n"
       ]
      },
      {
       "output_type": "stream",
       "stream": "stdout",
       "text": [
        "rm: /Users/caporaso/analysis/2014.11.21-tax-assignment-simulated/simulated-results/simulated-community/F1/unite-97-rep-set/sortmerna/0.51:0.9:3:0.9:1.0/table.biom: No such file or directory\r\n"
       ]
      },
      {
       "output_type": "stream",
       "stream": "stdout",
       "text": [
        "rm: /Users/caporaso/analysis/2014.11.21-tax-assignment-simulated/simulated-results/simulated-community/F1/unite-97-rep-set/sortmerna/0.51:0.9:5:0.8:0.001/table.biom: No such file or directory\r\n"
       ]
      },
      {
       "output_type": "stream",
       "stream": "stdout",
       "text": [
        "rm: /Users/caporaso/analysis/2014.11.21-tax-assignment-simulated/simulated-results/simulated-community/F1/unite-97-rep-set/sortmerna/0.51:0.9:5:0.8:1.0/table.biom: No such file or directory\r\n"
       ]
      },
      {
       "output_type": "stream",
       "stream": "stdout",
       "text": [
        "rm: /Users/caporaso/analysis/2014.11.21-tax-assignment-simulated/simulated-results/simulated-community/F1/unite-97-rep-set/sortmerna/0.51:0.9:5:0.9:0.001/table.biom: No such file or directory\r\n"
       ]
      },
      {
       "output_type": "stream",
       "stream": "stdout",
       "text": [
        "rm: /Users/caporaso/analysis/2014.11.21-tax-assignment-simulated/simulated-results/simulated-community/F1/unite-97-rep-set/sortmerna/0.51:0.9:5:0.9:1.0/table.biom: No such file or directory\r\n"
       ]
      },
      {
       "output_type": "stream",
       "stream": "stdout",
       "text": [
        "rm: /Users/caporaso/analysis/2014.11.21-tax-assignment-simulated/simulated-results/simulated-community/F1/unite-97-rep-set/sortmerna/0.76:0.8:1:0.8:0.001/table.biom: No such file or directory\r\n"
       ]
      },
      {
       "output_type": "stream",
       "stream": "stdout",
       "text": [
        "rm: /Users/caporaso/analysis/2014.11.21-tax-assignment-simulated/simulated-results/simulated-community/F1/unite-97-rep-set/sortmerna/0.76:0.8:1:0.8:1.0/table.biom: No such file or directory\r\n"
       ]
      },
      {
       "output_type": "stream",
       "stream": "stdout",
       "text": [
        "rm: /Users/caporaso/analysis/2014.11.21-tax-assignment-simulated/simulated-results/simulated-community/F1/unite-97-rep-set/sortmerna/0.76:0.8:1:0.9:0.001/table.biom: No such file or directory\r\n"
       ]
      },
      {
       "output_type": "stream",
       "stream": "stdout",
       "text": [
        "rm: /Users/caporaso/analysis/2014.11.21-tax-assignment-simulated/simulated-results/simulated-community/F1/unite-97-rep-set/sortmerna/0.76:0.8:1:0.9:1.0/table.biom: No such file or directory\r\n"
       ]
      },
      {
       "output_type": "stream",
       "stream": "stdout",
       "text": [
        "rm: /Users/caporaso/analysis/2014.11.21-tax-assignment-simulated/simulated-results/simulated-community/F1/unite-97-rep-set/sortmerna/0.76:0.8:3:0.8:0.001/table.biom: No such file or directory\r\n"
       ]
      },
      {
       "output_type": "stream",
       "stream": "stdout",
       "text": [
        "rm: /Users/caporaso/analysis/2014.11.21-tax-assignment-simulated/simulated-results/simulated-community/F1/unite-97-rep-set/sortmerna/0.76:0.8:3:0.8:1.0/table.biom: No such file or directory\r\n"
       ]
      },
      {
       "output_type": "stream",
       "stream": "stdout",
       "text": [
        "rm: /Users/caporaso/analysis/2014.11.21-tax-assignment-simulated/simulated-results/simulated-community/F1/unite-97-rep-set/sortmerna/0.76:0.8:3:0.9:0.001/table.biom: No such file or directory\r\n"
       ]
      },
      {
       "output_type": "stream",
       "stream": "stdout",
       "text": [
        "rm: /Users/caporaso/analysis/2014.11.21-tax-assignment-simulated/simulated-results/simulated-community/F1/unite-97-rep-set/sortmerna/0.76:0.8:3:0.9:1.0/table.biom: No such file or directory\r\n"
       ]
      },
      {
       "output_type": "stream",
       "stream": "stdout",
       "text": [
        "rm: /Users/caporaso/analysis/2014.11.21-tax-assignment-simulated/simulated-results/simulated-community/F1/unite-97-rep-set/sortmerna/0.76:0.8:5:0.8:0.001/table.biom: No such file or directory\r\n"
       ]
      },
      {
       "output_type": "stream",
       "stream": "stdout",
       "text": [
        "rm: /Users/caporaso/analysis/2014.11.21-tax-assignment-simulated/simulated-results/simulated-community/F1/unite-97-rep-set/sortmerna/0.76:0.8:5:0.8:1.0/table.biom: No such file or directory\r\n"
       ]
      },
      {
       "output_type": "stream",
       "stream": "stdout",
       "text": [
        "rm: /Users/caporaso/analysis/2014.11.21-tax-assignment-simulated/simulated-results/simulated-community/F1/unite-97-rep-set/sortmerna/0.76:0.8:5:0.9:0.001/table.biom: No such file or directory\r\n"
       ]
      },
      {
       "output_type": "stream",
       "stream": "stdout",
       "text": [
        "rm: /Users/caporaso/analysis/2014.11.21-tax-assignment-simulated/simulated-results/simulated-community/F1/unite-97-rep-set/sortmerna/0.76:0.8:5:0.9:1.0/table.biom: No such file or directory\r\n"
       ]
      },
      {
       "output_type": "stream",
       "stream": "stdout",
       "text": [
        "rm: /Users/caporaso/analysis/2014.11.21-tax-assignment-simulated/simulated-results/simulated-community/F1/unite-97-rep-set/sortmerna/0.76:0.9:1:0.8:0.001/table.biom: No such file or directory\r\n"
       ]
      },
      {
       "output_type": "stream",
       "stream": "stdout",
       "text": [
        "rm: /Users/caporaso/analysis/2014.11.21-tax-assignment-simulated/simulated-results/simulated-community/F1/unite-97-rep-set/sortmerna/0.76:0.9:1:0.8:1.0/table.biom: No such file or directory\r\n"
       ]
      },
      {
       "output_type": "stream",
       "stream": "stdout",
       "text": [
        "rm: /Users/caporaso/analysis/2014.11.21-tax-assignment-simulated/simulated-results/simulated-community/F1/unite-97-rep-set/sortmerna/0.76:0.9:1:0.9:0.001/table.biom: No such file or directory\r\n"
       ]
      },
      {
       "output_type": "stream",
       "stream": "stdout",
       "text": [
        "rm: /Users/caporaso/analysis/2014.11.21-tax-assignment-simulated/simulated-results/simulated-community/F1/unite-97-rep-set/sortmerna/0.76:0.9:1:0.9:1.0/table.biom: No such file or directory\r\n"
       ]
      },
      {
       "output_type": "stream",
       "stream": "stdout",
       "text": [
        "rm: /Users/caporaso/analysis/2014.11.21-tax-assignment-simulated/simulated-results/simulated-community/F1/unite-97-rep-set/sortmerna/0.76:0.9:3:0.8:0.001/table.biom: No such file or directory\r\n"
       ]
      },
      {
       "output_type": "stream",
       "stream": "stdout",
       "text": [
        "rm: /Users/caporaso/analysis/2014.11.21-tax-assignment-simulated/simulated-results/simulated-community/F1/unite-97-rep-set/sortmerna/0.76:0.9:3:0.8:1.0/table.biom: No such file or directory\r\n"
       ]
      },
      {
       "output_type": "stream",
       "stream": "stdout",
       "text": [
        "rm: /Users/caporaso/analysis/2014.11.21-tax-assignment-simulated/simulated-results/simulated-community/F1/unite-97-rep-set/sortmerna/0.76:0.9:3:0.9:0.001/table.biom: No such file or directory\r\n"
       ]
      },
      {
       "output_type": "stream",
       "stream": "stdout",
       "text": [
        "rm: /Users/caporaso/analysis/2014.11.21-tax-assignment-simulated/simulated-results/simulated-community/F1/unite-97-rep-set/sortmerna/0.76:0.9:3:0.9:1.0/table.biom: No such file or directory\r\n"
       ]
      },
      {
       "output_type": "stream",
       "stream": "stdout",
       "text": [
        "rm: /Users/caporaso/analysis/2014.11.21-tax-assignment-simulated/simulated-results/simulated-community/F1/unite-97-rep-set/sortmerna/0.76:0.9:5:0.8:0.001/table.biom: No such file or directory\r\n"
       ]
      },
      {
       "output_type": "stream",
       "stream": "stdout",
       "text": [
        "rm: /Users/caporaso/analysis/2014.11.21-tax-assignment-simulated/simulated-results/simulated-community/F1/unite-97-rep-set/sortmerna/0.76:0.9:5:0.8:1.0/table.biom: No such file or directory\r\n"
       ]
      },
      {
       "output_type": "stream",
       "stream": "stdout",
       "text": [
        "rm: /Users/caporaso/analysis/2014.11.21-tax-assignment-simulated/simulated-results/simulated-community/F1/unite-97-rep-set/sortmerna/0.76:0.9:5:0.9:0.001/table.biom: No such file or directory\r\n"
       ]
      },
      {
       "output_type": "stream",
       "stream": "stdout",
       "text": [
        "rm: /Users/caporaso/analysis/2014.11.21-tax-assignment-simulated/simulated-results/simulated-community/F1/unite-97-rep-set/sortmerna/0.76:0.9:5:0.9:1.0/table.biom: No such file or directory\r\n"
       ]
      },
      {
       "output_type": "stream",
       "stream": "stdout",
       "text": [
        "rm: /Users/caporaso/analysis/2014.11.21-tax-assignment-simulated/simulated-results/simulated-community/F1/unite-97-rep-set/sortmerna/1.0:0.8:1:0.8:0.001/table.biom: No such file or directory\r\n"
       ]
      },
      {
       "output_type": "stream",
       "stream": "stdout",
       "text": [
        "rm: /Users/caporaso/analysis/2014.11.21-tax-assignment-simulated/simulated-results/simulated-community/F1/unite-97-rep-set/sortmerna/1.0:0.8:1:0.8:1.0/table.biom: No such file or directory\r\n"
       ]
      },
      {
       "output_type": "stream",
       "stream": "stdout",
       "text": [
        "rm: /Users/caporaso/analysis/2014.11.21-tax-assignment-simulated/simulated-results/simulated-community/F1/unite-97-rep-set/sortmerna/1.0:0.8:1:0.9:0.001/table.biom: No such file or directory\r\n"
       ]
      },
      {
       "output_type": "stream",
       "stream": "stdout",
       "text": [
        "rm: /Users/caporaso/analysis/2014.11.21-tax-assignment-simulated/simulated-results/simulated-community/F1/unite-97-rep-set/sortmerna/1.0:0.8:1:0.9:1.0/table.biom: No such file or directory\r\n"
       ]
      },
      {
       "output_type": "stream",
       "stream": "stdout",
       "text": [
        "rm: /Users/caporaso/analysis/2014.11.21-tax-assignment-simulated/simulated-results/simulated-community/F1/unite-97-rep-set/sortmerna/1.0:0.8:3:0.8:0.001/table.biom: No such file or directory\r\n"
       ]
      },
      {
       "output_type": "stream",
       "stream": "stdout",
       "text": [
        "rm: /Users/caporaso/analysis/2014.11.21-tax-assignment-simulated/simulated-results/simulated-community/F1/unite-97-rep-set/sortmerna/1.0:0.8:3:0.8:1.0/table.biom: No such file or directory\r\n"
       ]
      },
      {
       "output_type": "stream",
       "stream": "stdout",
       "text": [
        "rm: /Users/caporaso/analysis/2014.11.21-tax-assignment-simulated/simulated-results/simulated-community/F1/unite-97-rep-set/sortmerna/1.0:0.8:3:0.9:0.001/table.biom: No such file or directory\r\n"
       ]
      },
      {
       "output_type": "stream",
       "stream": "stdout",
       "text": [
        "rm: /Users/caporaso/analysis/2014.11.21-tax-assignment-simulated/simulated-results/simulated-community/F1/unite-97-rep-set/sortmerna/1.0:0.8:3:0.9:1.0/table.biom: No such file or directory\r\n"
       ]
      },
      {
       "output_type": "stream",
       "stream": "stdout",
       "text": [
        "rm: /Users/caporaso/analysis/2014.11.21-tax-assignment-simulated/simulated-results/simulated-community/F1/unite-97-rep-set/sortmerna/1.0:0.8:5:0.8:0.001/table.biom: No such file or directory\r\n"
       ]
      },
      {
       "output_type": "stream",
       "stream": "stdout",
       "text": [
        "rm: /Users/caporaso/analysis/2014.11.21-tax-assignment-simulated/simulated-results/simulated-community/F1/unite-97-rep-set/sortmerna/1.0:0.8:5:0.8:1.0/table.biom: No such file or directory\r\n"
       ]
      },
      {
       "output_type": "stream",
       "stream": "stdout",
       "text": [
        "rm: /Users/caporaso/analysis/2014.11.21-tax-assignment-simulated/simulated-results/simulated-community/F1/unite-97-rep-set/sortmerna/1.0:0.8:5:0.9:0.001/table.biom: No such file or directory\r\n"
       ]
      },
      {
       "output_type": "stream",
       "stream": "stdout",
       "text": [
        "rm: /Users/caporaso/analysis/2014.11.21-tax-assignment-simulated/simulated-results/simulated-community/F1/unite-97-rep-set/sortmerna/1.0:0.8:5:0.9:1.0/table.biom: No such file or directory\r\n"
       ]
      },
      {
       "output_type": "stream",
       "stream": "stdout",
       "text": [
        "rm: /Users/caporaso/analysis/2014.11.21-tax-assignment-simulated/simulated-results/simulated-community/F1/unite-97-rep-set/sortmerna/1.0:0.9:1:0.8:0.001/table.biom: No such file or directory\r\n"
       ]
      },
      {
       "output_type": "stream",
       "stream": "stdout",
       "text": [
        "rm: /Users/caporaso/analysis/2014.11.21-tax-assignment-simulated/simulated-results/simulated-community/F1/unite-97-rep-set/sortmerna/1.0:0.9:1:0.8:1.0/table.biom: No such file or directory\r\n"
       ]
      },
      {
       "output_type": "stream",
       "stream": "stdout",
       "text": [
        "rm: /Users/caporaso/analysis/2014.11.21-tax-assignment-simulated/simulated-results/simulated-community/F1/unite-97-rep-set/sortmerna/1.0:0.9:1:0.9:0.001/table.biom: No such file or directory\r\n"
       ]
      },
      {
       "output_type": "stream",
       "stream": "stdout",
       "text": [
        "rm: /Users/caporaso/analysis/2014.11.21-tax-assignment-simulated/simulated-results/simulated-community/F1/unite-97-rep-set/sortmerna/1.0:0.9:1:0.9:1.0/table.biom: No such file or directory\r\n"
       ]
      },
      {
       "output_type": "stream",
       "stream": "stdout",
       "text": [
        "rm: /Users/caporaso/analysis/2014.11.21-tax-assignment-simulated/simulated-results/simulated-community/F1/unite-97-rep-set/sortmerna/1.0:0.9:3:0.8:0.001/table.biom: No such file or directory\r\n"
       ]
      },
      {
       "output_type": "stream",
       "stream": "stdout",
       "text": [
        "rm: /Users/caporaso/analysis/2014.11.21-tax-assignment-simulated/simulated-results/simulated-community/F1/unite-97-rep-set/sortmerna/1.0:0.9:3:0.8:1.0/table.biom: No such file or directory\r\n"
       ]
      },
      {
       "output_type": "stream",
       "stream": "stdout",
       "text": [
        "rm: /Users/caporaso/analysis/2014.11.21-tax-assignment-simulated/simulated-results/simulated-community/F1/unite-97-rep-set/sortmerna/1.0:0.9:3:0.9:0.001/table.biom: No such file or directory\r\n"
       ]
      },
      {
       "output_type": "stream",
       "stream": "stdout",
       "text": [
        "rm: /Users/caporaso/analysis/2014.11.21-tax-assignment-simulated/simulated-results/simulated-community/F1/unite-97-rep-set/sortmerna/1.0:0.9:3:0.9:1.0/table.biom: No such file or directory\r\n"
       ]
      },
      {
       "output_type": "stream",
       "stream": "stdout",
       "text": [
        "rm: /Users/caporaso/analysis/2014.11.21-tax-assignment-simulated/simulated-results/simulated-community/F1/unite-97-rep-set/sortmerna/1.0:0.9:5:0.8:0.001/table.biom: No such file or directory\r\n"
       ]
      },
      {
       "output_type": "stream",
       "stream": "stdout",
       "text": [
        "rm: /Users/caporaso/analysis/2014.11.21-tax-assignment-simulated/simulated-results/simulated-community/F1/unite-97-rep-set/sortmerna/1.0:0.9:5:0.8:1.0/table.biom: No such file or directory\r\n"
       ]
      },
      {
       "output_type": "stream",
       "stream": "stdout",
       "text": [
        "rm: /Users/caporaso/analysis/2014.11.21-tax-assignment-simulated/simulated-results/simulated-community/F1/unite-97-rep-set/sortmerna/1.0:0.9:5:0.9:0.001/table.biom: No such file or directory\r\n"
       ]
      },
      {
       "output_type": "stream",
       "stream": "stdout",
       "text": [
        "rm: /Users/caporaso/analysis/2014.11.21-tax-assignment-simulated/simulated-results/simulated-community/F1/unite-97-rep-set/sortmerna/1.0:0.9:5:0.9:1.0/table.biom: No such file or directory\r\n"
       ]
      },
      {
       "output_type": "stream",
       "stream": "stdout",
       "text": [
        "rm: /Users/caporaso/analysis/2014.11.21-tax-assignment-simulated/simulated-results/simulated-community/F1/unite-97-rep-set/uclust/0.51:0.8:1/table.biom: No such file or directory\r\n"
       ]
      },
      {
       "output_type": "stream",
       "stream": "stdout",
       "text": [
        "rm: /Users/caporaso/analysis/2014.11.21-tax-assignment-simulated/simulated-results/simulated-community/F1/unite-97-rep-set/uclust/0.51:0.8:3/table.biom: No such file or directory\r\n"
       ]
      },
      {
       "output_type": "stream",
       "stream": "stdout",
       "text": [
        "rm: /Users/caporaso/analysis/2014.11.21-tax-assignment-simulated/simulated-results/simulated-community/F1/unite-97-rep-set/uclust/0.51:0.8:5/table.biom: No such file or directory\r\n"
       ]
      },
      {
       "output_type": "stream",
       "stream": "stdout",
       "text": [
        "rm: /Users/caporaso/analysis/2014.11.21-tax-assignment-simulated/simulated-results/simulated-community/F1/unite-97-rep-set/uclust/0.51:0.9:1/table.biom: No such file or directory\r\n"
       ]
      },
      {
       "output_type": "stream",
       "stream": "stdout",
       "text": [
        "rm: /Users/caporaso/analysis/2014.11.21-tax-assignment-simulated/simulated-results/simulated-community/F1/unite-97-rep-set/uclust/0.51:0.9:3/table.biom: No such file or directory\r\n"
       ]
      },
      {
       "output_type": "stream",
       "stream": "stdout",
       "text": [
        "rm: /Users/caporaso/analysis/2014.11.21-tax-assignment-simulated/simulated-results/simulated-community/F1/unite-97-rep-set/uclust/0.51:0.9:5/table.biom: No such file or directory\r\n"
       ]
      },
      {
       "output_type": "stream",
       "stream": "stdout",
       "text": [
        "rm: /Users/caporaso/analysis/2014.11.21-tax-assignment-simulated/simulated-results/simulated-community/F1/unite-97-rep-set/uclust/0.76:0.8:1/table.biom: No such file or directory\r\n"
       ]
      },
      {
       "output_type": "stream",
       "stream": "stdout",
       "text": [
        "rm: /Users/caporaso/analysis/2014.11.21-tax-assignment-simulated/simulated-results/simulated-community/F1/unite-97-rep-set/uclust/0.76:0.8:3/table.biom: No such file or directory\r\n"
       ]
      },
      {
       "output_type": "stream",
       "stream": "stdout",
       "text": [
        "rm: /Users/caporaso/analysis/2014.11.21-tax-assignment-simulated/simulated-results/simulated-community/F1/unite-97-rep-set/uclust/0.76:0.8:5/table.biom: No such file or directory\r\n"
       ]
      },
      {
       "output_type": "stream",
       "stream": "stdout",
       "text": [
        "rm: /Users/caporaso/analysis/2014.11.21-tax-assignment-simulated/simulated-results/simulated-community/F1/unite-97-rep-set/uclust/0.76:0.9:1/table.biom: No such file or directory\r\n"
       ]
      },
      {
       "output_type": "stream",
       "stream": "stdout",
       "text": [
        "rm: /Users/caporaso/analysis/2014.11.21-tax-assignment-simulated/simulated-results/simulated-community/F1/unite-97-rep-set/uclust/0.76:0.9:3/table.biom: No such file or directory\r\n"
       ]
      },
      {
       "output_type": "stream",
       "stream": "stdout",
       "text": [
        "rm: /Users/caporaso/analysis/2014.11.21-tax-assignment-simulated/simulated-results/simulated-community/F1/unite-97-rep-set/uclust/0.76:0.9:5/table.biom: No such file or directory\r\n"
       ]
      },
      {
       "output_type": "stream",
       "stream": "stdout",
       "text": [
        "rm: /Users/caporaso/analysis/2014.11.21-tax-assignment-simulated/simulated-results/simulated-community/F1/unite-97-rep-set/uclust/1.0:0.8:1/table.biom: No such file or directory\r\n"
       ]
      },
      {
       "output_type": "stream",
       "stream": "stdout",
       "text": [
        "rm: /Users/caporaso/analysis/2014.11.21-tax-assignment-simulated/simulated-results/simulated-community/F1/unite-97-rep-set/uclust/1.0:0.8:3/table.biom: No such file or directory\r\n"
       ]
      },
      {
       "output_type": "stream",
       "stream": "stdout",
       "text": [
        "rm: /Users/caporaso/analysis/2014.11.21-tax-assignment-simulated/simulated-results/simulated-community/F1/unite-97-rep-set/uclust/1.0:0.8:5/table.biom: No such file or directory\r\n"
       ]
      },
      {
       "output_type": "stream",
       "stream": "stdout",
       "text": [
        "rm: /Users/caporaso/analysis/2014.11.21-tax-assignment-simulated/simulated-results/simulated-community/F1/unite-97-rep-set/uclust/1.0:0.9:1/table.biom: No such file or directory\r\n"
       ]
      },
      {
       "output_type": "stream",
       "stream": "stdout",
       "text": [
        "rm: /Users/caporaso/analysis/2014.11.21-tax-assignment-simulated/simulated-results/simulated-community/F1/unite-97-rep-set/uclust/1.0:0.9:3/table.biom: No such file or directory\r\n"
       ]
      },
      {
       "output_type": "stream",
       "stream": "stdout",
       "text": [
        "rm: /Users/caporaso/analysis/2014.11.21-tax-assignment-simulated/simulated-results/simulated-community/F1/unite-97-rep-set/uclust/1.0:0.9:5/table.biom: No such file or directory\r\n"
       ]
      },
      {
       "output_type": "stream",
       "stream": "stdout",
       "text": [
        "rm: /Users/caporaso/analysis/2014.11.21-tax-assignment-simulated/simulated-results/simulated-community/F2/unite-97-rep-set/blast/0.001/table.biom: No such file or directory\r\n"
       ]
      },
      {
       "output_type": "stream",
       "stream": "stdout",
       "text": [
        "rm: /Users/caporaso/analysis/2014.11.21-tax-assignment-simulated/simulated-results/simulated-community/F2/unite-97-rep-set/blast/1.0/table.biom: No such file or directory\r\n"
       ]
      },
      {
       "output_type": "stream",
       "stream": "stdout",
       "text": [
        "rm: /Users/caporaso/analysis/2014.11.21-tax-assignment-simulated/simulated-results/simulated-community/F2/unite-97-rep-set/blast/100.0/table.biom: No such file or directory\r\n"
       ]
      },
      {
       "output_type": "stream",
       "stream": "stdout",
       "text": [
        "rm: /Users/caporaso/analysis/2014.11.21-tax-assignment-simulated/simulated-results/simulated-community/F2/unite-97-rep-set/blast/1e-06/table.biom: No such file or directory\r\n"
       ]
      },
      {
       "output_type": "stream",
       "stream": "stdout",
       "text": [
        "rm: /Users/caporaso/analysis/2014.11.21-tax-assignment-simulated/simulated-results/simulated-community/F2/unite-97-rep-set/rdp/0.0/table.biom: No such file or directory\r\n"
       ]
      },
      {
       "output_type": "stream",
       "stream": "stdout",
       "text": [
        "rm: /Users/caporaso/analysis/2014.11.21-tax-assignment-simulated/simulated-results/simulated-community/F2/unite-97-rep-set/rdp/0.1/table.biom: No such file or directory\r\n"
       ]
      },
      {
       "output_type": "stream",
       "stream": "stdout",
       "text": [
        "rm: /Users/caporaso/analysis/2014.11.21-tax-assignment-simulated/simulated-results/simulated-community/F2/unite-97-rep-set/rdp/0.2/table.biom: No such file or directory\r\n"
       ]
      },
      {
       "output_type": "stream",
       "stream": "stdout",
       "text": [
        "rm: /Users/caporaso/analysis/2014.11.21-tax-assignment-simulated/simulated-results/simulated-community/F2/unite-97-rep-set/rdp/0.3/table.biom: No such file or directory\r\n"
       ]
      },
      {
       "output_type": "stream",
       "stream": "stdout",
       "text": [
        "rm: /Users/caporaso/analysis/2014.11.21-tax-assignment-simulated/simulated-results/simulated-community/F2/unite-97-rep-set/rdp/0.4/table.biom: No such file or directory\r\n"
       ]
      },
      {
       "output_type": "stream",
       "stream": "stdout",
       "text": [
        "rm: /Users/caporaso/analysis/2014.11.21-tax-assignment-simulated/simulated-results/simulated-community/F2/unite-97-rep-set/rdp/0.5/table.biom: No such file or directory\r\n"
       ]
      },
      {
       "output_type": "stream",
       "stream": "stdout",
       "text": [
        "rm: /Users/caporaso/analysis/2014.11.21-tax-assignment-simulated/simulated-results/simulated-community/F2/unite-97-rep-set/rdp/0.6/table.biom: No such file or directory\r\n"
       ]
      },
      {
       "output_type": "stream",
       "stream": "stdout",
       "text": [
        "rm: /Users/caporaso/analysis/2014.11.21-tax-assignment-simulated/simulated-results/simulated-community/F2/unite-97-rep-set/rdp/0.7/table.biom: No such file or directory\r\n"
       ]
      },
      {
       "output_type": "stream",
       "stream": "stdout",
       "text": [
        "rm: /Users/caporaso/analysis/2014.11.21-tax-assignment-simulated/simulated-results/simulated-community/F2/unite-97-rep-set/rdp/0.8/table.biom: No such file or directory\r\n"
       ]
      },
      {
       "output_type": "stream",
       "stream": "stdout",
       "text": [
        "rm: /Users/caporaso/analysis/2014.11.21-tax-assignment-simulated/simulated-results/simulated-community/F2/unite-97-rep-set/rdp/0.9/table.biom: No such file or directory\r\n"
       ]
      },
      {
       "output_type": "stream",
       "stream": "stdout",
       "text": [
        "rm: /Users/caporaso/analysis/2014.11.21-tax-assignment-simulated/simulated-results/simulated-community/F2/unite-97-rep-set/rdp/1.0/table.biom: No such file or directory\r\n"
       ]
      },
      {
       "output_type": "stream",
       "stream": "stdout",
       "text": [
        "rm: /Users/caporaso/analysis/2014.11.21-tax-assignment-simulated/simulated-results/simulated-community/F2/unite-97-rep-set/sortmerna/0.51:0.8:1:0.8:0.001/table.biom: No such file or directory\r\n"
       ]
      },
      {
       "output_type": "stream",
       "stream": "stdout",
       "text": [
        "rm: /Users/caporaso/analysis/2014.11.21-tax-assignment-simulated/simulated-results/simulated-community/F2/unite-97-rep-set/sortmerna/0.51:0.8:1:0.8:1.0/table.biom: No such file or directory\r\n"
       ]
      },
      {
       "output_type": "stream",
       "stream": "stdout",
       "text": [
        "rm: /Users/caporaso/analysis/2014.11.21-tax-assignment-simulated/simulated-results/simulated-community/F2/unite-97-rep-set/sortmerna/0.51:0.8:1:0.9:0.001/table.biom: No such file or directory\r\n"
       ]
      },
      {
       "output_type": "stream",
       "stream": "stdout",
       "text": [
        "rm: /Users/caporaso/analysis/2014.11.21-tax-assignment-simulated/simulated-results/simulated-community/F2/unite-97-rep-set/sortmerna/0.51:0.8:1:0.9:1.0/table.biom: No such file or directory\r\n"
       ]
      },
      {
       "output_type": "stream",
       "stream": "stdout",
       "text": [
        "rm: /Users/caporaso/analysis/2014.11.21-tax-assignment-simulated/simulated-results/simulated-community/F2/unite-97-rep-set/sortmerna/0.51:0.8:3:0.8:0.001/table.biom: No such file or directory\r\n"
       ]
      },
      {
       "output_type": "stream",
       "stream": "stdout",
       "text": [
        "rm: /Users/caporaso/analysis/2014.11.21-tax-assignment-simulated/simulated-results/simulated-community/F2/unite-97-rep-set/sortmerna/0.51:0.8:3:0.8:1.0/table.biom: No such file or directory\r\n"
       ]
      },
      {
       "output_type": "stream",
       "stream": "stdout",
       "text": [
        "rm: /Users/caporaso/analysis/2014.11.21-tax-assignment-simulated/simulated-results/simulated-community/F2/unite-97-rep-set/sortmerna/0.51:0.8:3:0.9:0.001/table.biom: No such file or directory\r\n"
       ]
      },
      {
       "output_type": "stream",
       "stream": "stdout",
       "text": [
        "rm: /Users/caporaso/analysis/2014.11.21-tax-assignment-simulated/simulated-results/simulated-community/F2/unite-97-rep-set/sortmerna/0.51:0.8:3:0.9:1.0/table.biom: No such file or directory\r\n"
       ]
      },
      {
       "output_type": "stream",
       "stream": "stdout",
       "text": [
        "rm: /Users/caporaso/analysis/2014.11.21-tax-assignment-simulated/simulated-results/simulated-community/F2/unite-97-rep-set/sortmerna/0.51:0.8:5:0.8:0.001/table.biom: No such file or directory\r\n"
       ]
      },
      {
       "output_type": "stream",
       "stream": "stdout",
       "text": [
        "rm: /Users/caporaso/analysis/2014.11.21-tax-assignment-simulated/simulated-results/simulated-community/F2/unite-97-rep-set/sortmerna/0.51:0.8:5:0.8:1.0/table.biom: No such file or directory\r\n"
       ]
      },
      {
       "output_type": "stream",
       "stream": "stdout",
       "text": [
        "rm: /Users/caporaso/analysis/2014.11.21-tax-assignment-simulated/simulated-results/simulated-community/F2/unite-97-rep-set/sortmerna/0.51:0.8:5:0.9:0.001/table.biom: No such file or directory\r\n"
       ]
      },
      {
       "output_type": "stream",
       "stream": "stdout",
       "text": [
        "rm: /Users/caporaso/analysis/2014.11.21-tax-assignment-simulated/simulated-results/simulated-community/F2/unite-97-rep-set/sortmerna/0.51:0.8:5:0.9:1.0/table.biom: No such file or directory\r\n"
       ]
      },
      {
       "output_type": "stream",
       "stream": "stdout",
       "text": [
        "rm: /Users/caporaso/analysis/2014.11.21-tax-assignment-simulated/simulated-results/simulated-community/F2/unite-97-rep-set/sortmerna/0.51:0.9:1:0.8:0.001/table.biom: No such file or directory\r\n"
       ]
      },
      {
       "output_type": "stream",
       "stream": "stdout",
       "text": [
        "rm: /Users/caporaso/analysis/2014.11.21-tax-assignment-simulated/simulated-results/simulated-community/F2/unite-97-rep-set/sortmerna/0.51:0.9:1:0.8:1.0/table.biom: No such file or directory\r\n"
       ]
      },
      {
       "output_type": "stream",
       "stream": "stdout",
       "text": [
        "rm: /Users/caporaso/analysis/2014.11.21-tax-assignment-simulated/simulated-results/simulated-community/F2/unite-97-rep-set/sortmerna/0.51:0.9:1:0.9:0.001/table.biom: No such file or directory\r\n"
       ]
      },
      {
       "output_type": "stream",
       "stream": "stdout",
       "text": [
        "rm: /Users/caporaso/analysis/2014.11.21-tax-assignment-simulated/simulated-results/simulated-community/F2/unite-97-rep-set/sortmerna/0.51:0.9:1:0.9:1.0/table.biom: No such file or directory\r\n"
       ]
      },
      {
       "output_type": "stream",
       "stream": "stdout",
       "text": [
        "rm: /Users/caporaso/analysis/2014.11.21-tax-assignment-simulated/simulated-results/simulated-community/F2/unite-97-rep-set/sortmerna/0.51:0.9:3:0.8:0.001/table.biom: No such file or directory\r\n"
       ]
      },
      {
       "output_type": "stream",
       "stream": "stdout",
       "text": [
        "rm: /Users/caporaso/analysis/2014.11.21-tax-assignment-simulated/simulated-results/simulated-community/F2/unite-97-rep-set/sortmerna/0.51:0.9:3:0.8:1.0/table.biom: No such file or directory\r\n"
       ]
      },
      {
       "output_type": "stream",
       "stream": "stdout",
       "text": [
        "rm: /Users/caporaso/analysis/2014.11.21-tax-assignment-simulated/simulated-results/simulated-community/F2/unite-97-rep-set/sortmerna/0.51:0.9:3:0.9:0.001/table.biom: No such file or directory\r\n"
       ]
      },
      {
       "output_type": "stream",
       "stream": "stdout",
       "text": [
        "rm: /Users/caporaso/analysis/2014.11.21-tax-assignment-simulated/simulated-results/simulated-community/F2/unite-97-rep-set/sortmerna/0.51:0.9:3:0.9:1.0/table.biom: No such file or directory\r\n"
       ]
      },
      {
       "output_type": "stream",
       "stream": "stdout",
       "text": [
        "rm: /Users/caporaso/analysis/2014.11.21-tax-assignment-simulated/simulated-results/simulated-community/F2/unite-97-rep-set/sortmerna/0.51:0.9:5:0.8:0.001/table.biom: No such file or directory\r\n"
       ]
      },
      {
       "output_type": "stream",
       "stream": "stdout",
       "text": [
        "rm: /Users/caporaso/analysis/2014.11.21-tax-assignment-simulated/simulated-results/simulated-community/F2/unite-97-rep-set/sortmerna/0.51:0.9:5:0.8:1.0/table.biom: No such file or directory\r\n"
       ]
      },
      {
       "output_type": "stream",
       "stream": "stdout",
       "text": [
        "rm: /Users/caporaso/analysis/2014.11.21-tax-assignment-simulated/simulated-results/simulated-community/F2/unite-97-rep-set/sortmerna/0.51:0.9:5:0.9:0.001/table.biom: No such file or directory\r\n"
       ]
      },
      {
       "output_type": "stream",
       "stream": "stdout",
       "text": [
        "rm: /Users/caporaso/analysis/2014.11.21-tax-assignment-simulated/simulated-results/simulated-community/F2/unite-97-rep-set/sortmerna/0.51:0.9:5:0.9:1.0/table.biom: No such file or directory\r\n"
       ]
      },
      {
       "output_type": "stream",
       "stream": "stdout",
       "text": [
        "rm: /Users/caporaso/analysis/2014.11.21-tax-assignment-simulated/simulated-results/simulated-community/F2/unite-97-rep-set/sortmerna/0.76:0.8:1:0.8:0.001/table.biom: No such file or directory\r\n"
       ]
      },
      {
       "output_type": "stream",
       "stream": "stdout",
       "text": [
        "rm: /Users/caporaso/analysis/2014.11.21-tax-assignment-simulated/simulated-results/simulated-community/F2/unite-97-rep-set/sortmerna/0.76:0.8:1:0.8:1.0/table.biom: No such file or directory\r\n"
       ]
      },
      {
       "output_type": "stream",
       "stream": "stdout",
       "text": [
        "rm: /Users/caporaso/analysis/2014.11.21-tax-assignment-simulated/simulated-results/simulated-community/F2/unite-97-rep-set/sortmerna/0.76:0.8:1:0.9:0.001/table.biom: No such file or directory\r\n"
       ]
      },
      {
       "output_type": "stream",
       "stream": "stdout",
       "text": [
        "rm: /Users/caporaso/analysis/2014.11.21-tax-assignment-simulated/simulated-results/simulated-community/F2/unite-97-rep-set/sortmerna/0.76:0.8:1:0.9:1.0/table.biom: No such file or directory\r\n"
       ]
      },
      {
       "output_type": "stream",
       "stream": "stdout",
       "text": [
        "rm: /Users/caporaso/analysis/2014.11.21-tax-assignment-simulated/simulated-results/simulated-community/F2/unite-97-rep-set/sortmerna/0.76:0.8:3:0.8:0.001/table.biom: No such file or directory\r\n"
       ]
      },
      {
       "output_type": "stream",
       "stream": "stdout",
       "text": [
        "rm: /Users/caporaso/analysis/2014.11.21-tax-assignment-simulated/simulated-results/simulated-community/F2/unite-97-rep-set/sortmerna/0.76:0.8:3:0.8:1.0/table.biom: No such file or directory\r\n"
       ]
      },
      {
       "output_type": "stream",
       "stream": "stdout",
       "text": [
        "rm: /Users/caporaso/analysis/2014.11.21-tax-assignment-simulated/simulated-results/simulated-community/F2/unite-97-rep-set/sortmerna/0.76:0.8:3:0.9:0.001/table.biom: No such file or directory\r\n"
       ]
      },
      {
       "output_type": "stream",
       "stream": "stdout",
       "text": [
        "rm: /Users/caporaso/analysis/2014.11.21-tax-assignment-simulated/simulated-results/simulated-community/F2/unite-97-rep-set/sortmerna/0.76:0.8:3:0.9:1.0/table.biom: No such file or directory\r\n"
       ]
      },
      {
       "output_type": "stream",
       "stream": "stdout",
       "text": [
        "rm: /Users/caporaso/analysis/2014.11.21-tax-assignment-simulated/simulated-results/simulated-community/F2/unite-97-rep-set/sortmerna/0.76:0.8:5:0.8:0.001/table.biom: No such file or directory\r\n"
       ]
      },
      {
       "output_type": "stream",
       "stream": "stdout",
       "text": [
        "rm: /Users/caporaso/analysis/2014.11.21-tax-assignment-simulated/simulated-results/simulated-community/F2/unite-97-rep-set/sortmerna/0.76:0.8:5:0.8:1.0/table.biom: No such file or directory\r\n"
       ]
      },
      {
       "output_type": "stream",
       "stream": "stdout",
       "text": [
        "rm: /Users/caporaso/analysis/2014.11.21-tax-assignment-simulated/simulated-results/simulated-community/F2/unite-97-rep-set/sortmerna/0.76:0.8:5:0.9:0.001/table.biom: No such file or directory\r\n"
       ]
      },
      {
       "output_type": "stream",
       "stream": "stdout",
       "text": [
        "rm: /Users/caporaso/analysis/2014.11.21-tax-assignment-simulated/simulated-results/simulated-community/F2/unite-97-rep-set/sortmerna/0.76:0.8:5:0.9:1.0/table.biom: No such file or directory\r\n"
       ]
      },
      {
       "output_type": "stream",
       "stream": "stdout",
       "text": [
        "rm: /Users/caporaso/analysis/2014.11.21-tax-assignment-simulated/simulated-results/simulated-community/F2/unite-97-rep-set/sortmerna/0.76:0.9:1:0.8:0.001/table.biom: No such file or directory\r\n"
       ]
      },
      {
       "output_type": "stream",
       "stream": "stdout",
       "text": [
        "rm: /Users/caporaso/analysis/2014.11.21-tax-assignment-simulated/simulated-results/simulated-community/F2/unite-97-rep-set/sortmerna/0.76:0.9:1:0.8:1.0/table.biom: No such file or directory\r\n"
       ]
      },
      {
       "output_type": "stream",
       "stream": "stdout",
       "text": [
        "rm: /Users/caporaso/analysis/2014.11.21-tax-assignment-simulated/simulated-results/simulated-community/F2/unite-97-rep-set/sortmerna/0.76:0.9:1:0.9:0.001/table.biom: No such file or directory\r\n"
       ]
      },
      {
       "output_type": "stream",
       "stream": "stdout",
       "text": [
        "rm: /Users/caporaso/analysis/2014.11.21-tax-assignment-simulated/simulated-results/simulated-community/F2/unite-97-rep-set/sortmerna/0.76:0.9:1:0.9:1.0/table.biom: No such file or directory\r\n"
       ]
      },
      {
       "output_type": "stream",
       "stream": "stdout",
       "text": [
        "rm: /Users/caporaso/analysis/2014.11.21-tax-assignment-simulated/simulated-results/simulated-community/F2/unite-97-rep-set/sortmerna/0.76:0.9:3:0.8:0.001/table.biom: No such file or directory\r\n"
       ]
      },
      {
       "output_type": "stream",
       "stream": "stdout",
       "text": [
        "rm: /Users/caporaso/analysis/2014.11.21-tax-assignment-simulated/simulated-results/simulated-community/F2/unite-97-rep-set/sortmerna/0.76:0.9:3:0.8:1.0/table.biom: No such file or directory\r\n"
       ]
      },
      {
       "output_type": "stream",
       "stream": "stdout",
       "text": [
        "rm: /Users/caporaso/analysis/2014.11.21-tax-assignment-simulated/simulated-results/simulated-community/F2/unite-97-rep-set/sortmerna/0.76:0.9:3:0.9:0.001/table.biom: No such file or directory\r\n"
       ]
      },
      {
       "output_type": "stream",
       "stream": "stdout",
       "text": [
        "rm: /Users/caporaso/analysis/2014.11.21-tax-assignment-simulated/simulated-results/simulated-community/F2/unite-97-rep-set/sortmerna/0.76:0.9:3:0.9:1.0/table.biom: No such file or directory\r\n"
       ]
      },
      {
       "output_type": "stream",
       "stream": "stdout",
       "text": [
        "rm: /Users/caporaso/analysis/2014.11.21-tax-assignment-simulated/simulated-results/simulated-community/F2/unite-97-rep-set/sortmerna/0.76:0.9:5:0.8:0.001/table.biom: No such file or directory\r\n"
       ]
      },
      {
       "output_type": "stream",
       "stream": "stdout",
       "text": [
        "rm: /Users/caporaso/analysis/2014.11.21-tax-assignment-simulated/simulated-results/simulated-community/F2/unite-97-rep-set/sortmerna/0.76:0.9:5:0.8:1.0/table.biom: No such file or directory\r\n"
       ]
      },
      {
       "output_type": "stream",
       "stream": "stdout",
       "text": [
        "rm: /Users/caporaso/analysis/2014.11.21-tax-assignment-simulated/simulated-results/simulated-community/F2/unite-97-rep-set/sortmerna/0.76:0.9:5:0.9:0.001/table.biom: No such file or directory\r\n"
       ]
      },
      {
       "output_type": "stream",
       "stream": "stdout",
       "text": [
        "rm: /Users/caporaso/analysis/2014.11.21-tax-assignment-simulated/simulated-results/simulated-community/F2/unite-97-rep-set/sortmerna/0.76:0.9:5:0.9:1.0/table.biom: No such file or directory\r\n"
       ]
      },
      {
       "output_type": "stream",
       "stream": "stdout",
       "text": [
        "rm: /Users/caporaso/analysis/2014.11.21-tax-assignment-simulated/simulated-results/simulated-community/F2/unite-97-rep-set/sortmerna/1.0:0.8:1:0.8:0.001/table.biom: No such file or directory\r\n"
       ]
      },
      {
       "output_type": "stream",
       "stream": "stdout",
       "text": [
        "rm: /Users/caporaso/analysis/2014.11.21-tax-assignment-simulated/simulated-results/simulated-community/F2/unite-97-rep-set/sortmerna/1.0:0.8:1:0.8:1.0/table.biom: No such file or directory\r\n"
       ]
      },
      {
       "output_type": "stream",
       "stream": "stdout",
       "text": [
        "rm: /Users/caporaso/analysis/2014.11.21-tax-assignment-simulated/simulated-results/simulated-community/F2/unite-97-rep-set/sortmerna/1.0:0.8:1:0.9:0.001/table.biom: No such file or directory\r\n"
       ]
      },
      {
       "output_type": "stream",
       "stream": "stdout",
       "text": [
        "rm: /Users/caporaso/analysis/2014.11.21-tax-assignment-simulated/simulated-results/simulated-community/F2/unite-97-rep-set/sortmerna/1.0:0.8:1:0.9:1.0/table.biom: No such file or directory\r\n"
       ]
      },
      {
       "output_type": "stream",
       "stream": "stdout",
       "text": [
        "rm: /Users/caporaso/analysis/2014.11.21-tax-assignment-simulated/simulated-results/simulated-community/F2/unite-97-rep-set/sortmerna/1.0:0.8:3:0.8:0.001/table.biom: No such file or directory\r\n"
       ]
      },
      {
       "output_type": "stream",
       "stream": "stdout",
       "text": [
        "rm: /Users/caporaso/analysis/2014.11.21-tax-assignment-simulated/simulated-results/simulated-community/F2/unite-97-rep-set/sortmerna/1.0:0.8:3:0.8:1.0/table.biom: No such file or directory\r\n"
       ]
      },
      {
       "output_type": "stream",
       "stream": "stdout",
       "text": [
        "rm: /Users/caporaso/analysis/2014.11.21-tax-assignment-simulated/simulated-results/simulated-community/F2/unite-97-rep-set/sortmerna/1.0:0.8:3:0.9:0.001/table.biom: No such file or directory\r\n"
       ]
      },
      {
       "output_type": "stream",
       "stream": "stdout",
       "text": [
        "rm: /Users/caporaso/analysis/2014.11.21-tax-assignment-simulated/simulated-results/simulated-community/F2/unite-97-rep-set/sortmerna/1.0:0.8:3:0.9:1.0/table.biom: No such file or directory\r\n"
       ]
      },
      {
       "output_type": "stream",
       "stream": "stdout",
       "text": [
        "rm: /Users/caporaso/analysis/2014.11.21-tax-assignment-simulated/simulated-results/simulated-community/F2/unite-97-rep-set/sortmerna/1.0:0.8:5:0.8:0.001/table.biom: No such file or directory\r\n"
       ]
      },
      {
       "output_type": "stream",
       "stream": "stdout",
       "text": [
        "rm: /Users/caporaso/analysis/2014.11.21-tax-assignment-simulated/simulated-results/simulated-community/F2/unite-97-rep-set/sortmerna/1.0:0.8:5:0.8:1.0/table.biom: No such file or directory\r\n"
       ]
      },
      {
       "output_type": "stream",
       "stream": "stdout",
       "text": [
        "rm: /Users/caporaso/analysis/2014.11.21-tax-assignment-simulated/simulated-results/simulated-community/F2/unite-97-rep-set/sortmerna/1.0:0.8:5:0.9:0.001/table.biom: No such file or directory\r\n"
       ]
      },
      {
       "output_type": "stream",
       "stream": "stdout",
       "text": [
        "rm: /Users/caporaso/analysis/2014.11.21-tax-assignment-simulated/simulated-results/simulated-community/F2/unite-97-rep-set/sortmerna/1.0:0.8:5:0.9:1.0/table.biom: No such file or directory\r\n"
       ]
      },
      {
       "output_type": "stream",
       "stream": "stdout",
       "text": [
        "rm: /Users/caporaso/analysis/2014.11.21-tax-assignment-simulated/simulated-results/simulated-community/F2/unite-97-rep-set/sortmerna/1.0:0.9:1:0.8:0.001/table.biom: No such file or directory\r\n"
       ]
      },
      {
       "output_type": "stream",
       "stream": "stdout",
       "text": [
        "rm: /Users/caporaso/analysis/2014.11.21-tax-assignment-simulated/simulated-results/simulated-community/F2/unite-97-rep-set/sortmerna/1.0:0.9:1:0.8:1.0/table.biom: No such file or directory\r\n"
       ]
      },
      {
       "output_type": "stream",
       "stream": "stdout",
       "text": [
        "rm: /Users/caporaso/analysis/2014.11.21-tax-assignment-simulated/simulated-results/simulated-community/F2/unite-97-rep-set/sortmerna/1.0:0.9:1:0.9:0.001/table.biom: No such file or directory\r\n"
       ]
      },
      {
       "output_type": "stream",
       "stream": "stdout",
       "text": [
        "rm: /Users/caporaso/analysis/2014.11.21-tax-assignment-simulated/simulated-results/simulated-community/F2/unite-97-rep-set/sortmerna/1.0:0.9:1:0.9:1.0/table.biom: No such file or directory\r\n"
       ]
      },
      {
       "output_type": "stream",
       "stream": "stdout",
       "text": [
        "rm: /Users/caporaso/analysis/2014.11.21-tax-assignment-simulated/simulated-results/simulated-community/F2/unite-97-rep-set/sortmerna/1.0:0.9:3:0.8:0.001/table.biom: No such file or directory\r\n"
       ]
      },
      {
       "output_type": "stream",
       "stream": "stdout",
       "text": [
        "rm: /Users/caporaso/analysis/2014.11.21-tax-assignment-simulated/simulated-results/simulated-community/F2/unite-97-rep-set/sortmerna/1.0:0.9:3:0.8:1.0/table.biom: No such file or directory\r\n"
       ]
      },
      {
       "output_type": "stream",
       "stream": "stdout",
       "text": [
        "rm: /Users/caporaso/analysis/2014.11.21-tax-assignment-simulated/simulated-results/simulated-community/F2/unite-97-rep-set/sortmerna/1.0:0.9:3:0.9:0.001/table.biom: No such file or directory\r\n"
       ]
      },
      {
       "output_type": "stream",
       "stream": "stdout",
       "text": [
        "rm: /Users/caporaso/analysis/2014.11.21-tax-assignment-simulated/simulated-results/simulated-community/F2/unite-97-rep-set/sortmerna/1.0:0.9:3:0.9:1.0/table.biom: No such file or directory\r\n"
       ]
      },
      {
       "output_type": "stream",
       "stream": "stdout",
       "text": [
        "rm: /Users/caporaso/analysis/2014.11.21-tax-assignment-simulated/simulated-results/simulated-community/F2/unite-97-rep-set/sortmerna/1.0:0.9:5:0.8:0.001/table.biom: No such file or directory\r\n"
       ]
      },
      {
       "output_type": "stream",
       "stream": "stdout",
       "text": [
        "rm: /Users/caporaso/analysis/2014.11.21-tax-assignment-simulated/simulated-results/simulated-community/F2/unite-97-rep-set/sortmerna/1.0:0.9:5:0.8:1.0/table.biom: No such file or directory\r\n"
       ]
      },
      {
       "output_type": "stream",
       "stream": "stdout",
       "text": [
        "rm: /Users/caporaso/analysis/2014.11.21-tax-assignment-simulated/simulated-results/simulated-community/F2/unite-97-rep-set/sortmerna/1.0:0.9:5:0.9:0.001/table.biom: No such file or directory\r\n"
       ]
      },
      {
       "output_type": "stream",
       "stream": "stdout",
       "text": [
        "rm: /Users/caporaso/analysis/2014.11.21-tax-assignment-simulated/simulated-results/simulated-community/F2/unite-97-rep-set/sortmerna/1.0:0.9:5:0.9:1.0/table.biom: No such file or directory\r\n"
       ]
      },
      {
       "output_type": "stream",
       "stream": "stdout",
       "text": [
        "rm: /Users/caporaso/analysis/2014.11.21-tax-assignment-simulated/simulated-results/simulated-community/F2/unite-97-rep-set/uclust/0.51:0.8:1/table.biom: No such file or directory\r\n"
       ]
      },
      {
       "output_type": "stream",
       "stream": "stdout",
       "text": [
        "rm: /Users/caporaso/analysis/2014.11.21-tax-assignment-simulated/simulated-results/simulated-community/F2/unite-97-rep-set/uclust/0.51:0.8:3/table.biom: No such file or directory\r\n"
       ]
      },
      {
       "output_type": "stream",
       "stream": "stdout",
       "text": [
        "rm: /Users/caporaso/analysis/2014.11.21-tax-assignment-simulated/simulated-results/simulated-community/F2/unite-97-rep-set/uclust/0.51:0.8:5/table.biom: No such file or directory\r\n"
       ]
      },
      {
       "output_type": "stream",
       "stream": "stdout",
       "text": [
        "rm: /Users/caporaso/analysis/2014.11.21-tax-assignment-simulated/simulated-results/simulated-community/F2/unite-97-rep-set/uclust/0.51:0.9:1/table.biom: No such file or directory\r\n"
       ]
      },
      {
       "output_type": "stream",
       "stream": "stdout",
       "text": [
        "rm: /Users/caporaso/analysis/2014.11.21-tax-assignment-simulated/simulated-results/simulated-community/F2/unite-97-rep-set/uclust/0.51:0.9:3/table.biom: No such file or directory\r\n"
       ]
      },
      {
       "output_type": "stream",
       "stream": "stdout",
       "text": [
        "rm: /Users/caporaso/analysis/2014.11.21-tax-assignment-simulated/simulated-results/simulated-community/F2/unite-97-rep-set/uclust/0.51:0.9:5/table.biom: No such file or directory\r\n"
       ]
      },
      {
       "output_type": "stream",
       "stream": "stdout",
       "text": [
        "rm: /Users/caporaso/analysis/2014.11.21-tax-assignment-simulated/simulated-results/simulated-community/F2/unite-97-rep-set/uclust/0.76:0.8:1/table.biom: No such file or directory\r\n"
       ]
      },
      {
       "output_type": "stream",
       "stream": "stdout",
       "text": [
        "rm: /Users/caporaso/analysis/2014.11.21-tax-assignment-simulated/simulated-results/simulated-community/F2/unite-97-rep-set/uclust/0.76:0.8:3/table.biom: No such file or directory\r\n"
       ]
      },
      {
       "output_type": "stream",
       "stream": "stdout",
       "text": [
        "rm: /Users/caporaso/analysis/2014.11.21-tax-assignment-simulated/simulated-results/simulated-community/F2/unite-97-rep-set/uclust/0.76:0.8:5/table.biom: No such file or directory\r\n"
       ]
      },
      {
       "output_type": "stream",
       "stream": "stdout",
       "text": [
        "rm: /Users/caporaso/analysis/2014.11.21-tax-assignment-simulated/simulated-results/simulated-community/F2/unite-97-rep-set/uclust/0.76:0.9:1/table.biom: No such file or directory\r\n"
       ]
      },
      {
       "output_type": "stream",
       "stream": "stdout",
       "text": [
        "rm: /Users/caporaso/analysis/2014.11.21-tax-assignment-simulated/simulated-results/simulated-community/F2/unite-97-rep-set/uclust/0.76:0.9:3/table.biom: No such file or directory\r\n"
       ]
      },
      {
       "output_type": "stream",
       "stream": "stdout",
       "text": [
        "rm: /Users/caporaso/analysis/2014.11.21-tax-assignment-simulated/simulated-results/simulated-community/F2/unite-97-rep-set/uclust/0.76:0.9:5/table.biom: No such file or directory\r\n"
       ]
      },
      {
       "output_type": "stream",
       "stream": "stdout",
       "text": [
        "rm: /Users/caporaso/analysis/2014.11.21-tax-assignment-simulated/simulated-results/simulated-community/F2/unite-97-rep-set/uclust/1.0:0.8:1/table.biom: No such file or directory\r\n"
       ]
      },
      {
       "output_type": "stream",
       "stream": "stdout",
       "text": [
        "rm: /Users/caporaso/analysis/2014.11.21-tax-assignment-simulated/simulated-results/simulated-community/F2/unite-97-rep-set/uclust/1.0:0.8:3/table.biom: No such file or directory\r\n"
       ]
      },
      {
       "output_type": "stream",
       "stream": "stdout",
       "text": [
        "rm: /Users/caporaso/analysis/2014.11.21-tax-assignment-simulated/simulated-results/simulated-community/F2/unite-97-rep-set/uclust/1.0:0.8:5/table.biom: No such file or directory\r\n"
       ]
      },
      {
       "output_type": "stream",
       "stream": "stdout",
       "text": [
        "rm: /Users/caporaso/analysis/2014.11.21-tax-assignment-simulated/simulated-results/simulated-community/F2/unite-97-rep-set/uclust/1.0:0.9:1/table.biom: No such file or directory\r\n"
       ]
      },
      {
       "output_type": "stream",
       "stream": "stdout",
       "text": [
        "rm: /Users/caporaso/analysis/2014.11.21-tax-assignment-simulated/simulated-results/simulated-community/F2/unite-97-rep-set/uclust/1.0:0.9:3/table.biom: No such file or directory\r\n"
       ]
      },
      {
       "output_type": "stream",
       "stream": "stdout",
       "text": [
        "rm: /Users/caporaso/analysis/2014.11.21-tax-assignment-simulated/simulated-results/simulated-community/F2/unite-97-rep-set/uclust/1.0:0.9:5/table.biom: No such file or directory\r\n"
       ]
      }
     ],
     "prompt_number": 5
    },
    {
     "cell_type": "code",
     "collapsed": false,
     "input": [],
     "language": "python",
     "metadata": {},
     "outputs": []
    }
   ],
   "metadata": {}
  }
 ]
}