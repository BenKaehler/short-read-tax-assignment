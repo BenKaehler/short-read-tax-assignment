{
 "metadata": {
  "name": "",
  "signature": "sha256:5b192039e1661df30ada674555406b1a464d7ceeb2379330d11a290d1810fefa"
 },
 "nbformat": 3,
 "nbformat_minor": 0,
 "worksheets": [
  {
   "cells": [
    {
     "cell_type": "heading",
     "level": 1,
     "metadata": {},
     "source": [
      "Contents"
     ]
    },
    {
     "cell_type": "markdown",
     "metadata": {},
     "source": [
      "* [Compute runtimes](./compute-runtimes.ipynb): Creates and executes commands for timing taxonomic assignment processes as a function of reference database size and query database size (where size is number of sequences in both cases). If you're adding new methods to this comparison, you should re-run all of the commands as the runtimes are only comparable if they are computed on the same system.\n",
      "* [Analysis base](./base.ipynb): Analysis of the runtimes of different methods."
     ]
    }
   ],
   "metadata": {}
  }
 ]
}