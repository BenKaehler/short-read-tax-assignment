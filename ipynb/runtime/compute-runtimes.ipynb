{
 "metadata": {
  "name": "",
  "signature": "sha256:8d4be6f1ef1710b8ef414f16ef68fdbac16f3d8c9f67c25e14cb4862b51e7b8e"
 },
 "nbformat": 3,
 "nbformat_minor": 0,
 "worksheets": [
  {
   "cells": [
    {
     "cell_type": "markdown",
     "metadata": {},
     "source": [
      "Prepare the environment\n",
      "-----------------------\n",
      "\n",
      "First we'll import various functions that we'll need for generating the report and configure the environment."
     ]
    },
    {
     "cell_type": "code",
     "collapsed": false,
     "input": [
      "import numpy as np\n",
      "from skbio import parse_fasta\n",
      "from os.path import join, exists, split, expandvars\n",
      "from os import makedirs\n",
      "from tempfile import mkstemp\n",
      "from glob import glob\n",
      "from itertools import product"
     ],
     "language": "python",
     "metadata": {},
     "outputs": [],
     "prompt_number": 1
    },
    {
     "cell_type": "code",
     "collapsed": false,
     "input": [
      "## project_dir should be the directory where you've downloaded (or cloned) the \n",
      "## short-read-tax-assignment repository. \n",
      "project_dir = expandvars(\"$HOME/data/short-read-tax-assignment\")\n",
      "data_dir = join(project_dir, \"data\")\n",
      "\n",
      "reference_database_dir = expandvars(\"$HOME/data/\")\n",
      "results_dir = expandvars(\"$HOME/data/2015.03.06-tax-assignment-runtime\")\n",
      "reference_tax = join(reference_database_dir, 'gg_13_8_otus/taxonomy/97_otu_taxonomy.txt')\n",
      "\n",
      "num_iters = 1"
     ],
     "language": "python",
     "metadata": {},
     "outputs": [],
     "prompt_number": 2
    },
    {
     "cell_type": "code",
     "collapsed": false,
     "input": [
      "from IPython.parallel import Client\n",
      "rc = Client()\n",
      "lview = rc.load_balanced_view()\n",
      "\n",
      "@lview.parallel()\n",
      "def call_cmd(cmd):\n",
      "    from qcli import qcli_system_call\n",
      "    stdout, stderr, retval = qcli_system_call(cmd)\n",
      "    # return stdout, stderr, the return value, and the command\n",
      "    # the command is useful in case it needs to be re-run\n",
      "    return stdout, stderr, retval, cmd"
     ],
     "language": "python",
     "metadata": {},
     "outputs": [],
     "prompt_number": 3
    },
    {
     "cell_type": "heading",
     "level": 2,
     "metadata": {},
     "source": [
      "Preparing the method/parameter combinations"
     ]
    },
    {
     "cell_type": "code",
     "collapsed": false,
     "input": [
      "# First we prepare a reference dataset to work with\n",
      "uncompressed_refseqs = join(data_dir, \"simulated-community/B1-iter0/ref.fna\")\n",
      "compressed_refseqs = join(data_dir, \"simulated-community/B1-iter0/ref.fna.gz\")"
     ],
     "language": "python",
     "metadata": {},
     "outputs": [],
     "prompt_number": 4
    },
    {
     "cell_type": "code",
     "collapsed": false,
     "input": [
      "# Then, we unzip the compressed reference sequences to a new file\n",
      "!gunzip -c $compressed_refseqs > $uncompressed_refseqs"
     ],
     "language": "python",
     "metadata": {},
     "outputs": [],
     "prompt_number": 5
    },
    {
     "cell_type": "code",
     "collapsed": false,
     "input": [
      "# Finally we define the method, parameter combintations that we want to test\n",
      "method_parameters_combinations = [\n",
      "              ('rdp', '--confidence 0.5 --rdp_max_memory 16000'),\n",
      "              ('uclust', '--min_consensus_fraction 0.51 --similarity 0.8 --uclust_max_accepts 3'),\n",
      "              ('sortmerna', ('--sortmerna_e_value 0.001 --min_consensus_fraction 0.51 --similarity 0.8 '\n",
      "                             '--sortmerna_best_N_alignments 3 --sortmerna_coverage 0.8')),\n",
      "              ('blast', '--blast_e_value 0.001')\n",
      "             ]"
     ],
     "language": "python",
     "metadata": {},
     "outputs": [],
     "prompt_number": 5
    },
    {
     "cell_type": "heading",
     "level": 2,
     "metadata": {},
     "source": [
      "Generate the list of commands and run them"
     ]
    },
    {
     "cell_type": "markdown",
     "metadata": {},
     "source": [
      "First we will vary the size of the reference database and search a single sequence against it."
     ]
    },
    {
     "cell_type": "code",
     "collapsed": false,
     "input": [
      "commands = []\n",
      "time_command_template = \"%s; /usr/bin/time -f '%%e' --output %s -- %s\"\n",
      "subsample_command_template = \"subsample_fasta.py -i %s -p %1.2f -o %s\"\n",
      "at_command_template = \"assign_taxonomy.py -i %s -o %s -r %s -t %s -m %s %s\"\n",
      "\n",
      "analysis_input_dir = join(data_dir, \"simulated-community\")\n",
      "temp_dir = join(results_dir,'temp')\n",
      "try:\n",
      "    makedirs(temp_dir)\n",
      "except OSError:\n",
      "    pass\n",
      "\n",
      "dataset_input_dir = join(analysis_input_dir, \"B1-iter0\")\n",
      "dataset_input_seqs = join(dataset_input_dir, 'rep_set.fna')\n",
      "reference_seqs = join(dataset_input_dir, 'ref.fna')\n",
      "\n",
      "reference_set_fracs = np.arange(0.2, 1.01, 0.2)\n",
      "single_query_fp = join(temp_dir, 'single_query.fna')\n",
      "single_query_lines = \"\"\">1111856\n",
      "GTGCCAGCAGCCGCGGTAATACGAGGGGTGCTAGCGTTATTCGGAATTATTGGGCGTAAAGGGTGTGTAGACGGTTTGTTAAGTTTGTTGTTAAATTTCCTGGCCTAACTGGGAATCGGCAGTGAATACTGGCAGACTTGAGGATGGAAGAGAGAAGTGGAATTCTCGGAGTAGCGGTAAAATGCGTAGATCTCGAGAGGAACACCAATGGCGAAGGCAGCTTCTTGGTCCATTCCTGACGTTGAGACACGAAAGCGTGGGGAGCAAACAGGATTAGATACCCTGGTAGTC\n",
      "\"\"\"\n",
      "open(single_query_fp,'w').write(single_query_lines)\n",
      "\n",
      "for iter_id in range(num_iters):\n",
      "    for method, parameters in method_parameters_combinations:\n",
      "        method_commands = []\n",
      "        for ref_frac in reference_set_fracs:\n",
      "            subsampled_reference_seqs = join(temp_dir, \"ref.fna\")\n",
      "            subsample_ref_cmd = subsample_command_template %\\\n",
      "                                (reference_seqs, ref_frac, subsampled_reference_seqs)\n",
      "            at_command = at_command_template % (single_query_fp, temp_dir, \n",
      "                                                subsampled_reference_seqs, \n",
      "                                                reference_tax, method.split('.')[0], parameters)\n",
      "            time_output_fp = \"%s/%s-q%1.5f-r%1.2f-iter%d-time.txt\" %\\\n",
      "                             (results_dir, method, 0.00001, ref_frac, iter_id)\n",
      "            command = time_command_template % (subsample_ref_cmd,\n",
      "                                               time_output_fp,\n",
      "                                               at_command)\n",
      "            if not exists(time_output_fp): commands.append(command)"
     ],
     "language": "python",
     "metadata": {},
     "outputs": [],
     "prompt_number": 8
    },
    {
     "cell_type": "markdown",
     "metadata": {},
     "source": [
      "Next, we will vary the number of sequences that we're assigning taxonomy to given a fixed reference database size. "
     ]
    },
    {
     "cell_type": "code",
     "collapsed": false,
     "input": [
      "ref_frac = 0.20\n",
      "ref_seqs_fp = join(temp_dir, \"ref.fna\")\n",
      "subsample_ref_cmd = subsample_command_template % (reference_seqs, ref_frac, ref_seqs_fp)\n",
      "commands.append(subsample_ref_cmd)\n",
      "query_time_command_template = \"/usr/bin/time -f '%%e' --output %s -- %s\"\n",
      "\n",
      "for iter_id in range(num_iters):\n",
      "    for query_mult in [1, 10, 50, 100]:\n",
      "        query_seqs_fp = join(temp_dir, \"query_%d.fna\" % query_mult)\n",
      "        if not exists(query_seqs_fp):\n",
      "            query_seqs_f = open(query_seqs_fp, 'w')\n",
      "            for m in range(query_mult):\n",
      "                for e in parse_fasta(open(dataset_input_seqs)):\n",
      "                    query_seqs_f.write('>%s\\n%s\\n' % e)\n",
      "            query_seqs_f.close()\n",
      "        for method, parameters in method_parameters_combinations:\n",
      "            at_command = at_command_template % (query_seqs_fp, temp_dir, \n",
      "                                                ref_seqs_fp, reference_tax, method.split('.')[0], parameters)\n",
      "            time_output_fp = \"%s/%s-q%1.2f-r%1.2f-iter%d-time.txt\" %\\\n",
      "                             (results_dir, method, float(query_mult), ref_frac, iter_id)\n",
      "            command = query_time_command_template % (time_output_fp, at_command)\n",
      "            if not exists(time_output_fp): commands.append(command)\n"
     ],
     "language": "python",
     "metadata": {},
     "outputs": [],
     "prompt_number": 9
    },
    {
     "cell_type": "code",
     "collapsed": false,
     "input": [
      "print len(commands)\n",
      "print commands[1]\n",
      "print commands[-12]"
     ],
     "language": "python",
     "metadata": {},
     "outputs": [
      {
       "output_type": "stream",
       "stream": "stdout",
       "text": [
        "14\n",
        "/usr/bin/time -f '%e' --output /home/ubuntu/data/2015.03.06-tax-assignment-runtime/sortmerna-q1.00-r0.20-iter0-time.txt -- assign_taxonomy.py -i /home/ubuntu/data/2015.03.06-tax-assignment-runtime/temp/query_1.fna -o /home/ubuntu/data/2015.03.06-tax-assignment-runtime/temp -r /home/ubuntu/data/2015.03.06-tax-assignment-runtime/temp/ref.fna -t /home/ubuntu/data/gg_13_8_otus/taxonomy/97_otu_taxonomy.txt -m sortmerna --sortmerna_e_value 0.001 --min_consensus_fraction 0.51 --similarity 0.8 --sortmerna_best_N_alignments 3 --sortmerna_coverage 0.8\n",
        "/usr/bin/time -f '%e' --output /home/ubuntu/data/2015.03.06-tax-assignment-runtime/blast-q1.00-r0.20-iter0-time.txt -- assign_taxonomy.py -i /home/ubuntu/data/2015.03.06-tax-assignment-runtime/temp/query_1.fna -o /home/ubuntu/data/2015.03.06-tax-assignment-runtime/temp -r /home/ubuntu/data/2015.03.06-tax-assignment-runtime/temp/ref.fna -t /home/ubuntu/data/gg_13_8_otus/taxonomy/97_otu_taxonomy.txt -m blast --blast_e_value 0.001\n"
       ]
      }
     ],
     "prompt_number": 12
    },
    {
     "cell_type": "code",
     "collapsed": false,
     "input": [
      "r = call_cmd.map(commands)"
     ],
     "language": "python",
     "metadata": {},
     "outputs": [],
     "prompt_number": 13
    },
    {
     "cell_type": "heading",
     "level": 2,
     "metadata": {},
     "source": [
      "Remove temporary files"
     ]
    },
    {
     "cell_type": "code",
     "collapsed": false,
     "input": [
      "!rm $uncompressed_refseqs\n",
      "!rm -r $temp_dir\n",
      "!rm $refseqs_idx"
     ],
     "language": "python",
     "metadata": {},
     "outputs": []
    }
   ],
   "metadata": {}
  }
 ]
}