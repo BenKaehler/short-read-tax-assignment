{
 "cells": [
  {
   "cell_type": "markdown",
   "metadata": {},
   "source": [
    "Prepare the environment\n",
    "-----------------------\n",
    "\n",
    "First we'll import various functions that we'll need for generating the report and configure the environment."
   ]
  },
  {
   "cell_type": "code",
   "execution_count": 25,
   "metadata": {
    "collapsed": false
   },
   "outputs": [],
   "source": [
    "from os.path import join, expandvars\n",
    "from joblib import Parallel, delayed\n",
    "\n",
    "from tax_credit.framework_functions import (runtime_make_test_data,\n",
    "                                            runtime_make_commands,\n",
    "                                            clock_runtime,\n",
    "                                           )"
   ]
  },
  {
   "cell_type": "code",
   "execution_count": 2,
   "metadata": {
    "collapsed": false
   },
   "outputs": [],
   "source": [
    "## project_dir should be the directory where you've downloaded (or cloned) the \n",
    "## short-read-tax-assignment repository. \n",
    "project_dir = expandvars(\"$HOME/Desktop/projects/short-read-tax-assignment\")\n",
    "data_dir = join(project_dir, \"data\")\n",
    "\n",
    "results_dir = expandvars(\"$HOME/Desktop/projects/tax-credit-runtime\")\n",
    "runtime_results = join(results_dir, 'runtime_results.txt')\n",
    "tmpdir = join(results_dir, 'tmp')\n",
    "\n",
    "ref_db_dir = expandvars(\"$HOME/Desktop/projects/short-read-tax-assignment/data/ref_dbs/\")\n",
    "ref_seqs = join(ref_db_dir, 'gg_13_8_otus/99_otus_clean_515f-806r_trim250.fasta')\n",
    "ref_taxa = join(ref_db_dir, 'gg_13_8_otus/99_otu_taxonomy_clean.tsv')\n",
    "\n",
    "num_iters = 1\n",
    "sampling_depths = [1, 10, 100, 1000, 10000]"
   ]
  },
  {
   "cell_type": "markdown",
   "metadata": {},
   "source": [
    "# Generate test datasets\n",
    "Subsample reference sequences to create a series of test datasets and references."
   ]
  },
  {
   "cell_type": "code",
   "execution_count": 3,
   "metadata": {
    "collapsed": false
   },
   "outputs": [],
   "source": [
    "runtime_make_test_data(ref_seqs, tmpdir, sampling_depths)"
   ]
  },
  {
   "cell_type": "markdown",
   "metadata": {},
   "source": [
    "## Preparing the method/parameter combinations\n",
    "\n",
    "Finally we define the method, parameter combintations that we want to test and command templates to execute.\n",
    "\n",
    "Template fields must adhere to following format:\n",
    "\n",
    "                      {0} = output directory\n",
    "                      {1} = input data\n",
    "                      {2} = reference sequences\n",
    "                      {3} = reference taxonomy\n",
    "                      {4} = method name\n",
    "                      {5} = other parameters\n"
   ]
  },
  {
   "cell_type": "code",
   "execution_count": 3,
   "metadata": {
    "collapsed": false
   },
   "outputs": [],
   "source": [
    "qiime1_template = 'source activate qiime1; source ~/.bashrc; assign_taxonomy.py -i {1} -o {0} -r {2} -t {3} -m {4} {5}'\n",
    "\n",
    "# {method: template, method-specific params}\n",
    "methods = {\n",
    "           'rdp': (qiime1_template, '--confidence 0.5 --rdp_max_memory 16000'),\n",
    "           'uclust': (qiime1_template, '--min_consensus_fraction 0.51 --similarity 0.8 --uclust_max_accepts 3'),\n",
    "           'sortmerna': (qiime1_template, '--sortmerna_e_value 0.001 --min_consensus_fraction 0.51 --similarity 0.8 '\n",
    "                         '--sortmerna_best_N_alignments 3 --sortmerna_coverage 0.8'),\n",
    "          }"
   ]
  },
  {
   "cell_type": "markdown",
   "metadata": {},
   "source": [
    "## Generate the list of commands and run them"
   ]
  },
  {
   "cell_type": "markdown",
   "metadata": {},
   "source": [
    "First we will vary the size of the reference database and search a single sequence against it."
   ]
  },
  {
   "cell_type": "code",
   "execution_count": 4,
   "metadata": {
    "collapsed": false
   },
   "outputs": [],
   "source": [
    "commands_a = runtime_make_commands(tmpdir, tmpdir, methods, ref_taxa,\n",
    "                                   sampling_depths, num_iters=1, subsample_ref=True)"
   ]
  },
  {
   "cell_type": "markdown",
   "metadata": {},
   "source": [
    "Next, we will vary the number of query seqs, and keep the number of ref seqs constant"
   ]
  },
  {
   "cell_type": "code",
   "execution_count": 5,
   "metadata": {
    "collapsed": false
   },
   "outputs": [],
   "source": [
    "commands_b = runtime_make_commands(tmpdir, tmpdir, methods, ref_taxa,\n",
    "                                   sampling_depths, num_iters=1, subsample_ref=False)"
   ]
  },
  {
   "cell_type": "markdown",
   "metadata": {},
   "source": [
    "Let's look at the first command in each list and the total number of commands as a sanity check..."
   ]
  },
  {
   "cell_type": "code",
   "execution_count": 6,
   "metadata": {
    "collapsed": false
   },
   "outputs": [
    {
     "name": "stdout",
     "output_type": "stream",
     "text": [
      "30\n",
      "('source activate qiime1; source ~/.bashrc; assign_taxonomy.py -i /Users/nbokulich/Desktop/projects/tax-credit-runtime/tmp/1.fna -o /Users/nbokulich/Desktop/projects/tax-credit-runtime/tmp -r /Users/nbokulich/Desktop/projects/tax-credit-runtime/tmp/1.fna -t /Users/nbokulich/Desktop/projects/short-read-tax-assignment/data/ref_dbs/gg_13_8_otus/99_otu_taxonomy_clean.tsv -m rdp --confidence 0.5 --rdp_max_memory 16000', 'rdp', '1', '1', 0)\n",
      "('source activate qiime1; source ~/.bashrc; assign_taxonomy.py -i /Users/nbokulich/Desktop/projects/tax-credit-runtime/tmp/1.fna -o /Users/nbokulich/Desktop/projects/tax-credit-runtime/tmp -r /Users/nbokulich/Desktop/projects/tax-credit-runtime/tmp/10000.fna -t /Users/nbokulich/Desktop/projects/short-read-tax-assignment/data/ref_dbs/gg_13_8_otus/99_otu_taxonomy_clean.tsv -m rdp --confidence 0.5 --rdp_max_memory 16000', 'rdp', '1', '10000', 0)\n"
     ]
    }
   ],
   "source": [
    "print(len(commands_a + commands_b))\n",
    "print(commands_a[0])\n",
    "print(commands_b[0])"
   ]
  },
  {
   "cell_type": "code",
   "execution_count": 7,
   "metadata": {
    "collapsed": true
   },
   "outputs": [
    {
     "data": {
      "text/plain": [
       "[None,\n",
       " None,\n",
       " None,\n",
       " None,\n",
       " None,\n",
       " None,\n",
       " None,\n",
       " None,\n",
       " None,\n",
       " None,\n",
       " None,\n",
       " None,\n",
       " None,\n",
       " None,\n",
       " None,\n",
       " None,\n",
       " None,\n",
       " None,\n",
       " None,\n",
       " None,\n",
       " None,\n",
       " None,\n",
       " None,\n",
       " None,\n",
       " None,\n",
       " None,\n",
       " None,\n",
       " None,\n",
       " None,\n",
       " None]"
      ]
     },
     "execution_count": 7,
     "metadata": {},
     "output_type": "execute_result"
    }
   ],
   "source": [
    "Parallel(n_jobs=4)(delayed(clock_runtime)(command, runtime_results) for command in (list(set(commands_a + commands_b))))"
   ]
  },
  {
   "cell_type": "markdown",
   "metadata": {},
   "source": [
    "## Remove temporary files\n",
    "We no longer need the reference sequence files and can remove them."
   ]
  },
  {
   "cell_type": "code",
   "execution_count": null,
   "metadata": {
    "collapsed": false
   },
   "outputs": [],
   "source": [
    "!rm -r {tmpdir}"
   ]
  }
 ],
 "metadata": {
  "anaconda-cloud": {},
  "kernelspec": {
   "display_name": "Python [conda env:qiime2-06]",
   "language": "python",
   "name": "conda-env-qiime2-06-py"
  },
  "language_info": {
   "codemirror_mode": {
    "name": "ipython",
    "version": 3
   },
   "file_extension": ".py",
   "mimetype": "text/x-python",
   "name": "python",
   "nbconvert_exporter": "python",
   "pygments_lexer": "ipython3",
   "version": "3.5.2"
  }
 },
 "nbformat": 4,
 "nbformat_minor": 0
}
