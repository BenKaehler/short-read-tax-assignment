{
 "metadata": {
  "name": "",
  "signature": "sha256:a33b03b5171598042903cf35b14d9357cb623be42eeb0ed25a3aac11287d0cb8"
 },
 "nbformat": 3,
 "nbformat_minor": 0,
 "worksheets": [
  {
   "cells": [
    {
     "cell_type": "markdown",
     "metadata": {},
     "source": [
      "Prepare the environment\n",
      "-----------------------\n",
      "\n",
      "First we'll import various functions that we'll need for generating the report."
     ]
    },
    {
     "cell_type": "code",
     "collapsed": false,
     "input": [
      "from os.path import join, exists, split, expandvars\n",
      "from os import makedirs\n",
      "from tempfile import mkstemp\n",
      "from glob import glob\n",
      "from itertools import product"
     ],
     "language": "python",
     "metadata": {},
     "outputs": []
    },
    {
     "cell_type": "code",
     "collapsed": false,
     "input": [
      "## project_dir should be the directory where you've downloaded (or cloned) the \n",
      "## short-read-tax-assignment repository. \n",
      "project_dir = expandvars(\"$HOME/data/short-read-tax-assignment\")\n",
      "data_dir = join(project_dir, \"data\")\n",
      "\n",
      "reference_database_dir = expandvars(\"$HOME/data/\")\n",
      "results_dir = expandvars(\"$HOME/data/2015.03.03-tax-assignment-runtime\")\n",
      "reference_tax = join(reference_database_dir, 'gg_13_8_otus/taxonomy/97_otu_taxonomy.txt')"
     ],
     "language": "python",
     "metadata": {},
     "outputs": []
    },
    {
     "cell_type": "heading",
     "level": 2,
     "metadata": {},
     "source": [
      "Preparing data set sweep"
     ]
    },
    {
     "cell_type": "markdown",
     "metadata": {},
     "source": [
      "First, we're going to define the data sets that we'll sweep over."
     ]
    },
    {
     "cell_type": "code",
     "collapsed": false,
     "input": [
      "results_dir = join(results_dir, \"timing-results\")"
     ],
     "language": "python",
     "metadata": {},
     "outputs": []
    },
    {
     "cell_type": "heading",
     "level": 2,
     "metadata": {},
     "source": [
      "Preparing the method/parameter combinations"
     ]
    },
    {
     "cell_type": "code",
     "collapsed": false,
     "input": [
      "# First we prepare a reference dataset to work with\n",
      "uncompressed_refseqs = join(data_dir, \"simulated-community/B1-iter0/ref.fna\")\n",
      "compressed_refseqs = join(data_dir, \"simulated-community/B1-iter0/ref.fna.gz\")\n",
      "refseqs_idx = join(data_dir, 'simulated-community', 'B1', 'ref.idx')"
     ],
     "language": "python",
     "metadata": {},
     "outputs": []
    },
    {
     "cell_type": "code",
     "collapsed": false,
     "input": [
      "!gunzip -c $compressed_refseqs > $uncompressed_refseqs\n",
      "!indexdb_rna --ref $uncompressed_refseqs,$refseqs_idx"
     ],
     "language": "python",
     "metadata": {},
     "outputs": []
    },
    {
     "cell_type": "code",
     "collapsed": false,
     "input": [
      "# Then define the method, parameter combintations that we want to test\n",
      "method_parameters_combinations = [\n",
      "              ('rdp', '--confidence 0.5 --rdp_max_memory 16000'),\n",
      "              ('uclust', '--min_consensus_fraction 0.51 --similarity 0.8 --uclust_max_accepts 3'),\n",
      "              ('sortmerna', ('--sortmerna_e_value 0.001 --min_consensus_fraction 0.51 --similarity 0.8 '\n",
      "                             '--sortmerna_best_N_alignments 3 --sortmerna_coverage 0.8')),\n",
      "              ('sortmerna.prebuilt.idx', ('--sortmerna_e_value 0.001 --min_consensus_fraction 0.51 --similarity 0.8 '\n",
      "                                          '--sortmerna_best_N_alignments 3 --sortmerna_coverage 0.8 '\n",
      "                                          '--sortmerna_db %s' % refseqs_idx)),\n",
      "              ('blast', '--blast_e_value 0.001')\n",
      "             ]"
     ],
     "language": "python",
     "metadata": {},
     "outputs": []
    },
    {
     "cell_type": "heading",
     "level": 2,
     "metadata": {},
     "source": [
      "Generate the list of commands and run them"
     ]
    },
    {
     "cell_type": "code",
     "collapsed": false,
     "input": [
      "commands = []\n",
      "time_command_template = \"mkdir -p %s; %s; %s; /usr/bin/time -f '%%e' --output %s/%s-q%1.2f-r%1.2f-iter%d-time.txt -- %s\"\n",
      "subsample_command_template = \"subsample_fasta.py -i %s -p %1.2f -o %s\"\n",
      "at_command_template = \"assign_taxonomy.py -i %s -o %s -r %s -t %s -m %s %s\"\n",
      "\n",
      "analysis_input_dir = join(data_dir, \"simulated-community\")\n",
      "analysis_output_dir = join(results_dir,'temp')\n",
      "\n",
      "dataset_input_dir = join(analysis_input_dir, \"B1-iter0\")\n",
      "dataset_input_seqs = join(dataset_input_dir, 'rep_set.fna')\n",
      "reference_seqs = join(dataset_input_dir, 'ref.fna')\n",
      "\n",
      "for iter_id in range(3):\n",
      "    for method, parameters in method_parameters_combinations:\n",
      "        method_commands = []\n",
      "        for query_frac in np.arange(0.1, 1.01, 0.1):\n",
      "            for ref_frac in np.arange(0.1, 1.01, 0.1):\n",
      "                current_output_dir = join(analysis_output_dir,\n",
      "                                          str(iter_id), method, '%1.2f' % query_frac, '%1.2f' % ref_frac)\n",
      "                subsampled_reference_seqs = join(current_output_dir, \"ref.fna\")\n",
      "                subsampled_query_seqs = join(current_output_dir, \"query.fna\")\n",
      "                subsample_ref_cmd = subsample_command_template %\\\n",
      "                                    (reference_seqs, ref_frac, subsampled_reference_seqs)\n",
      "                subsample_query_cmd = subsample_command_template %\\\n",
      "                                      (dataset_input_seqs, ref_frac, subsampled_query_seqs)\n",
      "\n",
      "                at_command = at_command_template % (subsampled_query_seqs, current_output_dir, \n",
      "                                                    subsampled_reference_seqs, \n",
      "                                                    reference_tax, method.split('.')[0], parameters)\n",
      "                command = time_command_template % (current_output_dir, \n",
      "                                                   subsample_ref_cmd,\n",
      "                                                   subsample_query_cmd,\n",
      "                                                   results_dir,\n",
      "                                                   method, query_frac, ref_frac, iter_id, \n",
      "                                                   at_command)\n",
      "                commands.append(command)\n",
      "                \n",
      "print len(commands)\n",
      "print commands[0]\n",
      "print commands[-1]"
     ],
     "language": "python",
     "metadata": {},
     "outputs": []
    },
    {
     "cell_type": "code",
     "collapsed": false,
     "input": [
      "for command in commands:\n",
      "    !$command"
     ],
     "language": "python",
     "metadata": {},
     "outputs": []
    },
    {
     "cell_type": "heading",
     "level": 2,
     "metadata": {},
     "source": [
      "Remove temporary files"
     ]
    },
    {
     "cell_type": "code",
     "collapsed": false,
     "input": [
      "!rm $uncompressed_refseqs\n",
      "!rm $refseqs_idx"
     ],
     "language": "python",
     "metadata": {},
     "outputs": []
    }
   ],
   "metadata": {}
  }
 ]
}