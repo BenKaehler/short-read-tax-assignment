{
 "metadata": {
  "name": "",
  "signature": "sha256:e432cfbe9600c56f1d61f86ba77d11f380bf9ff45fdd8ab667739809b3c35d09"
 },
 "nbformat": 3,
 "nbformat_minor": 0,
 "worksheets": [
  {
   "cells": [
    {
     "cell_type": "heading",
     "level": 1,
     "metadata": {},
     "source": [
      "Data generation: using python to sweep over methods and parameters"
     ]
    },
    {
     "cell_type": "markdown",
     "metadata": {},
     "source": [
      "In this notebook, we illustrate how to use python to generate a list of commands that we can then submit to a queuing system to run in parallel. In this example, we generate a list of QIIME 1.8.0-dev ``assign_taxonomy.py`` commands, though this workflow for command generation is generally very useful for performing *parameter sweeps* (i.e., exploration of sets of parameters for achieving a specific result for comparative purposes). \n",
      "\n",
      "Note that this notebook isn't actually running the commands, but only generating them. It is up to the user to then run these commands in their desired environment.\n",
      "\n",
      "Your BIOM tables should be called ``table.biom``, and nested in the following directory structure:\n",
      "\n",
      "```\n",
      "query_results_dir/\n",
      " analysis/\n",
      "  dataset-id/ \n",
      "   reference-db-id/\n",
      "    method-id/\n",
      "     parameter-combination-id/\n",
      "      table.biom\n",
      "```"
     ]
    },
    {
     "cell_type": "heading",
     "level": 2,
     "metadata": {},
     "source": [
      "Environment preparation"
     ]
    },
    {
     "cell_type": "code",
     "collapsed": false,
     "input": [
      "from os.path import join, exists, split\n",
      "from os import makedirs\n",
      "from tempfile import mkstemp\n",
      "from glob import glob"
     ],
     "language": "python",
     "metadata": {},
     "outputs": []
    },
    {
     "cell_type": "code",
     "collapsed": false,
     "input": [
      "short_read_tax_dir = \"/Users/caporaso/Dropbox/code/short-read-tax-assignment/\"\n",
      "reference_database_dir = \"/Users/caporaso/data/\"\n",
      "results_dir = \"/Users/caporaso/temp/tax_parameter_sweep/\""
     ],
     "language": "python",
     "metadata": {},
     "outputs": []
    },
    {
     "cell_type": "heading",
     "level": 2,
     "metadata": {},
     "source": [
      "Preparing data set sweep"
     ]
    },
    {
     "cell_type": "markdown",
     "metadata": {},
     "source": [
      "First, we're going to define the data sets that we'll sweep over."
     ]
    },
    {
     "cell_type": "code",
     "collapsed": false,
     "input": [
      "analysis = \"mock\"\n",
      "\n",
      "mock_query_results_dir = join(results_dir, analysis)\n",
      "\n",
      "data_set_ids = [\n",
      " ('B1', 'gg_13_8_otus/rep_set/97_otus.fasta', 'gg_13_8_otus/taxonomy/97_otu_taxonomy.txt'), # S16S-1\n",
      " ('B2', 'gg_13_8_otus/rep_set/97_otus.fasta', 'gg_13_8_otus/taxonomy/97_otu_taxonomy.txt'), # S16S-2\n",
      " ('B3', 'gg_13_8_otus/rep_set/97_otus.fasta', 'gg_13_8_otus/taxonomy/97_otu_taxonomy.txt'), # Broad-1\n",
      " ('B4', 'gg_13_8_otus/rep_set/97_otus.fasta', 'gg_13_8_otus/taxonomy/97_otu_taxonomy.txt'), # Broad-2\n",
      " ('B5', 'gg_13_8_otus/rep_set/97_otus.fasta', 'gg_13_8_otus/taxonomy/97_otu_taxonomy.txt'), # Broad-3\n",
      " ('B6', 'gg_13_8_otus/rep_set/97_otus.fasta', 'gg_13_8_otus/taxonomy/97_otu_taxonomy.txt'), # Turnbaugh-1\n",
      " ('B7', 'gg_13_8_otus/rep_set/97_otus.fasta', 'gg_13_8_otus/taxonomy/97_otu_taxonomy.txt'), # Turnbaugh-2\n",
      " ('B8', 'gg_13_8_otus/rep_set/97_otus.fasta', 'gg_13_8_otus/taxonomy/97_otu_taxonomy.txt'), # Turnbaugh-3\n",
      "]"
     ],
     "language": "python",
     "metadata": {},
     "outputs": []
    },
    {
     "cell_type": "code",
     "collapsed": false,
     "input": [
      "analysis = \"natural\"\n",
      "\n",
      "natural_query_results_dir = join(results_dir,analysis)\n",
      "\n",
      "data_set_ids = [\n",
      " 'study_449']"
     ],
     "language": "python",
     "metadata": {},
     "outputs": []
    },
    {
     "cell_type": "heading",
     "level": 2,
     "metadata": {},
     "source": [
      "Preparing the method/parameter combinations"
     ]
    },
    {
     "cell_type": "code",
     "collapsed": false,
     "input": [
      "method_ids = ['rdp', 'blast', 'mothur', 'uclust', 'sortmerna']\n",
      "parameters { # probabalistic classifiers\n",
      "            'rdp': {'confidence': [0.0, 0.1, 0.2, 0.3, 0.4, 0.5, 0.6, 0.7, 0.8, 0.9, 1.0]},\n",
      "            'mothur': {'confidence': [0.0, 0.1, 0.2, 0.3, 0.4, 0.5, 0.6, 0.7, 0.8, 0.9, 1.0]},\n",
      "             # global alignment classifiers\n",
      "            'uclust': {'min_consensus_fraction': [0.26, 0.51, 0.76, 1.0], \n",
      "                       'similarity': [0.7, 0.8, 0.9, 1.0],\n",
      "                       'uclust_max_accepts': [1, 3, 5, 10]}\n",
      "            # local alignment classifiers\n",
      "            'sortmerna': {'e_value': [100.0, 1.0, 0.001, 0.000001],\n",
      "                          'min_consensus_fraction': [0.26, 0.51, 0.76, 1.0], \n",
      "                          'similarity': [0.7, 0.8, 0.9, 1.0],\n",
      "                          'best_N_alignments ': [1, 3, 5, 10],\n",
      "                          'sortmerna_coverage' : [0.7, 0.8, 0.9, 1.0]\n",
      "                          }\n",
      "            'blast': {'e_value': [100.0, 1.0, 0.001, 0.000001]}\n",
      "           }"
     ],
     "language": "python",
     "metadata": {},
     "outputs": []
    }
   ],
   "metadata": {}
  }
 ]
}