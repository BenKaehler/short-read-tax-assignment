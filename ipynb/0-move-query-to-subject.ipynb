{
 "metadata": {
  "name": "",
  "signature": "sha256:a927bb3c9744e1a3dbbfeffbc1cf8ca89f04bd32da2f41f47c73bac4216da96f"
 },
 "nbformat": 3,
 "nbformat_minor": 0,
 "worksheets": [
  {
   "cells": [
    {
     "cell_type": "markdown",
     "metadata": {},
     "source": [
      "This notebook illustrates how to port data from a *query* data set to a *subject* data set, so it can be easily included as baseline data in future analysis pipelines."
     ]
    },
    {
     "cell_type": "code",
     "collapsed": false,
     "input": [
      "from os.path import join, sep, split\n",
      "from glob import glob"
     ],
     "language": "python",
     "metadata": {},
     "outputs": [
      {
       "ename": "ImportError",
       "evalue": "cannot import name rename",
       "output_type": "pyerr",
       "traceback": [
        "\u001b[0;31m---------------------------------------------------------------------------\u001b[0m\n\u001b[0;31mImportError\u001b[0m                               Traceback (most recent call last)",
        "\u001b[0;32m<ipython-input-15-c7dda8271b78>\u001b[0m in \u001b[0;36m<module>\u001b[0;34m()\u001b[0m\n\u001b[0;32m----> 1\u001b[0;31m \u001b[0;32mfrom\u001b[0m \u001b[0mos\u001b[0m\u001b[0;34m.\u001b[0m\u001b[0mpath\u001b[0m \u001b[0;32mimport\u001b[0m \u001b[0mjoin\u001b[0m\u001b[0;34m,\u001b[0m \u001b[0msep\u001b[0m\u001b[0;34m,\u001b[0m \u001b[0msplit\u001b[0m\u001b[0;34m,\u001b[0m \u001b[0mrename\u001b[0m\u001b[0;34m\u001b[0m\u001b[0m\n\u001b[0m\u001b[1;32m      2\u001b[0m \u001b[0;32mfrom\u001b[0m \u001b[0mglob\u001b[0m \u001b[0;32mimport\u001b[0m \u001b[0mglob\u001b[0m\u001b[0;34m\u001b[0m\u001b[0m\n",
        "\u001b[0;31mImportError\u001b[0m: cannot import name rename"
       ]
      }
     ],
     "prompt_number": 15
    },
    {
     "cell_type": "code",
     "collapsed": false,
     "input": [
      "## short_read_tax_dir should be the directory where you've downloaded (or cloned) the \n",
      "## short-read-tax-assignment repository. \n",
      "short_read_tax_dir = \"/Users/caporaso/Dropbox/code/short-read-tax-assignment/\"\n",
      "\n",
      "subject_results_dir = join(short_read_tax_dir, \"data\", \"subject-results\", \"mock-community\")\n",
      "\n",
      "## query_results_dirs should contain the directory or directories where the results \n",
      "## of the method(s) to be compared to the pre-computed results can be found. \n",
      "query_results_dirs = \\\n",
      " [\"/Users/caporaso/analysis/2014.09.09-tax-assignment-sweep/2014.09.03-tax-parameter-sweep\"]"
     ],
     "language": "python",
     "metadata": {},
     "outputs": [],
     "prompt_number": 9
    },
    {
     "cell_type": "code",
     "collapsed": false,
     "input": [
      "for query_results_dir in query_results_dirs:\n",
      "    method_dirs = glob(join(query_results_dir, '*', '*', '*', '*'))\n",
      "    for method_dir in method_dirs:\n",
      "        fields = method_dir.split(sep)\n",
      "        dataset_id, database_id, method_id  = fields[-3], fields[-2], fields[-1] \n",
      "\n",
      "        if method_id in ('blast', 'rdp'):\n",
      "            new_location = join(subject_results_dir, dataset_id, database_id)\n",
      "            cmd = \"mv %s %s\" % (method_dir, new_location)\n",
      "            print cmd\n",
      "            "
     ],
     "language": "python",
     "metadata": {},
     "outputs": [
      {
       "output_type": "stream",
       "stream": "stdout",
       "text": [
        "mv /Users/caporaso/analysis/2014.09.09-tax-assignment-sweep/2014.09.03-tax-parameter-sweep/mock-community/B1/gg_13_8_otus/blast /Users/caporaso/Dropbox/code/short-read-tax-assignment/data/subject-results/mock-community/B1/gg_13_8_otus\n",
        "mv /Users/caporaso/analysis/2014.09.09-tax-assignment-sweep/2014.09.03-tax-parameter-sweep/mock-community/B1/gg_13_8_otus/rdp /Users/caporaso/Dropbox/code/short-read-tax-assignment/data/subject-results/mock-community/B1/gg_13_8_otus\n",
        "mv /Users/caporaso/analysis/2014.09.09-tax-assignment-sweep/2014.09.03-tax-parameter-sweep/mock-community/B2/gg_13_8_otus/blast /Users/caporaso/Dropbox/code/short-read-tax-assignment/data/subject-results/mock-community/B2/gg_13_8_otus\n",
        "mv /Users/caporaso/analysis/2014.09.09-tax-assignment-sweep/2014.09.03-tax-parameter-sweep/mock-community/B2/gg_13_8_otus/rdp /Users/caporaso/Dropbox/code/short-read-tax-assignment/data/subject-results/mock-community/B2/gg_13_8_otus\n",
        "mv /Users/caporaso/analysis/2014.09.09-tax-assignment-sweep/2014.09.03-tax-parameter-sweep/mock-community/B3/gg_13_8_otus/blast /Users/caporaso/Dropbox/code/short-read-tax-assignment/data/subject-results/mock-community/B3/gg_13_8_otus\n",
        "mv /Users/caporaso/analysis/2014.09.09-tax-assignment-sweep/2014.09.03-tax-parameter-sweep/mock-community/B3/gg_13_8_otus/rdp /Users/caporaso/Dropbox/code/short-read-tax-assignment/data/subject-results/mock-community/B3/gg_13_8_otus\n",
        "mv /Users/caporaso/analysis/2014.09.09-tax-assignment-sweep/2014.09.03-tax-parameter-sweep/mock-community/B4/gg_13_8_otus/blast /Users/caporaso/Dropbox/code/short-read-tax-assignment/data/subject-results/mock-community/B4/gg_13_8_otus\n",
        "mv /Users/caporaso/analysis/2014.09.09-tax-assignment-sweep/2014.09.03-tax-parameter-sweep/mock-community/B4/gg_13_8_otus/rdp /Users/caporaso/Dropbox/code/short-read-tax-assignment/data/subject-results/mock-community/B4/gg_13_8_otus\n",
        "mv /Users/caporaso/analysis/2014.09.09-tax-assignment-sweep/2014.09.03-tax-parameter-sweep/mock-community/B5/gg_13_8_otus/blast /Users/caporaso/Dropbox/code/short-read-tax-assignment/data/subject-results/mock-community/B5/gg_13_8_otus\n",
        "mv /Users/caporaso/analysis/2014.09.09-tax-assignment-sweep/2014.09.03-tax-parameter-sweep/mock-community/B5/gg_13_8_otus/rdp /Users/caporaso/Dropbox/code/short-read-tax-assignment/data/subject-results/mock-community/B5/gg_13_8_otus\n",
        "mv /Users/caporaso/analysis/2014.09.09-tax-assignment-sweep/2014.09.03-tax-parameter-sweep/mock-community/B6/gg_13_8_otus/blast /Users/caporaso/Dropbox/code/short-read-tax-assignment/data/subject-results/mock-community/B6/gg_13_8_otus\n",
        "mv /Users/caporaso/analysis/2014.09.09-tax-assignment-sweep/2014.09.03-tax-parameter-sweep/mock-community/B6/gg_13_8_otus/rdp /Users/caporaso/Dropbox/code/short-read-tax-assignment/data/subject-results/mock-community/B6/gg_13_8_otus\n",
        "mv /Users/caporaso/analysis/2014.09.09-tax-assignment-sweep/2014.09.03-tax-parameter-sweep/mock-community/B7/gg_13_8_otus/blast /Users/caporaso/Dropbox/code/short-read-tax-assignment/data/subject-results/mock-community/B7/gg_13_8_otus\n",
        "mv /Users/caporaso/analysis/2014.09.09-tax-assignment-sweep/2014.09.03-tax-parameter-sweep/mock-community/B7/gg_13_8_otus/rdp /Users/caporaso/Dropbox/code/short-read-tax-assignment/data/subject-results/mock-community/B7/gg_13_8_otus\n",
        "mv /Users/caporaso/analysis/2014.09.09-tax-assignment-sweep/2014.09.03-tax-parameter-sweep/mock-community/B8/gg_13_8_otus/blast /Users/caporaso/Dropbox/code/short-read-tax-assignment/data/subject-results/mock-community/B8/gg_13_8_otus\n",
        "mv /Users/caporaso/analysis/2014.09.09-tax-assignment-sweep/2014.09.03-tax-parameter-sweep/mock-community/B8/gg_13_8_otus/rdp /Users/caporaso/Dropbox/code/short-read-tax-assignment/data/subject-results/mock-community/B8/gg_13_8_otus\n",
        "mv /Users/caporaso/analysis/2014.09.09-tax-assignment-sweep/2014.09.03-tax-parameter-sweep/mock-community/F1/unite-97-rep-set/blast /Users/caporaso/Dropbox/code/short-read-tax-assignment/data/subject-results/mock-community/F1/unite-97-rep-set\n",
        "mv /Users/caporaso/analysis/2014.09.09-tax-assignment-sweep/2014.09.03-tax-parameter-sweep/mock-community/F1/unite-97-rep-set/rdp /Users/caporaso/Dropbox/code/short-read-tax-assignment/data/subject-results/mock-community/F1/unite-97-rep-set\n",
        "mv /Users/caporaso/analysis/2014.09.09-tax-assignment-sweep/2014.09.03-tax-parameter-sweep/mock-community/F2/unite-97-rep-set/blast /Users/caporaso/Dropbox/code/short-read-tax-assignment/data/subject-results/mock-community/F2/unite-97-rep-set\n",
        "mv /Users/caporaso/analysis/2014.09.09-tax-assignment-sweep/2014.09.03-tax-parameter-sweep/mock-community/F2/unite-97-rep-set/rdp /Users/caporaso/Dropbox/code/short-read-tax-assignment/data/subject-results/mock-community/F2/unite-97-rep-set\n"
       ]
      }
     ],
     "prompt_number": 16
    },
    {
     "cell_type": "code",
     "collapsed": false,
     "input": [],
     "language": "python",
     "metadata": {},
     "outputs": []
    }
   ],
   "metadata": {}
  }
 ]
}