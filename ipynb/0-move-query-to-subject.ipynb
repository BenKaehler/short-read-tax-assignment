{
 "metadata": {
  "name": "",
  "signature": "sha256:337e1f016d26b4f2881d4032c220651d8e5c0d9fb1138b06759ec01cb2299fe9"
 },
 "nbformat": 3,
 "nbformat_minor": 0,
 "worksheets": [
  {
   "cells": [
    {
     "cell_type": "markdown",
     "metadata": {},
     "source": [
      "This notebook illustrates how to port data from a *query* data set to a *subject* data set, so it can be easily included as baseline data in future analysis pipelines."
     ]
    },
    {
     "cell_type": "code",
     "collapsed": false,
     "input": [
      "from os.path import join, sep, split\n",
      "from glob import glob"
     ],
     "language": "python",
     "metadata": {},
     "outputs": [],
     "prompt_number": 17
    },
    {
     "cell_type": "code",
     "collapsed": false,
     "input": [
      "## short_read_tax_dir should be the directory where you've downloaded (or cloned) the \n",
      "## short-read-tax-assignment repository. \n",
      "short_read_tax_dir = \"/Users/caporaso/Dropbox/code/short-read-tax-assignment/\"\n",
      "\n",
      "subject_results_dir = join(short_read_tax_dir, \"data\", \"subject-results\", \"mock-community\")\n",
      "\n",
      "## query_results_dirs should contain the directory or directories where the results \n",
      "## of the method(s) to be compared to the pre-computed results can be found. \n",
      "query_results_dirs = \\\n",
      " [\"/Users/caporaso/analysis/2014.09.09-tax-assignment-sweep/2014.09.03-tax-parameter-sweep\"]"
     ],
     "language": "python",
     "metadata": {},
     "outputs": [],
     "prompt_number": 18
    },
    {
     "cell_type": "code",
     "collapsed": false,
     "input": [
      "for query_results_dir in query_results_dirs:\n",
      "    method_dirs = glob(join(query_results_dir, '*', '*', '*', '*'))\n",
      "    for method_dir in method_dirs:\n",
      "        fields = method_dir.split(sep)\n",
      "        dataset_id, database_id, method_id  = fields[-3], fields[-2], fields[-1] \n",
      "\n",
      "        if method_id in ('blast', 'rdp'):\n",
      "            new_location = join(subject_results_dir, dataset_id, database_id)\n",
      "            cmd = \"mv %s %s\" % (method_dir, new_location)\n",
      "            !$cmd\n",
      "            "
     ],
     "language": "python",
     "metadata": {},
     "outputs": [],
     "prompt_number": 19
    },
    {
     "cell_type": "code",
     "collapsed": false,
     "input": [],
     "language": "python",
     "metadata": {},
     "outputs": []
    }
   ],
   "metadata": {}
  }
 ]
}