{
 "cells": [
  {
   "cell_type": "markdown",
   "metadata": {},
   "source": [
    "# Mock community dataset generation\n",
    "\n",
    "Run in a [qiime 2.0.6 conda environment](https://docs.qiime2.org/2.0.6/install/).\n",
    "\n",
    "This notebook describes how mock community datasets were retrieved and files were generated for tax-credit comparisons. Only the feature tables, metadata maps, representative sequences, and expected taxonomies are included in tax-credit, but this notebook can regenerate intermediate files, generate these files for new mock communities, or tweaked to benchmark, e.g., quality control or OTU picking methods.\n",
    "\n",
    "All mock communities are hosted on [mockrobiota](http://caporasolab.us/mockrobiota/), though raw reads are deposited elsewhere. To use these mock communities, clone the ``mockrobiota`` repository into the ``repo_dir`` that contains the tax-credit repository."
   ]
  },
  {
   "cell_type": "code",
   "execution_count": 1,
   "metadata": {
    "collapsed": false
   },
   "outputs": [],
   "source": [
    "from tax_credit.process_mocks import *\n",
    "from os.path import expandvars, join"
   ]
  },
  {
   "cell_type": "markdown",
   "metadata": {},
   "source": [
    "Set source/destination filepaths"
   ]
  },
  {
   "cell_type": "code",
   "execution_count": 2,
   "metadata": {
    "collapsed": false
   },
   "outputs": [],
   "source": [
    "# base directory containing tax-credit and mockrobiota repositories\n",
    "repo_dir = expandvars(\"$HOME/Desktop/projects/\")\n",
    "# tax-credit directory\n",
    "project_dir = join(repo_dir, \"short-read-tax-assignment\")\n",
    "# mockrobiota directory\n",
    "mockrobiota_dir = join(repo_dir, \"mockrobiota\")\n",
    "# temp destination for mock community files\n",
    "mock_data_dir = join(repo_dir, \"mock-community\")\n",
    "# destination for expected taxonomy assignments\n",
    "expected_data_dir = join(project_dir, \"data\", \"precomputed-results\", \"mock-community\")\n"
   ]
  },
  {
   "cell_type": "markdown",
   "metadata": {},
   "source": [
    "First we will define which mock communities we plan to use, and necessary parameters"
   ]
  },
  {
   "cell_type": "code",
   "execution_count": 3,
   "metadata": {
    "collapsed": false
   },
   "outputs": [],
   "source": [
    "# We will just use a sequential set of mockrobiota datasets, otherwise list community names manually\n",
    "communities = ['mock-{0}'.format(n) for n in range(1,11)]\n",
    "\n",
    "# Create dictionary of mock community dataset metadata\n",
    "community_metadata = extract_mockrobiota_dataset_metadata(mockrobiota_dir, communities)\n",
    "\n",
    "# Map marker-gene to reference database names in tax-credit and in mockrobiota\n",
    "#           marker-gene  tax-credit-dir  mockrobiota-dir version\n",
    "reference_dbs = {'16S' : ('gg_13_8_otus', 'greengenes', '13_8'),\n",
    "                 'ITS' : ('unite_20.11.2016', 'unite', '97')\n",
    "                }"
   ]
  },
  {
   "cell_type": "markdown",
   "metadata": {},
   "source": [
    "Now we will generate data directories in ``tax-credit`` for each community and begin populating these will files from ``mockrobiota``. This may take some time, as this involves downloading raw data fastq files."
   ]
  },
  {
   "cell_type": "code",
   "execution_count": 4,
   "metadata": {
    "collapsed": false
   },
   "outputs": [],
   "source": [
    "extract_mockrobiota_data(communities, community_metadata, reference_dbs, \n",
    "                         mockrobiota_dir, mock_data_dir, \n",
    "                         expected_data_dir)"
   ]
  },
  {
   "cell_type": "markdown",
   "metadata": {},
   "source": [
    "## Process data in QIIME2\n",
    "Finally, we can get to processing our data. We begin by importing our data, demultiplexing, and viewing a few fastq quality summaries to decide how to trim our raw reads prior to processing."
   ]
  },
  {
   "cell_type": "markdown",
   "metadata": {},
   "source": [
    "Each dataset may require different parameters. For example, some mock communities used here require different barcode orientations. These parameters may be read in as a dictionary of tuples."
   ]
  },
  {
   "cell_type": "code",
   "execution_count": 5,
   "metadata": {
    "collapsed": true
   },
   "outputs": [],
   "source": [
    "# {community : (rev_comp_barcodes, rev_comp_mapping_barcodes)}\n",
    "demux_params = {'mock-1' : (False, True),\n",
    "               'mock-2' : (False, True),\n",
    "               'mock-3' : (False, False),\n",
    "               'mock-4' : (False, True),\n",
    "               'mock-5' : (False, True),\n",
    "               'mock-6' : (False, True),\n",
    "               'mock-7' : (False, True),\n",
    "               'mock-8' : (False, True),\n",
    "               'mock-9' : (False, True),\n",
    "               'mock-10' : (False, True)\n",
    "              }"
   ]
  },
  {
   "cell_type": "code",
   "execution_count": 6,
   "metadata": {
    "collapsed": true
   },
   "outputs": [
    {
     "name": "stdout",
     "output_type": "stream",
     "text": [
      "Running external command line application(s). This may print messages to stdout and/or stderr.\n",
      "The command(s) being run are below. These commands cannot be manually re-run as they will depend on temporary files that no longer exist.\n",
      "\n",
      "Command: profile_quality.R /var/folders/0t/l1dz88p50y91vx_22fx5w3780000gn/T/qiime2-archive-46vxmj3v/8ae9f3dc-8e4f-47e2-834b-75bbfac317f1/data/HMPMockV1.2.Staggered2_4_L001_R1_001.fastq.gz /var/folders/0t/l1dz88p50y91vx_22fx5w3780000gn/T/qiime2-temp-y9urhpgi\n",
      "\n",
      "mock-3 complete\n"
     ]
    }
   ],
   "source": [
    "batch_demux(communities, mock_data_dir, demux_params)"
   ]
  },
  {
   "cell_type": "markdown",
   "metadata": {},
   "source": [
    "To view the ``demux_summary.qzv`` (demultiplexed sequences per sample counts) and ``demux_plot_qual.qzv`` (fastq quality profiles) summaries that you just created, drag and drop the files into [q2view](https://view.qiime2.org/)"
   ]
  },
  {
   "cell_type": "markdown",
   "metadata": {},
   "source": [
    "Use the fastq quality data above to decide how to proceed. As each dataset will have different quality profiles and read lengths, we will enter trimming parameters as a dictionary. We can use this dict to pass other parameters to ``denoise_to_phylogeny()``, including whether we want to build a phylogeny for each community."
   ]
  },
  {
   "cell_type": "code",
   "execution_count": 6,
   "metadata": {
    "collapsed": false
   },
   "outputs": [],
   "source": [
    "# {community : (trim_left, trunc_len, build_phylogeny)}\n",
    "trim_params = {'mock-1' : (0, 100, True),\n",
    "               'mock-2' : (0, 130, True),\n",
    "               'mock-3' : (0, 150, True),\n",
    "               'mock-4' : (0, 150, True),\n",
    "               'mock-5' : (0, 200, True),\n",
    "               'mock-6' : (0, 50, True),\n",
    "               'mock-7' : (0, 90, True),\n",
    "               'mock-8' : (0, 100, True),\n",
    "               'mock-9' : (0, 100, False),\n",
    "               'mock-10' : (0, 100, False)\n",
    "              }"
   ]
  },
  {
   "cell_type": "markdown",
   "metadata": {},
   "source": [
    "Now we will quality filter with ``dada2``, and use the representative sequences to generate a phylogeny."
   ]
  },
  {
   "cell_type": "code",
   "execution_count": 28,
   "metadata": {
    "collapsed": true
   },
   "outputs": [
    {
     "name": "stdout",
     "output_type": "stream",
     "text": [
      "Running external command line application(s). This may print messages to stdout and/or stderr.\n",
      "The command(s) being run are below. These commands cannot be manually re-run as they will depend on temporary files that no longer exist.\n",
      "\n",
      "Command: run_dada.R /var/folders/0t/l1dz88p50y91vx_22fx5w3780000gn/T/qiime2-archive-yy2wiw0u/d6db247c-3690-41fb-b56c-07120727b815/data /var/folders/0t/l1dz88p50y91vx_22fx5w3780000gn/T/tmpc5ewyppv/output.tsv.biom 150 0 2 2 /var/folders/0t/l1dz88p50y91vx_22fx5w3780000gn/T/tmpc5ewyppv\n",
      "\n",
      "Running external command line application. This may print messages to stdout and/or stderr.\n",
      "The command being run is below. This command cannot be manually re-run as it will depend on temporary files that no longer exist.\n",
      "\n",
      "Command: mafft --preservecase /var/folders/0t/l1dz88p50y91vx_22fx5w3780000gn/T/qiime2-archive-jzdwb10g/a8035a93-2717-42c7-9b65-2724958499cd/data/dna-sequences.fasta\n",
      "\n",
      "Running external command line application. This may print messages to stdout and/or stderr.\n",
      "The command being run is below. This command cannot be manually re-run as it will depend on temporary files that no longer exist.\n",
      "\n",
      "Command: FastTree -nt /var/folders/0t/l1dz88p50y91vx_22fx5w3780000gn/T/qiime2-archive-lc4px5az/05e1e781-0e89-4fb5-a263-39f3d11d3895/data/aligned-dna-sequences.fasta\n",
      "\n",
      "mock-4 complete\n",
      "Running external command line application(s). This may print messages to stdout and/or stderr.\n",
      "The command(s) being run are below. These commands cannot be manually re-run as they will depend on temporary files that no longer exist.\n",
      "\n",
      "Command: run_dada.R /var/folders/0t/l1dz88p50y91vx_22fx5w3780000gn/T/qiime2-archive-3jljv943/068656e4-1c24-495e-937a-f423c1a2920e/data /var/folders/0t/l1dz88p50y91vx_22fx5w3780000gn/T/tmplr7pyp5e/output.tsv.biom 200 0 2 2 /var/folders/0t/l1dz88p50y91vx_22fx5w3780000gn/T/tmplr7pyp5e\n",
      "\n",
      "Running external command line application. This may print messages to stdout and/or stderr.\n",
      "The command being run is below. This command cannot be manually re-run as it will depend on temporary files that no longer exist.\n",
      "\n",
      "Command: mafft --preservecase /var/folders/0t/l1dz88p50y91vx_22fx5w3780000gn/T/qiime2-archive-4uz28kq5/f95a1437-38ba-47d7-8662-596591e03c74/data/dna-sequences.fasta\n",
      "\n",
      "Running external command line application. This may print messages to stdout and/or stderr.\n",
      "The command being run is below. This command cannot be manually re-run as it will depend on temporary files that no longer exist.\n",
      "\n",
      "Command: FastTree -nt /var/folders/0t/l1dz88p50y91vx_22fx5w3780000gn/T/qiime2-archive-joon5z3p/52069648-337d-4d7b-a913-fc96494c917d/data/aligned-dna-sequences.fasta\n",
      "\n",
      "mock-5 complete\n",
      "Running external command line application(s). This may print messages to stdout and/or stderr.\n",
      "The command(s) being run are below. These commands cannot be manually re-run as they will depend on temporary files that no longer exist.\n",
      "\n",
      "Command: run_dada.R /var/folders/0t/l1dz88p50y91vx_22fx5w3780000gn/T/qiime2-archive-2t579899/25dc30a4-11c0-4966-9125-50a18dd9c51c/data /var/folders/0t/l1dz88p50y91vx_22fx5w3780000gn/T/tmp3ts6aagj/output.tsv.biom 50 0 2 2 /var/folders/0t/l1dz88p50y91vx_22fx5w3780000gn/T/tmp3ts6aagj\n",
      "\n",
      "Running external command line application. This may print messages to stdout and/or stderr.\n",
      "The command being run is below. This command cannot be manually re-run as it will depend on temporary files that no longer exist.\n",
      "\n",
      "Command: mafft --preservecase /var/folders/0t/l1dz88p50y91vx_22fx5w3780000gn/T/qiime2-archive-qkw_6amr/c1e61522-9945-4687-ba65-97a2dc1b2b0e/data/dna-sequences.fasta\n",
      "\n",
      "Running external command line application. This may print messages to stdout and/or stderr.\n",
      "The command being run is below. This command cannot be manually re-run as it will depend on temporary files that no longer exist.\n",
      "\n",
      "Command: FastTree -nt /var/folders/0t/l1dz88p50y91vx_22fx5w3780000gn/T/qiime2-archive-dbi2jfe0/274573cb-86ce-4228-a14b-a5a56557239b/data/aligned-dna-sequences.fasta\n",
      "\n",
      "mock-6 complete\n",
      "Running external command line application(s). This may print messages to stdout and/or stderr.\n",
      "The command(s) being run are below. These commands cannot be manually re-run as they will depend on temporary files that no longer exist.\n",
      "\n",
      "Command: run_dada.R /var/folders/0t/l1dz88p50y91vx_22fx5w3780000gn/T/qiime2-archive-ammm1ii7/1e7f4687-1616-4c7f-a297-58155b4f693a/data /var/folders/0t/l1dz88p50y91vx_22fx5w3780000gn/T/tmpafkelszo/output.tsv.biom 90 0 2 2 /var/folders/0t/l1dz88p50y91vx_22fx5w3780000gn/T/tmpafkelszo\n",
      "\n",
      "Running external command line application. This may print messages to stdout and/or stderr.\n",
      "The command being run is below. This command cannot be manually re-run as it will depend on temporary files that no longer exist.\n",
      "\n",
      "Command: mafft --preservecase /var/folders/0t/l1dz88p50y91vx_22fx5w3780000gn/T/qiime2-archive-w97ay7dp/65dc7bb7-c4ec-419e-98d0-29b610617f49/data/dna-sequences.fasta\n",
      "\n",
      "Running external command line application. This may print messages to stdout and/or stderr.\n",
      "The command being run is below. This command cannot be manually re-run as it will depend on temporary files that no longer exist.\n",
      "\n",
      "Command: FastTree -nt /var/folders/0t/l1dz88p50y91vx_22fx5w3780000gn/T/qiime2-archive-01587gaf/a13aaf7b-6aea-43d7-a516-a4dfada0a8f8/data/aligned-dna-sequences.fasta\n",
      "\n",
      "mock-7 complete\n",
      "Running external command line application(s). This may print messages to stdout and/or stderr.\n",
      "The command(s) being run are below. These commands cannot be manually re-run as they will depend on temporary files that no longer exist.\n",
      "\n",
      "Command: run_dada.R /var/folders/0t/l1dz88p50y91vx_22fx5w3780000gn/T/qiime2-archive-xvgt8weo/3eaf6487-7284-4dc5-a46b-34297f8b1533/data /var/folders/0t/l1dz88p50y91vx_22fx5w3780000gn/T/tmpcofglqta/output.tsv.biom 100 0 2 2 /var/folders/0t/l1dz88p50y91vx_22fx5w3780000gn/T/tmpcofglqta\n",
      "\n",
      "Running external command line application. This may print messages to stdout and/or stderr.\n",
      "The command being run is below. This command cannot be manually re-run as it will depend on temporary files that no longer exist.\n",
      "\n",
      "Command: mafft --preservecase /var/folders/0t/l1dz88p50y91vx_22fx5w3780000gn/T/qiime2-archive-blhy10n3/66550fa2-f1ea-4c18-94a7-c7f317e36825/data/dna-sequences.fasta\n",
      "\n",
      "Running external command line application. This may print messages to stdout and/or stderr.\n",
      "The command being run is below. This command cannot be manually re-run as it will depend on temporary files that no longer exist.\n",
      "\n",
      "Command: FastTree -nt /var/folders/0t/l1dz88p50y91vx_22fx5w3780000gn/T/qiime2-archive-scan_3e6/b37bfa65-02b1-4463-8104-8c0f4f8a0ea0/data/aligned-dna-sequences.fasta\n",
      "\n",
      "mock-8 complete\n",
      "Running external command line application(s). This may print messages to stdout and/or stderr.\n",
      "The command(s) being run are below. These commands cannot be manually re-run as they will depend on temporary files that no longer exist.\n",
      "\n",
      "Command: run_dada.R /var/folders/0t/l1dz88p50y91vx_22fx5w3780000gn/T/qiime2-archive-bhyfvzm3/531d13d4-548a-47d1-9b8a-836f56038f77/data /var/folders/0t/l1dz88p50y91vx_22fx5w3780000gn/T/tmpq31wf5ae/output.tsv.biom 100 0 2 2 /var/folders/0t/l1dz88p50y91vx_22fx5w3780000gn/T/tmpq31wf5ae\n",
      "\n",
      "mock-9 complete\n",
      "Running external command line application(s). This may print messages to stdout and/or stderr.\n",
      "The command(s) being run are below. These commands cannot be manually re-run as they will depend on temporary files that no longer exist.\n",
      "\n",
      "Command: run_dada.R /var/folders/0t/l1dz88p50y91vx_22fx5w3780000gn/T/qiime2-archive-pla7pcae/6e42477c-fe47-4ba8-9acd-7764f84d65bb/data /var/folders/0t/l1dz88p50y91vx_22fx5w3780000gn/T/tmp1pk_k2qg/output.tsv.biom 100 0 2 2 /var/folders/0t/l1dz88p50y91vx_22fx5w3780000gn/T/tmp1pk_k2qg\n",
      "\n",
      "mock-10 complete\n"
     ]
    }
   ],
   "source": [
    "denoise_to_phylogeny(communities, mock_data_dir, trim_params)"
   ]
  },
  {
   "cell_type": "code",
   "execution_count": 32,
   "metadata": {
    "collapsed": false
   },
   "outputs": [],
   "source": [
    "for num in range(1,11):\n",
    "    seq_fp = '/Users/nbokulich/Desktop/projects/short-read-tax-assignment/data/mock-community/mock-{0}/rep_seqs.qza'.format(num)\n",
    "    test_out = '/Users/nbokulich/Desktop/projects/short-read-tax-assignment/data/mock-community/mock-{0}/rep_seqs.fna'.format(num)\n",
    "    a = Artifact.load(seq_fp)\n",
    "    io.write(a.view(DNAIterator).generator, format='fasta', into=test_out)"
   ]
  },
  {
   "cell_type": "code",
   "execution_count": 21,
   "metadata": {
    "collapsed": false
   },
   "outputs": [],
   "source": [
    "from q2_types import DNAIterator\n",
    "seqs = a.view(DNAIterator)\n",
    "#len(seqs)"
   ]
  },
  {
   "cell_type": "code",
   "execution_count": 30,
   "metadata": {
    "collapsed": false
   },
   "outputs": [
    {
     "data": {
      "text/plain": [
       "'/Users/nbokulich/Desktop/projects/short-read-tax-assignment/data/mock-community/mock-3/test.txt'"
      ]
     },
     "execution_count": 30,
     "metadata": {},
     "output_type": "execute_result"
    }
   ],
   "source": [
    "from skbio import io\n"
   ]
  },
  {
   "cell_type": "markdown",
   "metadata": {},
   "source": [
    "To view the ``feature_table_summary.qzv`` summaries you just created, drag and drop the files into [q2view](https://view.qiime2.org/)"
   ]
  },
  {
   "cell_type": "markdown",
   "metadata": {},
   "source": [
    "## Extract results and move to repo"
   ]
  },
  {
   "cell_type": "code",
   "execution_count": 5,
   "metadata": {
    "collapsed": false
   },
   "outputs": [],
   "source": [
    "transport_to_repo(communities, mock_data_dir, project_dir)"
   ]
  }
 ],
 "metadata": {
  "anaconda-cloud": {},
  "kernelspec": {
   "display_name": "Python [conda env:qiime2-06]",
   "language": "python",
   "name": "conda-env-qiime2-06-py"
  },
  "language_info": {
   "codemirror_mode": {
    "name": "ipython",
    "version": 3
   },
   "file_extension": ".py",
   "mimetype": "text/x-python",
   "name": "python",
   "nbconvert_exporter": "python",
   "pygments_lexer": "ipython3",
   "version": "3.5.2"
  }
 },
 "nbformat": 4,
 "nbformat_minor": 1
}
