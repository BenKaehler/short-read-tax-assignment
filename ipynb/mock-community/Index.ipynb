{
 "cells": [
  {
   "cell_type": "markdown",
   "metadata": {},
   "source": [
    "# Mock community evaluations"
   ]
  },
  {
   "cell_type": "markdown",
   "metadata": {},
   "source": [
    "This notebook describes how to apply the mock community evaluations presented in (Bokulich, Rideout, et al. (in preparation)) to reproduce the analyses in that paper, or to extend them to other data sets. "
   ]
  },
  {
   "cell_type": "markdown",
   "metadata": {},
   "source": [
    "## Structuring new results for comparison to precomputed results"
   ]
  },
  {
   "cell_type": "markdown",
   "metadata": {},
   "source": [
    "\n",
    "To prepare results from another classifier for analysis, you'll need to have [BIOM](http://www.biom-format.org) files with taxonomy assignments as an observation metadata category called ``taxonomy``. An example of how to generate these is presented in the [data generation notebook](./0-generate-tax-assignments.ipynb) in this directory, which was used to generated the precomputed data in the [short-read-tax-assignment repository](https://github.com/gregcaporaso/short-read-tax-assignment/).\n",
    "\n",
    "Your BIOM tables should be called ``table.biom``, and nested in the following directory structure:\n",
    "\n",
    "```\n",
    "results_dir/\n",
    " mock-community/\n",
    "  dataset-id/ \n",
    "   reference-db-id/\n",
    "    method-id/\n",
    "     parameter-combination-id/\n",
    "      table.biom\n",
    "```\n",
    "\n",
    "``results_dir`` is the name of the top level directory, and you will set this value in the first code cell of the analysis notebooks. You can name this directory whatever you want to. ``mock-community`` describes the specific analysis that is being run, and must be named ``mock-community`` for the framework to find your results.\n",
    "\n",
    "This directory structure is identical to that for the [precomputed results](https://github.com/gregcaporaso/short-read-tax-assignment/tree/master/data/precomputed-results). You can review that directory structure for an example of how this should look."
   ]
  },
  {
   "cell_type": "markdown",
   "metadata": {},
   "source": [
    "## Contents"
   ]
  },
  {
   "cell_type": "markdown",
   "metadata": {},
   "source": [
    "* [Data generation](./generate-tax-assignments.ipynb): Creates and executes commands for generating taxonomic assignments for the mock community contained in this package. The results of running this notebook are included in the repository, so it's not necessary to re-run this.\n",
    "* [Analysis base](./base.ipynb): Template for mock community analysis at different taxonomic levels.\n",
    " * [Pre-computed phylum report](./phylum.ipynb)\n",
    " * [Pre-computed class report](./class.ipynb)\n",
    " * [Pre-computed order report](./order.ipynb)\n",
    " * [Pre-computed family report](./family.ipynb)\n",
    " * [Pre-computed genus report](./genus.ipynb)\n",
    " * [Pre-computed species report](./species.ipynb) "
   ]
  }
 ],
 "metadata": {
  "kernelspec": {
   "display_name": "Python 2",
   "language": "python",
   "name": "python2"
  },
  "language_info": {
   "codemirror_mode": {
    "name": "ipython",
    "version": 2
   },
   "file_extension": ".py",
   "mimetype": "text/x-python",
   "name": "python",
   "nbconvert_exporter": "python",
   "pygments_lexer": "ipython2",
   "version": "2.7.3"
  }
 },
 "nbformat": 4,
 "nbformat_minor": 0
}
