{
 "cells": [
  {
   "cell_type": "markdown",
   "metadata": {},
   "source": [
    "# Format reference databases\n",
    "This notebook describes how to format reference databases for taxonomy classification. Taxonomy classification will be more accurate, and faster, if the reference sequences are trimmed to the same region and read length as query sequences. In the case of marker gene sequences, this means that the reference dataset should consist of simulated amplicons. **This notebook only needs to be run once for a given reference database/primer combination** unless if changing the length of the trimmed reference sequences.\n",
    "\n",
    "The first step is to retrieve an appropriate reference database. We will use the [Greengenes 13_8 QIIME release](ftp://greengenes.microbio.me/greengenes_release/gg_13_5/gg_13_8_otus.tar.gz) for classification of 16S rRNA sequences, and [UNITE v. 7.1](https://unite.ut.ee/sh_files/sh_qiime_release_20.11.2016.zip) for fungal ITS sequences. Here we will use \"cleaned\" versions that have ambiguous taxa strings removed, which are located in the tax-credit [reference sequence collection](../../data/ref_dbs/). These are the most recent versions at the time of writing, but you may wish to check for more recent updates for [Greengenes](http://qiime.org/home_static/dataFiles.html) and [UNITE](https://unite.ut.ee/repository.php), and re-\"clean\" using [this notebook](../novel-taxa/novel-taxa-database-generation.ipynb) (or, more directly, use ``tax_credit.framework_functions.clean_database()``).\n",
    "\n",
    "Any other database(s) may be used, simply provide the filepath to the desired database(s) in the cell below.\n",
    "\n",
    "In the following cell, we define the filepaths of the reference databases that we wish to trim, as well as the primers that we will use for trimming. We will use the standard 515f/806r primers for 16S rRNA V4 domain, and BITSf/B58S3r primers for fungal ITS1 domain."
   ]
  },
  {
   "cell_type": "code",
   "execution_count": 9,
   "metadata": {
    "collapsed": true
   },
   "outputs": [],
   "source": [
    "from tax_credit.framework_functions import extract_amplicons\n",
    "from os.path import expandvars, join, splitext, exists\n",
    "\n",
    "from skbio import DNA\n",
    "# import qiime\n",
    "# from qiime.plugins import feature_classifier\n"
   ]
  },
  {
   "cell_type": "code",
   "execution_count": 10,
   "metadata": {
    "collapsed": false
   },
   "outputs": [],
   "source": [
    "# Define the read length to use. This should be the same length, or larger, \n",
    "# than the actual lengths of your sequence reads.\n",
    "read_length = 250\n",
    "\n",
    "# Define the minimum acceptable amplicon length\n",
    "min_read_length = 80\n",
    "\n",
    "# Filepath to directory that contains all reference dataset directories\n",
    "reference_database_dir = expandvars(\"$HOME/Desktop/projects/short-read-tax-assignment/data/ref_dbs/\")\n",
    "\n",
    "# Dictionary of reference dataset names and filepaths to references sequences\n",
    "# and taxonomy file for each.\n",
    "# Format: {dataset-name : (reference sequences, forward primer sequence, \n",
    "#                          reverse primer sequence, name of primer pair)}\n",
    "reference_dbs = {'gg_13_8_otus' : (join(reference_database_dir, \n",
    "                                        'gg_13_8_otus/99_otus_clean.fasta'), \n",
    "                                   \"GTGCCAGCMGCCGCGGTAA\", \n",
    "                                   \"ATTAGAWACCCBDGTAGTCC\",\n",
    "                                   \"515f-806r\"),\n",
    "                 'unite-7.1' : (join(reference_database_dir,\n",
    "                                     'unite_20.11.2016/sh_refs_qiime_ver7_99_20.11.2016_dev_clean.fasta'),\n",
    "                                \"ACCTGCGGARGGATCA\",\n",
    "                                \"GAGATCCRTTGYTRAAAGTT\",\n",
    "                                \"BITSf-B58S3r\"),\n",
    "                 'unite-7.1-ITS1Ff-ITS2r' : (join(reference_database_dir,\n",
    "                                     'unite_20.11.2016/sh_refs_qiime_ver7_99_20.11.2016_dev_clean.fasta'),\n",
    "                                \"CTTGGTCATTTAGAGGAAGTAA\",\n",
    "                                \"GCTGCGTTCTTCATCGATGC\",\n",
    "                                \"ITS1Ff-ITS2r\")\n",
    "                }"
   ]
  },
  {
   "cell_type": "markdown",
   "metadata": {},
   "source": [
    "Now run the following cell. This will generate simulated amplicons from each reference sequence, trim the amplicons to ``read_length`` nt, and write out new files in the same location as the source files. Two files will be written: the simulated amplicons and the simulated reads. If the original file was called ``my_sequences.fasta``, amplicons were generated using 515f-806r and ``read_length`` = 250, the new amplicons will be called ``my_sequences_515f-806r.fasta`` and the new reads will be called ``my_sequences_515f-806r_trim250.fasta``. Sequences that do not align to the primer will be discarded, as will amplicons shorter than ``min_read_length``."
   ]
  },
  {
   "cell_type": "code",
   "execution_count": 11,
   "metadata": {
    "collapsed": false
   },
   "outputs": [],
   "source": [
    "for db in reference_dbs.keys():\n",
    "    seqs, fwd_primer, rev_primer, primer_pair = reference_dbs[db]\n",
    "    base, ext = splitext(seqs)\n",
    "    amplicons_out = '{0}_{1}{2}'.format(base, primer_pair, ext)\n",
    "    reads_out = '{0}_{1}_trim{2}{3}'.format(base, primer_pair,\n",
    "                                        read_length, ext)\n",
    "    if not exists(reads_out):\n",
    "        #seqs_in = qiime.Artifact.import_data(\"FeatureData[Sequence]\", seqs)\n",
    "        #reads = feature_classifier.methods.extract_reads(seqs_in, read_length,\n",
    "        #                                                 fwd_primer, rev_primer)\n",
    "        #reads.save(reads_out)\n",
    "        extract_amplicons(seqs, amplicons_out, reads_out, \n",
    "                          DNA(fwd_primer), DNA(rev_primer),\n",
    "                          read_length, min_read_length)"
   ]
  },
  {
   "cell_type": "code",
   "execution_count": null,
   "metadata": {
    "collapsed": true
   },
   "outputs": [],
   "source": []
  }
 ],
 "metadata": {
  "anaconda-cloud": {},
  "kernelspec": {
   "display_name": "Python [default]",
   "language": "python",
   "name": "python3"
  },
  "language_info": {
   "codemirror_mode": {
    "name": "ipython",
    "version": 3
   },
   "file_extension": ".py",
   "mimetype": "text/x-python",
   "name": "python",
   "nbconvert_exporter": "python",
   "pygments_lexer": "ipython3",
   "version": "3.5.2"
  }
 },
 "nbformat": 4,
 "nbformat_minor": 1
}
