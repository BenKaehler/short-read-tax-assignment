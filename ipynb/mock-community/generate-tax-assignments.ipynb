{
 "metadata": {
  "name": "",
  "signature": "sha256:a615fb2983060d81729f5e7d33d7a290a983cdfc46ef046df8585adf77d78bf1"
 },
 "nbformat": 3,
 "nbformat_minor": 0,
 "worksheets": [
  {
   "cells": [
    {
     "cell_type": "heading",
     "level": 1,
     "metadata": {},
     "source": [
      "Data generation: using python to sweep over methods and parameters"
     ]
    },
    {
     "cell_type": "markdown",
     "metadata": {},
     "source": [
      "In this notebook, we illustrate how to use python to generate a list of commands, and then run those commands in parallel using the IPython parallel framework. In this example, we generate a list of QIIME 1.9.0 ``assign_taxonomy.py`` commands, though this workflow for command generation is generally very useful for performing *parameter sweeps* (i.e., exploration of sets of parameters for achieving a specific result for comparative purposes). \n",
      "\n",
      "Note that this notebook doesn't start the parallel workers. To run the commands in the IPython parallel environment, you'll first need to start the controller and some number of engines. On the QIIME 1.9.0 AWS instance, this can be done as follows (note that you'll need 16GB of RAM per engine to run all of the commands generated in this notebook, so I start 4 jobs on a machine with 68GB of RAM). This should be done in a [screen session](http://www.rackaid.com/blog/linux-screen-tutorial-and-how-to/) to ensure that the workers will continue to run even if your connection is disrupted. \n",
      "\n",
      "```\n",
      "ipcluster start -n 4\n",
      "```\n"
     ]
    },
    {
     "cell_type": "heading",
     "level": 2,
     "metadata": {},
     "source": [
      "Environment preparation"
     ]
    },
    {
     "cell_type": "code",
     "collapsed": false,
     "input": [
      "from os.path import join, exists, split, sep, expandvars \n",
      "from os import makedirs\n",
      "from tempfile import mkstemp\n",
      "from glob import glob\n",
      "from itertools import product\n",
      "from shutil import rmtree"
     ],
     "language": "python",
     "metadata": {},
     "outputs": [],
     "prompt_number": 1
    },
    {
     "cell_type": "code",
     "collapsed": false,
     "input": [
      "project_dir = expandvars(\"$HOME/data/short-read-tax-assignment\")\n",
      "data_dir = join(project_dir, \"data\")\n",
      "\n",
      "reference_database_dir = expandvars(\"$HOME/data/\")\n",
      "results_dir = expandvars(\"$HOME/data/2015.02.24-tax-parameter-sweep\")"
     ],
     "language": "python",
     "metadata": {},
     "outputs": [],
     "prompt_number": 2
    },
    {
     "cell_type": "heading",
     "level": 2,
     "metadata": {},
     "source": [
      "Preparing data set sweep"
     ]
    },
    {
     "cell_type": "markdown",
     "metadata": {},
     "source": [
      "First, we're going to define the data sets that we'll sweep over."
     ]
    },
    {
     "cell_type": "code",
     "collapsed": false,
     "input": [
      "mock_query_results_dir = join(results_dir, \"mock\")\n",
      "\n",
      "dataset_reference_combinations = [\n",
      " ('B1', 'gg_13_8_otus'), # formerly S16S-1\n",
      " ('B2', 'gg_13_8_otus'), # formerly S16S-2\n",
      " ('B3', 'gg_13_8_otus'), # formerly Broad-1\n",
      " ('B4', 'gg_13_8_otus'), # formerly Broad-2\n",
      " ('B5', 'gg_13_8_otus'), # formerly Broad-3\n",
      " ('B6', 'gg_13_8_otus'), # formerly Turnbaugh-1\n",
      " ('B7', 'gg_13_8_otus'), # formerly Turnbaugh-2\n",
      " ('B8', 'gg_13_8_otus'), # formerly Turnbaugh-3\n",
      " ('F1', 'unite-97-rep-set'), # formerly ITS1\n",
      " ('F2', 'unite-97-rep-set'), # formerly ITS2-SAG\n",
      "]\n",
      "\n",
      "reference_dbs = {'gg_13_8_otus' : (join(reference_database_dir, 'gg_13_8_otus/rep_set/97_otus.fasta'), \n",
      "                                   join(reference_database_dir, 'gg_13_8_otus/taxonomy/97_otu_taxonomy.txt')),\n",
      "                 'unite-97-rep-set' : (join(reference_database_dir, 'unite-14.11/97_otus.fasta'), \n",
      "                                       join(reference_database_dir, 'unite-14.11/97_otu_taxonomy.txt'))}"
     ],
     "language": "python",
     "metadata": {},
     "outputs": [],
     "prompt_number": 3
    },
    {
     "cell_type": "heading",
     "level": 2,
     "metadata": {},
     "source": [
      "Preparing the method/parameter combinations and generating commands"
     ]
    },
    {
     "cell_type": "code",
     "collapsed": false,
     "input": [
      "\n",
      "method_parameters_combinations = { # probabalistic classifiers\n",
      "              'rdp': {'confidence': [0.0, 0.1, 0.2, 0.3, 0.4, 0.5, 0.6, 0.7, 0.8, 0.9, 1.0]},\n",
      "              \n",
      "              # global alignment classifiers\n",
      "              'uclust': {'min_consensus_fraction': [0.51, 0.76, 1.0], \n",
      "                         'similarity': [0.8, 0.9],\n",
      "                         'uclust_max_accepts': [1, 3, 5]},\n",
      "             \n",
      "              # local alignment classifiers\n",
      "              'sortmerna': {'sortmerna_e_value': [1.0],\n",
      "                            'min_consensus_fraction': [0.51, 0.76, 1.0], \n",
      "                            'similarity': [0.8, 0.9],\n",
      "                            'sortmerna_best_N_alignments ': [1, 3, 5],\n",
      "                            'sortmerna_coverage' : [0.8, 0.9]},\n",
      "              'blast': {'blast_e_value': [10000.0, 0.001, 0.000000001]}\n",
      "             }"
     ],
     "language": "python",
     "metadata": {},
     "outputs": [],
     "prompt_number": 4
    },
    {
     "cell_type": "code",
     "collapsed": false,
     "input": [
      "analyses = ['mock-community']"
     ],
     "language": "python",
     "metadata": {},
     "outputs": [],
     "prompt_number": 5
    },
    {
     "cell_type": "code",
     "collapsed": false,
     "input": [
      "commands = []\n",
      "command_template = \"mkdir -p %s ; assign_taxonomy.py -i %s -o %s -r %s -t %s -m %s %s --rdp_max_memory 16000\"\n",
      "for analysis in analyses:\n",
      "    analysis_input_dir = join(data_dir, analysis)\n",
      "    analysis_output_dir = join(results_dir, analysis)\n",
      "    for dataset, reference in dataset_reference_combinations:\n",
      "        dataset_input_dir = join(analysis_input_dir, dataset)\n",
      "        dataset_input_seqs = join(dataset_input_dir, 'rep_set.fna')\n",
      "        dataset_input_table = join(dataset_input_dir, 'table.biom')\n",
      "        reference_seqs, reference_tax = reference_dbs[reference]\n",
      "        dataset_output_dir = join(analysis_output_dir, dataset, reference)\n",
      "        for method, parameters in method_parameters_combinations.items():\n",
      "            method_output_dir = join(dataset_output_dir, method)\n",
      "            parameter_ids = parameters.keys()\n",
      "            parameter_ids.sort()\n",
      "            for parameter_combination in product(*[parameters[id_] for id_ in parameter_ids]):\n",
      "                parameter_comb_id = ':'.join(map(str,parameter_combination))\n",
      "                parameter_output_dir = join(method_output_dir, parameter_comb_id)\n",
      "                if not exists(join(parameter_output_dir, 'rep_set_tax_assignments.txt')):\n",
      "                    parameter_str = ' '.join(['--%s %s' % e for e in zip(parameter_ids, parameter_combination)])\n",
      "                    command = command_template % (parameter_output_dir, dataset_input_seqs, \n",
      "                                                  parameter_output_dir, reference_seqs, \n",
      "                                                  reference_tax, method, parameter_str)\n",
      "                commands.append(command)"
     ],
     "language": "python",
     "metadata": {},
     "outputs": [],
     "prompt_number": 6
    },
    {
     "cell_type": "markdown",
     "metadata": {},
     "source": [
      "As a sanity check, we can look at the first command that was generated."
     ]
    },
    {
     "cell_type": "code",
     "collapsed": false,
     "input": [
      "commands[0]"
     ],
     "language": "python",
     "metadata": {},
     "outputs": [
      {
       "metadata": {},
       "output_type": "pyout",
       "prompt_number": 9,
       "text": [
        "'mkdir -p /home/ubuntu/data/2015.02.24-tax-parameter-sweep/mock-community/F1/unite-97-rep-set/sortmerna/0.51:0.8:1:0.8:1.0 ; assign_taxonomy.py -i /home/ubuntu/data/short-read-tax-assignment/data/mock-community/F1/rep_set.fna -o /home/ubuntu/data/2015.02.24-tax-parameter-sweep/mock-community/F1/unite-97-rep-set/sortmerna/0.51:0.8:1:0.8:1.0 -r /home/ubuntu/data/unite-14.11/97_otus.fasta -t /home/ubuntu/data/unite-14.11/97_otu_taxonomy.txt -m sortmerna --min_consensus_fraction 0.51 --similarity 0.8 --sortmerna_best_N_alignments  1 --sortmerna_coverage 0.8 --sortmerna_e_value 1.0 --rdp_max_memory 16000'"
       ]
      }
     ],
     "prompt_number": 9
    },
    {
     "cell_type": "heading",
     "level": 2,
     "metadata": {},
     "source": [
      "Parallel command execution"
     ]
    },
    {
     "cell_type": "code",
     "collapsed": false,
     "input": [
      "from IPython.parallel import Client\n",
      "rc = Client()\n",
      "lview = rc.load_balanced_view()\n",
      "\n",
      "@lview.parallel()\n",
      "def call_cmd(cmd):\n",
      "    from qcli import qcli_system_call\n",
      "    stdout, stderr, retval = qcli_system_call(cmd)\n",
      "    # return stdout, stderr, the return value, and the command\n",
      "    # the command is useful in case it needs to be re-run\n",
      "    return stdout, stderr, retval, cmd"
     ],
     "language": "python",
     "metadata": {},
     "outputs": [],
     "prompt_number": 10
    },
    {
     "cell_type": "code",
     "collapsed": false,
     "input": [
      "r = call_cmd.map(commands)"
     ],
     "language": "python",
     "metadata": {},
     "outputs": [],
     "prompt_number": 11
    },
    {
     "cell_type": "heading",
     "level": 2,
     "metadata": {},
     "source": [
      "Generate per-method biom tables"
     ]
    },
    {
     "cell_type": "code",
     "collapsed": false,
     "input": [
      "mock_community_data_dir = join(project_dir, 'data', 'mock-community')\n",
      "biom_output_fps = []\n",
      "\n",
      "glob_str = join(results_dir, '*', '*', '*', '*', '*', 'rep_set_tax_assignments.txt')\n",
      "taxonomy_map_fps = glob(expandvars(glob_str))"
     ],
     "language": "python",
     "metadata": {},
     "outputs": [],
     "prompt_number": 13
    },
    {
     "cell_type": "code",
     "collapsed": false,
     "input": [
      "for taxonomy_map_fp in taxonomy_map_fps:\n",
      "    dataset_id = taxonomy_map_fp.split(sep)[-5]\n",
      "    biom_input_fp = join(mock_community_data_dir, dataset_id, 'table-no-tax.biom')\n",
      "    output_dir = split(taxonomy_map_fp)[0]\n",
      "    biom_output_fp = join(output_dir,'table.biom')\n",
      "    if exists(biom_output_fp):\n",
      "        !rm $biom_output_fp\n",
      "    cmd = \"biom add-metadata -i %s -o %s --observation-metadata-fp %s --observation-header otuid,taxonomy --sc-separated taxonomy --output-as-json\" % (biom_input_fp, biom_output_fp, taxonomy_map_fp)\n",
      "    !$cmd\n",
      "    biom_output_fps.append(biom_output_fp)"
     ],
     "language": "python",
     "metadata": {},
     "outputs": [],
     "prompt_number": 15
    },
    {
     "cell_type": "code",
     "collapsed": false,
     "input": [
      "biom_output_fps"
     ],
     "language": "python",
     "metadata": {},
     "outputs": [
      {
       "metadata": {},
       "output_type": "pyout",
       "prompt_number": 16,
       "text": [
        "['/home/ubuntu/data/2015.02.24-tax-parameter-sweep/mock-community/F2/unite-97-rep-set/sortmerna/0.76:0.9:5:0.8:1.0/table.biom',\n",
        " '/home/ubuntu/data/2015.02.24-tax-parameter-sweep/mock-community/F2/unite-97-rep-set/sortmerna/1.0:0.9:3:0.9:1.0/table.biom',\n",
        " '/home/ubuntu/data/2015.02.24-tax-parameter-sweep/mock-community/F2/unite-97-rep-set/sortmerna/0.51:0.9:3:0.9:1.0/table.biom',\n",
        " '/home/ubuntu/data/2015.02.24-tax-parameter-sweep/mock-community/F2/unite-97-rep-set/sortmerna/0.76:0.9:1:0.9:1.0/table.biom',\n",
        " '/home/ubuntu/data/2015.02.24-tax-parameter-sweep/mock-community/F2/unite-97-rep-set/sortmerna/0.51:0.8:1:0.8:1.0/table.biom',\n",
        " '/home/ubuntu/data/2015.02.24-tax-parameter-sweep/mock-community/F2/unite-97-rep-set/sortmerna/0.76:0.8:5:0.9:1.0/table.biom',\n",
        " '/home/ubuntu/data/2015.02.24-tax-parameter-sweep/mock-community/F2/unite-97-rep-set/sortmerna/0.51:0.8:5:0.8:1.0/table.biom',\n",
        " '/home/ubuntu/data/2015.02.24-tax-parameter-sweep/mock-community/F2/unite-97-rep-set/sortmerna/0.76:0.9:5:0.9:1.0/table.biom',\n",
        " '/home/ubuntu/data/2015.02.24-tax-parameter-sweep/mock-community/F2/unite-97-rep-set/sortmerna/0.76:0.9:1:0.8:1.0/table.biom',\n",
        " '/home/ubuntu/data/2015.02.24-tax-parameter-sweep/mock-community/F2/unite-97-rep-set/sortmerna/0.51:0.8:3:0.8:1.0/table.biom',\n",
        " '/home/ubuntu/data/2015.02.24-tax-parameter-sweep/mock-community/F2/unite-97-rep-set/sortmerna/0.76:0.8:1:0.8:1.0/table.biom',\n",
        " '/home/ubuntu/data/2015.02.24-tax-parameter-sweep/mock-community/F2/unite-97-rep-set/sortmerna/0.51:0.9:5:0.8:1.0/table.biom',\n",
        " '/home/ubuntu/data/2015.02.24-tax-parameter-sweep/mock-community/F2/unite-97-rep-set/sortmerna/1.0:0.8:1:0.9:1.0/table.biom',\n",
        " '/home/ubuntu/data/2015.02.24-tax-parameter-sweep/mock-community/F2/unite-97-rep-set/sortmerna/1.0:0.9:1:0.9:1.0/table.biom',\n",
        " '/home/ubuntu/data/2015.02.24-tax-parameter-sweep/mock-community/F2/unite-97-rep-set/sortmerna/0.76:0.8:3:0.9:1.0/table.biom',\n",
        " '/home/ubuntu/data/2015.02.24-tax-parameter-sweep/mock-community/F2/unite-97-rep-set/sortmerna/0.51:0.9:1:0.9:1.0/table.biom',\n",
        " '/home/ubuntu/data/2015.02.24-tax-parameter-sweep/mock-community/F2/unite-97-rep-set/sortmerna/0.76:0.8:3:0.8:1.0/table.biom',\n",
        " '/home/ubuntu/data/2015.02.24-tax-parameter-sweep/mock-community/F2/unite-97-rep-set/sortmerna/1.0:0.9:5:0.8:1.0/table.biom',\n",
        " '/home/ubuntu/data/2015.02.24-tax-parameter-sweep/mock-community/F2/unite-97-rep-set/sortmerna/0.51:0.9:1:0.8:1.0/table.biom',\n",
        " '/home/ubuntu/data/2015.02.24-tax-parameter-sweep/mock-community/F2/unite-97-rep-set/sortmerna/1.0:0.8:3:0.9:1.0/table.biom',\n",
        " '/home/ubuntu/data/2015.02.24-tax-parameter-sweep/mock-community/F2/unite-97-rep-set/sortmerna/0.51:0.9:3:0.8:1.0/table.biom',\n",
        " '/home/ubuntu/data/2015.02.24-tax-parameter-sweep/mock-community/F2/unite-97-rep-set/sortmerna/1.0:0.9:3:0.8:1.0/table.biom',\n",
        " '/home/ubuntu/data/2015.02.24-tax-parameter-sweep/mock-community/F2/unite-97-rep-set/sortmerna/0.76:0.8:5:0.8:1.0/table.biom',\n",
        " '/home/ubuntu/data/2015.02.24-tax-parameter-sweep/mock-community/F2/unite-97-rep-set/sortmerna/0.76:0.8:1:0.9:1.0/table.biom',\n",
        " '/home/ubuntu/data/2015.02.24-tax-parameter-sweep/mock-community/F2/unite-97-rep-set/sortmerna/0.51:0.8:3:0.9:1.0/table.biom',\n",
        " '/home/ubuntu/data/2015.02.24-tax-parameter-sweep/mock-community/F2/unite-97-rep-set/sortmerna/1.0:0.9:1:0.8:1.0/table.biom',\n",
        " '/home/ubuntu/data/2015.02.24-tax-parameter-sweep/mock-community/F2/unite-97-rep-set/sortmerna/1.0:0.8:1:0.8:1.0/table.biom',\n",
        " '/home/ubuntu/data/2015.02.24-tax-parameter-sweep/mock-community/F2/unite-97-rep-set/sortmerna/1.0:0.9:5:0.9:1.0/table.biom',\n",
        " '/home/ubuntu/data/2015.02.24-tax-parameter-sweep/mock-community/F2/unite-97-rep-set/sortmerna/0.51:0.9:5:0.9:1.0/table.biom',\n",
        " '/home/ubuntu/data/2015.02.24-tax-parameter-sweep/mock-community/F2/unite-97-rep-set/sortmerna/0.51:0.8:5:0.9:1.0/table.biom',\n",
        " '/home/ubuntu/data/2015.02.24-tax-parameter-sweep/mock-community/F2/unite-97-rep-set/sortmerna/0.76:0.9:3:0.8:1.0/table.biom',\n",
        " '/home/ubuntu/data/2015.02.24-tax-parameter-sweep/mock-community/F2/unite-97-rep-set/sortmerna/0.76:0.9:3:0.9:1.0/table.biom',\n",
        " '/home/ubuntu/data/2015.02.24-tax-parameter-sweep/mock-community/F2/unite-97-rep-set/sortmerna/0.51:0.8:1:0.9:1.0/table.biom',\n",
        " '/home/ubuntu/data/2015.02.24-tax-parameter-sweep/mock-community/F2/unite-97-rep-set/sortmerna/1.0:0.8:5:0.8:1.0/table.biom',\n",
        " '/home/ubuntu/data/2015.02.24-tax-parameter-sweep/mock-community/F2/unite-97-rep-set/sortmerna/1.0:0.8:5:0.9:1.0/table.biom',\n",
        " '/home/ubuntu/data/2015.02.24-tax-parameter-sweep/mock-community/F2/unite-97-rep-set/sortmerna/1.0:0.8:3:0.8:1.0/table.biom',\n",
        " '/home/ubuntu/data/2015.02.24-tax-parameter-sweep/mock-community/F2/unite-97-rep-set/blast/1e-09/table.biom',\n",
        " '/home/ubuntu/data/2015.02.24-tax-parameter-sweep/mock-community/F2/unite-97-rep-set/blast/0.001/table.biom',\n",
        " '/home/ubuntu/data/2015.02.24-tax-parameter-sweep/mock-community/F2/unite-97-rep-set/blast/10000.0/table.biom',\n",
        " '/home/ubuntu/data/2015.02.24-tax-parameter-sweep/mock-community/F2/unite-97-rep-set/rdp/0.2/table.biom',\n",
        " '/home/ubuntu/data/2015.02.24-tax-parameter-sweep/mock-community/F2/unite-97-rep-set/rdp/1.0/table.biom',\n",
        " '/home/ubuntu/data/2015.02.24-tax-parameter-sweep/mock-community/F2/unite-97-rep-set/rdp/0.4/table.biom',\n",
        " '/home/ubuntu/data/2015.02.24-tax-parameter-sweep/mock-community/F2/unite-97-rep-set/rdp/0.1/table.biom',\n",
        " '/home/ubuntu/data/2015.02.24-tax-parameter-sweep/mock-community/F2/unite-97-rep-set/rdp/0.9/table.biom',\n",
        " '/home/ubuntu/data/2015.02.24-tax-parameter-sweep/mock-community/F2/unite-97-rep-set/rdp/0.5/table.biom',\n",
        " '/home/ubuntu/data/2015.02.24-tax-parameter-sweep/mock-community/F2/unite-97-rep-set/rdp/0.7/table.biom',\n",
        " '/home/ubuntu/data/2015.02.24-tax-parameter-sweep/mock-community/F2/unite-97-rep-set/rdp/0.0/table.biom',\n",
        " '/home/ubuntu/data/2015.02.24-tax-parameter-sweep/mock-community/F2/unite-97-rep-set/rdp/0.6/table.biom',\n",
        " '/home/ubuntu/data/2015.02.24-tax-parameter-sweep/mock-community/F2/unite-97-rep-set/rdp/0.8/table.biom',\n",
        " '/home/ubuntu/data/2015.02.24-tax-parameter-sweep/mock-community/F2/unite-97-rep-set/rdp/0.3/table.biom',\n",
        " '/home/ubuntu/data/2015.02.24-tax-parameter-sweep/mock-community/F2/unite-97-rep-set/uclust/0.76:0.9:3/table.biom',\n",
        " '/home/ubuntu/data/2015.02.24-tax-parameter-sweep/mock-community/F2/unite-97-rep-set/uclust/0.51:0.8:1/table.biom',\n",
        " '/home/ubuntu/data/2015.02.24-tax-parameter-sweep/mock-community/F2/unite-97-rep-set/uclust/1.0:0.9:1/table.biom',\n",
        " '/home/ubuntu/data/2015.02.24-tax-parameter-sweep/mock-community/F2/unite-97-rep-set/uclust/0.76:0.9:5/table.biom',\n",
        " '/home/ubuntu/data/2015.02.24-tax-parameter-sweep/mock-community/F2/unite-97-rep-set/uclust/0.51:0.9:3/table.biom',\n",
        " '/home/ubuntu/data/2015.02.24-tax-parameter-sweep/mock-community/F2/unite-97-rep-set/uclust/0.51:0.9:1/table.biom',\n",
        " '/home/ubuntu/data/2015.02.24-tax-parameter-sweep/mock-community/F2/unite-97-rep-set/uclust/0.51:0.9:5/table.biom',\n",
        " '/home/ubuntu/data/2015.02.24-tax-parameter-sweep/mock-community/F2/unite-97-rep-set/uclust/1.0:0.8:5/table.biom',\n",
        " '/home/ubuntu/data/2015.02.24-tax-parameter-sweep/mock-community/F2/unite-97-rep-set/uclust/1.0:0.9:3/table.biom',\n",
        " '/home/ubuntu/data/2015.02.24-tax-parameter-sweep/mock-community/F2/unite-97-rep-set/uclust/0.51:0.8:5/table.biom',\n",
        " '/home/ubuntu/data/2015.02.24-tax-parameter-sweep/mock-community/F2/unite-97-rep-set/uclust/0.76:0.8:1/table.biom',\n",
        " '/home/ubuntu/data/2015.02.24-tax-parameter-sweep/mock-community/F2/unite-97-rep-set/uclust/0.76:0.8:3/table.biom',\n",
        " '/home/ubuntu/data/2015.02.24-tax-parameter-sweep/mock-community/F2/unite-97-rep-set/uclust/1.0:0.8:1/table.biom',\n",
        " '/home/ubuntu/data/2015.02.24-tax-parameter-sweep/mock-community/F2/unite-97-rep-set/uclust/0.51:0.8:3/table.biom',\n",
        " '/home/ubuntu/data/2015.02.24-tax-parameter-sweep/mock-community/F2/unite-97-rep-set/uclust/0.76:0.9:1/table.biom',\n",
        " '/home/ubuntu/data/2015.02.24-tax-parameter-sweep/mock-community/F2/unite-97-rep-set/uclust/1.0:0.9:5/table.biom',\n",
        " '/home/ubuntu/data/2015.02.24-tax-parameter-sweep/mock-community/F2/unite-97-rep-set/uclust/0.76:0.8:5/table.biom',\n",
        " '/home/ubuntu/data/2015.02.24-tax-parameter-sweep/mock-community/F2/unite-97-rep-set/uclust/1.0:0.8:3/table.biom',\n",
        " '/home/ubuntu/data/2015.02.24-tax-parameter-sweep/mock-community/F1/unite-97-rep-set/sortmerna/0.76:0.9:5:0.8:1.0/table.biom',\n",
        " '/home/ubuntu/data/2015.02.24-tax-parameter-sweep/mock-community/F1/unite-97-rep-set/sortmerna/1.0:0.9:3:0.9:1.0/table.biom',\n",
        " '/home/ubuntu/data/2015.02.24-tax-parameter-sweep/mock-community/F1/unite-97-rep-set/sortmerna/0.51:0.9:3:0.9:1.0/table.biom',\n",
        " '/home/ubuntu/data/2015.02.24-tax-parameter-sweep/mock-community/F1/unite-97-rep-set/sortmerna/0.76:0.9:1:0.9:1.0/table.biom',\n",
        " '/home/ubuntu/data/2015.02.24-tax-parameter-sweep/mock-community/F1/unite-97-rep-set/sortmerna/0.51:0.8:1:0.8:1.0/table.biom',\n",
        " '/home/ubuntu/data/2015.02.24-tax-parameter-sweep/mock-community/F1/unite-97-rep-set/sortmerna/0.76:0.8:5:0.9:1.0/table.biom',\n",
        " '/home/ubuntu/data/2015.02.24-tax-parameter-sweep/mock-community/F1/unite-97-rep-set/sortmerna/0.51:0.8:5:0.8:1.0/table.biom',\n",
        " '/home/ubuntu/data/2015.02.24-tax-parameter-sweep/mock-community/F1/unite-97-rep-set/sortmerna/0.76:0.9:5:0.9:1.0/table.biom',\n",
        " '/home/ubuntu/data/2015.02.24-tax-parameter-sweep/mock-community/F1/unite-97-rep-set/sortmerna/0.76:0.9:1:0.8:1.0/table.biom',\n",
        " '/home/ubuntu/data/2015.02.24-tax-parameter-sweep/mock-community/F1/unite-97-rep-set/sortmerna/0.51:0.8:3:0.8:1.0/table.biom',\n",
        " '/home/ubuntu/data/2015.02.24-tax-parameter-sweep/mock-community/F1/unite-97-rep-set/sortmerna/0.76:0.8:1:0.8:1.0/table.biom',\n",
        " '/home/ubuntu/data/2015.02.24-tax-parameter-sweep/mock-community/F1/unite-97-rep-set/sortmerna/0.51:0.9:5:0.8:1.0/table.biom',\n",
        " '/home/ubuntu/data/2015.02.24-tax-parameter-sweep/mock-community/F1/unite-97-rep-set/sortmerna/1.0:0.8:1:0.9:1.0/table.biom',\n",
        " '/home/ubuntu/data/2015.02.24-tax-parameter-sweep/mock-community/F1/unite-97-rep-set/sortmerna/1.0:0.9:1:0.9:1.0/table.biom',\n",
        " '/home/ubuntu/data/2015.02.24-tax-parameter-sweep/mock-community/F1/unite-97-rep-set/sortmerna/0.76:0.8:3:0.9:1.0/table.biom',\n",
        " '/home/ubuntu/data/2015.02.24-tax-parameter-sweep/mock-community/F1/unite-97-rep-set/sortmerna/0.51:0.9:1:0.9:1.0/table.biom',\n",
        " '/home/ubuntu/data/2015.02.24-tax-parameter-sweep/mock-community/F1/unite-97-rep-set/sortmerna/0.76:0.8:3:0.8:1.0/table.biom',\n",
        " '/home/ubuntu/data/2015.02.24-tax-parameter-sweep/mock-community/F1/unite-97-rep-set/sortmerna/1.0:0.9:5:0.8:1.0/table.biom',\n",
        " '/home/ubuntu/data/2015.02.24-tax-parameter-sweep/mock-community/F1/unite-97-rep-set/sortmerna/0.51:0.9:1:0.8:1.0/table.biom',\n",
        " '/home/ubuntu/data/2015.02.24-tax-parameter-sweep/mock-community/F1/unite-97-rep-set/sortmerna/1.0:0.8:3:0.9:1.0/table.biom',\n",
        " '/home/ubuntu/data/2015.02.24-tax-parameter-sweep/mock-community/F1/unite-97-rep-set/sortmerna/0.51:0.9:3:0.8:1.0/table.biom',\n",
        " '/home/ubuntu/data/2015.02.24-tax-parameter-sweep/mock-community/F1/unite-97-rep-set/sortmerna/1.0:0.9:3:0.8:1.0/table.biom',\n",
        " '/home/ubuntu/data/2015.02.24-tax-parameter-sweep/mock-community/F1/unite-97-rep-set/sortmerna/0.76:0.8:5:0.8:1.0/table.biom',\n",
        " '/home/ubuntu/data/2015.02.24-tax-parameter-sweep/mock-community/F1/unite-97-rep-set/sortmerna/0.76:0.8:1:0.9:1.0/table.biom',\n",
        " '/home/ubuntu/data/2015.02.24-tax-parameter-sweep/mock-community/F1/unite-97-rep-set/sortmerna/0.51:0.8:3:0.9:1.0/table.biom',\n",
        " '/home/ubuntu/data/2015.02.24-tax-parameter-sweep/mock-community/F1/unite-97-rep-set/sortmerna/1.0:0.9:1:0.8:1.0/table.biom',\n",
        " '/home/ubuntu/data/2015.02.24-tax-parameter-sweep/mock-community/F1/unite-97-rep-set/sortmerna/1.0:0.8:1:0.8:1.0/table.biom',\n",
        " '/home/ubuntu/data/2015.02.24-tax-parameter-sweep/mock-community/F1/unite-97-rep-set/sortmerna/1.0:0.9:5:0.9:1.0/table.biom',\n",
        " '/home/ubuntu/data/2015.02.24-tax-parameter-sweep/mock-community/F1/unite-97-rep-set/sortmerna/0.51:0.9:5:0.9:1.0/table.biom',\n",
        " '/home/ubuntu/data/2015.02.24-tax-parameter-sweep/mock-community/F1/unite-97-rep-set/sortmerna/0.51:0.8:5:0.9:1.0/table.biom',\n",
        " '/home/ubuntu/data/2015.02.24-tax-parameter-sweep/mock-community/F1/unite-97-rep-set/sortmerna/0.76:0.9:3:0.8:1.0/table.biom',\n",
        " '/home/ubuntu/data/2015.02.24-tax-parameter-sweep/mock-community/F1/unite-97-rep-set/sortmerna/0.76:0.9:3:0.9:1.0/table.biom',\n",
        " '/home/ubuntu/data/2015.02.24-tax-parameter-sweep/mock-community/F1/unite-97-rep-set/sortmerna/0.51:0.8:1:0.9:1.0/table.biom',\n",
        " '/home/ubuntu/data/2015.02.24-tax-parameter-sweep/mock-community/F1/unite-97-rep-set/sortmerna/1.0:0.8:5:0.8:1.0/table.biom',\n",
        " '/home/ubuntu/data/2015.02.24-tax-parameter-sweep/mock-community/F1/unite-97-rep-set/sortmerna/1.0:0.8:5:0.9:1.0/table.biom',\n",
        " '/home/ubuntu/data/2015.02.24-tax-parameter-sweep/mock-community/F1/unite-97-rep-set/sortmerna/1.0:0.8:3:0.8:1.0/table.biom',\n",
        " '/home/ubuntu/data/2015.02.24-tax-parameter-sweep/mock-community/F1/unite-97-rep-set/blast/1e-09/table.biom',\n",
        " '/home/ubuntu/data/2015.02.24-tax-parameter-sweep/mock-community/F1/unite-97-rep-set/blast/0.001/table.biom',\n",
        " '/home/ubuntu/data/2015.02.24-tax-parameter-sweep/mock-community/F1/unite-97-rep-set/blast/10000.0/table.biom',\n",
        " '/home/ubuntu/data/2015.02.24-tax-parameter-sweep/mock-community/F1/unite-97-rep-set/rdp/0.2/table.biom',\n",
        " '/home/ubuntu/data/2015.02.24-tax-parameter-sweep/mock-community/F1/unite-97-rep-set/rdp/1.0/table.biom',\n",
        " '/home/ubuntu/data/2015.02.24-tax-parameter-sweep/mock-community/F1/unite-97-rep-set/rdp/0.4/table.biom',\n",
        " '/home/ubuntu/data/2015.02.24-tax-parameter-sweep/mock-community/F1/unite-97-rep-set/rdp/0.1/table.biom',\n",
        " '/home/ubuntu/data/2015.02.24-tax-parameter-sweep/mock-community/F1/unite-97-rep-set/rdp/0.9/table.biom',\n",
        " '/home/ubuntu/data/2015.02.24-tax-parameter-sweep/mock-community/F1/unite-97-rep-set/rdp/0.5/table.biom',\n",
        " '/home/ubuntu/data/2015.02.24-tax-parameter-sweep/mock-community/F1/unite-97-rep-set/rdp/0.7/table.biom',\n",
        " '/home/ubuntu/data/2015.02.24-tax-parameter-sweep/mock-community/F1/unite-97-rep-set/rdp/0.0/table.biom',\n",
        " '/home/ubuntu/data/2015.02.24-tax-parameter-sweep/mock-community/F1/unite-97-rep-set/rdp/0.6/table.biom',\n",
        " '/home/ubuntu/data/2015.02.24-tax-parameter-sweep/mock-community/F1/unite-97-rep-set/rdp/0.8/table.biom',\n",
        " '/home/ubuntu/data/2015.02.24-tax-parameter-sweep/mock-community/F1/unite-97-rep-set/rdp/0.3/table.biom',\n",
        " '/home/ubuntu/data/2015.02.24-tax-parameter-sweep/mock-community/F1/unite-97-rep-set/uclust/0.76:0.9:3/table.biom',\n",
        " '/home/ubuntu/data/2015.02.24-tax-parameter-sweep/mock-community/F1/unite-97-rep-set/uclust/0.51:0.8:1/table.biom',\n",
        " '/home/ubuntu/data/2015.02.24-tax-parameter-sweep/mock-community/F1/unite-97-rep-set/uclust/1.0:0.9:1/table.biom',\n",
        " '/home/ubuntu/data/2015.02.24-tax-parameter-sweep/mock-community/F1/unite-97-rep-set/uclust/0.76:0.9:5/table.biom',\n",
        " '/home/ubuntu/data/2015.02.24-tax-parameter-sweep/mock-community/F1/unite-97-rep-set/uclust/0.51:0.9:3/table.biom',\n",
        " '/home/ubuntu/data/2015.02.24-tax-parameter-sweep/mock-community/F1/unite-97-rep-set/uclust/0.51:0.9:1/table.biom',\n",
        " '/home/ubuntu/data/2015.02.24-tax-parameter-sweep/mock-community/F1/unite-97-rep-set/uclust/0.51:0.9:5/table.biom',\n",
        " '/home/ubuntu/data/2015.02.24-tax-parameter-sweep/mock-community/F1/unite-97-rep-set/uclust/1.0:0.8:5/table.biom',\n",
        " '/home/ubuntu/data/2015.02.24-tax-parameter-sweep/mock-community/F1/unite-97-rep-set/uclust/1.0:0.9:3/table.biom',\n",
        " '/home/ubuntu/data/2015.02.24-tax-parameter-sweep/mock-community/F1/unite-97-rep-set/uclust/0.51:0.8:5/table.biom',\n",
        " '/home/ubuntu/data/2015.02.24-tax-parameter-sweep/mock-community/F1/unite-97-rep-set/uclust/0.76:0.8:1/table.biom',\n",
        " '/home/ubuntu/data/2015.02.24-tax-parameter-sweep/mock-community/F1/unite-97-rep-set/uclust/0.76:0.8:3/table.biom',\n",
        " '/home/ubuntu/data/2015.02.24-tax-parameter-sweep/mock-community/F1/unite-97-rep-set/uclust/1.0:0.8:1/table.biom',\n",
        " '/home/ubuntu/data/2015.02.24-tax-parameter-sweep/mock-community/F1/unite-97-rep-set/uclust/0.51:0.8:3/table.biom',\n",
        " '/home/ubuntu/data/2015.02.24-tax-parameter-sweep/mock-community/F1/unite-97-rep-set/uclust/0.76:0.9:1/table.biom',\n",
        " '/home/ubuntu/data/2015.02.24-tax-parameter-sweep/mock-community/F1/unite-97-rep-set/uclust/1.0:0.9:5/table.biom',\n",
        " '/home/ubuntu/data/2015.02.24-tax-parameter-sweep/mock-community/F1/unite-97-rep-set/uclust/0.76:0.8:5/table.biom',\n",
        " '/home/ubuntu/data/2015.02.24-tax-parameter-sweep/mock-community/F1/unite-97-rep-set/uclust/1.0:0.8:3/table.biom']"
       ]
      }
     ],
     "prompt_number": 16
    },
    {
     "cell_type": "heading",
     "level": 2,
     "metadata": {},
     "source": [
      "Move result files to repository"
     ]
    },
    {
     "cell_type": "code",
     "collapsed": false,
     "input": [
      "precomputed_results_dir = join(project_dir, \"data\", \"precomputed-results\", \"mock-community\")\n",
      "method_dirs = glob(join(results_dir, '*', '*', '*', '*'))"
     ],
     "language": "python",
     "metadata": {},
     "outputs": []
    },
    {
     "cell_type": "code",
     "collapsed": false,
     "input": [
      "for method_dir in method_dirs:\n",
      "    fields = method_dir.split(sep)\n",
      "    dataset_id, database_id, method_id  = fields[-3], fields[-2], fields[-1] \n",
      "\n",
      "    new_location = join(precomputed_results_dir, dataset_id, database_id)\n",
      "    if exists(join(new_location, method_id)):\n",
      "        rmtree(join(new_location, method_id))\n",
      "    cmd = \"mv -f %s %s\" % (method_dir, new_location)\n",
      "    !$cmd"
     ],
     "language": "python",
     "metadata": {},
     "outputs": []
    }
   ],
   "metadata": {}
  }
 ]
}