{
 "metadata": {
  "name": "",
  "signature": "sha256:6a5ed5ab8198aecf388f115baeac4e8a3e9604815e4a6c676374ca3604324c4c"
 },
 "nbformat": 3,
 "nbformat_minor": 0,
 "worksheets": [
  {
   "cells": [
    {
     "cell_type": "code",
     "collapsed": false,
     "input": [
      "from os.path import join, sep, split\n",
      "from glob import glob"
     ],
     "language": "python",
     "metadata": {},
     "outputs": [],
     "prompt_number": 2
    },
    {
     "cell_type": "code",
     "collapsed": false,
     "input": [
      "## short_read_tax_dir should be the directory where you've downloaded (or cloned) the \n",
      "## short-read-tax-assignment repository. \n",
      "short_read_tax_dir = \"/Users/caporaso/Dropbox/code/short-read-tax-assignment/\"\n",
      "\n",
      "## query_results_dirs should contain the directory or directories where the results \n",
      "## of the method(s) to be compared to the pre-computed results can be found. \n",
      "query_results_dirs = \\\n",
      " [\"/Users/caporaso/analysis/2014.11.12-tax-parameter-sweep/\"]"
     ],
     "language": "python",
     "metadata": {},
     "outputs": [],
     "prompt_number": 3
    },
    {
     "cell_type": "code",
     "collapsed": false,
     "input": [
      "mock_community_data_dir = join(short_read_tax_dir, 'data', 'mock-community')"
     ],
     "language": "python",
     "metadata": {},
     "outputs": [],
     "prompt_number": 4
    },
    {
     "cell_type": "code",
     "collapsed": false,
     "input": [
      "for query_results_dir in query_results_dirs:\n",
      "    taxonomy_map_fps = glob(join(query_results_dir, '*', '*', '*', '*', '*', 'rep_set_tax_assignments.txt'))\n",
      "    for taxonomy_map_fp in taxonomy_map_fps:\n",
      "        dataset_id = taxonomy_map_fp.split(sep)[-5]\n",
      "        if dataset_id in ('F1', 'F2'):\n",
      "            biom_input_fp = join(mock_community_data_dir, dataset_id, 'otu_table_mc2.biom')\n",
      "        else:\n",
      "            biom_input_fp = join(mock_community_data_dir, dataset_id, 'otu_table_mc2_no_pynast_failures.biom')\n",
      "        output_dir = split(taxonomy_map_fp)[0]\n",
      "        biom_output_fp = join(output_dir,'table.biom')\n",
      "        !rm $biom_output_fp\n",
      "        cmd = \"biom add-metadata -i %s -o %s --observation-metadata-fp %s --observation-header otuid,taxonomy\" % (biom_input_fp, biom_output_fp, taxonomy_map_fp)\n",
      "        !$cmd"
     ],
     "language": "python",
     "metadata": {},
     "outputs": [
      {
       "output_type": "stream",
       "stream": "stdout",
       "text": [
        "rm: /Users/caporaso/analysis/2014.11.12-tax-parameter-sweep/mock-community/F1/unite-97-rep-set/blast/0.001/table.biom: No such file or directory\r\n"
       ]
      },
      {
       "output_type": "stream",
       "stream": "stdout",
       "text": [
        "rm: /Users/caporaso/analysis/2014.11.12-tax-parameter-sweep/mock-community/F1/unite-97-rep-set/blast/1.0/table.biom: No such file or directory\r\n"
       ]
      },
      {
       "output_type": "stream",
       "stream": "stdout",
       "text": [
        "rm: /Users/caporaso/analysis/2014.11.12-tax-parameter-sweep/mock-community/F1/unite-97-rep-set/blast/100.0/table.biom: No such file or directory\r\n"
       ]
      },
      {
       "output_type": "stream",
       "stream": "stdout",
       "text": [
        "rm: /Users/caporaso/analysis/2014.11.12-tax-parameter-sweep/mock-community/F1/unite-97-rep-set/blast/1e-06/table.biom: No such file or directory\r\n"
       ]
      },
      {
       "output_type": "stream",
       "stream": "stdout",
       "text": [
        "rm: /Users/caporaso/analysis/2014.11.12-tax-parameter-sweep/mock-community/F1/unite-97-rep-set/rdp/0.0/table.biom: No such file or directory\r\n"
       ]
      },
      {
       "output_type": "stream",
       "stream": "stdout",
       "text": [
        "rm: /Users/caporaso/analysis/2014.11.12-tax-parameter-sweep/mock-community/F1/unite-97-rep-set/rdp/0.1/table.biom: No such file or directory\r\n"
       ]
      },
      {
       "output_type": "stream",
       "stream": "stdout",
       "text": [
        "rm: /Users/caporaso/analysis/2014.11.12-tax-parameter-sweep/mock-community/F1/unite-97-rep-set/rdp/0.2/table.biom: No such file or directory\r\n"
       ]
      },
      {
       "output_type": "stream",
       "stream": "stdout",
       "text": [
        "rm: /Users/caporaso/analysis/2014.11.12-tax-parameter-sweep/mock-community/F1/unite-97-rep-set/rdp/0.3/table.biom: No such file or directory\r\n"
       ]
      },
      {
       "output_type": "stream",
       "stream": "stdout",
       "text": [
        "rm: /Users/caporaso/analysis/2014.11.12-tax-parameter-sweep/mock-community/F1/unite-97-rep-set/rdp/0.4/table.biom: No such file or directory\r\n"
       ]
      },
      {
       "output_type": "stream",
       "stream": "stdout",
       "text": [
        "rm: /Users/caporaso/analysis/2014.11.12-tax-parameter-sweep/mock-community/F1/unite-97-rep-set/rdp/0.5/table.biom: No such file or directory\r\n"
       ]
      },
      {
       "output_type": "stream",
       "stream": "stdout",
       "text": [
        "rm: /Users/caporaso/analysis/2014.11.12-tax-parameter-sweep/mock-community/F1/unite-97-rep-set/rdp/0.6/table.biom: No such file or directory\r\n"
       ]
      },
      {
       "output_type": "stream",
       "stream": "stdout",
       "text": [
        "rm: /Users/caporaso/analysis/2014.11.12-tax-parameter-sweep/mock-community/F1/unite-97-rep-set/rdp/0.7/table.biom: No such file or directory\r\n"
       ]
      },
      {
       "output_type": "stream",
       "stream": "stdout",
       "text": [
        "rm: /Users/caporaso/analysis/2014.11.12-tax-parameter-sweep/mock-community/F1/unite-97-rep-set/rdp/0.8/table.biom: No such file or directory\r\n"
       ]
      },
      {
       "output_type": "stream",
       "stream": "stdout",
       "text": [
        "rm: /Users/caporaso/analysis/2014.11.12-tax-parameter-sweep/mock-community/F1/unite-97-rep-set/rdp/0.9/table.biom: No such file or directory\r\n"
       ]
      },
      {
       "output_type": "stream",
       "stream": "stdout",
       "text": [
        "rm: /Users/caporaso/analysis/2014.11.12-tax-parameter-sweep/mock-community/F1/unite-97-rep-set/rdp/1.0/table.biom: No such file or directory\r\n"
       ]
      },
      {
       "output_type": "stream",
       "stream": "stdout",
       "text": [
        "rm: /Users/caporaso/analysis/2014.11.12-tax-parameter-sweep/mock-community/F2/unite-97-rep-set/blast/0.001/table.biom: No such file or directory\r\n"
       ]
      },
      {
       "output_type": "stream",
       "stream": "stdout",
       "text": [
        "rm: /Users/caporaso/analysis/2014.11.12-tax-parameter-sweep/mock-community/F2/unite-97-rep-set/blast/1.0/table.biom: No such file or directory\r\n"
       ]
      },
      {
       "output_type": "stream",
       "stream": "stdout",
       "text": [
        "rm: /Users/caporaso/analysis/2014.11.12-tax-parameter-sweep/mock-community/F2/unite-97-rep-set/blast/100.0/table.biom: No such file or directory\r\n"
       ]
      },
      {
       "output_type": "stream",
       "stream": "stdout",
       "text": [
        "rm: /Users/caporaso/analysis/2014.11.12-tax-parameter-sweep/mock-community/F2/unite-97-rep-set/blast/1e-06/table.biom: No such file or directory\r\n"
       ]
      },
      {
       "output_type": "stream",
       "stream": "stdout",
       "text": [
        "rm: /Users/caporaso/analysis/2014.11.12-tax-parameter-sweep/mock-community/F2/unite-97-rep-set/rdp/0.0/table.biom: No such file or directory\r\n"
       ]
      },
      {
       "output_type": "stream",
       "stream": "stdout",
       "text": [
        "rm: /Users/caporaso/analysis/2014.11.12-tax-parameter-sweep/mock-community/F2/unite-97-rep-set/rdp/0.1/table.biom: No such file or directory\r\n"
       ]
      },
      {
       "output_type": "stream",
       "stream": "stdout",
       "text": [
        "rm: /Users/caporaso/analysis/2014.11.12-tax-parameter-sweep/mock-community/F2/unite-97-rep-set/rdp/0.2/table.biom: No such file or directory\r\n"
       ]
      },
      {
       "output_type": "stream",
       "stream": "stdout",
       "text": [
        "rm: /Users/caporaso/analysis/2014.11.12-tax-parameter-sweep/mock-community/F2/unite-97-rep-set/rdp/0.3/table.biom: No such file or directory\r\n"
       ]
      },
      {
       "output_type": "stream",
       "stream": "stdout",
       "text": [
        "rm: /Users/caporaso/analysis/2014.11.12-tax-parameter-sweep/mock-community/F2/unite-97-rep-set/rdp/0.4/table.biom: No such file or directory\r\n"
       ]
      },
      {
       "output_type": "stream",
       "stream": "stdout",
       "text": [
        "rm: /Users/caporaso/analysis/2014.11.12-tax-parameter-sweep/mock-community/F2/unite-97-rep-set/rdp/0.5/table.biom: No such file or directory\r\n"
       ]
      },
      {
       "output_type": "stream",
       "stream": "stdout",
       "text": [
        "rm: /Users/caporaso/analysis/2014.11.12-tax-parameter-sweep/mock-community/F2/unite-97-rep-set/rdp/0.6/table.biom: No such file or directory\r\n"
       ]
      },
      {
       "output_type": "stream",
       "stream": "stdout",
       "text": [
        "rm: /Users/caporaso/analysis/2014.11.12-tax-parameter-sweep/mock-community/F2/unite-97-rep-set/rdp/0.7/table.biom: No such file or directory\r\n"
       ]
      },
      {
       "output_type": "stream",
       "stream": "stdout",
       "text": [
        "rm: /Users/caporaso/analysis/2014.11.12-tax-parameter-sweep/mock-community/F2/unite-97-rep-set/rdp/0.8/table.biom: No such file or directory\r\n"
       ]
      },
      {
       "output_type": "stream",
       "stream": "stdout",
       "text": [
        "rm: /Users/caporaso/analysis/2014.11.12-tax-parameter-sweep/mock-community/F2/unite-97-rep-set/rdp/0.9/table.biom: No such file or directory\r\n"
       ]
      },
      {
       "output_type": "stream",
       "stream": "stdout",
       "text": [
        "rm: /Users/caporaso/analysis/2014.11.12-tax-parameter-sweep/mock-community/F2/unite-97-rep-set/rdp/1.0/table.biom: No such file or directory\r\n"
       ]
      }
     ],
     "prompt_number": 6
    },
    {
     "cell_type": "code",
     "collapsed": false,
     "input": [],
     "language": "python",
     "metadata": {},
     "outputs": [],
     "prompt_number": 4
    }
   ],
   "metadata": {}
  }
 ]
}