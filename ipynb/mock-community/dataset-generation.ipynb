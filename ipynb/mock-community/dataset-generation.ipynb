{
 "cells": [
  {
   "cell_type": "markdown",
   "metadata": {},
   "source": [
    "# Mock community dataset generation\n",
    "\n",
    "Run in a [qiime 2.0.6 conda environment](https://docs.qiime2.org/2.0.6/install/).\n",
    "\n",
    "This notebook describes how mock community datasets were retrieved and files were generated for tax-credit comparisons. Only the feature tables, metadata maps, representative sequences, and expected taxonomies are included in tax-credit, but this notebook can regenerate intermediate files, generate these files for new mock communities, or tweaked to benchmark, e.g., quality control or OTU picking methods.\n",
    "\n",
    "All mock communities are hosted on [mockrobiota](http://caporasolab.us/mockrobiota/), though raw reads are deposited elsewhere. To use these mock communities, clone the ``mockrobiota`` repository into the ``repo_dir`` that contains the tax-credit repository."
   ]
  },
  {
   "cell_type": "code",
   "execution_count": 1,
   "metadata": {
    "collapsed": false
   },
   "outputs": [],
   "source": [
    "from tax_credit.process_mocks import (extract_mockrobiota_dataset_metadata,\n",
    "                                      extract_mockrobiota_data,\n",
    "                                      batch_demux,\n",
    "                                      denoise_to_phylogeny,\n",
    "                                      transport_to_repo\n",
    "                                     )\n",
    "from os.path import expandvars, join"
   ]
  },
  {
   "cell_type": "markdown",
   "metadata": {},
   "source": [
    "Set source/destination filepaths"
   ]
  },
  {
   "cell_type": "code",
   "execution_count": 2,
   "metadata": {
    "collapsed": false
   },
   "outputs": [],
   "source": [
    "# base directory containing tax-credit and mockrobiota repositories\n",
    "project_dir = expandvars(\"$HOME/Desktop/projects/\")\n",
    "# tax-credit directory\n",
    "repo_dir = join(project_dir, \"short-read-tax-assignment\")\n",
    "# mockrobiota directory\n",
    "mockrobiota_dir = join(project_dir, \"mockrobiota\")\n",
    "# temp destination for mock community files\n",
    "mock_data_dir = join(project_dir, \"mock-community\")\n",
    "# destination for expected taxonomy assignments\n",
    "expected_data_dir = join(repo_dir, \"data\", \"precomputed-results\", \"mock-community\")\n"
   ]
  },
  {
   "cell_type": "markdown",
   "metadata": {},
   "source": [
    "First we will define which mock communities we plan to use, and necessary parameters"
   ]
  },
  {
   "cell_type": "code",
   "execution_count": 21,
   "metadata": {
    "collapsed": false
   },
   "outputs": [],
   "source": [
    "# We will just use a sequential set of mockrobiota datasets, otherwise list community names manually\n",
    "#communities = ['mock-{0}'.format(n) for n in range(1,24) if n != 11 and n != 17]\n",
    "communities = ['mock-{0}'.format(n) for n in range(18,24)]\n",
    "\n",
    "# Create dictionary of mock community dataset metadata\n",
    "community_metadata = extract_mockrobiota_dataset_metadata(mockrobiota_dir, communities)\n",
    "\n",
    "# Map marker-gene to reference database names in tax-credit and in mockrobiota\n",
    "#           marker-gene  tax-credit-dir  mockrobiota-dir version\n",
    "reference_dbs = {'16S' : ('gg_13_8_otus', 'greengenes', '13-8', '99-otus'),\n",
    "                 'ITS' : ('unite_20.11.2016', 'unite', '7-1', '99-otus')\n",
    "                }"
   ]
  },
  {
   "cell_type": "markdown",
   "metadata": {},
   "source": [
    "Now we will generate data directories in ``tax-credit`` for each community and begin populating these will files from ``mockrobiota``. This may take some time, as this involves downloading raw data fastq files."
   ]
  },
  {
   "cell_type": "code",
   "execution_count": 13,
   "metadata": {
    "collapsed": false
   },
   "outputs": [],
   "source": [
    "extract_mockrobiota_data(communities, community_metadata, reference_dbs, \n",
    "                         mockrobiota_dir, mock_data_dir, \n",
    "                         expected_data_dir)"
   ]
  },
  {
   "cell_type": "markdown",
   "metadata": {},
   "source": [
    "## Process data in QIIME2\n",
    "Finally, we can get to processing our data. We begin by importing our data, demultiplexing, and viewing a few fastq quality summaries to decide how to trim our raw reads prior to processing."
   ]
  },
  {
   "cell_type": "markdown",
   "metadata": {},
   "source": [
    "Each dataset may require different parameters. For example, some mock communities used here require different barcode orientations, while others may already be demultiplexed. These parameters may be read in as a dictionary of tuples."
   ]
  },
  {
   "cell_type": "code",
   "execution_count": 14,
   "metadata": {
    "collapsed": false
   },
   "outputs": [],
   "source": [
    "# {community : (demultiplex, rev_comp_barcodes, rev_comp_mapping_barcodes)}\n",
    "demux_params = {'mock-1' : (True, False, True),\n",
    "               'mock-2' : (True, False, True),\n",
    "               'mock-3' : (True, False, False),\n",
    "               'mock-4' : (True, False, True),\n",
    "               'mock-5' : (True, False, True),\n",
    "               'mock-6' : (True, False, True),\n",
    "               'mock-7' : (True, False, True),\n",
    "               'mock-8' : (True, False, True),\n",
    "               'mock-9' : (True, False, True),\n",
    "               'mock-10' : (True, False, True),\n",
    "               'mock-12' : (False, False, False),\n",
    "               'mock-13' : (False, False, False),\n",
    "               'mock-14' : (False, False, False),\n",
    "               'mock-15' : (False, False, False),\n",
    "               'mock-16' : (False, False, False),\n",
    "               'mock-18' : (False, False, False),\n",
    "               'mock-19' : (False, False, False),\n",
    "               'mock-20' : (False, False, False),\n",
    "               'mock-21' : (False, False, False),\n",
    "               'mock-22' : (False, False, False),\n",
    "               'mock-23' : (False, False, False),\n",
    "              }"
   ]
  },
  {
   "cell_type": "code",
   "execution_count": 17,
   "metadata": {
    "collapsed": false
   },
   "outputs": [
    {
     "name": "stdout",
     "output_type": "stream",
     "text": [
      "mock-12 complete\n"
     ]
    }
   ],
   "source": [
    "batch_demux(communities, mock_data_dir, demux_params)"
   ]
  },
  {
   "cell_type": "markdown",
   "metadata": {},
   "source": [
    "To view the ``demux_summary.qzv`` (demultiplexed sequences per sample counts) and ``demux_plot_qual.qzv`` (fastq quality profiles) summaries that you just created, drag and drop the files into [q2view](https://view.qiime2.org/)"
   ]
  },
  {
   "cell_type": "markdown",
   "metadata": {},
   "source": [
    "Use the fastq quality data above to decide how to proceed. As each dataset will have different quality profiles and read lengths, we will enter trimming parameters as a dictionary. We can use this dict to pass other parameters to ``denoise_to_phylogeny()``, including whether we want to build a phylogeny for each community."
   ]
  },
  {
   "cell_type": "code",
   "execution_count": 18,
   "metadata": {
    "collapsed": false
   },
   "outputs": [],
   "source": [
    "# {community : (trim_left, trunc_len, build_phylogeny)}\n",
    "trim_params = {'mock-1' : (0, 100, True),\n",
    "               'mock-2' : (0, 130, True),\n",
    "               'mock-3' : (0, 150, True),\n",
    "               'mock-4' : (0, 150, True),\n",
    "               'mock-5' : (0, 200, True),\n",
    "               'mock-6' : (0, 50, True),\n",
    "               'mock-7' : (0, 90, True),\n",
    "               'mock-8' : (0, 100, True),\n",
    "               'mock-9' : (0, 100, False),\n",
    "               'mock-10' : (0, 100, False),\n",
    "               'mock-12' : (0, 230, True),\n",
    "               'mock-13' : (0, 250, True),\n",
    "               'mock-14' : (0, 250, True),\n",
    "               'mock-15' : (0, 250, True),\n",
    "               'mock-16' : (0, 250, True),\n",
    "               'mock-18' : (0, 250, False),\n",
    "               'mock-19' : (0, 250, False),\n",
    "               'mock-20' : (0, 290, False),\n",
    "               'mock-21' : (0, 290, False),\n",
    "               'mock-22' : (0, 290, False),\n",
    "               'mock-23' : (0, 290, False),\n",
    "              }"
   ]
  },
  {
   "cell_type": "markdown",
   "metadata": {},
   "source": [
    "Now we will quality filter with ``dada2``, and use the representative sequences to generate a phylogeny."
   ]
  },
  {
   "cell_type": "code",
   "execution_count": 19,
   "metadata": {
    "collapsed": false
   },
   "outputs": [
    {
     "name": "stdout",
     "output_type": "stream",
     "text": [
      "Running external command line application(s). This may print messages to stdout and/or stderr.\n",
      "The command(s) being run are below. These commands cannot be manually re-run as they will depend on temporary files that no longer exist.\n",
      "\n",
      "Command: run_dada_single.R /var/folders/0t/l1dz88p50y91vx_22fx5w3780000gn/T/qiime2-archive-f7xwsvhb/8b656c85-ee94-41aa-8c9e-f2d9ef06f13d/data /var/folders/0t/l1dz88p50y91vx_22fx5w3780000gn/T/tmpsm2w5gnd/output.tsv.biom /var/folders/0t/l1dz88p50y91vx_22fx5w3780000gn/T/tmpsm2w5gnd 230 0 2.0 2 1 1000000\n",
      "\n",
      "Running external command line application. This may print messages to stdout and/or stderr.\n",
      "The command being run is below. This command cannot be manually re-run as it will depend on temporary files that no longer exist.\n",
      "\n",
      "Command: mafft --preservecase /var/folders/0t/l1dz88p50y91vx_22fx5w3780000gn/T/qiime2-archive-0ijxxykg/227c368d-dfa4-499b-98e0-af9e1a806d7e/data/dna-sequences.fasta\n",
      "\n",
      "Running external command line application. This may print messages to stdout and/or stderr.\n",
      "The command being run is below. This command cannot be manually re-run as it will depend on temporary files that no longer exist.\n",
      "\n",
      "Command: FastTree -nt /var/folders/0t/l1dz88p50y91vx_22fx5w3780000gn/T/qiime2-archive-nolw44kk/9dad5913-70a1-4ac6-8b44-b2d6b53d8422/data/aligned-dna-sequences.fasta\n",
      "\n"
     ]
    },
    {
     "ename": "FileNotFoundError",
     "evalue": "[Errno 2] No such file or directory: 'FastTree'",
     "output_type": "error",
     "traceback": [
      "\u001b[0;31m---------------------------------------------------------------------------\u001b[0m",
      "\u001b[0;31mFileNotFoundError\u001b[0m                         Traceback (most recent call last)",
      "\u001b[0;32m<ipython-input-19-29836e5cae2c>\u001b[0m in \u001b[0;36m<module>\u001b[0;34m()\u001b[0m\n\u001b[0;32m----> 1\u001b[0;31m \u001b[0mdenoise_to_phylogeny\u001b[0m\u001b[0;34m(\u001b[0m\u001b[0mcommunities\u001b[0m\u001b[0;34m,\u001b[0m \u001b[0mmock_data_dir\u001b[0m\u001b[0;34m,\u001b[0m \u001b[0mtrim_params\u001b[0m\u001b[0;34m)\u001b[0m\u001b[0;34m\u001b[0m\u001b[0m\n\u001b[0m",
      "\u001b[0;32m/Users/nbokulich/Desktop/projects/short-read-tax-assignment/tax_credit/process_mocks.py\u001b[0m in \u001b[0;36mdenoise_to_phylogeny\u001b[0;34m(communities, mock_data_dir, trim_params, demux_seqs_fn, rep_seqs_fn, feature_table_fn, summary_fn)\u001b[0m\n\u001b[1;32m    340\u001b[0m         \u001b[0;31m# Build phylogeny\u001b[0m\u001b[0;34m\u001b[0m\u001b[0;34m\u001b[0m\u001b[0m\n\u001b[1;32m    341\u001b[0m         \u001b[0;32mif\u001b[0m \u001b[0mbuildtree\u001b[0m \u001b[0;32mis\u001b[0m \u001b[0;32mTrue\u001b[0m\u001b[0;34m:\u001b[0m\u001b[0;34m\u001b[0m\u001b[0m\n\u001b[0;32m--> 342\u001b[0;31m             \u001b[0mseqs_to_tree\u001b[0m\u001b[0;34m(\u001b[0m\u001b[0mrep_seqs\u001b[0m\u001b[0;34m,\u001b[0m \u001b[0mcommunity_dir\u001b[0m\u001b[0;34m)\u001b[0m\u001b[0;34m\u001b[0m\u001b[0m\n\u001b[0m\u001b[1;32m    343\u001b[0m \u001b[0;34m\u001b[0m\u001b[0m\n\u001b[1;32m    344\u001b[0m         \u001b[0mprint\u001b[0m\u001b[0;34m(\u001b[0m\u001b[0;34m\"{0} complete\"\u001b[0m\u001b[0;34m.\u001b[0m\u001b[0mformat\u001b[0m\u001b[0;34m(\u001b[0m\u001b[0mcommunity\u001b[0m\u001b[0;34m)\u001b[0m\u001b[0;34m)\u001b[0m\u001b[0;34m\u001b[0m\u001b[0m\n",
      "\u001b[0;32m/Users/nbokulich/Desktop/projects/short-read-tax-assignment/tax_credit/process_mocks.py\u001b[0m in \u001b[0;36mseqs_to_tree\u001b[0;34m(rep_seqs, community_dir, filename)\u001b[0m\n\u001b[1;32m    400\u001b[0m     \u001b[0maligned_seqs\u001b[0m \u001b[0;34m=\u001b[0m \u001b[0malignment\u001b[0m\u001b[0;34m.\u001b[0m\u001b[0mmethods\u001b[0m\u001b[0;34m.\u001b[0m\u001b[0mmafft\u001b[0m\u001b[0;34m(\u001b[0m\u001b[0mrep_seqs\u001b[0m\u001b[0;34m)\u001b[0m\u001b[0;34m\u001b[0m\u001b[0m\n\u001b[1;32m    401\u001b[0m     \u001b[0mm_aln\u001b[0m \u001b[0;34m=\u001b[0m \u001b[0malignment\u001b[0m\u001b[0;34m.\u001b[0m\u001b[0mmethods\u001b[0m\u001b[0;34m.\u001b[0m\u001b[0mmask\u001b[0m\u001b[0;34m(\u001b[0m\u001b[0maligned_seqs\u001b[0m\u001b[0;34m.\u001b[0m\u001b[0malignment\u001b[0m\u001b[0;34m)\u001b[0m\u001b[0;34m\u001b[0m\u001b[0m\n\u001b[0;32m--> 402\u001b[0;31m     \u001b[0munrooted_tree\u001b[0m \u001b[0;34m=\u001b[0m \u001b[0mphylogeny\u001b[0m\u001b[0;34m.\u001b[0m\u001b[0mmethods\u001b[0m\u001b[0;34m.\u001b[0m\u001b[0mfasttree\u001b[0m\u001b[0;34m(\u001b[0m\u001b[0mm_aln\u001b[0m\u001b[0;34m.\u001b[0m\u001b[0mmasked_alignment\u001b[0m\u001b[0;34m)\u001b[0m\u001b[0;34m\u001b[0m\u001b[0m\n\u001b[0m\u001b[1;32m    403\u001b[0m     \u001b[0mtree\u001b[0m \u001b[0;34m=\u001b[0m \u001b[0mphylogeny\u001b[0m\u001b[0;34m.\u001b[0m\u001b[0mmethods\u001b[0m\u001b[0;34m.\u001b[0m\u001b[0mmidpoint_root\u001b[0m\u001b[0;34m(\u001b[0m\u001b[0munrooted_tree\u001b[0m\u001b[0;34m.\u001b[0m\u001b[0mtree\u001b[0m\u001b[0;34m)\u001b[0m\u001b[0;34m\u001b[0m\u001b[0m\n\u001b[1;32m    404\u001b[0m     \u001b[0mtree\u001b[0m\u001b[0;34m.\u001b[0m\u001b[0mrooted_tree\u001b[0m\u001b[0;34m.\u001b[0m\u001b[0msave\u001b[0m\u001b[0;34m(\u001b[0m\u001b[0mjoin\u001b[0m\u001b[0;34m(\u001b[0m\u001b[0mcommunity_dir\u001b[0m\u001b[0;34m,\u001b[0m \u001b[0mfilename\u001b[0m\u001b[0;34m)\u001b[0m\u001b[0;34m)\u001b[0m\u001b[0;34m\u001b[0m\u001b[0m\n",
      "\u001b[0;32m<decorator-gen-173>\u001b[0m in \u001b[0;36mfasttree\u001b[0;34m(alignment)\u001b[0m\n",
      "\u001b[0;32m/Users/nbokulich/miniconda3/envs/qiime2-2017.3-dev/lib/python3.5/site-packages/qiime2/sdk/action.py\u001b[0m in \u001b[0;36mcallable_wrapper\u001b[0;34m(*args, **kwargs)\u001b[0m\n\u001b[1;32m    169\u001b[0m \u001b[0;34m\u001b[0m\u001b[0m\n\u001b[1;32m    170\u001b[0m             outputs = self._callable_executor_(self._callable, view_args,\n\u001b[0;32m--> 171\u001b[0;31m                                                output_types, provenance)\n\u001b[0m\u001b[1;32m    172\u001b[0m             \u001b[0;31m# `outputs` matches a Python function's return: either a single\u001b[0m\u001b[0;34m\u001b[0m\u001b[0;34m\u001b[0m\u001b[0m\n\u001b[1;32m    173\u001b[0m             \u001b[0;31m# value is returned, or it is a tuple of return values. Treat both\u001b[0m\u001b[0;34m\u001b[0m\u001b[0;34m\u001b[0m\u001b[0m\n",
      "\u001b[0;32m/Users/nbokulich/miniconda3/envs/qiime2-2017.3-dev/lib/python3.5/site-packages/qiime2/sdk/action.py\u001b[0m in \u001b[0;36m_callable_executor_\u001b[0;34m(self, callable, view_args, output_types, provenance)\u001b[0m\n\u001b[1;32m    246\u001b[0m     def _callable_executor_(self, callable, view_args, output_types,\n\u001b[1;32m    247\u001b[0m                             provenance):\n\u001b[0;32m--> 248\u001b[0;31m         \u001b[0moutput_views\u001b[0m \u001b[0;34m=\u001b[0m \u001b[0mcallable\u001b[0m\u001b[0;34m(\u001b[0m\u001b[0;34m**\u001b[0m\u001b[0mview_args\u001b[0m\u001b[0;34m)\u001b[0m\u001b[0;34m\u001b[0m\u001b[0m\n\u001b[0m\u001b[1;32m    249\u001b[0m         \u001b[0moutput_views\u001b[0m \u001b[0;34m=\u001b[0m \u001b[0mtuplize\u001b[0m\u001b[0;34m(\u001b[0m\u001b[0moutput_views\u001b[0m\u001b[0;34m)\u001b[0m\u001b[0;34m\u001b[0m\u001b[0m\n\u001b[1;32m    250\u001b[0m \u001b[0;34m\u001b[0m\u001b[0m\n",
      "\u001b[0;32m/Users/nbokulich/miniconda3/envs/qiime2-2017.3-dev/lib/python3.5/site-packages/q2_phylogeny/_fasttree.py\u001b[0m in \u001b[0;36mfasttree\u001b[0;34m(alignment)\u001b[0m\n\u001b[1;32m     31\u001b[0m     \u001b[0mtree_fp\u001b[0m \u001b[0;34m=\u001b[0m \u001b[0mstr\u001b[0m\u001b[0;34m(\u001b[0m\u001b[0mresult\u001b[0m\u001b[0;34m)\u001b[0m\u001b[0;34m\u001b[0m\u001b[0m\n\u001b[1;32m     32\u001b[0m     \u001b[0mcmd\u001b[0m \u001b[0;34m=\u001b[0m \u001b[0;34m[\u001b[0m\u001b[0;34m'FastTree'\u001b[0m\u001b[0;34m,\u001b[0m \u001b[0;34m'-nt'\u001b[0m\u001b[0;34m,\u001b[0m \u001b[0maligned_fp\u001b[0m\u001b[0;34m]\u001b[0m\u001b[0;34m\u001b[0m\u001b[0m\n\u001b[0;32m---> 33\u001b[0;31m     \u001b[0mrun_command\u001b[0m\u001b[0;34m(\u001b[0m\u001b[0mcmd\u001b[0m\u001b[0;34m,\u001b[0m \u001b[0mtree_fp\u001b[0m\u001b[0;34m)\u001b[0m\u001b[0;34m\u001b[0m\u001b[0m\n\u001b[0m\u001b[1;32m     34\u001b[0m     \u001b[0;32mreturn\u001b[0m \u001b[0mresult\u001b[0m\u001b[0;34m\u001b[0m\u001b[0m\n",
      "\u001b[0;32m/Users/nbokulich/miniconda3/envs/qiime2-2017.3-dev/lib/python3.5/site-packages/q2_phylogeny/_fasttree.py\u001b[0m in \u001b[0;36mrun_command\u001b[0;34m(cmd, output_fp, verbose)\u001b[0m\n\u001b[1;32m     23\u001b[0m         \u001b[0mprint\u001b[0m\u001b[0;34m(\u001b[0m\u001b[0;34m\" \"\u001b[0m\u001b[0;34m.\u001b[0m\u001b[0mjoin\u001b[0m\u001b[0;34m(\u001b[0m\u001b[0mcmd\u001b[0m\u001b[0;34m)\u001b[0m\u001b[0;34m,\u001b[0m \u001b[0mend\u001b[0m\u001b[0;34m=\u001b[0m\u001b[0;34m'\\n\\n'\u001b[0m\u001b[0;34m)\u001b[0m\u001b[0;34m\u001b[0m\u001b[0m\n\u001b[1;32m     24\u001b[0m     \u001b[0;32mwith\u001b[0m \u001b[0mopen\u001b[0m\u001b[0;34m(\u001b[0m\u001b[0moutput_fp\u001b[0m\u001b[0;34m,\u001b[0m \u001b[0;34m'w'\u001b[0m\u001b[0;34m)\u001b[0m \u001b[0;32mas\u001b[0m \u001b[0moutput_f\u001b[0m\u001b[0;34m:\u001b[0m\u001b[0;34m\u001b[0m\u001b[0m\n\u001b[0;32m---> 25\u001b[0;31m         \u001b[0msubprocess\u001b[0m\u001b[0;34m.\u001b[0m\u001b[0mrun\u001b[0m\u001b[0;34m(\u001b[0m\u001b[0mcmd\u001b[0m\u001b[0;34m,\u001b[0m \u001b[0mstdout\u001b[0m\u001b[0;34m=\u001b[0m\u001b[0moutput_f\u001b[0m\u001b[0;34m,\u001b[0m \u001b[0mcheck\u001b[0m\u001b[0;34m=\u001b[0m\u001b[0;32mTrue\u001b[0m\u001b[0;34m)\u001b[0m\u001b[0;34m\u001b[0m\u001b[0m\n\u001b[0m\u001b[1;32m     26\u001b[0m \u001b[0;34m\u001b[0m\u001b[0m\n\u001b[1;32m     27\u001b[0m \u001b[0;34m\u001b[0m\u001b[0m\n",
      "\u001b[0;32m/Users/nbokulich/miniconda3/envs/qiime2-2017.3-dev/lib/python3.5/subprocess.py\u001b[0m in \u001b[0;36mrun\u001b[0;34m(input, timeout, check, *popenargs, **kwargs)\u001b[0m\n\u001b[1;32m    691\u001b[0m         \u001b[0mkwargs\u001b[0m\u001b[0;34m[\u001b[0m\u001b[0;34m'stdin'\u001b[0m\u001b[0;34m]\u001b[0m \u001b[0;34m=\u001b[0m \u001b[0mPIPE\u001b[0m\u001b[0;34m\u001b[0m\u001b[0m\n\u001b[1;32m    692\u001b[0m \u001b[0;34m\u001b[0m\u001b[0m\n\u001b[0;32m--> 693\u001b[0;31m     \u001b[0;32mwith\u001b[0m \u001b[0mPopen\u001b[0m\u001b[0;34m(\u001b[0m\u001b[0;34m*\u001b[0m\u001b[0mpopenargs\u001b[0m\u001b[0;34m,\u001b[0m \u001b[0;34m**\u001b[0m\u001b[0mkwargs\u001b[0m\u001b[0;34m)\u001b[0m \u001b[0;32mas\u001b[0m \u001b[0mprocess\u001b[0m\u001b[0;34m:\u001b[0m\u001b[0;34m\u001b[0m\u001b[0m\n\u001b[0m\u001b[1;32m    694\u001b[0m         \u001b[0;32mtry\u001b[0m\u001b[0;34m:\u001b[0m\u001b[0;34m\u001b[0m\u001b[0m\n\u001b[1;32m    695\u001b[0m             \u001b[0mstdout\u001b[0m\u001b[0;34m,\u001b[0m \u001b[0mstderr\u001b[0m \u001b[0;34m=\u001b[0m \u001b[0mprocess\u001b[0m\u001b[0;34m.\u001b[0m\u001b[0mcommunicate\u001b[0m\u001b[0;34m(\u001b[0m\u001b[0minput\u001b[0m\u001b[0;34m,\u001b[0m \u001b[0mtimeout\u001b[0m\u001b[0;34m=\u001b[0m\u001b[0mtimeout\u001b[0m\u001b[0;34m)\u001b[0m\u001b[0;34m\u001b[0m\u001b[0m\n",
      "\u001b[0;32m/Users/nbokulich/miniconda3/envs/qiime2-2017.3-dev/lib/python3.5/subprocess.py\u001b[0m in \u001b[0;36m__init__\u001b[0;34m(self, args, bufsize, executable, stdin, stdout, stderr, preexec_fn, close_fds, shell, cwd, env, universal_newlines, startupinfo, creationflags, restore_signals, start_new_session, pass_fds)\u001b[0m\n\u001b[1;32m    945\u001b[0m                                 \u001b[0mc2pread\u001b[0m\u001b[0;34m,\u001b[0m \u001b[0mc2pwrite\u001b[0m\u001b[0;34m,\u001b[0m\u001b[0;34m\u001b[0m\u001b[0m\n\u001b[1;32m    946\u001b[0m                                 \u001b[0merrread\u001b[0m\u001b[0;34m,\u001b[0m \u001b[0merrwrite\u001b[0m\u001b[0;34m,\u001b[0m\u001b[0;34m\u001b[0m\u001b[0m\n\u001b[0;32m--> 947\u001b[0;31m                                 restore_signals, start_new_session)\n\u001b[0m\u001b[1;32m    948\u001b[0m         \u001b[0;32mexcept\u001b[0m\u001b[0;34m:\u001b[0m\u001b[0;34m\u001b[0m\u001b[0m\n\u001b[1;32m    949\u001b[0m             \u001b[0;31m# Cleanup if the child failed starting.\u001b[0m\u001b[0;34m\u001b[0m\u001b[0;34m\u001b[0m\u001b[0m\n",
      "\u001b[0;32m/Users/nbokulich/miniconda3/envs/qiime2-2017.3-dev/lib/python3.5/subprocess.py\u001b[0m in \u001b[0;36m_execute_child\u001b[0;34m(self, args, executable, preexec_fn, close_fds, pass_fds, cwd, env, startupinfo, creationflags, shell, p2cread, p2cwrite, c2pread, c2pwrite, errread, errwrite, restore_signals, start_new_session)\u001b[0m\n\u001b[1;32m   1549\u001b[0m                             \u001b[0;32melse\u001b[0m\u001b[0;34m:\u001b[0m\u001b[0;34m\u001b[0m\u001b[0m\n\u001b[1;32m   1550\u001b[0m                                 \u001b[0merr_msg\u001b[0m \u001b[0;34m+=\u001b[0m \u001b[0;34m': '\u001b[0m \u001b[0;34m+\u001b[0m \u001b[0mrepr\u001b[0m\u001b[0;34m(\u001b[0m\u001b[0morig_executable\u001b[0m\u001b[0;34m)\u001b[0m\u001b[0;34m\u001b[0m\u001b[0m\n\u001b[0;32m-> 1551\u001b[0;31m                     \u001b[0;32mraise\u001b[0m \u001b[0mchild_exception_type\u001b[0m\u001b[0;34m(\u001b[0m\u001b[0merrno_num\u001b[0m\u001b[0;34m,\u001b[0m \u001b[0merr_msg\u001b[0m\u001b[0;34m)\u001b[0m\u001b[0;34m\u001b[0m\u001b[0m\n\u001b[0m\u001b[1;32m   1552\u001b[0m                 \u001b[0;32mraise\u001b[0m \u001b[0mchild_exception_type\u001b[0m\u001b[0;34m(\u001b[0m\u001b[0merr_msg\u001b[0m\u001b[0;34m)\u001b[0m\u001b[0;34m\u001b[0m\u001b[0m\n\u001b[1;32m   1553\u001b[0m \u001b[0;34m\u001b[0m\u001b[0m\n",
      "\u001b[0;31mFileNotFoundError\u001b[0m: [Errno 2] No such file or directory: 'FastTree'"
     ]
    }
   ],
   "source": [
    "denoise_to_phylogeny(communities, mock_data_dir, trim_params)"
   ]
  },
  {
   "cell_type": "markdown",
   "metadata": {},
   "source": [
    "To view the ``feature_table_summary.qzv`` summaries you just created, drag and drop the files into [q2view](https://view.qiime2.org/)"
   ]
  },
  {
   "cell_type": "markdown",
   "metadata": {},
   "source": [
    "## Extract results and move to repo"
   ]
  },
  {
   "cell_type": "code",
   "execution_count": 22,
   "metadata": {
    "collapsed": false
   },
   "outputs": [],
   "source": [
    "transport_to_repo(communities, mock_data_dir, repo_dir)"
   ]
  },
  {
   "cell_type": "code",
   "execution_count": null,
   "metadata": {
    "collapsed": true
   },
   "outputs": [],
   "source": []
  }
 ],
 "metadata": {
  "anaconda-cloud": {},
  "kernelspec": {
   "display_name": "Python 3",
   "language": "python",
   "name": "python3"
  },
  "language_info": {
   "codemirror_mode": {
    "name": "ipython",
    "version": 3
   },
   "file_extension": ".py",
   "mimetype": "text/x-python",
   "name": "python",
   "nbconvert_exporter": "python",
   "pygments_lexer": "ipython3",
   "version": "3.5.2"
  }
 },
 "nbformat": 4,
 "nbformat_minor": 1
}
