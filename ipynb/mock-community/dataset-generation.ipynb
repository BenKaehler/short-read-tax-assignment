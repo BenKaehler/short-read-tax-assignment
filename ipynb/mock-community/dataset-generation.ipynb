{
 "cells": [
  {
   "cell_type": "markdown",
   "metadata": {},
   "source": [
    "# Mock community dataset generation\n",
    "\n",
    "Run in a [qiime 2.0.6 conda environment](https://docs.qiime2.org/2.0.6/install/).\n",
    "\n",
    "This notebook describes how mock community datasets were retrieved and files were generated for tax-credit comparisons. Only the feature tables, metadata maps, representative sequences, and expected taxonomies are included in tax-credit, but this notebook can regenerate intermediate files, generate these files for new mock communities, or tweaked to benchmark, e.g., quality control or OTU picking methods.\n",
    "\n",
    "All mock communities are hosted on [mockrobiota](http://caporasolab.us/mockrobiota/), though raw reads are deposited elsewhere. To use these mock communities, clone the ``mockrobiota`` repository into the ``repo_dir`` that contains the tax-credit repository."
   ]
  },
  {
   "cell_type": "code",
   "execution_count": 17,
   "metadata": {
    "collapsed": false
   },
   "outputs": [],
   "source": [
    "from tax_credit.process_mocks import (extract_mockrobiota_dataset_metadata,\n",
    "                                      extract_mockrobiota_data,\n",
    "                                      batch_demux,\n",
    "                                      denoise_to_phylogeny,\n",
    "                                      transport_to_repo\n",
    "                                     )\n",
    "from os.path import expandvars, join"
   ]
  },
  {
   "cell_type": "markdown",
   "metadata": {},
   "source": [
    "Set source/destination filepaths"
   ]
  },
  {
   "cell_type": "code",
   "execution_count": 18,
   "metadata": {
    "collapsed": false
   },
   "outputs": [],
   "source": [
    "# base directory containing tax-credit and mockrobiota repositories\n",
    "project_dir = expandvars(\"$HOME/Desktop/projects/\")\n",
    "# tax-credit directory\n",
    "repo_dir = join(project_dir, \"short-read-tax-assignment\")\n",
    "# mockrobiota directory\n",
    "mockrobiota_dir = join(project_dir, \"mockrobiota\")\n",
    "# temp destination for mock community files\n",
    "mock_data_dir = join(project_dir, \"mock-community\")\n",
    "# destination for expected taxonomy assignments\n",
    "expected_data_dir = join(repo_dir, \"data\", \"precomputed-results\", \"mock-community\")\n"
   ]
  },
  {
   "cell_type": "markdown",
   "metadata": {},
   "source": [
    "First we will define which mock communities we plan to use, and necessary parameters"
   ]
  },
  {
   "cell_type": "code",
   "execution_count": 20,
   "metadata": {
    "collapsed": false
   },
   "outputs": [],
   "source": [
    "# We will just use a sequential set of mockrobiota datasets, otherwise list community names manually\n",
    "communities = ['mock-{0}'.format(n) for n in range(1,27) if n != 11 and n != 17]\n",
    "#communities = ['mock-{0}'.format(n) for n in range(16,27) if n != 17]\n",
    "\n",
    "# Create dictionary of mock community dataset metadata\n",
    "community_metadata = extract_mockrobiota_dataset_metadata(mockrobiota_dir, communities)\n",
    "\n",
    "# Map marker-gene to reference database names in tax-credit and in mockrobiota\n",
    "#           marker-gene  tax-credit-dir  mockrobiota-dir version\n",
    "reference_dbs = {'16S' : ('gg_13_8_otus', 'greengenes', '13-8', '99-otus'),\n",
    "                 'ITS' : ('unite_20.11.2016', 'unite', '7-1', '99-otus')\n",
    "                }"
   ]
  },
  {
   "cell_type": "markdown",
   "metadata": {},
   "source": [
    "Now we will generate data directories in ``tax-credit`` for each community and begin populating these will files from ``mockrobiota``. This may take some time, as this involves downloading raw data fastq files."
   ]
  },
  {
   "cell_type": "code",
   "execution_count": 21,
   "metadata": {
    "collapsed": false
   },
   "outputs": [],
   "source": [
    "extract_mockrobiota_data(communities, community_metadata, reference_dbs, \n",
    "                         mockrobiota_dir, mock_data_dir, \n",
    "                         expected_data_dir)"
   ]
  },
  {
   "cell_type": "markdown",
   "metadata": {},
   "source": [
    "## Process data in QIIME2\n",
    "Finally, we can get to processing our data. We begin by importing our data, demultiplexing, and viewing a few fastq quality summaries to decide how to trim our raw reads prior to processing."
   ]
  },
  {
   "cell_type": "markdown",
   "metadata": {},
   "source": [
    "Each dataset may require different parameters. For example, some mock communities used here require different barcode orientations, while others may already be demultiplexed. These parameters may be read in as a dictionary of tuples."
   ]
  },
  {
   "cell_type": "code",
   "execution_count": 7,
   "metadata": {
    "collapsed": false
   },
   "outputs": [],
   "source": [
    "# {community : (demultiplex, rev_comp_barcodes, rev_comp_mapping_barcodes)}\n",
    "demux_params = {'mock-1' : (True, False, True),\n",
    "               'mock-2' : (True, False, True),\n",
    "               'mock-3' : (True, False, False),\n",
    "               'mock-4' : (True, False, True),\n",
    "               'mock-5' : (True, False, True),\n",
    "               'mock-6' : (True, False, True),\n",
    "               'mock-7' : (True, False, True),\n",
    "               'mock-8' : (True, False, True),\n",
    "               'mock-9' : (True, False, True),\n",
    "               'mock-10' : (True, False, True),\n",
    "               'mock-12' : (False, False, False),\n",
    "               'mock-13' : (False, False, False),\n",
    "               'mock-14' : (False, False, False),\n",
    "               'mock-15' : (False, False, False),\n",
    "               'mock-16' : (False, False, False),\n",
    "               'mock-18' : (False, False, False),\n",
    "               'mock-19' : (False, False, False),\n",
    "               'mock-20' : (False, False, False),\n",
    "               'mock-21' : (False, False, False),\n",
    "               'mock-22' : (False, False, False),\n",
    "               'mock-23' : (False, False, False),\n",
    "               'mock-24' : (False, False, False),\n",
    "               'mock-25' : (False, False, False),\n",
    "               'mock-26' : (True, False, False),\n",
    "              }"
   ]
  },
  {
   "cell_type": "code",
   "execution_count": 10,
   "metadata": {
    "collapsed": false
   },
   "outputs": [
    {
     "name": "stdout",
     "output_type": "stream",
     "text": [
      "Running external command line application(s). This may print messages to stdout and/or stderr.\n",
      "The command(s) being run are below. These commands cannot be manually re-run as they will depend on temporary files that no longer exist.\n",
      "\n",
      "Command: profile_quality.R /var/folders/0t/l1dz88p50y91vx_22fx5w3780000gn/T/qiime2-archive-qdjrdrmt/840e237d-de07-4e95-99ff-59b7f9a76b53/data/Mock.102_75_L001_R1_001.fastq.gz /var/folders/0t/l1dz88p50y91vx_22fx5w3780000gn/T/qiime2-temp-1judmlqi\n",
      "\n",
      "mock-26 complete\n"
     ]
    }
   ],
   "source": [
    "batch_demux(communities, mock_data_dir, demux_params)"
   ]
  },
  {
   "cell_type": "markdown",
   "metadata": {},
   "source": [
    "To view the ``demux_summary.qzv`` (demultiplexed sequences per sample counts) and ``demux_plot_qual.qzv`` (fastq quality profiles) summaries that you just created, drag and drop the files into [q2view](https://view.qiime2.org/)"
   ]
  },
  {
   "cell_type": "markdown",
   "metadata": {},
   "source": [
    "Use the fastq quality data above to decide how to proceed. As each dataset will have different quality profiles and read lengths, we will enter trimming parameters as a dictionary. We can use this dict to pass other parameters to ``denoise_to_phylogeny()``, including whether we want to build a phylogeny for each community."
   ]
  },
  {
   "cell_type": "code",
   "execution_count": 14,
   "metadata": {
    "collapsed": false
   },
   "outputs": [],
   "source": [
    "# {community : (trim_left, trunc_len, build_phylogeny)}\n",
    "trim_params = {'mock-1' : (0, 100, True),\n",
    "               'mock-2' : (0, 130, True),\n",
    "               'mock-3' : (0, 150, True),\n",
    "               'mock-4' : (0, 150, True),\n",
    "               'mock-5' : (0, 200, True),\n",
    "               'mock-6' : (0, 50, True),\n",
    "               'mock-7' : (0, 90, True),\n",
    "               'mock-8' : (0, 100, True),\n",
    "               'mock-9' : (0, 100, False),\n",
    "               'mock-10' : (0, 100, False),\n",
    "               'mock-12' : (0, 230, True),\n",
    "               'mock-13' : (0, 250, True),\n",
    "               'mock-14' : (0, 250, True),\n",
    "               'mock-15' : (0, 250, True),\n",
    "               'mock-16' : (19, 231, False),\n",
    "               'mock-18' : (19, 231, False),\n",
    "               'mock-19' : (19, 231, False),\n",
    "               'mock-20' : (0, 250, False),\n",
    "               'mock-21' : (0, 250, False),\n",
    "               'mock-22' : (19, 250, False),\n",
    "               'mock-23' : (19, 250, False),\n",
    "               'mock-24' : (0, 150, False),\n",
    "               'mock-25' : (0, 165, False),\n",
    "               'mock-26' : (0, 290, False),\n",
    "              }"
   ]
  },
  {
   "cell_type": "markdown",
   "metadata": {},
   "source": [
    "Now we will quality filter with ``dada2``, and use the representative sequences to generate a phylogeny."
   ]
  },
  {
   "cell_type": "code",
   "execution_count": 15,
   "metadata": {
    "collapsed": false
   },
   "outputs": [
    {
     "name": "stdout",
     "output_type": "stream",
     "text": [
      "Running external command line application(s). This may print messages to stdout and/or stderr.\n",
      "The command(s) being run are below. These commands cannot be manually re-run as they will depend on temporary files that no longer exist.\n",
      "\n",
      "Command: run_dada_single.R /var/folders/0t/l1dz88p50y91vx_22fx5w3780000gn/T/qiime2-archive-4_n4y1xo/53a6c568-c6f8-4986-9d52-12e9ae631cdb/data /var/folders/0t/l1dz88p50y91vx_22fx5w3780000gn/T/tmpihxxulqq/output.tsv.biom /var/folders/0t/l1dz88p50y91vx_22fx5w3780000gn/T/tmpihxxulqq 231 19 2.0 2 1 1000000\n",
      "\n",
      "mock-16 complete\n",
      "Running external command line application(s). This may print messages to stdout and/or stderr.\n",
      "The command(s) being run are below. These commands cannot be manually re-run as they will depend on temporary files that no longer exist.\n",
      "\n",
      "Command: run_dada_single.R /var/folders/0t/l1dz88p50y91vx_22fx5w3780000gn/T/qiime2-archive-5l8o969r/01f96f3f-19b1-4692-91c6-f902c7b79a25/data /var/folders/0t/l1dz88p50y91vx_22fx5w3780000gn/T/tmpmrx11p1r/output.tsv.biom /var/folders/0t/l1dz88p50y91vx_22fx5w3780000gn/T/tmpmrx11p1r 231 19 2.0 2 1 1000000\n",
      "\n",
      "mock-18 complete\n",
      "Running external command line application(s). This may print messages to stdout and/or stderr.\n",
      "The command(s) being run are below. These commands cannot be manually re-run as they will depend on temporary files that no longer exist.\n",
      "\n",
      "Command: run_dada_single.R /var/folders/0t/l1dz88p50y91vx_22fx5w3780000gn/T/qiime2-archive-h5mkwxij/a9d63c03-e7cf-49ed-b558-d5a5da0a1cb4/data /var/folders/0t/l1dz88p50y91vx_22fx5w3780000gn/T/tmpb2d41jg5/output.tsv.biom /var/folders/0t/l1dz88p50y91vx_22fx5w3780000gn/T/tmpb2d41jg5 231 19 2.0 2 1 1000000\n",
      "\n",
      "mock-19 complete\n",
      "Running external command line application(s). This may print messages to stdout and/or stderr.\n",
      "The command(s) being run are below. These commands cannot be manually re-run as they will depend on temporary files that no longer exist.\n",
      "\n",
      "Command: run_dada_single.R /var/folders/0t/l1dz88p50y91vx_22fx5w3780000gn/T/qiime2-archive-h99jjad3/8fa2fa35-102a-4847-9133-541f9722d694/data /var/folders/0t/l1dz88p50y91vx_22fx5w3780000gn/T/tmpv97csx8l/output.tsv.biom /var/folders/0t/l1dz88p50y91vx_22fx5w3780000gn/T/tmpv97csx8l 250 0 2.0 2 1 1000000\n",
      "\n",
      "mock-20 complete\n",
      "Running external command line application(s). This may print messages to stdout and/or stderr.\n",
      "The command(s) being run are below. These commands cannot be manually re-run as they will depend on temporary files that no longer exist.\n",
      "\n",
      "Command: run_dada_single.R /var/folders/0t/l1dz88p50y91vx_22fx5w3780000gn/T/qiime2-archive-hfa_s_1r/d8dd1d43-b776-425a-ab05-a3200a748ffc/data /var/folders/0t/l1dz88p50y91vx_22fx5w3780000gn/T/tmplir_kbmm/output.tsv.biom /var/folders/0t/l1dz88p50y91vx_22fx5w3780000gn/T/tmplir_kbmm 250 0 2.0 2 1 1000000\n",
      "\n",
      "mock-21 complete\n",
      "Running external command line application(s). This may print messages to stdout and/or stderr.\n",
      "The command(s) being run are below. These commands cannot be manually re-run as they will depend on temporary files that no longer exist.\n",
      "\n",
      "Command: run_dada_single.R /var/folders/0t/l1dz88p50y91vx_22fx5w3780000gn/T/qiime2-archive-97kohh6p/eda9d85b-f367-4e96-b7f5-ae43287464c4/data /var/folders/0t/l1dz88p50y91vx_22fx5w3780000gn/T/tmpzcv5np7g/output.tsv.biom /var/folders/0t/l1dz88p50y91vx_22fx5w3780000gn/T/tmpzcv5np7g 250 19 2.0 2 1 1000000\n",
      "\n",
      "mock-22 complete\n",
      "Running external command line application(s). This may print messages to stdout and/or stderr.\n",
      "The command(s) being run are below. These commands cannot be manually re-run as they will depend on temporary files that no longer exist.\n",
      "\n",
      "Command: run_dada_single.R /var/folders/0t/l1dz88p50y91vx_22fx5w3780000gn/T/qiime2-archive-xytofek1/c7c024ba-e8c7-4b57-88fc-4fe5e24a5cd2/data /var/folders/0t/l1dz88p50y91vx_22fx5w3780000gn/T/tmpiew958sc/output.tsv.biom /var/folders/0t/l1dz88p50y91vx_22fx5w3780000gn/T/tmpiew958sc 250 19 2.0 2 1 1000000\n",
      "\n",
      "mock-23 complete\n",
      "Running external command line application(s). This may print messages to stdout and/or stderr.\n",
      "The command(s) being run are below. These commands cannot be manually re-run as they will depend on temporary files that no longer exist.\n",
      "\n",
      "Command: run_dada_single.R /var/folders/0t/l1dz88p50y91vx_22fx5w3780000gn/T/qiime2-archive-waqn0thb/cc30df97-cbb8-43bd-821e-52848556eaa0/data /var/folders/0t/l1dz88p50y91vx_22fx5w3780000gn/T/tmpjf2wy7o1/output.tsv.biom /var/folders/0t/l1dz88p50y91vx_22fx5w3780000gn/T/tmpjf2wy7o1 150 0 2.0 2 1 1000000\n",
      "\n",
      "mock-24 complete\n",
      "Running external command line application(s). This may print messages to stdout and/or stderr.\n",
      "The command(s) being run are below. These commands cannot be manually re-run as they will depend on temporary files that no longer exist.\n",
      "\n",
      "Command: run_dada_single.R /var/folders/0t/l1dz88p50y91vx_22fx5w3780000gn/T/qiime2-archive-civ8512r/8e9fc1c7-0b0f-4f0f-99e3-e0573fe7d89d/data /var/folders/0t/l1dz88p50y91vx_22fx5w3780000gn/T/tmpiajgkmhz/output.tsv.biom /var/folders/0t/l1dz88p50y91vx_22fx5w3780000gn/T/tmpiajgkmhz 165 0 2.0 2 1 1000000\n",
      "\n",
      "mock-25 complete\n",
      "Running external command line application(s). This may print messages to stdout and/or stderr.\n",
      "The command(s) being run are below. These commands cannot be manually re-run as they will depend on temporary files that no longer exist.\n",
      "\n",
      "Command: run_dada_single.R /var/folders/0t/l1dz88p50y91vx_22fx5w3780000gn/T/qiime2-archive-h4ssag1t/840e237d-de07-4e95-99ff-59b7f9a76b53/data /var/folders/0t/l1dz88p50y91vx_22fx5w3780000gn/T/tmpu26hqded/output.tsv.biom /var/folders/0t/l1dz88p50y91vx_22fx5w3780000gn/T/tmpu26hqded 290 0 2.0 2 1 1000000\n",
      "\n",
      "mock-26 complete\n"
     ]
    }
   ],
   "source": [
    "denoise_to_phylogeny(communities, mock_data_dir, trim_params)"
   ]
  },
  {
   "cell_type": "markdown",
   "metadata": {},
   "source": [
    "To view the ``feature_table_summary.qzv`` summaries you just created, drag and drop the files into [q2view](https://view.qiime2.org/)"
   ]
  },
  {
   "cell_type": "markdown",
   "metadata": {},
   "source": [
    "## Extract results and move to repo"
   ]
  },
  {
   "cell_type": "code",
   "execution_count": 16,
   "metadata": {
    "collapsed": false
   },
   "outputs": [],
   "source": [
    "transport_to_repo(communities, mock_data_dir, repo_dir)"
   ]
  },
  {
   "cell_type": "code",
   "execution_count": null,
   "metadata": {
    "collapsed": true
   },
   "outputs": [],
   "source": []
  }
 ],
 "metadata": {
  "anaconda-cloud": {},
  "kernelspec": {
   "display_name": "Python 3",
   "language": "python",
   "name": "python3"
  },
  "language_info": {
   "codemirror_mode": {
    "name": "ipython",
    "version": 3
   },
   "file_extension": ".py",
   "mimetype": "text/x-python",
   "name": "python",
   "nbconvert_exporter": "python",
   "pygments_lexer": "ipython3",
   "version": "3.5.2"
  }
 },
 "nbformat": 4,
 "nbformat_minor": 1
}
