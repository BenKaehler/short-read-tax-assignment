{
 "metadata": {
  "name": "",
  "signature": "sha256:498f2d887ec4f61bf64e77b30d1a485668fc1078c491918cb652a0e0a6b045e8"
 },
 "nbformat": 3,
 "nbformat_minor": 0,
 "worksheets": [
  {
   "cells": [
    {
     "cell_type": "heading",
     "level": 1,
     "metadata": {},
     "source": [
      "Data generation: using python to sweep over methods and parameters"
     ]
    },
    {
     "cell_type": "markdown",
     "metadata": {},
     "source": [
      "In this notebook, we illustrate how to use python to generate a list of commands that we can then submit to a queuing system to run in parallel. In this example, we generate a list of QIIME 1.9.0 ``assign_taxonomy.py`` commands, though this workflow for command generation is generally very useful for performing *parameter sweeps* (i.e., exploration of sets of parameters for achieving a specific result for comparative purposes). \n",
      "\n",
      "Note that this notebook isn't actually running the commands, but only generating them. It is up to the user to then run these commands in their desired environment.\n",
      "\n",
      "Your BIOM tables should be called ``table.biom``, and nested in the following directory structure:\n",
      "\n",
      "```\n",
      "query_results_dir/\n",
      " analysis/\n",
      "  dataset-id/ \n",
      "   reference-db-id/\n",
      "    method-id/\n",
      "     parameter-combination-id/\n",
      "      table.biom\n",
      "```"
     ]
    },
    {
     "cell_type": "heading",
     "level": 2,
     "metadata": {},
     "source": [
      "Environment preparation"
     ]
    },
    {
     "cell_type": "code",
     "collapsed": false,
     "input": [
      "from os.path import join, exists, split\n",
      "from os import makedirs\n",
      "from tempfile import mkstemp\n",
      "from glob import glob\n",
      "from itertools import product"
     ],
     "language": "python",
     "metadata": {},
     "outputs": [],
     "prompt_number": 2
    },
    {
     "cell_type": "code",
     "collapsed": false,
     "input": [
      "project_dir = \"$HOME/data/short-read-tax-assignment\"\n",
      "data_dir = join(project_dir, \"data\")\n",
      "\n",
      "reference_database_dir = \"$HOME/data/\"\n",
      "results_dir = \"$HOME/data/2015.02.11-tax-parameter-sweep\""
     ],
     "language": "python",
     "metadata": {},
     "outputs": [],
     "prompt_number": 3
    },
    {
     "cell_type": "heading",
     "level": 2,
     "metadata": {},
     "source": [
      "Preparing data set sweep"
     ]
    },
    {
     "cell_type": "markdown",
     "metadata": {},
     "source": [
      "First, we're going to define the data sets that we'll sweep over."
     ]
    },
    {
     "cell_type": "code",
     "collapsed": false,
     "input": [
      "mock_query_results_dir = join(results_dir, \"mock\")\n",
      "\n",
      "dataset_reference_combinations = [\n",
      " ('B1', 'gg_13_8_otus'), # formerly S16S-1\n",
      " ('B2', 'gg_13_8_otus'), # formerly S16S-2\n",
      " ('B3', 'gg_13_8_otus'), # formerly Broad-1\n",
      " ('B4', 'gg_13_8_otus'), # formerly Broad-2\n",
      " ('B5', 'gg_13_8_otus'), # formerly Broad-3\n",
      " ('B6', 'gg_13_8_otus'), # formerly Turnbaugh-1\n",
      " ('B7', 'gg_13_8_otus'), # formerly Turnbaugh-2\n",
      " ('B8', 'gg_13_8_otus'), # formerly Turnbaugh-3\n",
      " ('F1', 'unite-97-rep-set'), # formerly ITS1\n",
      " ('F2', 'unite-97-rep-set'), # formerly ITS2-SAG\n",
      "]\n",
      "\n",
      "reference_dbs = {'gg_13_8_otus' : (join(reference_database_dir, 'gg_13_8_otus/rep_set/97_otus.fasta'), \n",
      "                                   join(reference_database_dir, 'gg_13_8_otus/taxonomy/97_otu_taxonomy.txt')),\n",
      "                 'unite-97-rep-set' : (join(reference_database_dir, 'unite-97-rep-set/97_otus.fasta'), \n",
      "                                       join(reference_database_dir, 'unite-97-rep-set/97_otu_taxonomy.txt'))}"
     ],
     "language": "python",
     "metadata": {},
     "outputs": [],
     "prompt_number": 7
    },
    {
     "cell_type": "code",
     "collapsed": false,
     "input": [
      "print reference_dbs['unite-97-rep-set']"
     ],
     "language": "python",
     "metadata": {},
     "outputs": [
      {
       "output_type": "stream",
       "stream": "stdout",
       "text": [
        "('$HOME/data/unite-97-rep-set/97_otus.fasta', '$HOME/data/unite-97-rep-set/97_otu_taxonomy.txt')\n"
       ]
      }
     ],
     "prompt_number": 8
    },
    {
     "cell_type": "heading",
     "level": 2,
     "metadata": {},
     "source": [
      "Preparing the method/parameter combinations"
     ]
    },
    {
     "cell_type": "code",
     "collapsed": false,
     "input": [
      "\n",
      "method_parameters_combinations = { # probabalistic classifiers\n",
      "              'rdp': {'confidence': [0.0, 0.1, 0.2, 0.3, 0.4, 0.5, 0.6, 0.7, 0.8, 0.9, 1.0]},\n",
      "              \n",
      "              # global alignment classifiers\n",
      "              'uclust': {'min_consensus_fraction': [0.51, 0.76, 1.0], \n",
      "                         'similarity': [0.8, 0.9],\n",
      "                         'uclust_max_accepts': [1, 3, 5]},\n",
      "             \n",
      "              # local alignment classifiers\n",
      "              'sortmerna': {'sortmerna_e_value': [1.0],\n",
      "                            'min_consensus_fraction': [0.51, 0.76, 1.0], \n",
      "                            'similarity': [0.8, 0.9],\n",
      "                            'sortmerna_best_N_alignments ': [1, 3, 5],\n",
      "                            'sortmerna_coverage' : [0.8, 0.9]},\n",
      "              'blast': {'blast_e_value': [10000.0, 0.001, 0.000000001]}\n",
      "             }"
     ],
     "language": "python",
     "metadata": {},
     "outputs": [],
     "prompt_number": 9
    },
    {
     "cell_type": "markdown",
     "metadata": {},
     "source": [
      "```\n",
      "query_results_dir/\n",
      " analysis/\n",
      "  dataset-id/ \n",
      "   reference-db-id/\n",
      "    method-id/\n",
      "     parameter-combination-id/\n",
      "      table.biom\n",
      "```"
     ]
    },
    {
     "cell_type": "code",
     "collapsed": false,
     "input": [
      "analyses = ['mock-community']"
     ],
     "language": "python",
     "metadata": {},
     "outputs": [],
     "prompt_number": 10
    },
    {
     "cell_type": "code",
     "collapsed": false,
     "input": [
      "commands = []\n",
      "command_template = \"mkdir -p %s ; assign_taxonomy.py -i %s -o %s -r %s -t %s -m %s %s\"\n",
      "for analysis in analyses:\n",
      "    analysis_input_dir = join(data_dir, analysis)\n",
      "    analysis_output_dir = join(results_dir, analysis)\n",
      "    for dataset, reference in dataset_reference_combinations:\n",
      "        dataset_input_dir = join(analysis_input_dir, dataset)\n",
      "        dataset_input_seqs = join(dataset_input_dir, 'rep_set.fna')\n",
      "        dataset_input_table = join(dataset_input_dir, 'table.biom')\n",
      "        reference_seqs, reference_tax = reference_dbs[reference]\n",
      "        dataset_output_dir = join(analysis_output_dir, dataset, reference)\n",
      "        for method, parameters in method_parameters_combinations.items():\n",
      "            method_output_dir = join(dataset_output_dir, method)\n",
      "            parameter_ids = parameters.keys()\n",
      "            parameter_ids.sort()\n",
      "            for parameter_combination in product(*[parameters[id_] for id_ in parameter_ids]):\n",
      "                parameter_comb_id = ':'.join(map(str,parameter_combination))\n",
      "                parameter_output_dir = join(method_output_dir, parameter_comb_id)\n",
      "                parameter_str = ' '.join(['--%s %s' % e for e in zip(parameter_ids, parameter_combination)])\n",
      "                command = command_template % (parameter_output_dir, dataset_input_seqs, \n",
      "                                              parameter_output_dir, reference_seqs, \n",
      "                                              reference_tax, method, parameter_str)\n",
      "                commands.append(command)"
     ],
     "language": "python",
     "metadata": {},
     "outputs": [],
     "prompt_number": 11
    },
    {
     "cell_type": "markdown",
     "metadata": {},
     "source": [
      "As a sanity check, we can look at the first command that was generated."
     ]
    },
    {
     "cell_type": "code",
     "collapsed": false,
     "input": [
      "commands[0]"
     ],
     "language": "python",
     "metadata": {},
     "outputs": [
      {
       "metadata": {},
       "output_type": "pyout",
       "prompt_number": 12,
       "text": [
        "'mkdir -p $HOME/data/2015.02.11-tax-parameter-sweep/mock-community/B1/gg_13_8_otus/sortmerna/0.51:0.8:1:0.8:1.0 ; assign_taxonomy.py -i $HOME/data/short-read-tax-assignment/data/mock-community/B1/rep_set.fna -o $HOME/data/2015.02.11-tax-parameter-sweep/mock-community/B1/gg_13_8_otus/sortmerna/0.51:0.8:1:0.8:1.0 -r $HOME/data/gg_13_8_otus/rep_set/97_otus.fasta -t $HOME/data/gg_13_8_otus/taxonomy/97_otu_taxonomy.txt -m sortmerna --min_consensus_fraction 0.51 --similarity 0.8 --sortmerna_best_N_alignments  1 --sortmerna_coverage 0.8 --sortmerna_e_value 1.0'"
       ]
      }
     ],
     "prompt_number": 12
    },
    {
     "cell_type": "markdown",
     "metadata": {},
     "source": [
      "To run the commands in the IPython Notebook parallel environment, you'll first need to start the controller and some number of engines. On the QIIME 1.9.0 AWS instance, this can be done as follows:\n",
      "\n",
      "```\n",
      "ipcluster start -n 4\n",
      "```"
     ]
    },
    {
     "cell_type": "code",
     "collapsed": false,
     "input": [
      "from IPython.parallel import Client\n",
      "rc = Client()\n",
      "lview = rc.load_balanced_view()\n",
      "\n",
      "@lview.parallel()\n",
      "def call_cmd(cmd):\n",
      "    from qcli import qcli_system_call\n",
      "    stdout, stderr, retval = qcli_system_call(cmd)\n",
      "    # return stdout, stderr, the return value, and the command\n",
      "    # the command is useful in case it needs to be re-run\n",
      "    return stdout, stderr, retval, cmd"
     ],
     "language": "python",
     "metadata": {},
     "outputs": [],
     "prompt_number": 13
    },
    {
     "cell_type": "code",
     "collapsed": false,
     "input": [
      "r = call_cmd.map(commands)"
     ],
     "language": "python",
     "metadata": {},
     "outputs": [],
     "prompt_number": 14
    },
    {
     "cell_type": "code",
     "collapsed": false,
     "input": [],
     "language": "python",
     "metadata": {},
     "outputs": []
    }
   ],
   "metadata": {}
  }
 ]
}