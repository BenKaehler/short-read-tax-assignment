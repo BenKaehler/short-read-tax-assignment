{
 "metadata": {
  "name": "",
  "signature": "sha256:5c8a2cc607f0890435eeffafab572b100f6016062c471791847f40a6220b083c"
 },
 "nbformat": 3,
 "nbformat_minor": 0,
 "worksheets": [
  {
   "cells": [
    {
     "cell_type": "heading",
     "level": 1,
     "metadata": {},
     "source": [
      "Data generation: using python to sweep over methods and parameters"
     ]
    },
    {
     "cell_type": "markdown",
     "metadata": {},
     "source": [
      "In this notebook, we illustrate how to use python to generate a list of commands that we can then submit to a queuing system to run in parallel. In this example, we generate a list of QIIME 1.8.0-dev ``assign_taxonomy.py`` commands, though this workflow for command generation is generally very useful for performing *parameter sweeps* (i.e., exploration of sets of parameters for achieving a specific result for comparative purposes). \n",
      "\n",
      "Note that this notebook isn't actually running the commands, but only generating them. It is up to the user to then run these commands in their desired environment.\n",
      "\n",
      "Your BIOM tables should be called ``table.biom``, and nested in the following directory structure:\n",
      "\n",
      "```\n",
      "query_results_dir/\n",
      " analysis/\n",
      "  dataset-id/ \n",
      "   reference-db-id/\n",
      "    method-id/\n",
      "     parameter-combination-id/\n",
      "      table.biom\n",
      "```"
     ]
    },
    {
     "cell_type": "heading",
     "level": 2,
     "metadata": {},
     "source": [
      "Environment preparation"
     ]
    },
    {
     "cell_type": "code",
     "collapsed": false,
     "input": [
      "from os.path import join, exists, split\n",
      "from os import makedirs\n",
      "from tempfile import mkstemp\n",
      "from glob import glob\n",
      "from itertools import product"
     ],
     "language": "python",
     "metadata": {},
     "outputs": [],
     "prompt_number": 1
    },
    {
     "cell_type": "code",
     "collapsed": false,
     "input": [
      "project_dir = \"/home/caporaso/code/short-read-tax-assignment\"\n",
      "data_dir = join(project_dir, \"data\")\n",
      "\n",
      "reference_database_dir = \"/data/\"\n",
      "results_dir = \"/home/caporaso/analysis/2014.11.21-tax-assignment-simulated\""
     ],
     "language": "python",
     "metadata": {},
     "outputs": [],
     "prompt_number": 2
    },
    {
     "cell_type": "heading",
     "level": 2,
     "metadata": {},
     "source": [
      "Preparing data set sweep"
     ]
    },
    {
     "cell_type": "markdown",
     "metadata": {},
     "source": [
      "First, we're going to define the data sets that we'll sweep over."
     ]
    },
    {
     "cell_type": "code",
     "collapsed": false,
     "input": [
      "results_dir = join(results_dir, \"simulated-results\")\n",
      "\n",
      "dataset_reference_combinations = [\n",
      "   ('B1', 'gg_13_8_otus'),\n",
      "   ('B2', 'gg_13_8_otus'),\n",
      "]\n",
      "\n",
      "reference_dbs = {'gg_13_8_otus' : (join(reference_database_dir, 'gg_13_8_otus/rep_set/97_otus.fasta'), \n",
      "                                   join(reference_database_dir, 'gg_13_8_otus/taxonomy/97_otu_taxonomy.txt')),\n",
      "                 'unite-97-rep-set' : (join(reference_database_dir, 'unite-97-rep-set/97_otus.fasta'), \n",
      "                                       join(reference_database_dir, 'unite-97-rep-set/unite_rep_set_97-rdp-taxonomy-7.txt'))}"
     ],
     "language": "python",
     "metadata": {},
     "outputs": [],
     "prompt_number": 3
    },
    {
     "cell_type": "heading",
     "level": 2,
     "metadata": {},
     "source": [
      "Preparing the method/parameter combinations"
     ]
    },
    {
     "cell_type": "code",
     "collapsed": false,
     "input": [
      "\n",
      "method_parameters_combinations = { # probabalistic classifiers\n",
      "              'rdp': {'confidence': [0.0, 0.1, 0.2, 0.3, 0.4, 0.5, 0.6, 0.7, 0.8, 0.9, 1.0]},\n",
      "              # 'mothur': {'confidence': [0.0, 0.1, 0.2, 0.3, 0.4, 0.5, 0.6, 0.7, 0.8, 0.9, 1.0]},\n",
      "              \n",
      "              # global alignment classifiers\n",
      "              'uclust': {'min_consensus_fraction': [0.51, 0.76, 1.0], \n",
      "                         'similarity': [0.8, 0.9],\n",
      "                         'uclust_max_accepts': [1, 3, 5]},\n",
      "             \n",
      "              # local alignment classifiers\n",
      "              'sortmerna': {'sortmerna_e_value': [1.0, 0.001],\n",
      "                            'min_consensus_fraction': [0.51, 0.76, 1.0], \n",
      "                            'similarity': [0.8, 0.9],\n",
      "                            'sortmerna_best_N_alignments ': [1, 3, 5],\n",
      "                            'sortmerna_coverage' : [0.8, 0.9]},\n",
      "              'blast': {'blast_e_value': [100.0, 1.0, 0.001, 0.000001]}\n",
      "             }"
     ],
     "language": "python",
     "metadata": {},
     "outputs": [],
     "prompt_number": 4
    },
    {
     "cell_type": "markdown",
     "metadata": {},
     "source": [
      "```\n",
      "query_results_dir/\n",
      " analysis/\n",
      "  dataset-id/ \n",
      "   reference-db-id/\n",
      "    method-id/\n",
      "     parameter-combination-id/\n",
      "      table.biom\n",
      "```"
     ]
    },
    {
     "cell_type": "code",
     "collapsed": false,
     "input": [
      "analyses = ['simulated-community']"
     ],
     "language": "python",
     "metadata": {},
     "outputs": [],
     "prompt_number": 5
    },
    {
     "cell_type": "code",
     "collapsed": false,
     "input": [
      "commands = []\n",
      "command_template = \"mkdir -p %s ; assign_taxonomy.py -i %s -o %s -r %s -t %s -m %s %s --rdp_max_memory 16000\"\n",
      "for analysis in analyses:\n",
      "    analysis_input_dir = join(data_dir, analysis)\n",
      "    analysis_output_dir = join(results_dir, analysis)\n",
      "    for dataset, reference in dataset_reference_combinations:\n",
      "        dataset_input_dir = join(analysis_input_dir, dataset)\n",
      "        dataset_input_seqs = join(dataset_input_dir, 'rep_set.fna')\n",
      "        dataset_input_table = join(dataset_input_dir, 'table.biom')\n",
      "        reference_seqs, reference_tax = reference_dbs[reference]\n",
      "        dataset_output_dir = join(analysis_output_dir, dataset, reference)\n",
      "        for method, parameters in method_parameters_combinations.items():\n",
      "            method_output_dir = join(dataset_output_dir, method)\n",
      "            parameter_ids = parameters.keys()\n",
      "            parameter_ids.sort()\n",
      "            for parameter_combination in product(*[parameters[id_] for id_ in parameter_ids]):\n",
      "                parameter_comb_id = ':'.join(map(str,parameter_combination))\n",
      "                parameter_output_dir = join(method_output_dir, parameter_comb_id)\n",
      "                parameter_str = ' '.join(['--%s %s' % e for e in zip(parameter_ids, parameter_combination)])\n",
      "                command = command_template % (parameter_output_dir, dataset_input_seqs, \n",
      "                                              parameter_output_dir, reference_seqs, \n",
      "                                              reference_tax, method, parameter_str)\n",
      "                commands.append(command)\n",
      "                                \n",
      "                \n",
      "print len(commands)\n",
      "print commands[0]\n",
      "print\n",
      "print commands[-1]"
     ],
     "language": "python",
     "metadata": {},
     "outputs": [
      {
       "output_type": "stream",
       "stream": "stdout",
       "text": [
        "210\n",
        "mkdir -p /home/caporaso/analysis/2014.11.21-tax-assignment-simulated/simulated-results/simulated-community/B1/gg_13_8_otus/sortmerna/0.51:0.8:1:0.8:1.0 ; assign_taxonomy.py -i /home/caporaso/code/short-read-tax-assignment/data/simulated-community/B1/rep_set.fna -o /home/caporaso/analysis/2014.11.21-tax-assignment-simulated/simulated-results/simulated-community/B1/gg_13_8_otus/sortmerna/0.51:0.8:1:0.8:1.0 -r /data/gg_13_8_otus/rep_set/97_otus.fasta -t /data/gg_13_8_otus/taxonomy/97_otu_taxonomy.txt -m sortmerna --min_consensus_fraction 0.51 --similarity 0.8 --sortmerna_best_N_alignments  1 --sortmerna_coverage 0.8 --sortmerna_e_value 1.0 --rdp_max_memory 16000\n",
        "\n",
        "mkdir -p /home/caporaso/analysis/2014.11.21-tax-assignment-simulated/simulated-results/simulated-community/B2/gg_13_8_otus/uclust/1.0:0.9:5 ; assign_taxonomy.py -i /home/caporaso/code/short-read-tax-assignment/data/simulated-community/B2/rep_set.fna -o /home/caporaso/analysis/2014.11.21-tax-assignment-simulated/simulated-results/simulated-community/B2/gg_13_8_otus/uclust/1.0:0.9:5 -r /data/gg_13_8_otus/rep_set/97_otus.fasta -t /data/gg_13_8_otus/taxonomy/97_otu_taxonomy.txt -m uclust --min_consensus_fraction 1.0 --similarity 0.9 --uclust_max_accepts 5 --rdp_max_memory 16000\n"
       ]
      }
     ],
     "prompt_number": 6
    },
    {
     "cell_type": "code",
     "collapsed": false,
     "input": [
      "open('at-cmds.txt','w').write('\\n'.join(commands))"
     ],
     "language": "python",
     "metadata": {},
     "outputs": [],
     "prompt_number": 18
    },
    {
     "cell_type": "code",
     "collapsed": false,
     "input": [
      "!pwd"
     ],
     "language": "python",
     "metadata": {},
     "outputs": [
      {
       "output_type": "stream",
       "stream": "stdout",
       "text": [
        "/Users/caporaso/Dropbox/code/short-read-tax-assignment/ipynb\r\n"
       ]
      }
     ],
     "prompt_number": 13
    },
    {
     "cell_type": "code",
     "collapsed": false,
     "input": [],
     "language": "python",
     "metadata": {},
     "outputs": []
    }
   ],
   "metadata": {}
  }
 ]
}