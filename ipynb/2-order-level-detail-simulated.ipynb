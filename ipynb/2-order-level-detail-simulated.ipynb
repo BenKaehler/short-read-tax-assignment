{
 "metadata": {
  "name": "",
  "signature": "sha256:4f0b7f206354be3d0335f92de0f69a839f9357d698026196668a1e9e5092221a"
 },
 "nbformat": 3,
 "nbformat_minor": 0,
 "worksheets": [
  {
   "cells": [
    {
     "cell_type": "heading",
     "level": 1,
     "metadata": {},
     "source": [
      "Simulated community taxonomic performance analyses"
     ]
    },
    {
     "cell_type": "heading",
     "level": 2,
     "metadata": {},
     "source": [
      "Configure local environment-specific values"
     ]
    },
    {
     "cell_type": "markdown",
     "metadata": {},
     "source": [
      "**This is the only cell that you will need to edit to generate reports locally.**"
     ]
    },
    {
     "cell_type": "code",
     "collapsed": false,
     "input": [
      "## short_read_tax_dir should be the directory where you've downloaded (or cloned) the \n",
      "## short-read-tax-assignment repository. \n",
      "short_read_tax_dir = \"/Users/caporaso/Dropbox/code/short-read-tax-assignment/\"\n",
      "\n",
      "## query_results_dirs should contain the directory or directories where the results \n",
      "## of the method(s) to be compared to the pre-computed results can be found. \n",
      "query_results_dirs = \\\n",
      " [\"/Users/caporaso/analysis/2014.11.21-tax-assignment-simulated/simulated-results/simulated-community/\"]\n",
      "\n",
      "# taxonomic level to perform the analysis at\n",
      "# 2: phylum, 3: class, 4: order, 5: family, 6: genus, 7: species\n",
      "taxonomic_level = 3\n",
      "\n",
      "# minimum number of times an OTU must be observed for it to be included in analyses\n",
      "min_count = 1\n",
      "\n",
      "# set to true if select tables should be written as Excel files (useful for publication)\n",
      "write_xls_files = True\n",
      "\n",
      "taxonomy_level_names = ['Kingdom', 'Phylum', 'Class', 'Order', 'Family', 'Genus', 'Species']\n",
      "bacterial_reference_taxonomy_fp = \"/Users/caporaso/data/gg_13_8_otus/taxonomy/97_otu_taxonomy.txt\"\n",
      "bacterial_reference_taxa = set()\n",
      "for line in open(bacterial_reference_taxonomy_fp, 'U'):\n",
      "    fields = line.strip().split('\\t')\n",
      "    bacterial_reference_taxa.add(tuple(fields[1].split('; ')[:taxonomic_level]))\n",
      "    \n",
      "bacterial_reference_taxa = set(list(bacterial_reference_taxa)[:25])"
     ],
     "language": "python",
     "metadata": {},
     "outputs": [],
     "prompt_number": 1
    },
    {
     "cell_type": "heading",
     "level": 2,
     "metadata": {},
     "source": [
      "Prepare the environment"
     ]
    },
    {
     "cell_type": "markdown",
     "metadata": {},
     "source": [
      "First we'll configure IPython to add matplotlib plots inline. Then we'll import various functions that we'll need for generating the report. "
     ]
    },
    {
     "cell_type": "code",
     "collapsed": false,
     "input": [
      "%matplotlib inline\n",
      "\n",
      "from os.path import join, exists\n",
      "import pandas as pd\n",
      "from skbio.draw import boxplots\n",
      "\n",
      "from taxcompare.eval_framework import (get_expected_tables_lookup, \n",
      "                                       find_and_process_result_tables,\n",
      "                                       compute_mock_results,\n",
      "                                       compute_mantel,\n",
      "                                       generate_pr_scatter_plots,\n",
      "                                       boxplot_from_data_frame,\n",
      "                                       heatmap_from_data_frame,\n",
      "                                       method_by_dataset_a1,\n",
      "                                       method_by_dataset_a2,\n",
      "                                       performance_rank_comparisons,\n",
      "                                       parameter_comparisons)"
     ],
     "language": "python",
     "metadata": {},
     "outputs": [
      {
       "output_type": "stream",
       "stream": "stderr",
       "text": [
        "/Users/caporaso/.virtualenvs/short-read-tax-assignment/lib/python2.7/site-packages/matplotlib/__init__.py:1312: UserWarning:  This call to matplotlib.use() has no effect\n",
        "because the backend has already been chosen;\n",
        "matplotlib.use() must be called *before* pylab, matplotlib.pyplot,\n",
        "or matplotlib.backends is imported for the first time.\n",
        "\n",
        "  warnings.warn(_use_error_msg)\n"
       ]
      }
     ],
     "prompt_number": 2
    },
    {
     "cell_type": "code",
     "collapsed": false,
     "input": [
      "# Define the subdirectories where the query mock community data should be, and confirm that they exist.\n",
      "simulated_query_results_dirs = [query_results_dir for query_results_dir in query_results_dirs]\n",
      "\n",
      "for simulated_query_results_dir in simulated_query_results_dirs:\n",
      "    assert exists(simulated_query_results_dir), \"Simulated community query directory doesn't exist: %s\" % simulated_query_results_dir\n",
      "\n",
      "# Define the subdirectories where the subject mock community data should be, and confirm that they exist.\n",
      "simulated_subject_results_dir = join(short_read_tax_dir,'data/subject-results/simulated-community/')\n",
      "\n",
      "assert exists(simulated_subject_results_dir), \"Simulated community subject directory doesn't exist: %s\" % simulated_subject_results_dir"
     ],
     "language": "python",
     "metadata": {},
     "outputs": [],
     "prompt_number": 3
    },
    {
     "cell_type": "heading",
     "level": 2,
     "metadata": {},
     "source": [
      "Find simulated community pre-computed tables, expected tables, and \"query\" tables"
     ]
    },
    {
     "cell_type": "markdown",
     "metadata": {},
     "source": [
      "Next we'll use the paths defined above to find all of the tables that will be compared. These include the *pre-computed result* tables (i.e., the ones that the new methods will be compared to), the *expected result* tables (i.e., the tables containing the known composition of the mock microbial communities), and the *query result* tables (i.e., the tables generated with the new method(s) that we want to compare to the *pre-computed result* tables)."
     ]
    },
    {
     "cell_type": "code",
     "collapsed": false,
     "input": [
      "query_results = []\n",
      "for simulated_query_results_dir in simulated_query_results_dirs:\n",
      "    query_results += find_and_process_result_tables(simulated_query_results_dir)"
     ],
     "language": "python",
     "metadata": {},
     "outputs": [],
     "prompt_number": 4
    },
    {
     "cell_type": "code",
     "collapsed": false,
     "input": [
      "subject_results = find_and_process_result_tables(simulated_subject_results_dir)\n",
      "expected_tables = get_expected_tables_lookup(simulated_subject_results_dir, level=taxonomic_level)"
     ],
     "language": "python",
     "metadata": {},
     "outputs": [],
     "prompt_number": 5
    },
    {
     "cell_type": "code",
     "collapsed": false,
     "input": [
      "# filter to only tables that we're interested in here - these will likely be the tables corresponding to the best performing methods\n",
      "tables_of_interest = set([('B1', 'gg_13_8_otus', 'sortmerna', '0.51:0.8:1:0.8:0.001'),\n",
      "                          ('B1', 'gg_13_8_otus', 'rdp', '0.5'),\n",
      "                          ('B1', 'gg_13_8_otus', 'uclust', '0.51:0.8:1'),\n",
      "                          ('B1', 'gg_13_8_otus', 'blast', '0.001'),\n",
      "                          ])\n",
      "\n",
      "_query_results = []\n",
      "for e in query_results:\n",
      "    if e[0:4] in tables_of_interest:\n",
      "        _query_results.append(e)\n",
      "query_results = _query_results\n",
      "\n",
      "_subject_results = []\n",
      "for e in subject_results:\n",
      "    if e[0:4] in tables_of_interest:\n",
      "        _subject_results.append(e)\n",
      "subject_results = _subject_results"
     ],
     "language": "python",
     "metadata": {},
     "outputs": [],
     "prompt_number": 6
    },
    {
     "cell_type": "markdown",
     "metadata": {},
     "source": [
      "Evalution 1: Compute and summarize precision, recall, and F-measure for mock communities\n",
      "----------------------------------------------------------------------------------------\n",
      "\n",
      "In this evaluation, we compute and summarize precision, recall, and F-measure of each result (pre-computed and query) based on the known composition of the mock communities. We then summarize the results in two ways: first with boxplots, and second with a table of the top methods based on their F-measures. \n",
      "\n",
      "This is a qualitative evaluation, effectively telling us about the ability of the different methods to report the taxa that are present in each sample. These metrics are not concerned with the abundance of the different taxa."
     ]
    },
    {
     "cell_type": "code",
     "collapsed": false,
     "input": [
      "taxa_of_interest = bacterial_reference_taxa\n",
      "\n",
      "taxa_specific_results = []\n",
      "\n",
      "for taxon_of_interest in taxa_of_interest:\n",
      "    try:\n",
      "        query_mock_results = compute_mock_results(query_results, expected_tables, taxonomy_level=taxonomic_level,\n",
      "                                      min_count=min_count, taxa_to_keep=taxon_of_interest)\n",
      "    except ValueError:\n",
      "        continue\n",
      "#     try:\n",
      "#         subject_mock_results = compute_mock_results(subject_results, expected_tables, taxonomy_level=taxonomic_level,\n",
      "#                                       min_count=min_count, taxa_to_keep=taxon_of_interest)\n",
      "#     except ValueError:\n",
      "#         continue\n",
      "    taxa_specific_results.append(query_mock_results)\n",
      "        \n",
      "        \n",
      "    "
     ],
     "language": "python",
     "metadata": {},
     "outputs": [
      {
       "output_type": "stream",
       "stream": "stderr",
       "text": [
        "/Users/caporaso/.virtualenvs/short-read-tax-assignment/lib/python2.7/site-packages/numpy/lib/function_base.py:1890: RuntimeWarning: Degrees of freedom <= 0 for slice\n",
        "  warnings.warn(\"Degrees of freedom <= 0 for slice\", RuntimeWarning)\n"
       ]
      }
     ],
     "prompt_number": 7
    },
    {
     "cell_type": "code",
     "collapsed": false,
     "input": [
      "import numpy as np\n",
      "\n",
      "indices = []\n",
      "data = []\n",
      "for taxon, result in zip(bacterial_reference_taxa, taxa_specific_results):\n",
      "    values = result['F-measure']\n",
      "    methods = result['Method']\n",
      "    indices.append(list(taxon))\n",
      "    data.append(list(values))\n",
      "index = pd.MultiIndex.from_tuples(indices, names=taxonomy_level_names[:taxonomic_level])\n",
      "metric_by_taxon = pd.DataFrame(np.array(data), columns=list(methods), index=index)\n",
      "metric_by_taxon.sort_index(axis=0, inplace=True)\n",
      "\n",
      "# testing...\n",
      "metric_by_taxon['rdp']['k__Bacteria', 'p__Acidobacteria', 'c__AT-s2-57'] = 0.5\n",
      "metric_by_taxon['uclust']['k__Bacteria', 'p__Acidobacteria', 'c__AT-s2-57'] = 0.75\n",
      "metric_by_taxon['sortmerna']['k__Bacteria', 'p__Acidobacteria', 'c__TM1'] = 0.5\n",
      "metric_by_taxon['blast']['k__Bacteria', 'p__Chlorobi', 'c__Chlorobia'] = 0.5"
     ],
     "language": "python",
     "metadata": {},
     "outputs": [],
     "prompt_number": 13
    },
    {
     "cell_type": "code",
     "collapsed": false,
     "input": [
      "metric_by_taxon"
     ],
     "language": "python",
     "metadata": {},
     "outputs": [
      {
       "html": [
        "<div style=\"max-height:1000px;max-width:1500px;overflow:auto;\">\n",
        "<table border=\"1\" class=\"dataframe\">\n",
        "  <thead>\n",
        "    <tr style=\"text-align: right;\">\n",
        "      <th></th>\n",
        "      <th></th>\n",
        "      <th></th>\n",
        "      <th>blast</th>\n",
        "      <th>rdp</th>\n",
        "      <th>sortmerna</th>\n",
        "      <th>uclust</th>\n",
        "    </tr>\n",
        "    <tr>\n",
        "      <th>Kingdom</th>\n",
        "      <th>Phylum</th>\n",
        "      <th>Class</th>\n",
        "      <th></th>\n",
        "      <th></th>\n",
        "      <th></th>\n",
        "      <th></th>\n",
        "    </tr>\n",
        "  </thead>\n",
        "  <tbody>\n",
        "    <tr>\n",
        "      <th>k__Archaea</th>\n",
        "      <th>p__Euryarchaeota</th>\n",
        "      <th>c__ANME-1</th>\n",
        "      <td> 1.0</td>\n",
        "      <td> 1.0</td>\n",
        "      <td> 1.0</td>\n",
        "      <td> 1.00</td>\n",
        "    </tr>\n",
        "    <tr>\n",
        "      <th rowspan=\"22\" valign=\"top\">k__Bacteria</th>\n",
        "      <th rowspan=\"4\" valign=\"top\">p__Acidobacteria</th>\n",
        "      <th>c__AT-s2-57</th>\n",
        "      <td> 1.0</td>\n",
        "      <td> 0.5</td>\n",
        "      <td> 1.0</td>\n",
        "      <td> 0.75</td>\n",
        "    </tr>\n",
        "    <tr>\n",
        "      <th>c__Sva0725</th>\n",
        "      <td> 1.0</td>\n",
        "      <td> 1.0</td>\n",
        "      <td> 1.0</td>\n",
        "      <td> 1.00</td>\n",
        "    </tr>\n",
        "    <tr>\n",
        "      <th>c__TM1</th>\n",
        "      <td> 1.0</td>\n",
        "      <td> 1.0</td>\n",
        "      <td> 0.5</td>\n",
        "      <td> 1.00</td>\n",
        "    </tr>\n",
        "    <tr>\n",
        "      <th>c__iii1-8</th>\n",
        "      <td> 1.0</td>\n",
        "      <td> 1.0</td>\n",
        "      <td> 1.0</td>\n",
        "      <td> 1.00</td>\n",
        "    </tr>\n",
        "    <tr>\n",
        "      <th>p__Armatimonadetes</th>\n",
        "      <th>c__OPB50</th>\n",
        "      <td> 1.0</td>\n",
        "      <td> 1.0</td>\n",
        "      <td> 1.0</td>\n",
        "      <td> 1.00</td>\n",
        "    </tr>\n",
        "    <tr>\n",
        "      <th rowspan=\"3\" valign=\"top\">p__Chlorobi</th>\n",
        "      <th>c__BSV26</th>\n",
        "      <td> 1.0</td>\n",
        "      <td> 1.0</td>\n",
        "      <td> 1.0</td>\n",
        "      <td> 1.00</td>\n",
        "    </tr>\n",
        "    <tr>\n",
        "      <th>c__Chlorobia</th>\n",
        "      <td> 0.5</td>\n",
        "      <td> 1.0</td>\n",
        "      <td> 1.0</td>\n",
        "      <td> 1.00</td>\n",
        "    </tr>\n",
        "    <tr>\n",
        "      <th>c__SJA-28</th>\n",
        "      <td> 1.0</td>\n",
        "      <td> 1.0</td>\n",
        "      <td> 1.0</td>\n",
        "      <td> 1.00</td>\n",
        "    </tr>\n",
        "    <tr>\n",
        "      <th rowspan=\"2\" valign=\"top\">p__Chloroflexi</th>\n",
        "      <th>c__Anaerolineae</th>\n",
        "      <td> 1.0</td>\n",
        "      <td> 1.0</td>\n",
        "      <td> 1.0</td>\n",
        "      <td> 1.00</td>\n",
        "    </tr>\n",
        "    <tr>\n",
        "      <th>c__Ktedonobacteria</th>\n",
        "      <td> 1.0</td>\n",
        "      <td> 1.0</td>\n",
        "      <td> 1.0</td>\n",
        "      <td> 1.00</td>\n",
        "    </tr>\n",
        "    <tr>\n",
        "      <th>p__Deferribacteres</th>\n",
        "      <th>c__Deferribacteres</th>\n",
        "      <td> 1.0</td>\n",
        "      <td> 1.0</td>\n",
        "      <td> 1.0</td>\n",
        "      <td> 1.00</td>\n",
        "    </tr>\n",
        "    <tr>\n",
        "      <th>p__GN01</th>\n",
        "      <th>c__</th>\n",
        "      <td> 1.0</td>\n",
        "      <td> 1.0</td>\n",
        "      <td> 1.0</td>\n",
        "      <td> 1.00</td>\n",
        "    </tr>\n",
        "    <tr>\n",
        "      <th>p__GN02</th>\n",
        "      <th>c__IIB17</th>\n",
        "      <td> 1.0</td>\n",
        "      <td> 1.0</td>\n",
        "      <td> 1.0</td>\n",
        "      <td> 1.00</td>\n",
        "    </tr>\n",
        "    <tr>\n",
        "      <th>p__GN04</th>\n",
        "      <th>c__MSB-5A5</th>\n",
        "      <td> 1.0</td>\n",
        "      <td> 1.0</td>\n",
        "      <td> 1.0</td>\n",
        "      <td> 1.00</td>\n",
        "    </tr>\n",
        "    <tr>\n",
        "      <th>p__KSB3</th>\n",
        "      <th>c__MAT-CR-H3-D11</th>\n",
        "      <td> 1.0</td>\n",
        "      <td> 1.0</td>\n",
        "      <td> 1.0</td>\n",
        "      <td> 1.00</td>\n",
        "    </tr>\n",
        "    <tr>\n",
        "      <th>p__MVS-104</th>\n",
        "      <th>c__</th>\n",
        "      <td> 1.0</td>\n",
        "      <td> 1.0</td>\n",
        "      <td> 1.0</td>\n",
        "      <td> 1.00</td>\n",
        "    </tr>\n",
        "    <tr>\n",
        "      <th>p__OP1</th>\n",
        "      <th>c__KB1</th>\n",
        "      <td> 1.0</td>\n",
        "      <td> 1.0</td>\n",
        "      <td> 1.0</td>\n",
        "      <td> 1.00</td>\n",
        "    </tr>\n",
        "    <tr>\n",
        "      <th>p__OP9</th>\n",
        "      <th>c__OPB46</th>\n",
        "      <td> 1.0</td>\n",
        "      <td> 1.0</td>\n",
        "      <td> 1.0</td>\n",
        "      <td> 1.00</td>\n",
        "    </tr>\n",
        "    <tr>\n",
        "      <th>p__Planctomycetes</th>\n",
        "      <th>c__Pla3</th>\n",
        "      <td> 1.0</td>\n",
        "      <td> 1.0</td>\n",
        "      <td> 1.0</td>\n",
        "      <td> 1.00</td>\n",
        "    </tr>\n",
        "    <tr>\n",
        "      <th>p__Poribacteria</th>\n",
        "      <th>c__</th>\n",
        "      <td> 1.0</td>\n",
        "      <td> 1.0</td>\n",
        "      <td> 1.0</td>\n",
        "      <td> 1.00</td>\n",
        "    </tr>\n",
        "    <tr>\n",
        "      <th>p__Proteobacteria</th>\n",
        "      <th>c__Epsilonproteobacteria</th>\n",
        "      <td> 1.0</td>\n",
        "      <td> 1.0</td>\n",
        "      <td> 1.0</td>\n",
        "      <td> 1.00</td>\n",
        "    </tr>\n",
        "    <tr>\n",
        "      <th>p__Verrucomicrobia</th>\n",
        "      <th>c__Opitutae</th>\n",
        "      <td> 1.0</td>\n",
        "      <td> 1.0</td>\n",
        "      <td> 1.0</td>\n",
        "      <td> 1.00</td>\n",
        "    </tr>\n",
        "  </tbody>\n",
        "</table>\n",
        "</div>"
       ],
       "metadata": {},
       "output_type": "pyout",
       "prompt_number": 14,
       "text": [
        "                                                         blast  rdp  \\\n",
        "Kingdom     Phylum             Class                                  \n",
        "k__Archaea  p__Euryarchaeota   c__ANME-1                   1.0  1.0   \n",
        "k__Bacteria p__Acidobacteria   c__AT-s2-57                 1.0  0.5   \n",
        "                               c__Sva0725                  1.0  1.0   \n",
        "                               c__TM1                      1.0  1.0   \n",
        "                               c__iii1-8                   1.0  1.0   \n",
        "            p__Armatimonadetes c__OPB50                    1.0  1.0   \n",
        "            p__Chlorobi        c__BSV26                    1.0  1.0   \n",
        "                               c__Chlorobia                0.5  1.0   \n",
        "                               c__SJA-28                   1.0  1.0   \n",
        "            p__Chloroflexi     c__Anaerolineae             1.0  1.0   \n",
        "                               c__Ktedonobacteria          1.0  1.0   \n",
        "            p__Deferribacteres c__Deferribacteres          1.0  1.0   \n",
        "            p__GN01            c__                         1.0  1.0   \n",
        "            p__GN02            c__IIB17                    1.0  1.0   \n",
        "            p__GN04            c__MSB-5A5                  1.0  1.0   \n",
        "            p__KSB3            c__MAT-CR-H3-D11            1.0  1.0   \n",
        "            p__MVS-104         c__                         1.0  1.0   \n",
        "            p__OP1             c__KB1                      1.0  1.0   \n",
        "            p__OP9             c__OPB46                    1.0  1.0   \n",
        "            p__Planctomycetes  c__Pla3                     1.0  1.0   \n",
        "            p__Poribacteria    c__                         1.0  1.0   \n",
        "            p__Proteobacteria  c__Epsilonproteobacteria    1.0  1.0   \n",
        "            p__Verrucomicrobia c__Opitutae                 1.0  1.0   \n",
        "\n",
        "                                                         sortmerna  uclust  \n",
        "Kingdom     Phylum             Class                                        \n",
        "k__Archaea  p__Euryarchaeota   c__ANME-1                       1.0    1.00  \n",
        "k__Bacteria p__Acidobacteria   c__AT-s2-57                     1.0    0.75  \n",
        "                               c__Sva0725                      1.0    1.00  \n",
        "                               c__TM1                          0.5    1.00  \n",
        "                               c__iii1-8                       1.0    1.00  \n",
        "            p__Armatimonadetes c__OPB50                        1.0    1.00  \n",
        "            p__Chlorobi        c__BSV26                        1.0    1.00  \n",
        "                               c__Chlorobia                    1.0    1.00  \n",
        "                               c__SJA-28                       1.0    1.00  \n",
        "            p__Chloroflexi     c__Anaerolineae                 1.0    1.00  \n",
        "                               c__Ktedonobacteria              1.0    1.00  \n",
        "            p__Deferribacteres c__Deferribacteres              1.0    1.00  \n",
        "            p__GN01            c__                             1.0    1.00  \n",
        "            p__GN02            c__IIB17                        1.0    1.00  \n",
        "            p__GN04            c__MSB-5A5                      1.0    1.00  \n",
        "            p__KSB3            c__MAT-CR-H3-D11                1.0    1.00  \n",
        "            p__MVS-104         c__                             1.0    1.00  \n",
        "            p__OP1             c__KB1                          1.0    1.00  \n",
        "            p__OP9             c__OPB46                        1.0    1.00  \n",
        "            p__Planctomycetes  c__Pla3                         1.0    1.00  \n",
        "            p__Poribacteria    c__                             1.0    1.00  \n",
        "            p__Proteobacteria  c__Epsilonproteobacteria        1.0    1.00  \n",
        "            p__Verrucomicrobia c__Opitutae                     1.0    1.00  "
       ]
      }
     ],
     "prompt_number": 14
    },
    {
     "cell_type": "markdown",
     "metadata": {},
     "source": [
      "Are method performances correlated? In other words, do all methods do well/bad on the same taxa?"
     ]
    },
    {
     "cell_type": "code",
     "collapsed": false,
     "input": [
      "print metric_by_taxon.corr()"
     ],
     "language": "python",
     "metadata": {},
     "outputs": [
      {
       "output_type": "stream",
       "stream": "stdout",
       "text": [
        "              blast       rdp  sortmerna    uclust\n",
        "blast      1.000000 -0.045455  -0.045455 -0.045455\n",
        "rdp       -0.045455  1.000000  -0.045455  1.000000\n",
        "sortmerna -0.045455 -0.045455   1.000000 -0.045455\n",
        "uclust    -0.045455  1.000000  -0.045455  1.000000\n"
       ]
      }
     ],
     "prompt_number": 15
    },
    {
     "cell_type": "markdown",
     "metadata": {},
     "source": [
      "What is the performance (F-measure, here) by taxa? "
     ]
    },
    {
     "cell_type": "code",
     "collapsed": false,
     "input": [
      "def collpase_zero_variance_taxa(df):\n",
      "    new_indices = []\n",
      "    new_data = []\n",
      "    index_names = df.index.names\n",
      "    column_names = df.columns\n",
      "    \n",
      "    for d, g in df.groupby(level=index_names[:-1]):\n",
      "        if not g.var().any():\n",
      "            new_indices.append(tuple(list(d) + [\"All (n=%s)\" % len(g)]))\n",
      "            new_data.append(g.get_values()[0])\n",
      "        else:\n",
      "            new_indices.extend(g.index)\n",
      "            new_data.extend(g.get_values())\n",
      "\n",
      "    new_index = pd.MultiIndex.from_tuples(new_indices, names=index_names)\n",
      "    return pd.DataFrame(new_data, columns=column_names, index=new_index)\n",
      "\n",
      "metric_by_collapsed_taxon = collpase_zero_variance_taxa(metric_by_taxon)"
     ],
     "language": "python",
     "metadata": {},
     "outputs": [],
     "prompt_number": 16
    },
    {
     "cell_type": "code",
     "collapsed": false,
     "input": [
      "from seaborn import heatmap\n",
      "import matplotlib.pyplot as plt\n",
      "\n",
      "height = len(metric_by_collapsed_taxon.index) * 0.35\n",
      "width = len(metric_by_collapsed_taxon.columns) * 1\n",
      "\n",
      "metric_by_collapsed_taxon.sort_index(inplace=True)\n",
      "\n",
      "# Based on SO answer: http://stackoverflow.com/a/18238680\n",
      "fig = plt.figure(figsize=(width, height))\n",
      "heatmap(metric_by_collapsed_taxon, vmin=0, vmax=1, cmap='Reds', annot=True)"
     ],
     "language": "python",
     "metadata": {},
     "outputs": [
      {
       "metadata": {},
       "output_type": "pyout",
       "prompt_number": 17,
       "text": [
        "<matplotlib.axes._subplots.AxesSubplot at 0x10f57b790>"
       ]
      },
      {
       "metadata": {},
       "output_type": "display_data",
       "png": "[encoded data removed]",
       "text": [
        "<matplotlib.figure.Figure at 0x10f637e10>"
       ]
      }
     ],
     "prompt_number": 17
    },
    {
     "cell_type": "code",
     "collapsed": false,
     "input": [],
     "language": "python",
     "metadata": {},
     "outputs": [],
     "prompt_number": 12
    }
   ],
   "metadata": {}
  }
 ]
}