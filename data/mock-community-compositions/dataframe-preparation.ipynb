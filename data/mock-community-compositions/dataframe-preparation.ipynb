{
 "metadata": {
  "name": "",
  "signature": "sha256:20321897de05222e16e23a2789517e3837e3956d3834100c6b49a782dccdc6e4"
 },
 "nbformat": 3,
 "nbformat_minor": 0,
 "worksheets": [
  {
   "cells": [
    {
     "cell_type": "markdown",
     "metadata": {},
     "source": [
      "This notebook contains the code used to generate per-level taxon tables. "
     ]
    },
    {
     "cell_type": "code",
     "collapsed": false,
     "input": [
      "from glob import glob\n",
      "import pandas as pd\n",
      "\n",
      "fps = glob('*key.txt')"
     ],
     "language": "python",
     "metadata": {},
     "outputs": [],
     "prompt_number": 1
    },
    {
     "cell_type": "code",
     "collapsed": false,
     "input": [
      "input_fp = 'Broad_key.txt'\n",
      "output_fp = 'master_key.tsv'\n",
      "\n",
      "master_df = pd.DataFrame(columns=['Taxon'])\n",
      "\n",
      "for input_fp in fps:\n",
      "    output_fp = input_fp.replace('.txt', '.tsv')\n",
      "    abundances = pd.read_table(input_fp, sep='\\t', index_col='Taxon')\n",
      "    abundances = abundances.dropna(how='all')\n",
      "    abundances = abundances.fillna(0.0)\n",
      "    data = [e.split(';') for e in abundances.index]\n",
      "    num_levels = len(data[0])\n",
      "    columns = list('kpcofgs')[:num_levels]\n",
      "    tax_table = pd.DataFrame(data,\n",
      "                             index=abundances.index,\n",
      "                             columns=columns)\n",
      "    df = abundances.merge(tax_table, left_index=True, right_index=True, how='inner')\n",
      "    df.to_csv(output_fp, sep=\"\\t\")\n",
      "    for i in range(1, num_levels):\n",
      "        level_output_fp = output_fp.replace('.tsv','.level%d.tsv' % (i+1))\n",
      "        levels = columns[:i+1]\n",
      "        level_df = df.groupby(by=levels).sum()\n",
      "        new_indices = [';'.join(e[0]) for e in level_df.iterrows()]\n",
      "        level_df.index = new_indices\n",
      "        level_df.to_csv(level_output_fp, sep='\\t', index_label='Taxon')"
     ],
     "language": "python",
     "metadata": {},
     "outputs": [],
     "prompt_number": 51
    }
   ],
   "metadata": {}
  }
 ]
}