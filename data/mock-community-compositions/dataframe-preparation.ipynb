{
 "metadata": {
  "name": "",
  "signature": "sha256:d526c37d55e9aeeaf3310727eec91d2b6641374e83ca7ec692cfb24cd6c894a0"
 },
 "nbformat": 3,
 "nbformat_minor": 0,
 "worksheets": [
  {
   "cells": [
    {
     "cell_type": "markdown",
     "metadata": {},
     "source": [
      "This notebook contains the code used to generate per-level taxon tables. "
     ]
    },
    {
     "cell_type": "code",
     "collapsed": false,
     "input": [
      "from glob import glob\n",
      "import pandas as pd\n",
      "\n",
      "fps = glob('*key.txt')"
     ],
     "language": "python",
     "metadata": {},
     "outputs": [],
     "prompt_number": 1
    },
    {
     "cell_type": "code",
     "collapsed": false,
     "input": [
      "input_fp = 'Broad_key.txt'\n",
      "output_fp = 'master_key.tsv'\n",
      "\n",
      "master_df = pd.DataFrame(columns=['Taxon'])\n",
      "\n",
      "for input_fp in fps:\n",
      "    output_fp = input_fp.replace('.txt', '.tsv')\n",
      "    abundances = pd.read_table(input_fp, sep='\\t', index_col='Taxon')\n",
      "    abundances = abundances.dropna(how='all')\n",
      "    abundances = abundances.fillna(0.0)\n",
      "    data = [e.split(';') for e in abundances.index]\n",
      "    num_levels = len(data[0])\n",
      "    columns = list('kpcofgs')[:num_levels]\n",
      "    tax_table = pd.DataFrame(data,\n",
      "                             index=abundances.index,\n",
      "                             columns=columns)\n",
      "    df = abundances.merge(tax_table, left_index=True, right_index=True, how='inner')\n",
      "    df.to_csv(output_fp, sep=\"\\t\")\n",
      "    for i in range(1, num_levels):\n",
      "        level_output_fp = output_fp.replace('.tsv','.level%d.tsv' % (i+1))\n",
      "        levels = columns[:i+1]\n",
      "        level_df = df.groupby(by=levels).sum()\n",
      "        new_indices = [';'.join(e[0]) for e in level_df.iterrows()]\n",
      "        level_df.index = new_indices\n",
      "        level_df.to_csv(level_output_fp, sep='\\t', index_label='Taxon')"
     ],
     "language": "python",
     "metadata": {},
     "outputs": [],
     "prompt_number": 2
    },
    {
     "cell_type": "code",
     "collapsed": false,
     "input": [
      "!rm \n",
      "\n",
      "for i in range(1,4):\n",
      "    for j in range(2,8):\n",
      "        input_fp = \"Broad_key.level%d.tsv\" % j\n",
      "        output_fp = \"../eval-subject-results/mock/Broad-%d/gg_13_5_otus/expected/table.L%d-taxa.biom\" % (i,j)\n",
      "        cmd = 'biom convert -i %s -o %s --to-json --table-type \"Taxon table\"' % (input_fp, output_fp)\n",
      "        !$cmd"
     ],
     "language": "python",
     "metadata": {},
     "outputs": [
      {
       "output_type": "stream",
       "stream": "stdout",
       "text": [
        "/Users/caporaso/.virtualenvs/short-read-tax-assignment/lib/python2.7/site-packages/biom/util.py:29: UserWarning: h5py is not available\r\n",
        "  warn(\"h5py is not available\")\r\n",
        "Traceback (most recent call last):\r\n",
        "  File \"/Users/caporaso/.virtualenvs/short-read-tax-assignment/bin/pyqi\", line 184, in <module>\r\n",
        "    optparse_main(cmd_obj, argv[1:])\r\n",
        "  File \"/Users/caporaso/.virtualenvs/short-read-tax-assignment/lib/python2.7/site-packages/pyqi/core/interfaces/optparse/__init__.py\", line 275, in optparse_main\r\n",
        "    result = optparse_cmd(local_argv[1:])\r\n",
        "  File \"/Users/caporaso/.virtualenvs/short-read-tax-assignment/lib/python2.7/site-packages/pyqi/core/interface.py\", line 41, in __call__\r\n",
        "    return self._output_handler(cmd_result)\r\n",
        "  File \"/Users/caporaso/.virtualenvs/short-read-tax-assignment/lib/python2.7/site-packages/pyqi/core/interfaces/optparse/__init__.py\", line 250, in _output_handler\r\n",
        "    opt_value)\r\n",
        "  File \"/Users/caporaso/.virtualenvs/short-read-tax-assignment/lib/python2.7/site-packages/biom/interfaces/optparse/output_handler.py\", line 59, in write_biom_table\r\n",
        "    raise IOError(\"Output path '%s' already exists.\" % option_value)\r\n",
        "IOError: Output path '../eval-subject-results/mock/Broad-1/gg_13_5_otus/expected/table.L2-taxa.biom' already exists.\r\n"
       ]
      },
      {
       "output_type": "stream",
       "stream": "stdout",
       "text": [
        "/Users/caporaso/.virtualenvs/short-read-tax-assignment/lib/python2.7/site-packages/biom/util.py:29: UserWarning: h5py is not available\r\n",
        "  warn(\"h5py is not available\")\r\n"
       ]
      },
      {
       "output_type": "stream",
       "stream": "stdout",
       "text": [
        "/Users/caporaso/.virtualenvs/short-read-tax-assignment/lib/python2.7/site-packages/biom/util.py:29: UserWarning: h5py is not available\r\n",
        "  warn(\"h5py is not available\")\r\n"
       ]
      },
      {
       "output_type": "stream",
       "stream": "stdout",
       "text": [
        "/Users/caporaso/.virtualenvs/short-read-tax-assignment/lib/python2.7/site-packages/biom/util.py:29: UserWarning: h5py is not available\r\n",
        "  warn(\"h5py is not available\")\r\n"
       ]
      },
      {
       "output_type": "stream",
       "stream": "stdout",
       "text": [
        "/Users/caporaso/.virtualenvs/short-read-tax-assignment/lib/python2.7/site-packages/biom/util.py:29: UserWarning: h5py is not available\r\n",
        "  warn(\"h5py is not available\")\r\n",
        "Traceback (most recent call last):\r\n",
        "  File \"/Users/caporaso/.virtualenvs/short-read-tax-assignment/bin/pyqi\", line 184, in <module>\r\n",
        "    optparse_main(cmd_obj, argv[1:])\r\n",
        "  File \"/Users/caporaso/.virtualenvs/short-read-tax-assignment/lib/python2.7/site-packages/pyqi/core/interfaces/optparse/__init__.py\", line 275, in optparse_main\r\n",
        "    result = optparse_cmd(local_argv[1:])\r\n",
        "  File \"/Users/caporaso/.virtualenvs/short-read-tax-assignment/lib/python2.7/site-packages/pyqi/core/interface.py\", line 41, in __call__\r\n",
        "    return self._output_handler(cmd_result)\r\n",
        "  File \"/Users/caporaso/.virtualenvs/short-read-tax-assignment/lib/python2.7/site-packages/pyqi/core/interfaces/optparse/__init__.py\", line 250, in _output_handler\r\n",
        "    opt_value)\r\n",
        "  File \"/Users/caporaso/.virtualenvs/short-read-tax-assignment/lib/python2.7/site-packages/biom/interfaces/optparse/output_handler.py\", line 59, in write_biom_table\r\n",
        "    raise IOError(\"Output path '%s' already exists.\" % option_value)\r\n",
        "IOError: Output path '../eval-subject-results/mock/Broad-1/gg_13_5_otus/expected/table.L6-taxa.biom' already exists.\r\n"
       ]
      },
      {
       "output_type": "stream",
       "stream": "stdout",
       "text": [
        "/Users/caporaso/.virtualenvs/short-read-tax-assignment/lib/python2.7/site-packages/biom/util.py:29: UserWarning: h5py is not available\r\n",
        "  warn(\"h5py is not available\")\r\n"
       ]
      },
      {
       "output_type": "stream",
       "stream": "stdout",
       "text": [
        "/Users/caporaso/.virtualenvs/short-read-tax-assignment/lib/python2.7/site-packages/biom/util.py:29: UserWarning: h5py is not available\r\n",
        "  warn(\"h5py is not available\")\r\n"
       ]
      },
      {
       "output_type": "stream",
       "stream": "stdout",
       "text": [
        "/Users/caporaso/.virtualenvs/short-read-tax-assignment/lib/python2.7/site-packages/biom/util.py:29: UserWarning: h5py is not available\r\n",
        "  warn(\"h5py is not available\")\r\n"
       ]
      },
      {
       "output_type": "stream",
       "stream": "stdout",
       "text": [
        "/Users/caporaso/.virtualenvs/short-read-tax-assignment/lib/python2.7/site-packages/biom/util.py:29: UserWarning: h5py is not available\r\n",
        "  warn(\"h5py is not available\")\r\n"
       ]
      },
      {
       "output_type": "stream",
       "stream": "stdout",
       "text": [
        "/Users/caporaso/.virtualenvs/short-read-tax-assignment/lib/python2.7/site-packages/biom/util.py:29: UserWarning: h5py is not available\r\n",
        "  warn(\"h5py is not available\")\r\n"
       ]
      },
      {
       "output_type": "stream",
       "stream": "stdout",
       "text": [
        "/Users/caporaso/.virtualenvs/short-read-tax-assignment/lib/python2.7/site-packages/biom/util.py:29: UserWarning: h5py is not available\r\n",
        "  warn(\"h5py is not available\")\r\n",
        "Traceback (most recent call last):\r\n",
        "  File \"/Users/caporaso/.virtualenvs/short-read-tax-assignment/bin/pyqi\", line 184, in <module>\r\n",
        "    optparse_main(cmd_obj, argv[1:])\r\n",
        "  File \"/Users/caporaso/.virtualenvs/short-read-tax-assignment/lib/python2.7/site-packages/pyqi/core/interfaces/optparse/__init__.py\", line 275, in optparse_main\r\n",
        "    result = optparse_cmd(local_argv[1:])\r\n",
        "  File \"/Users/caporaso/.virtualenvs/short-read-tax-assignment/lib/python2.7/site-packages/pyqi/core/interface.py\", line 41, in __call__\r\n",
        "    return self._output_handler(cmd_result)\r\n",
        "  File \"/Users/caporaso/.virtualenvs/short-read-tax-assignment/lib/python2.7/site-packages/pyqi/core/interfaces/optparse/__init__.py\", line 250, in _output_handler\r\n",
        "    opt_value)\r\n",
        "  File \"/Users/caporaso/.virtualenvs/short-read-tax-assignment/lib/python2.7/site-packages/biom/interfaces/optparse/output_handler.py\", line 59, in write_biom_table\r\n",
        "    raise IOError(\"Output path '%s' already exists.\" % option_value)\r\n",
        "IOError: Output path '../eval-subject-results/mock/Broad-2/gg_13_5_otus/expected/table.L6-taxa.biom' already exists.\r\n"
       ]
      },
      {
       "output_type": "stream",
       "stream": "stdout",
       "text": [
        "/Users/caporaso/.virtualenvs/short-read-tax-assignment/lib/python2.7/site-packages/biom/util.py:29: UserWarning: h5py is not available\r\n",
        "  warn(\"h5py is not available\")\r\n"
       ]
      },
      {
       "output_type": "stream",
       "stream": "stdout",
       "text": [
        "/Users/caporaso/.virtualenvs/short-read-tax-assignment/lib/python2.7/site-packages/biom/util.py:29: UserWarning: h5py is not available\r\n",
        "  warn(\"h5py is not available\")\r\n"
       ]
      },
      {
       "output_type": "stream",
       "stream": "stdout",
       "text": [
        "/Users/caporaso/.virtualenvs/short-read-tax-assignment/lib/python2.7/site-packages/biom/util.py:29: UserWarning: h5py is not available\r\n",
        "  warn(\"h5py is not available\")\r\n"
       ]
      },
      {
       "output_type": "stream",
       "stream": "stdout",
       "text": [
        "/Users/caporaso/.virtualenvs/short-read-tax-assignment/lib/python2.7/site-packages/biom/util.py:29: UserWarning: h5py is not available\r\n",
        "  warn(\"h5py is not available\")\r\n"
       ]
      },
      {
       "output_type": "stream",
       "stream": "stdout",
       "text": [
        "/Users/caporaso/.virtualenvs/short-read-tax-assignment/lib/python2.7/site-packages/biom/util.py:29: UserWarning: h5py is not available\r\n",
        "  warn(\"h5py is not available\")\r\n"
       ]
      },
      {
       "output_type": "stream",
       "stream": "stdout",
       "text": [
        "/Users/caporaso/.virtualenvs/short-read-tax-assignment/lib/python2.7/site-packages/biom/util.py:29: UserWarning: h5py is not available\r\n",
        "  warn(\"h5py is not available\")\r\n",
        "Traceback (most recent call last):\r\n",
        "  File \"/Users/caporaso/.virtualenvs/short-read-tax-assignment/bin/pyqi\", line 184, in <module>\r\n",
        "    optparse_main(cmd_obj, argv[1:])\r\n",
        "  File \"/Users/caporaso/.virtualenvs/short-read-tax-assignment/lib/python2.7/site-packages/pyqi/core/interfaces/optparse/__init__.py\", line 275, in optparse_main\r\n",
        "    result = optparse_cmd(local_argv[1:])\r\n",
        "  File \"/Users/caporaso/.virtualenvs/short-read-tax-assignment/lib/python2.7/site-packages/pyqi/core/interface.py\", line 41, in __call__\r\n",
        "    return self._output_handler(cmd_result)\r\n",
        "  File \"/Users/caporaso/.virtualenvs/short-read-tax-assignment/lib/python2.7/site-packages/pyqi/core/interfaces/optparse/__init__.py\", line 250, in _output_handler\r\n",
        "    opt_value)\r\n",
        "  File \"/Users/caporaso/.virtualenvs/short-read-tax-assignment/lib/python2.7/site-packages/biom/interfaces/optparse/output_handler.py\", line 59, in write_biom_table\r\n",
        "    raise IOError(\"Output path '%s' already exists.\" % option_value)\r\n",
        "IOError: Output path '../eval-subject-results/mock/Broad-3/gg_13_5_otus/expected/table.L6-taxa.biom' already exists.\r\n"
       ]
      },
      {
       "output_type": "stream",
       "stream": "stdout",
       "text": [
        "/Users/caporaso/.virtualenvs/short-read-tax-assignment/lib/python2.7/site-packages/biom/util.py:29: UserWarning: h5py is not available\r\n",
        "  warn(\"h5py is not available\")\r\n"
       ]
      }
     ],
     "prompt_number": 6
    },
    {
     "cell_type": "code",
     "collapsed": false,
     "input": [],
     "language": "python",
     "metadata": {},
     "outputs": []
    }
   ],
   "metadata": {}
  }
 ]
}