{
 "metadata": {
  "name": "",
  "signature": "sha256:20ef15a93d8fb3898cb280bcd381dba4fdb5a92eed8a01cc7b6791c4a672c927"
 },
 "nbformat": 3,
 "nbformat_minor": 0,
 "worksheets": [
  {
   "cells": [
    {
     "cell_type": "markdown",
     "metadata": {},
     "source": [
      "This notebook contains the code used to generate per-level taxon tables. "
     ]
    },
    {
     "cell_type": "code",
     "collapsed": false,
     "input": [
      "from glob import glob\n",
      "import pandas as pd\n",
      "\n",
      "fps = glob('*key.txt')"
     ],
     "language": "python",
     "metadata": {},
     "outputs": [],
     "prompt_number": 1
    },
    {
     "cell_type": "code",
     "collapsed": false,
     "input": [
      "input_fp = 'Broad_key.txt'\n",
      "output_fp = 'master_key.tsv'\n",
      "\n",
      "master_df = pd.DataFrame(columns=['Taxon'])\n",
      "\n",
      "for input_fp in fps:\n",
      "    output_fp = input_fp.replace('.txt', '.tsv')\n",
      "    abundances = pd.read_table(input_fp, sep='\\t', index_col='Taxon')\n",
      "    abundances = abundances.dropna(how='all')\n",
      "    abundances = abundances.fillna(0.0)\n",
      "    data = [e.split(';') for e in abundances.index]\n",
      "    num_levels = len(data[0])\n",
      "    columns = list('kpcofgs')[:num_levels]\n",
      "    tax_table = pd.DataFrame(data,\n",
      "                             index=abundances.index,\n",
      "                             columns=columns)\n",
      "    df = abundances.merge(tax_table, left_index=True, right_index=True, how='inner')\n",
      "    df.to_csv(output_fp, sep=\"\\t\")\n",
      "    for i in range(1, num_levels):\n",
      "        level_output_fp = output_fp.replace('.tsv','.level%d.tsv' % (i+1))\n",
      "        levels = columns[:i+1]\n",
      "        level_df = df.groupby(by=levels).sum()\n",
      "        new_indices = [';'.join(e[0]) for e in level_df.iterrows()]\n",
      "        level_df.index = new_indices\n",
      "        level_df.to_csv(level_output_fp, sep='\\t', index_label='Taxon')"
     ],
     "language": "python",
     "metadata": {},
     "outputs": [],
     "prompt_number": 2
    },
    {
     "cell_type": "markdown",
     "metadata": {},
     "source": [
      "Create expected BIOM files for each data set."
     ]
    },
    {
     "cell_type": "code",
     "collapsed": false,
     "input": [
      "!rm ../eval-subject-results/mock/Broad-*/gg_13_5_otus/expected/table.L*-taxa.biom\n",
      "\n",
      "for i in range(1,4):\n",
      "    for j in range(2,8):\n",
      "        input_fp = \"Broad_key.level%d.tsv\" % j\n",
      "        output_fp = \"../eval-subject-results/mock/Broad-%d/gg_13_5_otus/expected/table.L%d-taxa.biom\" % (i,j)\n",
      "        cmd = 'biom convert -i %s -o %s --to-json --table-type \"Taxon table\"' % (input_fp, output_fp)\n",
      "        !$cmd"
     ],
     "language": "python",
     "metadata": {},
     "outputs": [],
     "prompt_number": 10
    },
    {
     "cell_type": "code",
     "collapsed": false,
     "input": [
      "!rm ../eval-subject-results/mock/Turnbaugh-*/gg_13_5_otus/expected/table.L*-taxa.biom\n",
      "\n",
      "for i in range(1,4):\n",
      "    for j in range(2,8):\n",
      "        input_fp = \"Turnbaugh_key.level%d.tsv\" % j\n",
      "        output_fp = \"../eval-subject-results/mock/Turnbaugh-%d/gg_13_5_otus/expected/table.L%d-taxa.biom\" % (i,j)\n",
      "        cmd = 'biom convert -i %s -o %s --to-json --table-type \"Taxon table\"' % (input_fp, output_fp)\n",
      "        !$cmd"
     ],
     "language": "python",
     "metadata": {},
     "outputs": [],
     "prompt_number": 11
    },
    {
     "cell_type": "code",
     "collapsed": false,
     "input": [
      "!rm ../eval-subject-results/mock/ITS1/qu_12_11_otus/expected/table.L*-taxa.biom\n",
      "\n",
      "for j in range(2,7):\n",
      "    input_fp = \"ITS_key.level%d.tsv\" % j\n",
      "    output_fp = \"../eval-subject-results/mock/ITS1/qu_12_11_otus/expected/table.L%d-taxa.biom\" % j\n",
      "    cmd = 'biom convert -i %s -o %s --to-json --table-type \"Taxon table\"' % (input_fp, output_fp)\n",
      "    !$cmd"
     ],
     "language": "python",
     "metadata": {},
     "outputs": [],
     "prompt_number": 14
    },
    {
     "cell_type": "code",
     "collapsed": false,
     "input": [
      "!rm ../eval-subject-results/mock/ITS1/qu_12_11_otus_filtered/expected/table.L*-taxa.biom\n",
      "\n",
      "for j in range(2,7):\n",
      "    input_fp = \"ITSfiltered_key.level%d.tsv\" % j\n",
      "    output_fp = \"../eval-subject-results/mock/ITS1/qu_12_11_otus_filtered/expected/table.L%d-taxa.biom\" % j\n",
      "    cmd = 'biom convert -i %s -o %s --to-json --table-type \"Taxon table\"' % (input_fp, output_fp)\n",
      "    !$cmd"
     ],
     "language": "python",
     "metadata": {},
     "outputs": [],
     "prompt_number": 16
    },
    {
     "cell_type": "code",
     "collapsed": false,
     "input": [
      "!rm ../eval-subject-results/mock/L18S-1/Silva_108/expected/table.L*-taxa.biom\n",
      "\n",
      "for j in range(2,7):\n",
      "    input_fp = \"L18S_key.level%d.tsv\" % j\n",
      "    output_fp = \"../eval-subject-results/mock/L18S-1/Silva_108/expected/table.L%d-taxa.biom\" % j\n",
      "    cmd = 'biom convert -i %s -o %s --to-json --table-type \"Taxon table\"' % (input_fp, output_fp)\n",
      "    !$cmd"
     ],
     "language": "python",
     "metadata": {},
     "outputs": [],
     "prompt_number": 17
    },
    {
     "cell_type": "code",
     "collapsed": false,
     "input": [
      "!rm ../eval-subject-results/mock/ITS2-SAG1/qu_12_11_otus/expected/table.L*-taxa.biom\n",
      "\n",
      "for j in range(2,8):\n",
      "    input_fp = \"RDBWalpha_key.level%d.tsv\" % j\n",
      "    output_fp = \"../eval-subject-results/mock/ITS2-SAG1/qu_12_11_otus/expected/table.L%d-taxa.biom\" % j\n",
      "    cmd = 'biom convert -i %s -o %s --to-json --table-type \"Taxon table\"' % (input_fp, output_fp)\n",
      "    !$cmd"
     ],
     "language": "python",
     "metadata": {},
     "outputs": [],
     "prompt_number": 18
    },
    {
     "cell_type": "code",
     "collapsed": false,
     "input": [
      "!rm ../eval-subject-results/mock/S16S-*/gg_13_5_otus/expected/table.L*-taxa.biom\n",
      "\n",
      "for i in range(1,3):\n",
      "    for j in range(2,8):\n",
      "        input_fp = \"S16S_key.level%d.tsv\" % j\n",
      "        output_fp = \"../eval-subject-results/mock/S16S-%d/gg_13_5_otus/expected/table.L%d-taxa.biom\" % (i,j)\n",
      "        cmd = 'biom convert -i %s -o %s --to-json --table-type \"Taxon table\"' % (input_fp, output_fp)\n",
      "        !$cmd"
     ],
     "language": "python",
     "metadata": {},
     "outputs": [],
     "prompt_number": 19
    },
    {
     "cell_type": "code",
     "collapsed": false,
     "input": [
      "!rm ../eval-subject-results/mock/S16S-*/gg_4feb2011_otus/expected/table.L*-taxa.biom\n",
      "\n",
      "for i in range(1,3):\n",
      "    for j in range(2,8):\n",
      "        input_fp = \"S16S4feb2011_key.level%d.tsv\" % j\n",
      "        output_fp = \"../eval-subject-results/mock/S16S-%d/gg_4feb2011_otus/expected/table.L%d-taxa.biom\" % (i,j)\n",
      "        cmd = 'biom convert -i %s -o %s --to-json --table-type \"Taxon table\"' % (input_fp, output_fp)\n",
      "        !$cmd"
     ],
     "language": "python",
     "metadata": {},
     "outputs": [],
     "prompt_number": 22
    },
    {
     "cell_type": "code",
     "collapsed": false,
     "input": [
      "!rm ../eval-subject-results/mock/S16S-*/gg_12_10_otus/expected/table.L*-taxa.biom\n",
      "\n",
      "for i in range(1,3):\n",
      "    for j in range(2,8):\n",
      "        input_fp = \"S16S1210_key.level%d.tsv\" % j\n",
      "        output_fp = \"../eval-subject-results/mock/S16S-%d/gg_12_10_otus/expected/table.L%d-taxa.biom\" % (i,j)\n",
      "        cmd = 'biom convert -i %s -o %s --to-json --table-type \"Taxon table\"' % (input_fp, output_fp)\n",
      "        !$cmd"
     ],
     "language": "python",
     "metadata": {},
     "outputs": [],
     "prompt_number": 25
    },
    {
     "cell_type": "code",
     "collapsed": false,
     "input": [],
     "language": "python",
     "metadata": {},
     "outputs": []
    }
   ],
   "metadata": {}
  }
 ]
}