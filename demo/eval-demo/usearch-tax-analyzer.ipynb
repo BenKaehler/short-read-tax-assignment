{
 "metadata": {
  "name": ""
 },
 "nbformat": 3,
 "nbformat_minor": 0,
 "worksheets": [
  {
   "cells": [
    {
     "cell_type": "code",
     "collapsed": false,
     "input": [
      "from os.path import join\n",
      "from os import makedirs\n",
      "from tempfile import mkstemp\n",
      "\n",
      "from pyqi.util import pyqi_system_call, remove_files\n",
      "\n",
      "short_read_tax_dir = \"/Users/caporaso/Dropbox/code/short-read-tax-assignment/\"\n",
      "output_base_dir = \"/Users/caporaso/outbox/usearch_tax_parameter_sweep/\"\n",
      "!rm -r $output_base_dir\n",
      "mock_community_labels = [\n",
      " 'Broad-1',\n",
      " 'Broad-2',\n",
      " 'Broad-3',\n",
      " 'ITS1',\n",
      " 'ITS2-SAG',\n",
      " 'L18S-1',\n",
      " 'S16S-1',\n",
      " 'S16S-2',\n",
      " 'S16S-3',\n",
      " 'Turnbaugh-1',\n",
      " 'Turnbaugh-2',\n",
      " 'Turnbaugh-3']\n",
      "mock_community_base_dir = join(short_read_tax_dir,\"data/qiime-mock-community\")\n",
      "\n",
      "reference_seqs_fp = \"/Users/caporaso/data/gg_13_5_otus/rep_set/97_otus.fasta\"\n",
      "reference_tax_map = \"/Users/caporaso/data/gg_13_5_otus/taxonomy/97_otu_taxonomy.txt\"\n",
      "reference_seqs_label = \"gg_13_5_otus\"\n",
      "method_label = \"usearch\"\n",
      "\n",
      "usearch_cmd = \"usearch -query %s -db %s -uc %s -evalue %f -queryfract %f -maxaccepts %d\"\n",
      "uc_to_assignments_path = \"/Users/caporaso/code/uc_to_assignments/uc_to_assignments.py\"\n",
      "uc_to_assignments_cmd = \" \".join([uc_to_assignments_path,\"-i %s -t %s -o %s -c %f\"])\n",
      "add_metadata_cmd = \"biom add-metadata -i %s -o %s --observation-metadata-fp %s --sc-separated taxonomy\"\n",
      "\n",
      "evalues = [1.0, 0.001, 0.000001]\n",
      "queryfracts = [0.25, 0.50, 0.75, 1.00]\n",
      "maxaccepts = [1, 10, 20]\n",
      "confidences = [0.50, 0.75, 1.0]\n",
      "\n",
      "for label in mock_community_labels:\n",
      "    mock_community_dir = join(mock_community_base_dir,label)\n",
      "    query_reads_fp = join(mock_community_dir,'rep_set.fna')\n",
      "    otu_table_fp = join(mock_community_dir,'otu_table_mc2_no_pynast_failures.biom')\n",
      "    for e in evalues:\n",
      "        for qf in queryfracts:\n",
      "            for ma in maxaccepts:\n",
      "                # It's a good idea to include prefix and suffix when creating\n",
      "                # temp files. It can help track the source of temp files\n",
      "                # accidentally being left around on your system.\n",
      "                result_uc_fp = mkstemp(suffix='.uc',prefix='usearch_tax')[1]\n",
      "                cmd = usearch_cmd % (query_reads_fp,\n",
      "                                     reference_seqs_fp,\n",
      "                                     result_uc_fp,\n",
      "                                     e,\n",
      "                                     qf,\n",
      "                                     ma)\n",
      "                stdout, stderr, return_value = pyqi_system_call(cmd)\n",
      "                assert return_value == 0,\\\n",
      "                 \"Invalid return value from command:\\n%s\\nstdout: %s\\nstderr: %s\" % (cmd,stdout,stderr)\n",
      "                for c in confidences:\n",
      "                    parameter_label = \"e%f_qf%f_ma%d_c%f\" % (e, qf, ma, c)\n",
      "                    print parameter_label\n",
      "                    output_dir = join(output_base_dir,label,reference_seqs_label,method_label,parameter_label)\n",
      "                    makedirs(output_dir)\n",
      "                    result_tax_map_fp = mkstemp(suffix='.txt',prefix='usearch_tax')[1]\n",
      "                    cmd = uc_to_assignments_cmd % (result_uc_fp,\n",
      "                                                   reference_tax_map,\n",
      "                                                   result_tax_map_fp,\n",
      "                                                   c)\n",
      "                    stdout, stderr, return_value = pyqi_system_call(cmd)\n",
      "                    assert return_value == 0,\\\n",
      "                     \"Invalid return value from command:\\n%s\\nstdout: %s\\nstderr: %s\" % (cmd,stdout,stderr)\n",
      "                    result_otu_table_fp = join(output_dir,'table.biom')\n",
      "                    cmd = add_metadata_cmd % (otu_table_fp,\n",
      "                                              result_otu_table_fp,\n",
      "                                              result_tax_map_fp)\n",
      "                    stdout, stderr, return_value = pyqi_system_call(cmd)\n",
      "                    assert return_value == 0,\\\n",
      "                     \"Invalid return value from command:\\n%s\\nstdout: %s\\nstderr: %s\" % (cmd,stdout,stderr)\n",
      "                    remove_files([result_tax_map_fp])\n",
      "                remove_files([result_uc_fp])"
     ],
     "language": "python",
     "metadata": {},
     "outputs": [
      {
       "output_type": "stream",
       "stream": "stdout",
       "text": [
        "e1.000000_qf0.250000_ma1_c0.500000\n",
        "e1.000000_qf0.250000_ma1_c0.750000"
       ]
      },
      {
       "output_type": "stream",
       "stream": "stdout",
       "text": [
        "\n",
        "e1.000000_qf0.250000_ma1_c1.000000"
       ]
      },
      {
       "output_type": "stream",
       "stream": "stdout",
       "text": [
        "\n",
        "e1.000000_qf0.250000_ma10_c0.500000"
       ]
      },
      {
       "output_type": "stream",
       "stream": "stdout",
       "text": [
        "\n",
        "e1.000000_qf0.250000_ma10_c0.750000"
       ]
      },
      {
       "output_type": "stream",
       "stream": "stdout",
       "text": [
        "\n",
        "e1.000000_qf0.250000_ma10_c1.000000"
       ]
      },
      {
       "output_type": "stream",
       "stream": "stdout",
       "text": [
        "\n",
        "e1.000000_qf0.250000_ma20_c0.500000"
       ]
      },
      {
       "output_type": "stream",
       "stream": "stdout",
       "text": [
        "\n",
        "e1.000000_qf0.250000_ma20_c0.750000"
       ]
      },
      {
       "output_type": "stream",
       "stream": "stdout",
       "text": [
        "\n",
        "e1.000000_qf0.250000_ma20_c1.000000"
       ]
      },
      {
       "output_type": "stream",
       "stream": "stdout",
       "text": [
        "\n",
        "e1.000000_qf0.500000_ma1_c0.500000"
       ]
      },
      {
       "output_type": "stream",
       "stream": "stdout",
       "text": [
        "\n",
        "e1.000000_qf0.500000_ma1_c0.750000"
       ]
      },
      {
       "output_type": "stream",
       "stream": "stdout",
       "text": [
        "\n",
        "e1.000000_qf0.500000_ma1_c1.000000"
       ]
      },
      {
       "output_type": "stream",
       "stream": "stdout",
       "text": [
        "\n",
        "e1.000000_qf0.500000_ma10_c0.500000"
       ]
      },
      {
       "output_type": "stream",
       "stream": "stdout",
       "text": [
        "\n",
        "e1.000000_qf0.500000_ma10_c0.750000"
       ]
      },
      {
       "output_type": "stream",
       "stream": "stdout",
       "text": [
        "\n",
        "e1.000000_qf0.500000_ma10_c1.000000"
       ]
      },
      {
       "output_type": "stream",
       "stream": "stdout",
       "text": [
        "\n",
        "e1.000000_qf0.500000_ma20_c0.500000"
       ]
      },
      {
       "output_type": "stream",
       "stream": "stdout",
       "text": [
        "\n",
        "e1.000000_qf0.500000_ma20_c0.750000"
       ]
      },
      {
       "output_type": "stream",
       "stream": "stdout",
       "text": [
        "\n",
        "e1.000000_qf0.500000_ma20_c1.000000"
       ]
      },
      {
       "output_type": "stream",
       "stream": "stdout",
       "text": [
        "\n",
        "e1.000000_qf0.750000_ma1_c0.500000"
       ]
      },
      {
       "output_type": "stream",
       "stream": "stdout",
       "text": [
        "\n",
        "e1.000000_qf0.750000_ma1_c0.750000"
       ]
      },
      {
       "output_type": "stream",
       "stream": "stdout",
       "text": [
        "\n",
        "e1.000000_qf0.750000_ma1_c1.000000"
       ]
      },
      {
       "output_type": "stream",
       "stream": "stdout",
       "text": [
        "\n",
        "e1.000000_qf0.750000_ma10_c0.500000"
       ]
      },
      {
       "output_type": "stream",
       "stream": "stdout",
       "text": [
        "\n",
        "e1.000000_qf0.750000_ma10_c0.750000"
       ]
      },
      {
       "output_type": "stream",
       "stream": "stdout",
       "text": [
        "\n",
        "e1.000000_qf0.750000_ma10_c1.000000"
       ]
      },
      {
       "output_type": "stream",
       "stream": "stdout",
       "text": [
        "\n",
        "e1.000000_qf0.750000_ma20_c0.500000"
       ]
      },
      {
       "output_type": "stream",
       "stream": "stdout",
       "text": [
        "\n",
        "e1.000000_qf0.750000_ma20_c0.750000"
       ]
      },
      {
       "output_type": "stream",
       "stream": "stdout",
       "text": [
        "\n",
        "e1.000000_qf0.750000_ma20_c1.000000"
       ]
      },
      {
       "output_type": "stream",
       "stream": "stdout",
       "text": [
        "\n",
        "e1.000000_qf1.000000_ma1_c0.500000"
       ]
      },
      {
       "output_type": "stream",
       "stream": "stdout",
       "text": [
        "\n",
        "e1.000000_qf1.000000_ma1_c0.750000"
       ]
      },
      {
       "output_type": "stream",
       "stream": "stdout",
       "text": [
        "\n",
        "e1.000000_qf1.000000_ma1_c1.000000"
       ]
      },
      {
       "output_type": "stream",
       "stream": "stdout",
       "text": [
        "\n",
        "e1.000000_qf1.000000_ma10_c0.500000"
       ]
      },
      {
       "output_type": "stream",
       "stream": "stdout",
       "text": [
        "\n",
        "e1.000000_qf1.000000_ma10_c0.750000"
       ]
      },
      {
       "output_type": "stream",
       "stream": "stdout",
       "text": [
        "\n",
        "e1.000000_qf1.000000_ma10_c1.000000"
       ]
      },
      {
       "output_type": "stream",
       "stream": "stdout",
       "text": [
        "\n",
        "e1.000000_qf1.000000_ma20_c0.500000"
       ]
      },
      {
       "output_type": "stream",
       "stream": "stdout",
       "text": [
        "\n",
        "e1.000000_qf1.000000_ma20_c0.750000"
       ]
      },
      {
       "output_type": "stream",
       "stream": "stdout",
       "text": [
        "\n",
        "e1.000000_qf1.000000_ma20_c1.000000"
       ]
      },
      {
       "output_type": "stream",
       "stream": "stdout",
       "text": [
        "\n",
        "e0.001000_qf0.250000_ma1_c0.500000"
       ]
      },
      {
       "output_type": "stream",
       "stream": "stdout",
       "text": [
        "\n",
        "e0.001000_qf0.250000_ma1_c0.750000"
       ]
      },
      {
       "output_type": "stream",
       "stream": "stdout",
       "text": [
        "\n",
        "e0.001000_qf0.250000_ma1_c1.000000"
       ]
      },
      {
       "output_type": "stream",
       "stream": "stdout",
       "text": [
        "\n",
        "e0.001000_qf0.250000_ma10_c0.500000"
       ]
      },
      {
       "output_type": "stream",
       "stream": "stdout",
       "text": [
        "\n",
        "e0.001000_qf0.250000_ma10_c0.750000"
       ]
      },
      {
       "output_type": "stream",
       "stream": "stdout",
       "text": [
        "\n",
        "e0.001000_qf0.250000_ma10_c1.000000"
       ]
      },
      {
       "output_type": "stream",
       "stream": "stdout",
       "text": [
        "\n",
        "e0.001000_qf0.250000_ma20_c0.500000"
       ]
      },
      {
       "output_type": "stream",
       "stream": "stdout",
       "text": [
        "\n",
        "e0.001000_qf0.250000_ma20_c0.750000"
       ]
      },
      {
       "output_type": "stream",
       "stream": "stdout",
       "text": [
        "\n",
        "e0.001000_qf0.250000_ma20_c1.000000"
       ]
      },
      {
       "output_type": "stream",
       "stream": "stdout",
       "text": [
        "\n",
        "e0.001000_qf0.500000_ma1_c0.500000"
       ]
      },
      {
       "output_type": "stream",
       "stream": "stdout",
       "text": [
        "\n",
        "e0.001000_qf0.500000_ma1_c0.750000"
       ]
      },
      {
       "output_type": "stream",
       "stream": "stdout",
       "text": [
        "\n",
        "e0.001000_qf0.500000_ma1_c1.000000"
       ]
      },
      {
       "output_type": "stream",
       "stream": "stdout",
       "text": [
        "\n",
        "e0.001000_qf0.500000_ma10_c0.500000"
       ]
      },
      {
       "output_type": "stream",
       "stream": "stdout",
       "text": [
        "\n",
        "e0.001000_qf0.500000_ma10_c0.750000"
       ]
      },
      {
       "output_type": "stream",
       "stream": "stdout",
       "text": [
        "\n",
        "e0.001000_qf0.500000_ma10_c1.000000"
       ]
      },
      {
       "output_type": "stream",
       "stream": "stdout",
       "text": [
        "\n",
        "e0.001000_qf0.500000_ma20_c0.500000"
       ]
      },
      {
       "output_type": "stream",
       "stream": "stdout",
       "text": [
        "\n",
        "e0.001000_qf0.500000_ma20_c0.750000"
       ]
      },
      {
       "output_type": "stream",
       "stream": "stdout",
       "text": [
        "\n",
        "e0.001000_qf0.500000_ma20_c1.000000"
       ]
      },
      {
       "output_type": "stream",
       "stream": "stdout",
       "text": [
        "\n",
        "e0.001000_qf0.750000_ma1_c0.500000"
       ]
      },
      {
       "output_type": "stream",
       "stream": "stdout",
       "text": [
        "\n",
        "e0.001000_qf0.750000_ma1_c0.750000"
       ]
      },
      {
       "output_type": "stream",
       "stream": "stdout",
       "text": [
        "\n",
        "e0.001000_qf0.750000_ma1_c1.000000"
       ]
      },
      {
       "output_type": "stream",
       "stream": "stdout",
       "text": [
        "\n",
        "e0.001000_qf0.750000_ma10_c0.500000"
       ]
      },
      {
       "output_type": "stream",
       "stream": "stdout",
       "text": [
        "\n",
        "e0.001000_qf0.750000_ma10_c0.750000"
       ]
      },
      {
       "output_type": "stream",
       "stream": "stdout",
       "text": [
        "\n",
        "e0.001000_qf0.750000_ma10_c1.000000"
       ]
      },
      {
       "output_type": "stream",
       "stream": "stdout",
       "text": [
        "\n",
        "e0.001000_qf0.750000_ma20_c0.500000"
       ]
      },
      {
       "output_type": "stream",
       "stream": "stdout",
       "text": [
        "\n",
        "e0.001000_qf0.750000_ma20_c0.750000"
       ]
      },
      {
       "output_type": "stream",
       "stream": "stdout",
       "text": [
        "\n",
        "e0.001000_qf0.750000_ma20_c1.000000"
       ]
      },
      {
       "output_type": "stream",
       "stream": "stdout",
       "text": [
        "\n",
        "e0.001000_qf1.000000_ma1_c0.500000"
       ]
      },
      {
       "output_type": "stream",
       "stream": "stdout",
       "text": [
        "\n",
        "e0.001000_qf1.000000_ma1_c0.750000"
       ]
      },
      {
       "output_type": "stream",
       "stream": "stdout",
       "text": [
        "\n",
        "e0.001000_qf1.000000_ma1_c1.000000"
       ]
      },
      {
       "output_type": "stream",
       "stream": "stdout",
       "text": [
        "\n",
        "e0.001000_qf1.000000_ma10_c0.500000"
       ]
      },
      {
       "output_type": "stream",
       "stream": "stdout",
       "text": [
        "\n",
        "e0.001000_qf1.000000_ma10_c0.750000"
       ]
      },
      {
       "output_type": "stream",
       "stream": "stdout",
       "text": [
        "\n",
        "e0.001000_qf1.000000_ma10_c1.000000"
       ]
      },
      {
       "output_type": "stream",
       "stream": "stdout",
       "text": [
        "\n",
        "e0.001000_qf1.000000_ma20_c0.500000"
       ]
      },
      {
       "output_type": "stream",
       "stream": "stdout",
       "text": [
        "\n",
        "e0.001000_qf1.000000_ma20_c0.750000"
       ]
      },
      {
       "output_type": "stream",
       "stream": "stdout",
       "text": [
        "\n",
        "e0.001000_qf1.000000_ma20_c1.000000"
       ]
      },
      {
       "output_type": "stream",
       "stream": "stdout",
       "text": [
        "\n",
        "e0.000001_qf0.250000_ma1_c0.500000"
       ]
      },
      {
       "output_type": "stream",
       "stream": "stdout",
       "text": [
        "\n",
        "e0.000001_qf0.250000_ma1_c0.750000"
       ]
      },
      {
       "output_type": "stream",
       "stream": "stdout",
       "text": [
        "\n",
        "e0.000001_qf0.250000_ma1_c1.000000"
       ]
      },
      {
       "output_type": "stream",
       "stream": "stdout",
       "text": [
        "\n",
        "e0.000001_qf0.250000_ma10_c0.500000"
       ]
      },
      {
       "output_type": "stream",
       "stream": "stdout",
       "text": [
        "\n",
        "e0.000001_qf0.250000_ma10_c0.750000"
       ]
      },
      {
       "output_type": "stream",
       "stream": "stdout",
       "text": [
        "\n",
        "e0.000001_qf0.250000_ma10_c1.000000"
       ]
      },
      {
       "output_type": "stream",
       "stream": "stdout",
       "text": [
        "\n",
        "e0.000001_qf0.250000_ma20_c0.500000"
       ]
      },
      {
       "output_type": "stream",
       "stream": "stdout",
       "text": [
        "\n",
        "e0.000001_qf0.250000_ma20_c0.750000"
       ]
      },
      {
       "output_type": "stream",
       "stream": "stdout",
       "text": [
        "\n",
        "e0.000001_qf0.250000_ma20_c1.000000"
       ]
      },
      {
       "output_type": "stream",
       "stream": "stdout",
       "text": [
        "\n",
        "e0.000001_qf0.500000_ma1_c0.500000"
       ]
      },
      {
       "output_type": "stream",
       "stream": "stdout",
       "text": [
        "\n",
        "e0.000001_qf0.500000_ma1_c0.750000"
       ]
      },
      {
       "output_type": "stream",
       "stream": "stdout",
       "text": [
        "\n",
        "e0.000001_qf0.500000_ma1_c1.000000"
       ]
      },
      {
       "output_type": "stream",
       "stream": "stdout",
       "text": [
        "\n",
        "e0.000001_qf0.500000_ma10_c0.500000"
       ]
      },
      {
       "output_type": "stream",
       "stream": "stdout",
       "text": [
        "\n",
        "e0.000001_qf0.500000_ma10_c0.750000"
       ]
      },
      {
       "output_type": "stream",
       "stream": "stdout",
       "text": [
        "\n",
        "e0.000001_qf0.500000_ma10_c1.000000"
       ]
      },
      {
       "output_type": "stream",
       "stream": "stdout",
       "text": [
        "\n",
        "e0.000001_qf0.500000_ma20_c0.500000"
       ]
      },
      {
       "output_type": "stream",
       "stream": "stdout",
       "text": [
        "\n",
        "e0.000001_qf0.500000_ma20_c0.750000"
       ]
      },
      {
       "output_type": "stream",
       "stream": "stdout",
       "text": [
        "\n",
        "e0.000001_qf0.500000_ma20_c1.000000"
       ]
      },
      {
       "output_type": "stream",
       "stream": "stdout",
       "text": [
        "\n",
        "e0.000001_qf0.750000_ma1_c0.500000"
       ]
      },
      {
       "output_type": "stream",
       "stream": "stdout",
       "text": [
        "\n",
        "e0.000001_qf0.750000_ma1_c0.750000"
       ]
      },
      {
       "output_type": "stream",
       "stream": "stdout",
       "text": [
        "\n",
        "e0.000001_qf0.750000_ma1_c1.000000"
       ]
      },
      {
       "output_type": "stream",
       "stream": "stdout",
       "text": [
        "\n",
        "e0.000001_qf0.750000_ma10_c0.500000"
       ]
      },
      {
       "output_type": "stream",
       "stream": "stdout",
       "text": [
        "\n",
        "e0.000001_qf0.750000_ma10_c0.750000"
       ]
      },
      {
       "output_type": "stream",
       "stream": "stdout",
       "text": [
        "\n",
        "e0.000001_qf0.750000_ma10_c1.000000"
       ]
      },
      {
       "output_type": "stream",
       "stream": "stdout",
       "text": [
        "\n",
        "e0.000001_qf0.750000_ma20_c0.500000"
       ]
      },
      {
       "output_type": "stream",
       "stream": "stdout",
       "text": [
        "\n",
        "e0.000001_qf0.750000_ma20_c0.750000"
       ]
      },
      {
       "output_type": "stream",
       "stream": "stdout",
       "text": [
        "\n",
        "e0.000001_qf0.750000_ma20_c1.000000"
       ]
      },
      {
       "output_type": "stream",
       "stream": "stdout",
       "text": [
        "\n",
        "e0.000001_qf1.000000_ma1_c0.500000"
       ]
      },
      {
       "output_type": "stream",
       "stream": "stdout",
       "text": [
        "\n",
        "e0.000001_qf1.000000_ma1_c0.750000"
       ]
      },
      {
       "output_type": "stream",
       "stream": "stdout",
       "text": [
        "\n",
        "e0.000001_qf1.000000_ma1_c1.000000"
       ]
      },
      {
       "output_type": "stream",
       "stream": "stdout",
       "text": [
        "\n",
        "e0.000001_qf1.000000_ma10_c0.500000"
       ]
      },
      {
       "output_type": "stream",
       "stream": "stdout",
       "text": [
        "\n",
        "e0.000001_qf1.000000_ma10_c0.750000"
       ]
      },
      {
       "output_type": "stream",
       "stream": "stdout",
       "text": [
        "\n",
        "e0.000001_qf1.000000_ma10_c1.000000"
       ]
      },
      {
       "output_type": "stream",
       "stream": "stdout",
       "text": [
        "\n",
        "e0.000001_qf1.000000_ma20_c0.500000"
       ]
      },
      {
       "output_type": "stream",
       "stream": "stdout",
       "text": [
        "\n",
        "e0.000001_qf1.000000_ma20_c0.750000"
       ]
      },
      {
       "output_type": "stream",
       "stream": "stdout",
       "text": [
        "\n",
        "e0.000001_qf1.000000_ma20_c1.000000"
       ]
      },
      {
       "output_type": "stream",
       "stream": "stdout",
       "text": [
        "\n",
        "e1.000000_qf0.250000_ma1_c0.500000"
       ]
      },
      {
       "output_type": "stream",
       "stream": "stdout",
       "text": [
        "\n",
        "e1.000000_qf0.250000_ma1_c0.750000"
       ]
      },
      {
       "output_type": "stream",
       "stream": "stdout",
       "text": [
        "\n",
        "e1.000000_qf0.250000_ma1_c1.000000"
       ]
      },
      {
       "output_type": "stream",
       "stream": "stdout",
       "text": [
        "\n",
        "e1.000000_qf0.250000_ma10_c0.500000"
       ]
      },
      {
       "output_type": "stream",
       "stream": "stdout",
       "text": [
        "\n",
        "e1.000000_qf0.250000_ma10_c0.750000"
       ]
      },
      {
       "output_type": "stream",
       "stream": "stdout",
       "text": [
        "\n",
        "e1.000000_qf0.250000_ma10_c1.000000"
       ]
      },
      {
       "output_type": "stream",
       "stream": "stdout",
       "text": [
        "\n",
        "e1.000000_qf0.250000_ma20_c0.500000"
       ]
      },
      {
       "output_type": "stream",
       "stream": "stdout",
       "text": [
        "\n",
        "e1.000000_qf0.250000_ma20_c0.750000"
       ]
      },
      {
       "output_type": "stream",
       "stream": "stdout",
       "text": [
        "\n",
        "e1.000000_qf0.250000_ma20_c1.000000"
       ]
      },
      {
       "output_type": "stream",
       "stream": "stdout",
       "text": [
        "\n",
        "e1.000000_qf0.500000_ma1_c0.500000"
       ]
      },
      {
       "output_type": "stream",
       "stream": "stdout",
       "text": [
        "\n",
        "e1.000000_qf0.500000_ma1_c0.750000"
       ]
      },
      {
       "output_type": "stream",
       "stream": "stdout",
       "text": [
        "\n",
        "e1.000000_qf0.500000_ma1_c1.000000"
       ]
      },
      {
       "output_type": "stream",
       "stream": "stdout",
       "text": [
        "\n",
        "e1.000000_qf0.500000_ma10_c0.500000"
       ]
      },
      {
       "output_type": "stream",
       "stream": "stdout",
       "text": [
        "\n",
        "e1.000000_qf0.500000_ma10_c0.750000"
       ]
      },
      {
       "output_type": "stream",
       "stream": "stdout",
       "text": [
        "\n",
        "e1.000000_qf0.500000_ma10_c1.000000"
       ]
      },
      {
       "output_type": "stream",
       "stream": "stdout",
       "text": [
        "\n",
        "e1.000000_qf0.500000_ma20_c0.500000"
       ]
      },
      {
       "output_type": "stream",
       "stream": "stdout",
       "text": [
        "\n",
        "e1.000000_qf0.500000_ma20_c0.750000"
       ]
      },
      {
       "output_type": "stream",
       "stream": "stdout",
       "text": [
        "\n",
        "e1.000000_qf0.500000_ma20_c1.000000"
       ]
      },
      {
       "output_type": "stream",
       "stream": "stdout",
       "text": [
        "\n",
        "e1.000000_qf0.750000_ma1_c0.500000"
       ]
      },
      {
       "output_type": "stream",
       "stream": "stdout",
       "text": [
        "\n",
        "e1.000000_qf0.750000_ma1_c0.750000"
       ]
      },
      {
       "ename": "OSError",
       "evalue": "[Errno 24] Too many open files",
       "output_type": "pyerr",
       "traceback": [
        "\u001b[0;31m---------------------------------------------------------------------------\u001b[0m\n\u001b[0;31mOSError\u001b[0m                                   Traceback (most recent call last)",
        "\u001b[0;32m<ipython-input-1-1d790bec9021>\u001b[0m in \u001b[0;36m<module>\u001b[0;34m()\u001b[0m\n\u001b[1;32m     67\u001b[0m                                                    \u001b[0mresult_tax_map_fp\u001b[0m\u001b[0;34m,\u001b[0m\u001b[0;34m\u001b[0m\u001b[0m\n\u001b[1;32m     68\u001b[0m                                                    c)\n\u001b[0;32m---> 69\u001b[0;31m                     \u001b[0mstdout\u001b[0m\u001b[0;34m,\u001b[0m \u001b[0mstderr\u001b[0m\u001b[0;34m,\u001b[0m \u001b[0mreturn_value\u001b[0m \u001b[0;34m=\u001b[0m \u001b[0mpyqi_system_call\u001b[0m\u001b[0;34m(\u001b[0m\u001b[0mcmd\u001b[0m\u001b[0;34m)\u001b[0m\u001b[0;34m\u001b[0m\u001b[0m\n\u001b[0m\u001b[1;32m     70\u001b[0m                     \u001b[0;32massert\u001b[0m \u001b[0mreturn_value\u001b[0m \u001b[0;34m==\u001b[0m \u001b[0;36m0\u001b[0m\u001b[0;34m,\u001b[0m                     \u001b[0;34m\"Invalid return value from command:\\n%s\\nstdout: %s\\nstderr: %s\"\u001b[0m \u001b[0;34m%\u001b[0m \u001b[0;34m(\u001b[0m\u001b[0mcmd\u001b[0m\u001b[0;34m,\u001b[0m\u001b[0mstdout\u001b[0m\u001b[0;34m,\u001b[0m\u001b[0mstderr\u001b[0m\u001b[0;34m)\u001b[0m\u001b[0;34m\u001b[0m\u001b[0m\n\u001b[1;32m     71\u001b[0m                     \u001b[0mresult_otu_table_fp\u001b[0m \u001b[0;34m=\u001b[0m \u001b[0mjoin\u001b[0m\u001b[0;34m(\u001b[0m\u001b[0moutput_dir\u001b[0m\u001b[0;34m,\u001b[0m\u001b[0;34m'table.biom'\u001b[0m\u001b[0;34m)\u001b[0m\u001b[0;34m\u001b[0m\u001b[0m\n",
        "\u001b[0;32m/Users/caporaso/code/pyqi/pyqi/util.pyc\u001b[0m in \u001b[0;36mpyqi_system_call\u001b[0;34m(cmd, shell)\u001b[0m\n\u001b[1;32m     43\u001b[0m                  \u001b[0muniversal_newlines\u001b[0m\u001b[0;34m=\u001b[0m\u001b[0mTrue\u001b[0m\u001b[0;34m,\u001b[0m\u001b[0;34m\u001b[0m\u001b[0m\n\u001b[1;32m     44\u001b[0m                  \u001b[0mstdout\u001b[0m\u001b[0;34m=\u001b[0m\u001b[0mPIPE\u001b[0m\u001b[0;34m,\u001b[0m\u001b[0;34m\u001b[0m\u001b[0m\n\u001b[0;32m---> 45\u001b[0;31m                  stderr=PIPE)\n\u001b[0m\u001b[1;32m     46\u001b[0m     \u001b[0;31m# communicate pulls all stdout/stderr from the PIPEs to\u001b[0m\u001b[0;34m\u001b[0m\u001b[0;34m\u001b[0m\u001b[0m\n\u001b[1;32m     47\u001b[0m     \u001b[0;31m# avoid blocking -- don't remove this line!\u001b[0m\u001b[0;34m\u001b[0m\u001b[0;34m\u001b[0m\u001b[0m\n",
        "\u001b[0;32m/usr/local/Cellar/python/2.7.1/lib/python2.7/subprocess.pyc\u001b[0m in \u001b[0;36m__init__\u001b[0;34m(self, args, bufsize, executable, stdin, stdout, stderr, preexec_fn, close_fds, shell, cwd, env, universal_newlines, startupinfo, creationflags)\u001b[0m\n\u001b[1;32m    670\u001b[0m                             \u001b[0mp2cread\u001b[0m\u001b[0;34m,\u001b[0m \u001b[0mp2cwrite\u001b[0m\u001b[0;34m,\u001b[0m\u001b[0;34m\u001b[0m\u001b[0m\n\u001b[1;32m    671\u001b[0m                             \u001b[0mc2pread\u001b[0m\u001b[0;34m,\u001b[0m \u001b[0mc2pwrite\u001b[0m\u001b[0;34m,\u001b[0m\u001b[0;34m\u001b[0m\u001b[0m\n\u001b[0;32m--> 672\u001b[0;31m                             errread, errwrite)\n\u001b[0m\u001b[1;32m    673\u001b[0m \u001b[0;34m\u001b[0m\u001b[0m\n\u001b[1;32m    674\u001b[0m         \u001b[0;32mif\u001b[0m \u001b[0mmswindows\u001b[0m\u001b[0;34m:\u001b[0m\u001b[0;34m\u001b[0m\u001b[0m\n",
        "\u001b[0;32m/usr/local/Cellar/python/2.7.1/lib/python2.7/subprocess.pyc\u001b[0m in \u001b[0;36m_execute_child\u001b[0;34m(self, args, executable, preexec_fn, close_fds, cwd, env, universal_newlines, startupinfo, creationflags, shell, p2cread, p2cwrite, c2pread, c2pwrite, errread, errwrite)\u001b[0m\n\u001b[1;32m   1100\u001b[0m             \u001b[0;31m# The first char specifies the exception type: 0 means\u001b[0m\u001b[0;34m\u001b[0m\u001b[0;34m\u001b[0m\u001b[0m\n\u001b[1;32m   1101\u001b[0m             \u001b[0;31m# OSError, 1 means some other error.\u001b[0m\u001b[0;34m\u001b[0m\u001b[0;34m\u001b[0m\u001b[0m\n\u001b[0;32m-> 1102\u001b[0;31m             \u001b[0merrpipe_read\u001b[0m\u001b[0;34m,\u001b[0m \u001b[0merrpipe_write\u001b[0m \u001b[0;34m=\u001b[0m \u001b[0mos\u001b[0m\u001b[0;34m.\u001b[0m\u001b[0mpipe\u001b[0m\u001b[0;34m(\u001b[0m\u001b[0;34m)\u001b[0m\u001b[0;34m\u001b[0m\u001b[0m\n\u001b[0m\u001b[1;32m   1103\u001b[0m             \u001b[0;32mtry\u001b[0m\u001b[0;34m:\u001b[0m\u001b[0;34m\u001b[0m\u001b[0m\n\u001b[1;32m   1104\u001b[0m                 \u001b[0;32mtry\u001b[0m\u001b[0;34m:\u001b[0m\u001b[0;34m\u001b[0m\u001b[0m\n",
        "\u001b[0;31mOSError\u001b[0m: [Errno 24] Too many open files"
       ]
      },
      {
       "output_type": "stream",
       "stream": "stdout",
       "text": [
        "\n"
       ]
      }
     ],
     "prompt_number": 1
    },
    {
     "cell_type": "code",
     "collapsed": false,
     "input": [],
     "language": "python",
     "metadata": {},
     "outputs": []
    }
   ],
   "metadata": {}
  }
 ]
}