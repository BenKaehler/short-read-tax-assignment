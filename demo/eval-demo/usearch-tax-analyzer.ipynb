{
 "metadata": {
  "name": "usearch-tax-analyzer"
 },
 "nbformat": 3,
 "nbformat_minor": 0,
 "worksheets": [
  {
   "cells": [
    {
     "cell_type": "code",
     "collapsed": false,
     "input": [
      "from os.path import join\n",
      "from os import makedirs\n",
      "from tempfile import mkstemp\n",
      "\n",
      "from pyqi.util import pyqi_system_call, remove_files\n",
      "\n",
      "short_read_tax_dir = \"/Users/caporaso/Dropbox/code/short-read-tax-assignment/\"\n",
      "output_base_dir = \"/Users/caporaso/outbox/usearch_tax_parameter_sweep/\"\n",
      "mock_community_labels = [\n",
      " 'Broad-1',\n",
      " 'Broad-2',\n",
      " 'Broad-3',\n",
      " 'ITS1',\n",
      " 'ITS2-SAG',\n",
      " 'L18S-1',\n",
      " 'S16S-1',\n",
      " 'S16S-2',\n",
      " 'S16S-3',\n",
      " 'Turnbaugh-1',\n",
      " 'Turnbaugh-2',\n",
      " 'Turnbaugh-3']\n",
      "mock_community_base_dir = join(short_read_tax_dir,\"data/qiime-mock-community\")\n",
      "\n",
      "reference_seqs_fp = \"/Users/caporaso/data/gg_13_5_otus/rep_set/97_otus.fasta\"\n",
      "reference_tax_map = \"/Users/caporaso/data/gg_13_5_otus/taxonomy/97_otu_taxonomy.txt\"\n",
      "reference_seqs_label = \"gg_13_5_otus\"\n",
      "method_label = \"usearch\"\n",
      "\n",
      "usearch_cmd = \"usearch -query %s -db %s -uc %s -evalue %f -queryfract %f -maxaccepts %d\"\n",
      "uc_to_assignments_cmd = \"uc_to_assignments.py -i %s -t %s -o %s -c %f\"\n",
      "add_metadata_cmd = \"biom add-metadata -i %s -o %s --observation-metadata-fp %s\"\n",
      "\n",
      "evalues = [1.0, 0.001, 0.000001]\n",
      "queryfracts = [0.25, 0.50, 0.75, 1.00]\n",
      "maxaccepts = [1, 10, 20]\n",
      "confidences = [0.50, 0.75, 1.0]\n",
      "\n",
      "files_to_remove = []\n",
      "for label in mock_community_labels:\n",
      "    mock_community_dir = join(mock_community_base_dir,label)\n",
      "    query_reads_fp = join(mock_community_dir,'rep_set.fna')\n",
      "    otu_table_fp = join(mock_community_dir,'otu_table_mc2_no_pynast_failures.biom')\n",
      "    for e in evalues:\n",
      "        for qf in queryfracts:\n",
      "            for ma in maxaccepts:\n",
      "                # It's a good idea to include prefix and suffix when creating\n",
      "                # temp files. It can help track the source of temp files\n",
      "                # accidentally being left around on your system.\n",
      "                result_uc_fp = mkstemp(suffix='uc',prefix='usearch_tax')\n",
      "                files_to_remove.append(result_uc_fp)\n",
      "                pyqi_system_call(usearch_cmd % (query_reads_fp,\n",
      "                                                reference_seqs_fp,\n",
      "                                                result_uc_fp,\n",
      "                                                e,\n",
      "                                                qf,\n",
      "                                                ma))\n",
      "                for c in confidences:\n",
      "                    parameter_label = \"e%f_qf%f_ma%d_c%f\" % (e, qf, ma, c)\n",
      "                    output_dir = join(output_base_dir,label,reference_seqs_label,method_label,parameter_label)\n",
      "                    makedirs(output_dir)\n",
      "                    result_tax_map_fp = mkstemp(suffix='txt',prefix='usearch_tax')\n",
      "                    files_to_remove.append(result_tax_map_fp)\n",
      "                    pyqi_system_call(uc_to_assignments_cmd % (result_uc_fp,\n",
      "                                                              reference_tax_map,\n",
      "                                                              result_tax_map_fp,\n",
      "                                                              c))\n",
      "                    result_otu_table_fp = join(output_dir,'table.biom')\n",
      "                    pyqi_system_call(add_metadata_cmd % (otu_table_fp,\n",
      "                                                         result_otu_table_fp,\n",
      "                                                         result_tax_map_fp))\n",
      "remove_files(files_to_remove)"
     ],
     "language": "python",
     "metadata": {},
     "outputs": [
      {
       "ename": "ImportError",
       "evalue": "No module named pyqi.util",
       "output_type": "pyerr",
       "traceback": [
        "\u001b[0;31m---------------------------------------------------------------------------\u001b[0m\n\u001b[0;31mImportError\u001b[0m                               Traceback (most recent call last)",
        "\u001b[0;32m<ipython-input-1-2dfdb46b9e7f>\u001b[0m in \u001b[0;36m<module>\u001b[0;34m()\u001b[0m\n\u001b[1;32m      3\u001b[0m \u001b[0;32mfrom\u001b[0m \u001b[0mtempfile\u001b[0m \u001b[0;32mimport\u001b[0m \u001b[0mmkstemp\u001b[0m\u001b[0;34m\u001b[0m\u001b[0m\n\u001b[1;32m      4\u001b[0m \u001b[0;34m\u001b[0m\u001b[0m\n\u001b[0;32m----> 5\u001b[0;31m \u001b[0;32mfrom\u001b[0m \u001b[0mpyqi\u001b[0m\u001b[0;34m.\u001b[0m\u001b[0mutil\u001b[0m \u001b[0;32mimport\u001b[0m \u001b[0mpyqi_system_call\u001b[0m\u001b[0;34m,\u001b[0m \u001b[0mremove_files\u001b[0m\u001b[0;34m\u001b[0m\u001b[0m\n\u001b[0m\u001b[1;32m      6\u001b[0m \u001b[0;34m\u001b[0m\u001b[0m\n\u001b[1;32m      7\u001b[0m \u001b[0mshort_read_tax_dir\u001b[0m \u001b[0;34m=\u001b[0m \u001b[0;34m\"/Users/caporaso/Dropbox/code/short-read-tax-assignment/\"\u001b[0m\u001b[0;34m\u001b[0m\u001b[0m\n",
        "\u001b[0;31mImportError\u001b[0m: No module named pyqi.util"
       ]
      }
     ],
     "prompt_number": 1
    },
    {
     "cell_type": "code",
     "collapsed": false,
     "input": [
      " "
     ],
     "language": "python",
     "metadata": {},
     "outputs": []
    }
   ],
   "metadata": {}
  }
 ]
}