{
 "metadata": {
  "name": ""
 },
 "nbformat": 3,
 "nbformat_minor": 0,
 "worksheets": [
  {
   "cells": [
    {
     "cell_type": "code",
     "collapsed": false,
     "input": [
      "from os.path import join\n",
      "from taxcompare import eval_framework as e\n",
      "\n",
      "short_read_tax_dir = \"/Users/caporaso/Dropbox/code/short-read-tax-assignment/\"\n",
      "expected_L6_tables = e.get_expected_tables_lookup(join(short_read_tax_dir,'./data/eval-pre-computed/'))\n",
      "precomputed_results = e.find_and_process_result_tables(join(short_read_tax_dir,'./data/eval-pre-computed/'))\n",
      "query_results = e.find_and_process_result_tables(\"/Users/caporaso/outbox/usearch_tax_parameter_sweep/\")"
     ],
     "language": "python",
     "metadata": {},
     "outputs": []
    },
    {
     "cell_type": "code",
     "collapsed": false,
     "input": [
      "precomputed_prf = list(e.compute_prfs(precomputed_results,expected_L6_tables))"
     ],
     "language": "python",
     "metadata": {},
     "outputs": []
    },
    {
     "cell_type": "code",
     "collapsed": false,
     "input": [
      "query_prf = list(e.compute_prfs(query_results,expected_L6_tables))"
     ],
     "language": "python",
     "metadata": {},
     "outputs": [
      {
       "ename": "IOError",
       "evalue": "[Errno 2] No such file or directory: '/Users/caporaso/outbox/usearch_tax_parameter_sweep/Broad-2/gg_13_5_otus/usearch/e1.000000_qf0.750000_ma10_c0.500000/table.biom'",
       "output_type": "pyerr",
       "traceback": [
        "\u001b[0;31m---------------------------------------------------------------------------\u001b[0m\n\u001b[0;31mIOError\u001b[0m                                   Traceback (most recent call last)",
        "\u001b[0;32m<ipython-input-9-084e6774f927>\u001b[0m in \u001b[0;36m<module>\u001b[0;34m()\u001b[0m\n\u001b[0;32m----> 1\u001b[0;31m \u001b[0mquery_prf\u001b[0m \u001b[0;34m=\u001b[0m \u001b[0mlist\u001b[0m\u001b[0;34m(\u001b[0m\u001b[0me\u001b[0m\u001b[0;34m.\u001b[0m\u001b[0mcompute_prfs\u001b[0m\u001b[0;34m(\u001b[0m\u001b[0mquery_results\u001b[0m\u001b[0;34m,\u001b[0m\u001b[0mexpected_L6_tables\u001b[0m\u001b[0;34m)\u001b[0m\u001b[0;34m)\u001b[0m\u001b[0;34m\u001b[0m\u001b[0m\n\u001b[0m",
        "\u001b[0;32m/Users/caporaso/code/short-read-tax-assignment/code/taxcompare/eval_framework.pyc\u001b[0m in \u001b[0;36mcompute_prfs\u001b[0;34m(result_tables, expected_table_lookup, taxonomy_level)\u001b[0m\n\u001b[1;32m    143\u001b[0m         \u001b[0;31m## parse the actual table and collapse it at the specified taxonomic level\u001b[0m\u001b[0;34m\u001b[0m\u001b[0;34m\u001b[0m\u001b[0m\n\u001b[1;32m    144\u001b[0m         \u001b[0;32mtry\u001b[0m\u001b[0;34m:\u001b[0m\u001b[0;34m\u001b[0m\u001b[0m\n\u001b[0;32m--> 145\u001b[0;31m             \u001b[0mactual_table\u001b[0m \u001b[0;34m=\u001b[0m \u001b[0mparse_biom_table\u001b[0m\u001b[0;34m(\u001b[0m\u001b[0mopen\u001b[0m\u001b[0;34m(\u001b[0m\u001b[0mactual_table_fp\u001b[0m\u001b[0;34m,\u001b[0m\u001b[0;34m'U'\u001b[0m\u001b[0;34m)\u001b[0m\u001b[0;34m)\u001b[0m\u001b[0;34m\u001b[0m\u001b[0m\n\u001b[0m\u001b[1;32m    146\u001b[0m         \u001b[0;32mexcept\u001b[0m \u001b[0mValueError\u001b[0m\u001b[0;34m:\u001b[0m\u001b[0;34m\u001b[0m\u001b[0m\n\u001b[1;32m    147\u001b[0m             \u001b[0;32mraise\u001b[0m \u001b[0mValueError\u001b[0m\u001b[0;34m,\u001b[0m \u001b[0;34m\"Couldn't parse BIOM table: %s\"\u001b[0m \u001b[0;34m%\u001b[0m \u001b[0mactual_table_fp\u001b[0m\u001b[0;34m\u001b[0m\u001b[0m\n",
        "\u001b[0;31mIOError\u001b[0m: [Errno 2] No such file or directory: '/Users/caporaso/outbox/usearch_tax_parameter_sweep/Broad-2/gg_13_5_otus/usearch/e1.000000_qf0.750000_ma10_c0.500000/table.biom'"
       ]
      }
     ],
     "prompt_number": 9
    },
    {
     "cell_type": "code",
     "collapsed": false,
     "input": [],
     "language": "python",
     "metadata": {},
     "outputs": []
    }
   ],
   "metadata": {}
  }
 ]
}