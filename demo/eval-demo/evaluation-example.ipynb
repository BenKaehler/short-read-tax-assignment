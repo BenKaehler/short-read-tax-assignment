{
 "metadata": {
  "name": "evaluation-example"
 },
 "nbformat": 3,
 "nbformat_minor": 0,
 "worksheets": [
  {
   "cells": [
    {
     "cell_type": "code",
     "collapsed": false,
     "input": [
      "from os.path import join\n",
      "from taxcompare import eval_framework as e\n",
      "\n",
      "short_read_tax_dir = \"/Users/caporaso/Dropbox/code/short-read-tax-assignment/\"\n",
      "expected_L6_tables = e.get_expected_tables_lookup(join(short_read_tax_dir,'./data/eval-pre-computed/'))\n",
      "precomputed_results = e.find_and_process_result_tables(join(short_read_tax_dir,'./data/eval-pre-computed/'))\n",
      "\n",
      "precomputed_prf = list(e.compute_prfs(precomputed_results,expected_L6_tables))"
     ],
     "language": "python",
     "metadata": {},
     "outputs": [],
     "prompt_number": 1
    },
    {
     "cell_type": "code",
     "collapsed": false,
     "input": [],
     "language": "python",
     "metadata": {},
     "outputs": []
    }
   ],
   "metadata": {}
  }
 ]
}