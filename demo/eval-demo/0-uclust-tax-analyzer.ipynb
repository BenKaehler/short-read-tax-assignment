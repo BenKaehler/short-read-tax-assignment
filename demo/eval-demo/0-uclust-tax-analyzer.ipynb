{
 "metadata": {
  "name": ""
 },
 "nbformat": 3,
 "nbformat_minor": 0,
 "worksheets": [
  {
   "cells": [
    {
     "cell_type": "markdown",
     "metadata": {},
     "source": [
      "This notebook illustrates how to generate data that will be compared to the pre-computed data in the taxonomy assignment evaluation framework. Annotation of the code is coming soon."
     ]
    },
    {
     "cell_type": "code",
     "collapsed": false,
     "input": [
      "from os.path import join, exists\n",
      "from os import makedirs\n",
      "from tempfile import mkstemp\n",
      "from glob import glob\n",
      "\n",
      "from pyqi.util import pyqi_system_call, remove_files\n",
      "\n",
      "short_read_tax_dir = \"/Users/caporaso/Dropbox/code/short-read-tax-assignment/\""
     ],
     "language": "python",
     "metadata": {},
     "outputs": [],
     "prompt_number": 1
    },
    {
     "cell_type": "code",
     "collapsed": false,
     "input": [
      "output_base_dir = \"/Users/caporaso/outbox/tax_parameter_sweep/\"\n",
      "mock_community_labels = [\n",
      " 'Broad-1',\n",
      " 'Broad-2',\n",
      " 'Broad-3',\n",
      "# 'ITS1',\n",
      "# 'ITS2-SAG',\n",
      "# 'L18S-1',\n",
      " 'S16S-1',\n",
      " 'S16S-2',\n",
      " 'Turnbaugh-1',\n",
      " 'Turnbaugh-2',\n",
      " 'Turnbaugh-3']\n",
      "mock_community_base_dir = join(short_read_tax_dir,\"data/qiime-mock-community\")\n",
      "\n",
      "reference_seqs_fp = \"/Users/caporaso/data/gg_13_5_otus/rep_set/97_otus.fasta\"\n",
      "reference_tax_map = \"/Users/caporaso/data/gg_13_5_otus/taxonomy/97_otu_taxonomy.txt\"\n",
      "reference_seqs_label = \"gg_13_5_otus\"\n",
      "method_label = \"uclust\"\n",
      "\n",
      "uclust_cmd = \"uclust --input %s --lib %s --uc %s --id %1.2f --maxaccepts %d --libonly --allhits --rev\"\n",
      "uc_to_assignments_path = \"/Users/caporaso/code/uc_to_assignments/uc_to_assignments.py\"\n",
      "uc_to_assignments_cmd = \" \".join([uc_to_assignments_path,\"-i %s -t %s -o %s -c %f\"])\n",
      "add_metadata_cmd = \"biom add-metadata -i %s -o %s --observation-metadata-fp %s --sc-separated taxonomy\"\n",
      "\n",
      "ids = [1.0, 0.99, 0.97, 0.95, 0.93, 0.90, 0.80, 0.75, 0.70]\n",
      "maxaccepts = [1, 3, 5, 10]\n",
      "confidences = [0.50, 0.75, 1.0]\n",
      "\n",
      "# It's a good idea to include prefix and suffix when creating\n",
      "# temp files. It can help track the source of temp files\n",
      "# accidentally being left around on your system.\n",
      "result_tax_map_fp = mkstemp(suffix='.txt',prefix='uclust_tax')[1]\n",
      "\n",
      "for label in mock_community_labels:\n",
      "    mock_community_dir = join(mock_community_base_dir,label)\n",
      "    query_reads_fp = join(mock_community_dir,'rep_set.fna')\n",
      "    otu_table_fp = glob(join(mock_community_dir,'otu_table_mc2*biom'))[0]\n",
      "    method_dir = join(output_base_dir,label,reference_seqs_label,method_label)\n",
      "    try:\n",
      "        makedirs(method_dir)\n",
      "    except OSError:\n",
      "        pass\n",
      "    \n",
      "    for id_ in ids:\n",
      "        for ma in maxaccepts:\n",
      "            result_uc_fp = join(method_dir,'id%f_ma%d.uc' % (id_, ma))\n",
      "            if exists(result_uc_fp):\n",
      "                print \"%s exists, skipping.\" % result_uc_fp\n",
      "                continue\n",
      "            else:\n",
      "                cmd = uclust_cmd % (query_reads_fp,\n",
      "                                    reference_seqs_fp,\n",
      "                                    result_uc_fp,\n",
      "                                    id_,\n",
      "                                    ma)\n",
      "                stdout, stderr, return_value = pyqi_system_call(cmd)\n",
      "                assert return_value == 0,\\\n",
      "                 \"Invalid return value from command:\\n%s\\nstdout: %s\\nstderr: %s\" % (cmd,stdout,stderr)\n",
      "                    \n",
      "            for c in confidences:\n",
      "                parameter_label = \"id%f_ma%d_c%f\" % (id_, ma, c)\n",
      "                parameter_dir = join(method_dir,parameter_label)\n",
      "                makedirs(parameter_dir)\n",
      "                \n",
      "                cmd = uc_to_assignments_cmd % (result_uc_fp,\n",
      "                                               reference_tax_map,\n",
      "                                               result_tax_map_fp,\n",
      "                                               c)\n",
      "                stdout, stderr, return_value = pyqi_system_call(cmd)\n",
      "                assert return_value == 0,\\\n",
      "                 \"Invalid return value from command:\\n%s\\nstdout: %s\\nstderr: %s\" % (cmd,stdout,stderr)\n",
      "                \n",
      "                result_otu_table_fp = join(parameter_dir,'table.biom')\n",
      "                cmd = add_metadata_cmd % (otu_table_fp,\n",
      "                                          result_otu_table_fp,\n",
      "                                          result_tax_map_fp)\n",
      "                stdout, stderr, return_value = pyqi_system_call(cmd)\n",
      "                assert return_value == 0,\\\n",
      "                 \"Invalid return value from command:\\n%s\\nstdout: %s\\nstderr: %s\" % (cmd,stdout,stderr)\n",
      "                remove_files([result_tax_map_fp])\n",
      "                "
     ],
     "language": "python",
     "metadata": {},
     "outputs": [
      {
       "output_type": "stream",
       "stream": "stdout",
       "text": [
        "/Users/caporaso/outbox/tax_parameter_sweep/Broad-1/gg_13_5_otus/uclust/id1.000000_ma1.uc exists, skipping.\n",
        "/Users/caporaso/outbox/tax_parameter_sweep/Broad-1/gg_13_5_otus/uclust/id1.000000_ma3.uc exists, skipping.\n",
        "/Users/caporaso/outbox/tax_parameter_sweep/Broad-1/gg_13_5_otus/uclust/id1.000000_ma5.uc exists, skipping.\n",
        "/Users/caporaso/outbox/tax_parameter_sweep/Broad-1/gg_13_5_otus/uclust/id0.900000_ma1.uc exists, skipping."
       ]
      },
      {
       "output_type": "stream",
       "stream": "stdout",
       "text": [
        "\n",
        "/Users/caporaso/outbox/tax_parameter_sweep/Broad-1/gg_13_5_otus/uclust/id0.900000_ma3.uc exists, skipping.\n",
        "/Users/caporaso/outbox/tax_parameter_sweep/Broad-1/gg_13_5_otus/uclust/id0.900000_ma5.uc exists, skipping.\n",
        "/Users/caporaso/outbox/tax_parameter_sweep/Broad-1/gg_13_5_otus/uclust/id0.800000_ma1.uc exists, skipping."
       ]
      },
      {
       "output_type": "stream",
       "stream": "stdout",
       "text": [
        "\n",
        "/Users/caporaso/outbox/tax_parameter_sweep/Broad-1/gg_13_5_otus/uclust/id0.800000_ma3.uc exists, skipping.\n",
        "/Users/caporaso/outbox/tax_parameter_sweep/Broad-1/gg_13_5_otus/uclust/id0.800000_ma5.uc exists, skipping.\n",
        "/Users/caporaso/outbox/tax_parameter_sweep/Broad-1/gg_13_5_otus/uclust/id0.700000_ma1.uc exists, skipping."
       ]
      },
      {
       "output_type": "stream",
       "stream": "stdout",
       "text": [
        "\n",
        "/Users/caporaso/outbox/tax_parameter_sweep/Broad-1/gg_13_5_otus/uclust/id0.700000_ma3.uc exists, skipping.\n",
        "/Users/caporaso/outbox/tax_parameter_sweep/Broad-1/gg_13_5_otus/uclust/id0.700000_ma5.uc exists, skipping.\n",
        "/Users/caporaso/outbox/tax_parameter_sweep/Broad-2/gg_13_5_otus/uclust/id1.000000_ma1.uc exists, skipping."
       ]
      },
      {
       "output_type": "stream",
       "stream": "stdout",
       "text": [
        "\n",
        "/Users/caporaso/outbox/tax_parameter_sweep/Broad-2/gg_13_5_otus/uclust/id1.000000_ma3.uc exists, skipping.\n",
        "/Users/caporaso/outbox/tax_parameter_sweep/Broad-2/gg_13_5_otus/uclust/id1.000000_ma5.uc exists, skipping.\n",
        "/Users/caporaso/outbox/tax_parameter_sweep/Broad-2/gg_13_5_otus/uclust/id0.900000_ma1.uc exists, skipping."
       ]
      },
      {
       "output_type": "stream",
       "stream": "stdout",
       "text": [
        "\n",
        "/Users/caporaso/outbox/tax_parameter_sweep/Broad-2/gg_13_5_otus/uclust/id0.900000_ma3.uc exists, skipping.\n",
        "/Users/caporaso/outbox/tax_parameter_sweep/Broad-2/gg_13_5_otus/uclust/id0.900000_ma5.uc exists, skipping.\n",
        "/Users/caporaso/outbox/tax_parameter_sweep/Broad-2/gg_13_5_otus/uclust/id0.800000_ma1.uc exists, skipping."
       ]
      },
      {
       "output_type": "stream",
       "stream": "stdout",
       "text": [
        "\n",
        "/Users/caporaso/outbox/tax_parameter_sweep/Broad-2/gg_13_5_otus/uclust/id0.800000_ma3.uc exists, skipping.\n",
        "/Users/caporaso/outbox/tax_parameter_sweep/Broad-2/gg_13_5_otus/uclust/id0.800000_ma5.uc exists, skipping.\n",
        "/Users/caporaso/outbox/tax_parameter_sweep/Broad-2/gg_13_5_otus/uclust/id0.700000_ma1.uc exists, skipping."
       ]
      },
      {
       "output_type": "stream",
       "stream": "stdout",
       "text": [
        "\n",
        "/Users/caporaso/outbox/tax_parameter_sweep/Broad-2/gg_13_5_otus/uclust/id0.700000_ma3.uc exists, skipping.\n",
        "/Users/caporaso/outbox/tax_parameter_sweep/Broad-2/gg_13_5_otus/uclust/id0.700000_ma5.uc exists, skipping.\n",
        "/Users/caporaso/outbox/tax_parameter_sweep/Broad-3/gg_13_5_otus/uclust/id1.000000_ma1.uc exists, skipping."
       ]
      },
      {
       "output_type": "stream",
       "stream": "stdout",
       "text": [
        "\n",
        "/Users/caporaso/outbox/tax_parameter_sweep/Broad-3/gg_13_5_otus/uclust/id1.000000_ma3.uc exists, skipping.\n",
        "/Users/caporaso/outbox/tax_parameter_sweep/Broad-3/gg_13_5_otus/uclust/id1.000000_ma5.uc exists, skipping.\n",
        "/Users/caporaso/outbox/tax_parameter_sweep/Broad-3/gg_13_5_otus/uclust/id0.900000_ma1.uc exists, skipping."
       ]
      },
      {
       "output_type": "stream",
       "stream": "stdout",
       "text": [
        "\n",
        "/Users/caporaso/outbox/tax_parameter_sweep/Broad-3/gg_13_5_otus/uclust/id0.900000_ma3.uc exists, skipping.\n",
        "/Users/caporaso/outbox/tax_parameter_sweep/Broad-3/gg_13_5_otus/uclust/id0.900000_ma5.uc exists, skipping.\n",
        "/Users/caporaso/outbox/tax_parameter_sweep/Broad-3/gg_13_5_otus/uclust/id0.800000_ma1.uc exists, skipping."
       ]
      },
      {
       "output_type": "stream",
       "stream": "stdout",
       "text": [
        "\n",
        "/Users/caporaso/outbox/tax_parameter_sweep/Broad-3/gg_13_5_otus/uclust/id0.800000_ma3.uc exists, skipping.\n",
        "/Users/caporaso/outbox/tax_parameter_sweep/Broad-3/gg_13_5_otus/uclust/id0.800000_ma5.uc exists, skipping.\n",
        "/Users/caporaso/outbox/tax_parameter_sweep/Broad-3/gg_13_5_otus/uclust/id0.700000_ma1.uc exists, skipping."
       ]
      },
      {
       "output_type": "stream",
       "stream": "stdout",
       "text": [
        "\n",
        "/Users/caporaso/outbox/tax_parameter_sweep/Broad-3/gg_13_5_otus/uclust/id0.700000_ma3.uc exists, skipping.\n",
        "/Users/caporaso/outbox/tax_parameter_sweep/Broad-3/gg_13_5_otus/uclust/id0.700000_ma5.uc exists, skipping.\n",
        "/Users/caporaso/outbox/tax_parameter_sweep/S16S-1/gg_13_5_otus/uclust/id1.000000_ma1.uc exists, skipping."
       ]
      },
      {
       "output_type": "stream",
       "stream": "stdout",
       "text": [
        "\n",
        "/Users/caporaso/outbox/tax_parameter_sweep/S16S-1/gg_13_5_otus/uclust/id1.000000_ma3.uc exists, skipping.\n",
        "/Users/caporaso/outbox/tax_parameter_sweep/S16S-1/gg_13_5_otus/uclust/id1.000000_ma5.uc exists, skipping.\n",
        "/Users/caporaso/outbox/tax_parameter_sweep/S16S-1/gg_13_5_otus/uclust/id0.900000_ma1.uc exists, skipping."
       ]
      },
      {
       "output_type": "stream",
       "stream": "stdout",
       "text": [
        "\n",
        "/Users/caporaso/outbox/tax_parameter_sweep/S16S-1/gg_13_5_otus/uclust/id0.900000_ma3.uc exists, skipping.\n",
        "/Users/caporaso/outbox/tax_parameter_sweep/S16S-1/gg_13_5_otus/uclust/id0.900000_ma5.uc exists, skipping.\n",
        "/Users/caporaso/outbox/tax_parameter_sweep/S16S-1/gg_13_5_otus/uclust/id0.800000_ma1.uc exists, skipping."
       ]
      },
      {
       "output_type": "stream",
       "stream": "stdout",
       "text": [
        "\n",
        "/Users/caporaso/outbox/tax_parameter_sweep/S16S-1/gg_13_5_otus/uclust/id0.800000_ma3.uc exists, skipping.\n",
        "/Users/caporaso/outbox/tax_parameter_sweep/S16S-1/gg_13_5_otus/uclust/id0.800000_ma5.uc exists, skipping.\n",
        "/Users/caporaso/outbox/tax_parameter_sweep/S16S-1/gg_13_5_otus/uclust/id0.700000_ma1.uc exists, skipping."
       ]
      },
      {
       "output_type": "stream",
       "stream": "stdout",
       "text": [
        "\n",
        "/Users/caporaso/outbox/tax_parameter_sweep/S16S-1/gg_13_5_otus/uclust/id0.700000_ma3.uc exists, skipping.\n",
        "/Users/caporaso/outbox/tax_parameter_sweep/S16S-1/gg_13_5_otus/uclust/id0.700000_ma5.uc exists, skipping.\n",
        "/Users/caporaso/outbox/tax_parameter_sweep/S16S-2/gg_13_5_otus/uclust/id1.000000_ma1.uc exists, skipping."
       ]
      },
      {
       "output_type": "stream",
       "stream": "stdout",
       "text": [
        "\n",
        "/Users/caporaso/outbox/tax_parameter_sweep/S16S-2/gg_13_5_otus/uclust/id1.000000_ma3.uc exists, skipping.\n",
        "/Users/caporaso/outbox/tax_parameter_sweep/S16S-2/gg_13_5_otus/uclust/id1.000000_ma5.uc exists, skipping.\n",
        "/Users/caporaso/outbox/tax_parameter_sweep/S16S-2/gg_13_5_otus/uclust/id0.900000_ma1.uc exists, skipping."
       ]
      },
      {
       "output_type": "stream",
       "stream": "stdout",
       "text": [
        "\n",
        "/Users/caporaso/outbox/tax_parameter_sweep/S16S-2/gg_13_5_otus/uclust/id0.900000_ma3.uc exists, skipping.\n",
        "/Users/caporaso/outbox/tax_parameter_sweep/S16S-2/gg_13_5_otus/uclust/id0.900000_ma5.uc exists, skipping.\n",
        "/Users/caporaso/outbox/tax_parameter_sweep/S16S-2/gg_13_5_otus/uclust/id0.800000_ma1.uc exists, skipping."
       ]
      },
      {
       "output_type": "stream",
       "stream": "stdout",
       "text": [
        "\n",
        "/Users/caporaso/outbox/tax_parameter_sweep/S16S-2/gg_13_5_otus/uclust/id0.800000_ma3.uc exists, skipping.\n",
        "/Users/caporaso/outbox/tax_parameter_sweep/S16S-2/gg_13_5_otus/uclust/id0.800000_ma5.uc exists, skipping.\n",
        "/Users/caporaso/outbox/tax_parameter_sweep/S16S-2/gg_13_5_otus/uclust/id0.700000_ma1.uc exists, skipping."
       ]
      },
      {
       "output_type": "stream",
       "stream": "stdout",
       "text": [
        "\n",
        "/Users/caporaso/outbox/tax_parameter_sweep/S16S-2/gg_13_5_otus/uclust/id0.700000_ma3.uc exists, skipping.\n",
        "/Users/caporaso/outbox/tax_parameter_sweep/S16S-2/gg_13_5_otus/uclust/id0.700000_ma5.uc exists, skipping.\n",
        "/Users/caporaso/outbox/tax_parameter_sweep/Turnbaugh-1/gg_13_5_otus/uclust/id1.000000_ma1.uc exists, skipping."
       ]
      },
      {
       "output_type": "stream",
       "stream": "stdout",
       "text": [
        "\n",
        "/Users/caporaso/outbox/tax_parameter_sweep/Turnbaugh-1/gg_13_5_otus/uclust/id1.000000_ma3.uc exists, skipping.\n",
        "/Users/caporaso/outbox/tax_parameter_sweep/Turnbaugh-1/gg_13_5_otus/uclust/id1.000000_ma5.uc exists, skipping.\n",
        "/Users/caporaso/outbox/tax_parameter_sweep/Turnbaugh-1/gg_13_5_otus/uclust/id0.900000_ma1.uc exists, skipping."
       ]
      },
      {
       "output_type": "stream",
       "stream": "stdout",
       "text": [
        "\n",
        "/Users/caporaso/outbox/tax_parameter_sweep/Turnbaugh-1/gg_13_5_otus/uclust/id0.900000_ma3.uc exists, skipping.\n",
        "/Users/caporaso/outbox/tax_parameter_sweep/Turnbaugh-1/gg_13_5_otus/uclust/id0.900000_ma5.uc exists, skipping.\n",
        "/Users/caporaso/outbox/tax_parameter_sweep/Turnbaugh-1/gg_13_5_otus/uclust/id0.800000_ma1.uc exists, skipping."
       ]
      },
      {
       "output_type": "stream",
       "stream": "stdout",
       "text": [
        "\n",
        "/Users/caporaso/outbox/tax_parameter_sweep/Turnbaugh-1/gg_13_5_otus/uclust/id0.800000_ma3.uc exists, skipping.\n",
        "/Users/caporaso/outbox/tax_parameter_sweep/Turnbaugh-1/gg_13_5_otus/uclust/id0.800000_ma5.uc exists, skipping.\n",
        "/Users/caporaso/outbox/tax_parameter_sweep/Turnbaugh-1/gg_13_5_otus/uclust/id0.700000_ma1.uc exists, skipping."
       ]
      },
      {
       "output_type": "stream",
       "stream": "stdout",
       "text": [
        "\n",
        "/Users/caporaso/outbox/tax_parameter_sweep/Turnbaugh-1/gg_13_5_otus/uclust/id0.700000_ma3.uc exists, skipping.\n",
        "/Users/caporaso/outbox/tax_parameter_sweep/Turnbaugh-1/gg_13_5_otus/uclust/id0.700000_ma5.uc exists, skipping.\n",
        "/Users/caporaso/outbox/tax_parameter_sweep/Turnbaugh-2/gg_13_5_otus/uclust/id1.000000_ma1.uc exists, skipping."
       ]
      },
      {
       "output_type": "stream",
       "stream": "stdout",
       "text": [
        "\n",
        "/Users/caporaso/outbox/tax_parameter_sweep/Turnbaugh-2/gg_13_5_otus/uclust/id1.000000_ma3.uc exists, skipping.\n",
        "/Users/caporaso/outbox/tax_parameter_sweep/Turnbaugh-2/gg_13_5_otus/uclust/id1.000000_ma5.uc exists, skipping.\n",
        "/Users/caporaso/outbox/tax_parameter_sweep/Turnbaugh-2/gg_13_5_otus/uclust/id0.900000_ma1.uc exists, skipping."
       ]
      },
      {
       "output_type": "stream",
       "stream": "stdout",
       "text": [
        "\n",
        "/Users/caporaso/outbox/tax_parameter_sweep/Turnbaugh-2/gg_13_5_otus/uclust/id0.900000_ma3.uc exists, skipping.\n",
        "/Users/caporaso/outbox/tax_parameter_sweep/Turnbaugh-2/gg_13_5_otus/uclust/id0.900000_ma5.uc exists, skipping.\n",
        "/Users/caporaso/outbox/tax_parameter_sweep/Turnbaugh-2/gg_13_5_otus/uclust/id0.800000_ma1.uc exists, skipping."
       ]
      },
      {
       "output_type": "stream",
       "stream": "stdout",
       "text": [
        "\n",
        "/Users/caporaso/outbox/tax_parameter_sweep/Turnbaugh-2/gg_13_5_otus/uclust/id0.800000_ma3.uc exists, skipping.\n",
        "/Users/caporaso/outbox/tax_parameter_sweep/Turnbaugh-2/gg_13_5_otus/uclust/id0.800000_ma5.uc exists, skipping.\n",
        "/Users/caporaso/outbox/tax_parameter_sweep/Turnbaugh-2/gg_13_5_otus/uclust/id0.700000_ma1.uc exists, skipping."
       ]
      },
      {
       "output_type": "stream",
       "stream": "stdout",
       "text": [
        "\n",
        "/Users/caporaso/outbox/tax_parameter_sweep/Turnbaugh-2/gg_13_5_otus/uclust/id0.700000_ma3.uc exists, skipping.\n",
        "/Users/caporaso/outbox/tax_parameter_sweep/Turnbaugh-2/gg_13_5_otus/uclust/id0.700000_ma5.uc exists, skipping.\n",
        "/Users/caporaso/outbox/tax_parameter_sweep/Turnbaugh-3/gg_13_5_otus/uclust/id1.000000_ma1.uc exists, skipping."
       ]
      },
      {
       "output_type": "stream",
       "stream": "stdout",
       "text": [
        "\n",
        "/Users/caporaso/outbox/tax_parameter_sweep/Turnbaugh-3/gg_13_5_otus/uclust/id1.000000_ma3.uc exists, skipping.\n",
        "/Users/caporaso/outbox/tax_parameter_sweep/Turnbaugh-3/gg_13_5_otus/uclust/id1.000000_ma5.uc exists, skipping.\n",
        "/Users/caporaso/outbox/tax_parameter_sweep/Turnbaugh-3/gg_13_5_otus/uclust/id0.900000_ma1.uc exists, skipping."
       ]
      },
      {
       "output_type": "stream",
       "stream": "stdout",
       "text": [
        "\n",
        "/Users/caporaso/outbox/tax_parameter_sweep/Turnbaugh-3/gg_13_5_otus/uclust/id0.900000_ma3.uc exists, skipping.\n",
        "/Users/caporaso/outbox/tax_parameter_sweep/Turnbaugh-3/gg_13_5_otus/uclust/id0.900000_ma5.uc exists, skipping.\n",
        "/Users/caporaso/outbox/tax_parameter_sweep/Turnbaugh-3/gg_13_5_otus/uclust/id0.800000_ma1.uc exists, skipping."
       ]
      },
      {
       "output_type": "stream",
       "stream": "stdout",
       "text": [
        "\n",
        "/Users/caporaso/outbox/tax_parameter_sweep/Turnbaugh-3/gg_13_5_otus/uclust/id0.800000_ma3.uc exists, skipping.\n",
        "/Users/caporaso/outbox/tax_parameter_sweep/Turnbaugh-3/gg_13_5_otus/uclust/id0.800000_ma5.uc exists, skipping.\n",
        "/Users/caporaso/outbox/tax_parameter_sweep/Turnbaugh-3/gg_13_5_otus/uclust/id0.700000_ma1.uc exists, skipping."
       ]
      },
      {
       "output_type": "stream",
       "stream": "stdout",
       "text": [
        "\n",
        "/Users/caporaso/outbox/tax_parameter_sweep/Turnbaugh-3/gg_13_5_otus/uclust/id0.700000_ma3.uc exists, skipping.\n",
        "/Users/caporaso/outbox/tax_parameter_sweep/Turnbaugh-3/gg_13_5_otus/uclust/id0.700000_ma5.uc exists, skipping.\n"
       ]
      }
     ],
     "prompt_number": 3
    },
    {
     "cell_type": "markdown",
     "metadata": {},
     "source": [
      "Natural community taxonomy assignment\n",
      "-------------------------------------\n",
      "\n",
      "In this section we apply usearch to assign taxonomy to natural community data. "
     ]
    },
    {
     "cell_type": "code",
     "collapsed": false,
     "input": [
      "output_base_dir = \"/Users/caporaso/outbox/tax_parameter_sweep/natural/\"\n",
      "natural_community_labels = [\n",
      " 'study_449']\n",
      "natural_community_base_dir = join(short_read_tax_dir,\"data/natural-community\")\n",
      "\n",
      "reference_seqs_fp = \"/Users/caporaso/data/gg_13_5_otus/rep_set/97_otus.fasta\"\n",
      "reference_tax_map = \"/Users/caporaso/data/gg_13_5_otus/taxonomy/97_otu_taxonomy.txt\"\n",
      "reference_seqs_label = \"gg_13_5_otus\"\n",
      "method_label = \"uclust\"\n",
      "\n",
      "uclust_cmd = \"uclust --input %s --lib %s --uc %s --id %1.2f --maxaccepts %d --libonly --allhits --rev\"\n",
      "uc_to_assignments_path = \"/Users/caporaso/code/uc_to_assignments/uc_to_assignments.py\"\n",
      "uc_to_assignments_cmd = \" \".join([uc_to_assignments_path,\"-i %s -t %s -o %s -c %f\"])\n",
      "add_metadata_cmd = \"biom add-metadata -i %s -o %s --observation-metadata-fp %s --sc-separated taxonomy\"\n",
      "\n",
      "ids = [1.0, 0.90, 0.80, 0.70]\n",
      "maxaccepts = [1, 3, 5]\n",
      "confidences = [0.50, 0.75, 1.0]\n",
      "\n",
      "# It's a good idea to include prefix and suffix when creating\n",
      "# temp files. It can help track the source of temp files\n",
      "# accidentally being left around on your system.\n",
      "result_tax_map_fp = mkstemp(suffix='.txt',prefix='uclust_tax')[1]\n",
      "\n",
      "for label in natural_community_labels:\n",
      "    natural_community_dir = join(natural_community_base_dir,label)\n",
      "    query_reads_fp = join(natural_community_dir,'rep_set.fna')\n",
      "    otu_table_fp = join(natural_community_dir,'table.biom')\n",
      "    method_dir = join(output_base_dir,label,reference_seqs_label,method_label)\n",
      "    try:\n",
      "        makedirs(method_dir)\n",
      "    except OSError:\n",
      "        pass\n",
      "    \n",
      "    for id_ in ids:\n",
      "        for ma in maxaccepts:\n",
      "            result_uc_fp = join(method_dir,'id%f_ma%d.uc' % (id_, ma))\n",
      "            if exists(result_uc_fp):\n",
      "                print \"%s exists, skipping.\" % result_uc_fp\n",
      "                continue\n",
      "            else:\n",
      "                cmd = uclust_cmd % (query_reads_fp,\n",
      "                                     reference_seqs_fp,\n",
      "                                     result_uc_fp,\n",
      "                                     id_,\n",
      "                                     ma)\n",
      "                stdout, stderr, return_value = pyqi_system_call(cmd)\n",
      "                assert return_value == 0,\\\n",
      "                 \"Invalid return value from command:\\n%s\\nstdout: %s\\nstderr: %s\" % (cmd,stdout,stderr)\n",
      "                    \n",
      "            for c in confidences:\n",
      "                parameter_label = \"id%f_ma%d_c%f\" % (id_, ma, c)\n",
      "                parameter_dir = join(method_dir,parameter_label)\n",
      "                makedirs(parameter_dir)\n",
      "                \n",
      "                cmd = uc_to_assignments_cmd % (result_uc_fp,\n",
      "                                               reference_tax_map,\n",
      "                                               result_tax_map_fp,\n",
      "                                               c)\n",
      "                stdout, stderr, return_value = pyqi_system_call(cmd)\n",
      "                assert return_value == 0,\\\n",
      "                 \"Invalid return value from command:\\n%s\\nstdout: %s\\nstderr: %s\" % (cmd,stdout,stderr)\n",
      "                \n",
      "                result_otu_table_fp = join(parameter_dir,'table.biom')\n",
      "                cmd = add_metadata_cmd % (otu_table_fp,\n",
      "                                          result_otu_table_fp,\n",
      "                                          result_tax_map_fp)\n",
      "                stdout, stderr, return_value = pyqi_system_call(cmd)\n",
      "                assert return_value == 0,\\\n",
      "                 \"Invalid return value from command:\\n%s\\nstdout: %s\\nstderr: %s\" % (cmd,stdout,stderr)\n",
      "                remove_files([result_tax_map_fp])\n",
      "                "
     ],
     "language": "python",
     "metadata": {},
     "outputs": [],
     "prompt_number": 7
    },
    {
     "cell_type": "code",
     "collapsed": false,
     "input": [
      "print query_reads_fp"
     ],
     "language": "python",
     "metadata": {},
     "outputs": [
      {
       "output_type": "stream",
       "stream": "stdout",
       "text": [
        "/Users/caporaso/Dropbox/code/short-read-tax-assignment/data/natural-community/study_449/rep_set.fna\n"
       ]
      }
     ],
     "prompt_number": 5
    },
    {
     "cell_type": "code",
     "collapsed": false,
     "input": [],
     "language": "python",
     "metadata": {},
     "outputs": []
    }
   ],
   "metadata": {}
  }
 ]
}