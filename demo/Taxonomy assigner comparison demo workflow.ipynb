{
 "metadata": {
  "name": "Taxonomy assigner comparison demo workflow"
 },
 "nbformat": 3,
 "nbformat_minor": 0,
 "worksheets": [
  {
   "cells": [
    {
     "cell_type": "heading",
     "level": 1,
     "metadata": {},
     "source": [
      "Comparing taxonomy assigners: demo workflow"
     ]
    },
    {
     "cell_type": "markdown",
     "metadata": {},
     "source": [
      "This interactive notebook demonstrates what a workflow might look like when comparing two or more taxonomy assigners (or different assigner configurations, e.g. varying confidence levels). This example workflow is the basis for the comparisons that are made in the main text and supplementary materials of the paper. If you are interested in designing your own taxonomy assigner comparisons (e.g. comparing assigners not present in this study, trying out different datasets, etc.) this workflow is a good framework to start with."
     ]
    },
    {
     "cell_type": "heading",
     "level": 2,
     "metadata": {},
     "source": [
      "Before you begin"
     ]
    },
    {
     "cell_type": "markdown",
     "metadata": {},
     "source": [
      "You'll need to have a working [QIIME](http://www.qiime.org) installation on the computer that this notebook will be running on. This notebook was tested with the latest development version of QIIME (at the time of writing), which is QIIME 1.7.0-dev, master@a94810a.\n",
      "\n",
      "You will also need a working installation of the [short-read-tax-assignment](https://github.com/gregcaporaso/short-read-tax-assignment) GitHub repository. Please see the README.md file included in that repository for installation details. This notebook was tested with commit ``` 1633d0b8f3007f5a82d5fac6ba1ea5054e390741``` of that repository.\n",
      "\n",
      "Finally, you will need [Perl](http://www.perl.org/) installed."
     ]
    },
    {
     "cell_type": "heading",
     "level": 2,
     "metadata": {},
     "source": [
      "Setting things up"
     ]
    },
    {
     "cell_type": "markdown",
     "metadata": {},
     "source": [
      "We'll download a sample dataset and choose a subset of sequences to work with, in order to reduce the time it takes to run the full demonstration. We'll also download the Greengenes 13_5 database, which we'll use as our reference database."
     ]
    },
    {
     "cell_type": "code",
     "collapsed": false,
     "input": [
      "# Download and extract the sample dataset.\n",
      "!wget ftp://thebeast.colorado.edu/pub/QIIME_DB_Public_Studies/study_1688_split_library_seqs_and_mapping.tgz\n",
      "!tar -zxf study_1688_split_library_seqs_and_mapping.tgz\n",
      "!gunzip study_1688_split_library_seqs_and_mapping/study_1688_split_library_seqs.fna.gz\n",
      "!mv study_1688_split_library_seqs_and_mapping study_1688\n",
      "!mv study_1688/study_1688_split_library_seqs.fna study_1688/seqs1.fna\n",
      "\n",
      "# Subsample the dataset we just downloaded. Note: this will delete the original raw sequences file.\n",
      "# Back it up if you care!\n",
      "!subsample_fasta.py -i study_1688/seqs1.fna -p 0.00005 -o study_1688/seqs1_subsampled.fna\n",
      "!mv study_1688/seqs1_subsampled.fna study_1688/seqs1.fna\n",
      "\n",
      "# Download and extract the Greengenes 13_5 database.\n",
      "!wget ftp://greengenes.microbio.me/greengenes_release/gg_13_5/gg_13_5_otus.tar.gz\n",
      "!tar -xzf gg_13_5_otus.tar.gz"
     ],
     "language": "python",
     "metadata": {},
     "outputs": [
      {
       "output_type": "stream",
       "stream": "stdout",
       "text": [
        "--2013-07-12 15:31:57--  ftp://thebeast.colorado.edu/pub/QIIME_DB_Public_Studies/study_1688_split_library_seqs_and_mapping.tgz\r\n",
        "           => `study_1688_split_library_seqs_and_mapping.tgz'\r\n",
        "Resolving thebeast.colorado.edu (thebeast.colorado.edu)... 128.138.93.17\r\n",
        "Connecting to thebeast.colorado.edu (thebeast.colorado.edu)|128.138.93.17|:21... "
       ]
      },
      {
       "output_type": "stream",
       "stream": "stdout",
       "text": [
        "connected.\r\n",
        "Logging in as anonymous ... "
       ]
      },
      {
       "output_type": "stream",
       "stream": "stdout",
       "text": [
        "Logged in!\r\n",
        "==> SYST ... "
       ]
      },
      {
       "output_type": "stream",
       "stream": "stdout",
       "text": [
        "done.    ==> PWD ... "
       ]
      },
      {
       "output_type": "stream",
       "stream": "stdout",
       "text": [
        "done.\r\n",
        "==> TYPE I ... "
       ]
      },
      {
       "output_type": "stream",
       "stream": "stdout",
       "text": [
        "done.  ==> CWD (1) /pub/QIIME_DB_Public_Studies ... "
       ]
      },
      {
       "output_type": "stream",
       "stream": "stdout",
       "text": [
        "done.\r\n",
        "==> SIZE study_1688_split_library_seqs_and_mapping.tgz ... "
       ]
      },
      {
       "output_type": "stream",
       "stream": "stdout",
       "text": [
        "4378062\r\n",
        "==> PASV ... "
       ]
      },
      {
       "output_type": "stream",
       "stream": "stdout",
       "text": [
        "done.    ==> RETR study_1688_split_library_seqs_and_mapping.tgz ... "
       ]
      },
      {
       "output_type": "stream",
       "stream": "stdout",
       "text": [
        "done.\r\n",
        "Length: 4378062 (4.2M) (unauthoritative)\r\n",
        "\r\n",
        "\r",
        " 0% [                                       ] 0           --.-K/s              "
       ]
      },
      {
       "output_type": "stream",
       "stream": "stdout",
       "text": [
        "\r",
        " 1% [                                       ] 52,208       209K/s              "
       ]
      },
      {
       "output_type": "stream",
       "stream": "stdout",
       "text": [
        "\r",
        " 3% [>                                      ] 157,544      312K/s              "
       ]
      },
      {
       "output_type": "stream",
       "stream": "stdout",
       "text": [
        "\r",
        " 7% [=>                                     ] 336,752      445K/s              "
       ]
      },
      {
       "output_type": "stream",
       "stream": "stdout",
       "text": [
        "\r",
        "14% [====>                                  ] 617,192      612K/s              "
       ]
      },
      {
       "output_type": "stream",
       "stream": "stdout",
       "text": [
        "\r",
        "22% [=======>                               ] 972,872      774K/s              "
       ]
      },
      {
       "output_type": "stream",
       "stream": "stdout",
       "text": [
        "\r",
        "34% [============>                          ] 1,522,808   1.02M/s              "
       ]
      },
      {
       "output_type": "stream",
       "stream": "stdout",
       "text": [
        "\r",
        "49% [==================>                    ] 2,165,768   1.24M/s              "
       ]
      },
      {
       "output_type": "stream",
       "stream": "stdout",
       "text": [
        "\r",
        "71% [==========================>            ] 3,130,208   1.60M/s              "
       ]
      },
      {
       "output_type": "stream",
       "stream": "stdout",
       "text": [
        "\r",
        "100%[======================================>] 4,378,062   2.03M/s   in 2.1s    \r\n",
        "\r\n"
       ]
      },
      {
       "output_type": "stream",
       "stream": "stdout",
       "text": [
        "2013-07-12 15:32:06 (2.03 MB/s) - `study_1688_split_library_seqs_and_mapping.tgz' saved [4378062]\r\n",
        "\r\n"
       ]
      },
      {
       "output_type": "stream",
       "stream": "stdout",
       "text": [
        "--2013-07-12 15:32:08--  ftp://greengenes.microbio.me/greengenes_release/gg_13_5/gg_13_5_otus.tar.gz\r\n",
        "           => `gg_13_5_otus.tar.gz'\r\n",
        "Resolving greengenes.microbio.me (greengenes.microbio.me)... "
       ]
      },
      {
       "output_type": "stream",
       "stream": "stdout",
       "text": [
        "128.138.93.17\r\n",
        "Connecting to greengenes.microbio.me (greengenes.microbio.me)|128.138.93.17|:21... "
       ]
      },
      {
       "output_type": "stream",
       "stream": "stdout",
       "text": [
        "connected.\r\n",
        "Logging in as anonymous ... "
       ]
      },
      {
       "output_type": "stream",
       "stream": "stdout",
       "text": [
        "Logged in!\r\n",
        "==> SYST ... "
       ]
      },
      {
       "output_type": "stream",
       "stream": "stdout",
       "text": [
        "done.    ==> PWD ... "
       ]
      },
      {
       "output_type": "stream",
       "stream": "stdout",
       "text": [
        "done.\r\n",
        "==> TYPE I ... "
       ]
      },
      {
       "output_type": "stream",
       "stream": "stdout",
       "text": [
        "done.  ==> CWD (1) /greengenes_release/gg_13_5 ... "
       ]
      },
      {
       "output_type": "stream",
       "stream": "stdout",
       "text": [
        "done.\r\n",
        "==> SIZE gg_13_5_otus.tar.gz ... "
       ]
      },
      {
       "output_type": "stream",
       "stream": "stdout",
       "text": [
        "318327264\r\n",
        "==> PASV ... "
       ]
      },
      {
       "output_type": "stream",
       "stream": "stdout",
       "text": [
        "done.    ==> RETR gg_13_5_otus.tar.gz ... "
       ]
      },
      {
       "output_type": "stream",
       "stream": "stdout",
       "text": [
        "done.\r\n",
        "Length: 318327264 (304M) (unauthoritative)\r\n",
        "\r\n",
        "\r",
        " 0% [                                       ] 0           --.-K/s              "
       ]
      },
      {
       "output_type": "stream",
       "stream": "stdout",
       "text": [
        "\r",
        " 0% [                                       ] 34,424       165K/s              "
       ]
      },
      {
       "output_type": "stream",
       "stream": "stdout",
       "text": [
        "\r",
        " 0% [                                       ] 124,712      272K/s              "
       ]
      },
      {
       "output_type": "stream",
       "stream": "stdout",
       "text": [
        "\r",
        " 0% [                                       ] 256,040      361K/s              "
       ]
      },
      {
       "output_type": "stream",
       "stream": "stdout",
       "text": [
        "\r",
        " 0% [                                       ] 454,400      478K/s              "
       ]
      },
      {
       "output_type": "stream",
       "stream": "stdout",
       "text": [
        "\r",
        " 0% [                                       ] 714,320      616K/s              "
       ]
      },
      {
       "output_type": "stream",
       "stream": "stdout",
       "text": [
        "\r",
        " 0% [                                       ] 1,167,144    856K/s              "
       ]
      },
      {
       "output_type": "stream",
       "stream": "stdout",
       "text": [
        "\r",
        " 0% [                                       ] 1,584,368   1005K/s              "
       ]
      },
      {
       "output_type": "stream",
       "stream": "stdout",
       "text": [
        "\r",
        " 0% [                                       ] 2,405,168   1.32M/s              "
       ]
      },
      {
       "output_type": "stream",
       "stream": "stdout",
       "text": [
        "\r",
        " 1% [                                       ] 3,448,952   1.69M/s              "
       ]
      },
      {
       "output_type": "stream",
       "stream": "stdout",
       "text": [
        "\r",
        " 1% [                                       ] 5,345,016   2.38M/s              "
       ]
      },
      {
       "output_type": "stream",
       "stream": "stdout",
       "text": [
        "\r",
        " 2% [>                                      ] 8,613,168   3.51M/s              "
       ]
      },
      {
       "output_type": "stream",
       "stream": "stdout",
       "text": [
        "\r",
        " 4% [>                                      ] 13,946,984  5.23M/s              "
       ]
      },
      {
       "output_type": "stream",
       "stream": "stdout",
       "text": [
        "\r",
        " 7% [=>                                     ] 22,521,608  7.83M/s              "
       ]
      },
      {
       "output_type": "stream",
       "stream": "stdout",
       "text": [
        "\r",
        "10% [===>                                   ] 32,783,552  10.6M/s              "
       ]
      },
      {
       "output_type": "stream",
       "stream": "stdout",
       "text": [
        "\r",
        "13% [====>                                  ] 43,079,160  13.1M/s  eta 20s     "
       ]
      },
      {
       "output_type": "stream",
       "stream": "stdout",
       "text": [
        "\r",
        "16% [=====>                                 ] 53,117,696  15.2M/s  eta 20s     "
       ]
      },
      {
       "output_type": "stream",
       "stream": "stdout",
       "text": [
        "\r",
        "18% [======>                                ] 58,688,872  17.4M/s  eta 20s     "
       ]
      },
      {
       "output_type": "stream",
       "stream": "stdout",
       "text": [
        "\r",
        "18% [======>                                ] 58,727,160  17.1M/s  eta 20s     "
       ]
      },
      {
       "output_type": "stream",
       "stream": "stdout",
       "text": [
        "\r",
        "18% [======>                                ] 58,781,880  17.1M/s  eta 20s     "
       ]
      },
      {
       "output_type": "stream",
       "stream": "stdout",
       "text": [
        "\r",
        "18% [======>                                ] 58,885,848  16.8M/s  eta 19s     "
       ]
      },
      {
       "output_type": "stream",
       "stream": "stdout",
       "text": [
        "\r",
        "18% [======>                                ] 59,043,168  17.3M/s  eta 19s     "
       ]
      },
      {
       "output_type": "stream",
       "stream": "stdout",
       "text": [
        "\r",
        "18% [======>                                ] 59,304,456  17.0M/s  eta 19s     "
       ]
      },
      {
       "output_type": "stream",
       "stream": "stdout",
       "text": [
        "\r",
        "18% [======>                                ] 59,769,592  16.6M/s  eta 19s     "
       ]
      },
      {
       "output_type": "stream",
       "stream": "stdout",
       "text": [
        "\r",
        "19% [======>                                ] 60,490,528  16.4M/s  eta 19s     "
       ]
      },
      {
       "output_type": "stream",
       "stream": "stdout",
       "text": [
        "\r",
        "19% [======>                                ] 61,805,160  16.9M/s  eta 22s     "
       ]
      },
      {
       "output_type": "stream",
       "stream": "stdout",
       "text": [
        "\r",
        "20% [======>                                ] 64,207,368  16.9M/s  eta 22s     "
       ]
      },
      {
       "output_type": "stream",
       "stream": "stdout",
       "text": [
        "\r",
        "21% [=======>                               ] 68,429,032  17.1M/s  eta 22s     "
       ]
      },
      {
       "output_type": "stream",
       "stream": "stdout",
       "text": [
        "\r",
        "23% [========>                              ] 75,249,864  16.9M/s  eta 22s     "
       ]
      },
      {
       "output_type": "stream",
       "stream": "stdout",
       "text": [
        "\r",
        "26% [=========>                             ] 83,006,424  16.8M/s  eta 22s     "
       ]
      },
      {
       "output_type": "stream",
       "stream": "stdout",
       "text": [
        "\r",
        "28% [==========>                            ] 90,530,424  16.5M/s  eta 16s     "
       ]
      },
      {
       "output_type": "stream",
       "stream": "stdout",
       "text": [
        "\r",
        "30% [===========>                           ] 98,388,232  14.9M/s  eta 16s     "
       ]
      },
      {
       "output_type": "stream",
       "stream": "stdout",
       "text": [
        "\r",
        "33% [============>                          ] 106,722,072 14.9M/s  eta 16s     "
       ]
      },
      {
       "output_type": "stream",
       "stream": "stdout",
       "text": [
        "\r",
        "36% [=============>                         ] 115,060,048 16.1M/s  eta 16s     "
       ]
      },
      {
       "output_type": "stream",
       "stream": "stdout",
       "text": [
        "\r",
        "38% [==============>                        ] 123,010,848 19.3M/s  eta 16s     "
       ]
      },
      {
       "output_type": "stream",
       "stream": "stdout",
       "text": [
        "\r",
        "41% [===============>                       ] 130,833,072 21.6M/s  eta 10s     "
       ]
      },
      {
       "output_type": "stream",
       "stream": "stdout",
       "text": [
        "\r",
        "43% [================>                      ] 138,934,368 23.8M/s  eta 10s     "
       ]
      },
      {
       "output_type": "stream",
       "stream": "stdout",
       "text": [
        "\r",
        "46% [================>                      ] 146,649,888 27.0M/s  eta 10s     "
       ]
      },
      {
       "output_type": "stream",
       "stream": "stdout",
       "text": [
        "\r",
        "48% [=================>                     ] 154,545,984 29.2M/s  eta 10s     "
       ]
      },
      {
       "output_type": "stream",
       "stream": "stdout",
       "text": [
        "\r",
        "50% [==================>                    ] 161,773,144 30.8M/s  eta 10s     "
       ]
      },
      {
       "output_type": "stream",
       "stream": "stdout",
       "text": [
        "\r",
        "53% [===================>                   ] 169,569,376 33.8M/s  eta 7s      "
       ]
      },
      {
       "output_type": "stream",
       "stream": "stdout",
       "text": [
        "\r",
        "56% [====================>                  ] 178,306,776 35.5M/s  eta 7s      "
       ]
      },
      {
       "output_type": "stream",
       "stream": "stdout",
       "text": [
        "\r",
        "58% [=====================>                 ] 187,331,472 37.0M/s  eta 7s      "
       ]
      },
      {
       "output_type": "stream",
       "stream": "stdout",
       "text": [
        "\r",
        "61% [======================>                ] 195,886,960 38.3M/s  eta 7s      "
       ]
      },
      {
       "output_type": "stream",
       "stream": "stdout",
       "text": [
        "\r",
        "64% [========================>              ] 204,598,880 38.5M/s  eta 7s      "
       ]
      },
      {
       "output_type": "stream",
       "stream": "stdout",
       "text": [
        "\r",
        "66% [=========================>             ] 212,635,208 38.6M/s  eta 5s      "
       ]
      },
      {
       "output_type": "stream",
       "stream": "stdout",
       "text": [
        "\r",
        "69% [==========================>            ] 221,270,840 39.0M/s  eta 5s      "
       ]
      },
      {
       "output_type": "stream",
       "stream": "stdout",
       "text": [
        "\r",
        "72% [===========================>           ] 229,743,800 39.1M/s  eta 5s      "
       ]
      },
      {
       "output_type": "stream",
       "stream": "stdout",
       "text": [
        "\r",
        "74% [============================>          ] 238,113,640 39.1M/s  eta 5s      "
       ]
      },
      {
       "output_type": "stream",
       "stream": "stdout",
       "text": [
        "\r",
        "77% [=============================>         ] 246,698,984 39.3M/s  eta 5s      "
       ]
      },
      {
       "output_type": "stream",
       "stream": "stdout",
       "text": [
        "\r",
        "80% [==============================>        ] 254,813,968 39.3M/s  eta 3s      "
       ]
      },
      {
       "output_type": "stream",
       "stream": "stdout",
       "text": [
        "\r",
        "82% [===============================>       ] 262,939,432 39.4M/s  eta 3s      "
       ]
      },
      {
       "output_type": "stream",
       "stream": "stdout",
       "text": [
        "\r",
        "85% [================================>      ] 271,867,848 39.7M/s  eta 3s      "
       ]
      },
      {
       "output_type": "stream",
       "stream": "stdout",
       "text": [
        "\r",
        "88% [=================================>     ] 280,692,096 40.0M/s  eta 3s      "
       ]
      },
      {
       "output_type": "stream",
       "stream": "stdout",
       "text": [
        "\r",
        "91% [==================================>    ] 289,906,464 40.4M/s  eta 3s      "
       ]
      },
      {
       "output_type": "stream",
       "stream": "stdout",
       "text": [
        "\r",
        "93% [===================================>   ] 298,611,936 41.0M/s  eta 1s      "
       ]
      },
      {
       "output_type": "stream",
       "stream": "stdout",
       "text": [
        "\r",
        "96% [====================================>  ] 307,842,576 41.2M/s  eta 1s      "
       ]
      },
      {
       "output_type": "stream",
       "stream": "stdout",
       "text": [
        "\r",
        "99% [=====================================> ] 316,399,696 41.1M/s  eta 1s      "
       ]
      },
      {
       "output_type": "stream",
       "stream": "stdout",
       "text": [
        "\r",
        "100%[======================================>] 318,327,264 41.0M/s   in 12s     \r\n",
        "\r\n"
       ]
      },
      {
       "output_type": "stream",
       "stream": "stdout",
       "text": [
        "2013-07-12 15:32:21 (25.9 MB/s) - `gg_13_5_otus.tar.gz' saved [318327264]\r\n",
        "\r\n"
       ]
      }
     ],
     "prompt_number": 1
    },
    {
     "cell_type": "markdown",
     "metadata": {},
     "source": [
      "We'll also set up some shortcuts to refer to common filepaths that will be used throughout the rest of the notebook."
     ]
    },
    {
     "cell_type": "code",
     "collapsed": false,
     "input": [
      "from os.path import join\n",
      "\n",
      "input_base = 'study_1688'\n",
      "input_seqs = join(input_base, 'seqs1.fna')\n",
      "\n",
      "otu_base = 'gg_13_5_otus'\n",
      "reference_seqs = join(otu_base, 'rep_set/97_otus.fasta')\n",
      "reference_tax = join(otu_base, 'taxonomy/97_otu_taxonomy.txt')\n",
      "\n",
      "tax_output_dir = 'multiple_assign_taxonomy'\n",
      "tax_compare_dir = 'taxa_compare_table'\n",
      "\n",
      "# The known taxonomic composition of the mock community we're using in this workflow.\n",
      "mock_community_key_dir = 'keys'\n",
      "mock_community_key_fp = join(mock_community_key_dir, 'study_1688_key.txt')"
     ],
     "language": "python",
     "metadata": {},
     "outputs": [],
     "prompt_number": 5
    },
    {
     "cell_type": "heading",
     "level": 2,
     "metadata": {},
     "source": [
      "OTU picking"
     ]
    },
    {
     "cell_type": "markdown",
     "metadata": {},
     "source": [
      "Next, we'll perform open-reference OTU picking on the demultiplexed sequences. The goal is to end up with a representative set of sequences that will be passed to the taxonomy assigners to have their taxonomy determined.\n",
      "\n",
      "Note that taxonomy assignment is suppressed during the OTU picking step because we want to have an OTU table without taxonomy. This table will have taxonomy assignments added to it for the various assigner/parameter combinations (see the next step in the workflow).\n",
      "\n",
      "This command will take a few minutes to run."
     ]
    },
    {
     "cell_type": "code",
     "collapsed": false,
     "input": [
      "!pick_open_reference_otus.py -i $input_seqs -o $input_base -r $reference_seqs -p demo_params.txt --suppress_taxonomy_assignment -f"
     ],
     "language": "python",
     "metadata": {},
     "outputs": [],
     "prompt_number": 3
    },
    {
     "cell_type": "heading",
     "level": 2,
     "metadata": {},
     "source": [
      "Taxonomy assignment"
     ]
    },
    {
     "cell_type": "markdown",
     "metadata": {},
     "source": [
      "This next command performs multiple taxonomy assignments using BLAST, RDP, mothur, and RTAX. It uses various BLAST e-value thresholds and RDP/mothur confidence levels, and runs RTAX in single-end mode.\n",
      "\n",
      "Note that ```multiple_assign_taxonomy.py``` can operate on multiple input datasets. In this example, we are only specifying a single dataset in the interest of keeping the demo runtime relatively short.\n",
      "\n",
      "This will take a few minutes to run."
     ]
    },
    {
     "cell_type": "code",
     "collapsed": false,
     "input": [
      "!multiple_assign_taxonomy.py -i $input_base -o $tax_output_dir -m blast,rdp,rtax -e 100,0.0001,0.000001,1,1e-10,1e-30 -c 0.8 -x single -r $reference_seqs -t $reference_tax --rtax_amplicon_id_regexes '(\\S+)\\s(\\S+?)\\s' --rtax_header_id_regexes '\\S+\\s(\\S+?)\\s' --clean_otu_table_filename otu_table_mc2_no_pynast_failures.biom"
     ],
     "language": "python",
     "metadata": {},
     "outputs": [],
     "prompt_number": 4
    },
    {
     "cell_type": "heading",
     "level": 2,
     "metadata": {},
     "source": [
      "Comparing results"
     ]
    },
    {
     "cell_type": "code",
     "collapsed": false,
     "input": [
      "!generate_taxa_compare_table.py -r $tax_output_dir -k $mock_community_key_dir -o $tax_compare_dir"
     ],
     "language": "python",
     "metadata": {},
     "outputs": [
      {
       "output_type": "stream",
       "stream": "stdout",
       "text": [
        "study_1688\r\n",
        "keys/study_1688_key.txt\r\n",
        "Taxon\tMockHiSeq.even\tMockMiSeq.even\tMock.even.phasedmiseq\r\n",
        "k__Bacteria;p__Actinobacteria;c__Actinobacteria;o__Bifidobacteriales;f__Bifidobacteriaceae;g__Bifidobacterium;s__\t0.020833333\t0.020833333\t0.020833333\r\n",
        "k__Bacteria;p__Actinobacteria;c__Actinobacteria;o__Bifidobacteriales;f__Bifidobacteriaceae;g__Bifidobacterium;s__bifidum\t0.020833333\t0.020833333\t0.020833333\r\n",
        "k__Bacteria;p__Firmicutes;c__Coriobacteriia;o__Coriobacteriales;f__Coriobacteriaceae;g__Collinsella;s__\t0.020833333\t0.020833333\t0.020833333\r\n",
        "k__Bacteria;p__Bacteroidetes;c__Bacteroidia;o__Bacteroidales;f__Rikenellaceae;g__;s__\t0.020833333\t0.020833333\t0.020833333\r\n",
        "k__Bacteria;p__Bacteroidetes;c__Bacteroidia;o__Bacteroidales;f__Bacteroidaceae;g__Bacteroides;s__ovatus\t0.020833333\t0.020833333\t0.020833333\r\n",
        "k__Bacteria;p__Bacteroidetes;c__Bacteroidia;o__Bacteroidales;f__Bacteroidaceae;g__Bacteroides;s__uniformis\t0.020833333\t0.020833333\t0.020833333\r\n",
        "k__Bacteria;p__Bacteroidetes;c__Bacteroidia;o__Bacteroidales;f__Bacteroidaceae;g__Bacteroides;s__\t0.020833333\t0.020833333\t0.020833333\r\n",
        "k__Bacteria;p__Bacteroidetes;c__Bacteroidia;o__Bacteroidales;f__Bacteroidaceae;g__Bacteroides;s__\t0.020833333\t0.020833333\t0.020833333\r\n",
        "k__Bacteria;p__Bacteroidetes;c__Bacteroidia;o__Bacteroidales;f__Bacteroidaceae;g__Bacteroides;s__\t0.020833333\t0.020833333\t0.020833333\r\n",
        "k__Bacteria;p__Bacteroidetes;c__Bacteroidia;o__Bacteroidales;f__Bacteroidaceae;g__Bacteroides;s__\t0.020833333\t0.020833333\t0.020833333\r\n",
        "k__Bacteria;p__Bacteroidetes;c__Bacteroidia;o__Bacteroidales;f__Bacteroidaceae;g__Bacteroides;s__\t0.020833333\t0.020833333\t0.020833333\r\n",
        "k__Bacteria;p__Bacteroidetes;c__Bacteroidia;o__Bacteroidales;f__Bacteroidaceae;g__Bacteroides;s__\t0.020833333\t0.020833333\t0.020833333\r\n",
        "k__Bacteria;p__Bacteroidetes;c__Bacteroidia;o__Bacteroidales;f__Bacteroidaceae;g__Bacteroides;s__\t0.020833333\t0.020833333\t0.020833333\r\n",
        "k__Bacteria;p__Bacteroidetes;c__Bacteroidia;o__Bacteroidales;f__Bacteroidaceae;g__Bacteroides;s__eggerthii\t0.020833333\t0.020833333\t0.020833333\r\n",
        "k__Bacteria;p__Bacteroidetes;c__Bacteroidia;o__Bacteroidales;f__Bacteroidaceae;g__Bacteroides;s__\t0.020833333\t0.020833333\t0.020833333\r\n",
        "k__Bacteria;p__Bacteroidetes;c__Bacteroidia;o__Bacteroidales;f__Bacteroidaceae;g__Bacteroides;s__\t0.020833333\t0.020833333\t0.020833333\r\n",
        "k__Bacteria;p__Bacteroidetes;c__Bacteroidia;o__Bacteroidales;f__Porphyromonadaceae;g__Parabacteroides;s__\t0.020833333\t0.020833333\t0.020833333\r\n",
        "k__Bacteria;p__Firmicutes;c__Clostridia;o__Clostridiales;f__Clostridiaceae;g__Anaerococcus;s__hydrogenalis\t0.020833333\t0.020833333\t0.020833333\r\n",
        "k__Bacteria;p__Firmicutes;c__Clostridia;o__Clostridiales;f__Ruminococcaceae;g__Anaerotruncus;s__\t0.020833333\t0.020833333\t0.020833333\r\n",
        "k__Bacteria;p__Firmicutes;c__Clostridia;o__Clostridiales;f__Lachnospiraceae;g__Blautia;s__\t0.020833333\t0.020833333\t0.020833333\r\n",
        "k__Bacteria;p__Firmicutes;c__Clostridia;o__Clostridiales;f__Lachnospiraceae;g__Blautia;s__\t0.020833333\t0.020833333\t0.020833333\r\n",
        "k__Bacteria;p__Firmicutes;c__Clostridia;o__Clostridiales;f__Clostridiaceae;g__Clostridium;s__\t0.020833333\t0.020833333\t0.020833333\r\n",
        "k__Bacteria;p__Firmicutes;c__Clostridia;o__Clostridiales;f__Clostridiaceae;g__Clostridium;s__\t0.020833333\t0.020833333\t0.020833333\r\n",
        "k__Bacteria;p__Firmicutes;c__Clostridia;o__Clostridiales;f__Clostridiaceae;g__Clostridium;s__\t0.020833333\t0.020833333\t0.020833333\r\n",
        "k__Bacteria;p__Firmicutes;c__Clostridia;o__Clostridiales;f__Clostridiaceae;g__Clostridium;s__\t0.020833333\t0.020833333\t0.020833333\r\n",
        "k__Bacteria;p__Firmicutes;c__Clostridia;o__Clostridiales;f__Clostridiaceae;g__Clostridium;s__\t0.020833333\t0.020833333\t0.020833333\r\n",
        "k__Bacteria;p__Firmicutes;c__Clostridia;o__Clostridiales;f__Clostridiaceae;g__Clostridium;s__\t0.020833333\t0.020833333\t0.020833333\r\n",
        "k__Bacteria;p__Firmicutes;c__Clostridia;o__Clostridiales;f__Clostridiaceae;g__Clostridium;s__\t0.020833333\t0.020833333\t0.020833333\r\n",
        "k__Bacteria;p__Firmicutes;c__Clostridia;o__Clostridiales;f__Lachnospiraceae;g__Coprococcus;s__\t0.020833333\t0.020833333\t0.020833333\r\n",
        "k__Bacteria;p__Firmicutes;c__Clostridia;o__Clostridiales;f__Lachnospiraceae;g__Dorea;s__formicigenerans\t0.020833333\t0.020833333\t0.020833333\r\n",
        "k__Bacteria;p__Firmicutes;c__Clostridia;o__Clostridiales;f__Lachnospiraceae;g__Dorea;s__\t0.020833333\t0.020833333\t0.020833333\r\n",
        "k__Bacteria;p__Firmicutes;c__Clostridia;o__Clostridiales;f__Eubacteriaceae;g__Eubacterium;s__\t0.020833333\t0.020833333\t0.020833333\r\n",
        "k__Bacteria;p__Firmicutes;c__Clostridia;o__Clostridiales;f__Eubacteriaceae;g__Eubacterium;s__\t0.020833333\t0.020833333\t0.020833333\r\n",
        "k__Bacteria;p__Firmicutes;c__Clostridia;o__Clostridiales;f__Eubacteriaceae;g__Eubacterium;s__\t0.020833333\t0.020833333\t0.020833333\r\n",
        "k__Bacteria;p__Firmicutes;c__Clostridia;o__Clostridiales;f__Ruminococcaceae;g__Faecalibacterium;s__prausnitzii\t0.020833333\t0.020833333\t0.020833333\r\n",
        "k__Bacteria;p__Firmicutes;c__Clostridia;o__Clostridiales;f__Lachnospiraceae;g__Roseburia;s__\t0.020833333\t0.020833333\t0.020833333\r\n",
        "k__Bacteria;p__Firmicutes;c__Clostridia;o__Clostridiales;f__Ruminococcaceae;g__Ruminococcus;s__\t0.020833333\t0.020833333\t0.020833333\r\n",
        "k__Bacteria;p__Firmicutes;c__Clostridia;o__Clostridiales;f__Ruminococcaceae;g__Ruminococcus;s__\t0.020833333\t0.020833333\t0.020833333\r\n",
        "k__Bacteria;p__Firmicutes;c__Clostridia;o__Clostridiales;f__Ruminococcaceae;g__Ruminococcus;s__\t0.020833333\t0.020833333\t0.020833333\r\n",
        "k__Bacteria;p__Firmicutes;c__Bacilli;o__Lactobacillales;f__Streptococcaceae;g__Streptococcus;s__\t0.020833333\t0.020833333\t0.020833333\r\n",
        "k__Bacteria;p__Firmicutes;c__Clostridia;o__Clostridiales;f__Ruminococcaceae;g__;s__\t0.020833333\t0.020833333\t0.020833333\r\n",
        "k__Bacteria;p__Proteobacteria;c__Gammaproteobacteria;o__Enterobacteriales;f__Enterobacteriaceae;g__Edwardsiella;s__\t0.020833333\t0.020833333\t0.020833333\r\n",
        "k__Bacteria;p__Proteobacteria;c__Gammaproteobacteria;o__Enterobacteriales;f__Enterobacteriaceae;g__Enterobacter;s__\t0.020833333\t0.020833333\t0.020833333\r\n",
        "k__Bacteria;p__Proteobacteria;c__Gammaproteobacteria;o__Enterobacteriales;f__Enterobacteriaceae;g__Escherichia;s__      0.020833333     0.020833333     0.020833333\r\n",
        "k__Bacteria;p__Proteobacteria;c__Gammaproteobacteria;o__Enterobacteriales;f__Enterobacteriaceae;g__Escherichia;s__\t0.020833333\t0.020833333\t0.020833333\r\n",
        "k__Bacteria;p__Proteobacteria;c__Gammaproteobacteria;o__Enterobacteriales;f__Enterobacteriaceae;g__Proteus;s__\t0.020833333\t0.020833333\t0.020833333\r\n",
        "k__Bacteria;p__Proteobacteria;c__Gammaproteobacteria;o__Enterobacteriales;f__Enterobacteriaceae;g__Providencia;s__\t0.020833333\t0.020833333\t0.020833333\r\n",
        "k__Bacteria;p__Verrucomicrobia;c__Verrucomicrobiae;o__Verrucomicrobiales;f__Verrucomicrobiaceae;g__Akkermansia;s__muciniphila\t0.020833333\t0.020833333\t0.020833333\r\n",
        "\r\n",
        "Traceback (most recent call last):\r\n",
        "  File \"/home/jrideout/dev/short-read-tax-assignment/code/scripts/generate_taxa_compare_table.py\", line 70, in <module>\r\n",
        "    main()\r\n",
        "  File \"/home/jrideout/dev/short-read-tax-assignment/code/scripts/generate_taxa_compare_table.py\", line 62, in main\r\n",
        "    results = generate_taxa_compare_table(opts.root_dir, opts.key_dir, levels)\r\n",
        "  File \"/home/jrideout/dev/short-read-tax-assignment/code/taxcompare/generate_taxa_compare_table.py\", line 167, in generate_taxa_compare_table\r\n",
        "    key = parse_taxa_summary_table(key_file)\r\n",
        "  File \"/home/jrideout/.virtualenvs/qiime/qiime/qiime/parse.py\", line 549, in parse_taxa_summary_table\r\n",
        "    result = parse_classic_otu_table(lines,count_map_f=float)\r\n",
        "  File \"/home/jrideout/.virtualenvs/qiime/qiime/qiime/parse.py\", line 544, in parse_classic_otu_table\r\n",
        "    return sample_ids, otu_ids, asarray(otu_table), metadata\r\n",
        "  File \"/home/jrideout/.virtualenvs/qiime/local/lib/python2.7/site-packages/numpy/core/numeric.py\", line 284, in asarray\r\n",
        "    return array(a, dtype, copy=False, order=order)\r\n",
        "ValueError: setting an array element with a sequence.\r\n"
       ]
      }
     ],
     "prompt_number": 13
    },
    {
     "cell_type": "code",
     "collapsed": false,
     "input": [
      "!mkdir $tax_output_dir/$input_base/expected\n",
      "!cp $mock_community_key_fp $tax_output_dir/$input_base/expected/otu_table_mc2_w_taxa_L6.txt"
     ],
     "language": "python",
     "metadata": {},
     "outputs": []
    },
    {
     "cell_type": "code",
     "collapsed": false,
     "input": [
      "perl short-taxa-reads-bdiv-table.pl $HOME/study_1688_split_library_seqs_and_mapping/multiple_assign_taxonomy_13_5/psrotot_gg_13_5/  \n",
      "\n",
      "convert_biom.py --biom_table_type=\"otu table\" --process_obs_metadata taxonomy -i $HOME/study_1688_split_library_seqs_and_mapping/multiple_assign_taxonomy_13_5/psrotot_gg_13_5/concatenated_otu_table.txt -o $HOME/study_1688_split_library_seqs_and_mapping/multiple_assign_taxonomy_13_5/psrotot_gg_13_5/concatenated_otu_table.biom\n",
      "\n",
      "beta_diversity_through_plots.py -m $HOME/study_1688_split_library_seqs_and_mapping/multiple_assign_taxonomy_13_5/psrotot_gg_13_5/concatenated_otu_map.txt -p $HOME/params/demo_params.txt --color_by_all_fields -f -i $HOME/study_1688_split_library_seqs_and_mapping/multiple_assign_taxonomy_13_5/psrotot_gg_13_5/concatenated_otu_table.biom -o $HOME/study_1688_split_library_seqs_and_mapping/concatenated_bdiv_plots/\n",
      "echo \"dbiv\"\n",
      "\n",
      "sed 's/^.*;//g' $HOME/study_1688_split_library_seqs_and_mapping/multiple_assign_taxonomy_13_5/psrotot_gg_13_5/concatenated_taxa_sum_L6.txt > $HOME/study_1688_split_library_seqs_and_mapping/multiple_assign_taxonomy_13_5/psrotot_gg_13_5/concatenated_taxa_sum_L6-genus-only.txt\n",
      "make_emperor.py --biplot_fp $HOME/study_1688_split_library_seqs_and_mapping/concatenated_bdiv_plots/bray_curtis_3d_discrete_taxa/taxa_coordinates.txt -b \"assignment_method,Description\" -m $HOME/study_1688_split_library_seqs_and_mapping/multiple_assign_taxonomy_13_5/psrotot_gg_13_5/concatenated_otu_map.txt -n -1 -i $HOME/study_1688_split_library_seqs_and_mapping/concatenated_bdiv_plots/bray_curtis_pc.txt -o $HOME/study_1688_split_library_seqs_and_mapping/concatenated_bdiv_plots/bray_curtis_3d_discrete_taxa/ -t $HOME/study_1688_split_library_seqs_and_mapping/multiple_assign_taxonomy_13_5/psrotot_gg_13_5/concatenated_taxa_sum_L6-genus-only.txt\n",
      "echo \"emperor\" \n",
      "\n",
      "make_bipartite_network.py --osizes 'Abundance' --ssizes 'Abundance' --scolors 'assignment_method' --ocolors 'p' --sshapes 'Description' --oshapes 'f,g' -k taxonomy --md_fields mock,k,p,c,o,f,g -m $HOME/study_1688_split_library_seqs_and_mapping/multiple_assign_taxonomy_13_5/psrotot_gg_13_5/concatenated_otu_map.txt -i $HOME/study_1688_split_library_seqs_and_mapping/multiple_assign_taxonomy_13_5/psrotot_gg_13_5/concatenated_otu_table.biom -o $HOME/study_1688_split_library_seqs_and_mapping/bipartite_network/"
     ],
     "language": "python",
     "metadata": {},
     "outputs": []
    }
   ],
   "metadata": {}
  }
 ]
}